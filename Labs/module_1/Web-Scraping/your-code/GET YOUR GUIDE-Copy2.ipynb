{
 "cells": [
  {
   "cell_type": "code",
   "execution_count": 1,
   "metadata": {},
   "outputs": [],
   "source": [
    "import requests as r\n",
    "import pandas as pd\n",
    "import json\n",
    "from pandas.io.json import json_normalize\n",
    "import re\n",
    "from bs4 import BeautifulSoup\n",
    "import math"
   ]
  },
  {
   "cell_type": "code",
   "execution_count": 2,
   "metadata": {},
   "outputs": [],
   "source": [
    "#https://www.getyourguide.fr/s/?q=France&searchSource=2&p=18"
   ]
  },
  {
   "cell_type": "code",
   "execution_count": 2,
   "metadata": {},
   "outputs": [],
   "source": [
    "headers=\"\"\"accept: */*\n",
    "accept-encoding: gzip, deflate, br\n",
    "accept-language: fr-FR,fr;q=0.9,en-US;q=0.8,en;q=0.7\n",
    "cache-control: no-cache\n",
    "cookie: PHPSESSID=5v0907emsmhjb91ab8af2uvu1q; locale_code=fr-FR; platform=desktop; par_sess=h%3D-%26c%3D%26v%3D%26t%3D0%26s%3D; partner_expires=2678400; partner_id=-; cur=EUR; visitor_id=4H8ABT3TO1R9Z46DVEXN6GS3OMQ43SF6; browser_support=modern; AP-VID=c73c70fc349b026bf93853cdfbae8931; _gcl_au=1.1.146597312.1593160775; HIA=IPv4-FR-00000002-9b4357007c325c99a0ada28b47f0e79025fe2b12834a1e76899d8c4f15a0e1229639237d592f46c6c4ba4c1807814c8fba99ca121a439f14acca54aa7074793b; isMobile=false; is_office_ip=false; TFE_DATE_FROM=; ab.storage.deviceId.32b57c7b-1181-4973-9f07-79cdd6d2c403=%7B%22g%22%3A%224850bf39-d263-58da-544a-779c0e1e6310%22%2C%22c%22%3A1593160777028%2C%22l%22%3A1593160777028%7D; ab.storage.sessionId.32b57c7b-1181-4973-9f07-79cdd6d2c403=%7B%22g%22%3A%223d8936ee-6572-9a1e-23f1-28f6f777f563%22%2C%22e%22%3A1593162577098%2C%22c%22%3A1593160777020%2C%22l%22%3A1593160777098%7D; __ssid=5da2157da6677e7046f2a10f8816cf5; one_tap_first_access=2020-06-26T08:39:39.227Z; OptanonConsent=isIABGlobal=false&datestamp=Fri+Jun+26+2020+10%3A40%3A02+GMT%2B0200+(heure+d%E2%80%99%C3%A9t%C3%A9+d%E2%80%99Europe+centrale)&version=6.0.0&landingPath=https%3A%2F%2Fwww.getyourguide.fr%2Fdiscovery%2F%3Futm_force%3D0&groups=C0001%3A1%2CC0002%3A1%2CC0004%3A1%2CC0003%3A1&hosts=&legInt=&consentId=27af5126-9eb2-4fc1-b5c0-879037c5e899&interactionCount=0; SESSDATA=XvW0YQ.eyIxIjoiZnItRlIiLCIxOCI6ImRlc2t0b3AiLCIyIjoiRlIiLCIzIjoyNiwiNiI6IjI0LWhvdXIiLCI0IjoxLCI1IjoiNEg4QUJUM1RPMVI5WjQ2RFZFWE42R1MzT01RNDNTRjYiLCIyNCI6IklQdjQtRlItMDAwMDAwMDItOWI0MzU3MDA3YzMyNWM5OWEwYWRhMjhiNDdmMGU3OTAyNWZlMmIxMjgzNGExZTc2ODk5ZDhjNGYxNWEwZTEyMjk2MzkyMzdkNTkyZjQ2YzZjNGJhNGMxODA3ODE0YzhmYmE5OWNhMTIxYTQzOWYxNGFjY2E1NGFhNzA3NDc5M2IiLCIxOSI6ImIyNjk2Zjg4OGEwYjZlNzUzNzlmMDQyZWQ4Njc4M2Q4ODM4ODA2ZTYxNjViODVjNTExOTc5ZDA2NGM3ZWJhOTA1YWU2YTgyOWM1MzQzMzcyZWFlODhkYTYwMGQ5YmEwZDg5NDVhMTE5M2U3YzBlYjA5YzBiYzFhMTkxNDVlZTY4In0.ZivZN7IzZmPRbsEML2dh2VVJZofV8DJRDDO4JBFfcZc\n",
    "pragma: no-cache\n",
    "referer: https://www.getyourguide.fr/s/?q=France&searchSource=2\n",
    "sec-fetch-dest: empty\n",
    "sec-fetch-mode: cors\n",
    "sec-fetch-site: same-origin\n",
    "user-agent: Mozilla/5.0 (Windows NT 6.3; Win64; x64) AppleWebKit/537.36 (KHTML, like Gecko) Chrome/83.0.4103.116 Safari/537.36\n",
    "x-csrf-token: b2696f888a0b6e75379f042ed86783d8838806e6165b85c511979d064c7eba905ae6a829c5343372eae88da600d9ba0d8945a1193e7c0eb09c0bc1a19145ee68\n",
    "x-gyg-ap-cntnr: Search\n",
    "x-gyg-ap-vid: f996b1003ac662e5ec4945fb63fd5976\n",
    "x-requested-with: XMLHttpRequest\"\"\"\n",
    "\n",
    "headers=dict(i.split(': ') for i in headers.split('\\n'))"
   ]
  },
  {
   "cell_type": "code",
   "execution_count": 3,
   "metadata": {},
   "outputs": [
    {
     "name": "stdout",
     "output_type": "stream",
     "text": [
      "0 pages loaded\n"
     ]
    },
    {
     "name": "stderr",
     "output_type": "stream",
     "text": [
      "C:\\Users\\Sacha.dolle\\anaconda3\\lib\\site-packages\\ipykernel_launcher.py:19: FutureWarning: pandas.io.json.json_normalize is deprecated, use pandas.json_normalize instead\n"
     ]
    },
    {
     "name": "stdout",
     "output_type": "stream",
     "text": [
      "5 pages loaded\n",
      "10 pages loaded\n",
      "15 pages loaded\n",
      "20 pages loaded\n",
      "25 pages loaded\n",
      "30 pages loaded\n",
      "35 pages loaded\n",
      "40 pages loaded\n",
      "45 pages loaded\n",
      "50 pages loaded\n",
      "55 pages loaded\n",
      "60 pages loaded\n",
      "65 pages loaded\n",
      "70 pages loaded\n",
      "75 pages loaded\n",
      "80 pages loaded\n"
     ]
    }
   ],
   "source": [
    "import time\n",
    "\n",
    "df=pd.DataFrame()\n",
    "step=0\n",
    "total_elements=1610\n",
    "element_p_page=20\n",
    "pagination=math.ceil(total_elements/element_p_page)+1\n",
    "\n",
    "for i in range(pagination):\n",
    "    j=math.floor(i/3.01)\n",
    "    url=f'https://www.getyourguide.fr/s/results.json?&q=France&searchSource=2&p={i}&page={j}'    \n",
    "    resp=r.get(url, headers=headers)\n",
    "    \n",
    "    if step%5==0:\n",
    "        time.sleep(2.4) # sleep every five parsed page\n",
    "        print (step, 'pages loaded')\n",
    "        \n",
    "    results=resp.json()\n",
    "    data=json_normalize(results['searchResults']['tours'])\n",
    "    df=df.append(data)\n",
    "\n",
    "    step+=1"
   ]
  },
  {
   "cell_type": "code",
   "execution_count": 4,
   "metadata": {},
   "outputs": [],
   "source": [
    "# COLUMNS\n",
    "\n",
    "df=df.drop_duplicates(subset='tourId')\n",
    "\n",
    "df=df.drop(columns=['tourId', 'horizontalImageUrl', 'verticalImageUrl', 'mobileImageUrl', 'horizontalSlimImageUrl', \\\n",
    "                 'description', 'isBestseller', 'isFeatured', 'hasDeal', 'dealMaxPercentage', 'isBoostedNewTour', 'hasBanner', \\\n",
    "                 'hasRibbon', 'priceTag', 'detailsLink', 'isCertifiedPartner', 'isEcoCertified', 'isFirstTicket', 'isAuthorizedReseller', \\\n",
    "                 'isGygOriginal', 'imageUrl', 'imageAlt', 'isFreeCancellation', 'smallGroup', 'privateTour', 'hasRating', \\\n",
    "                 'maxPossibleRating', 'totalRating', 'totalRatingTitle', 'averageRatingClass', 'ratingLink', \\\n",
    "                 'ratingStyleModifier', 'ratingStarsClasses', 'ratingTitle', 'hasDuration', 'useValidity', 'validFrom', \\\n",
    "                 'displayAbstract', 'displayDuration', 'displayDate', 'displayWishlist', 'isWishlistAccountWallEnabled', \\\n",
    "                 'displayRemoveButton', 'extraBadges', 'referrerViewPosition', 'hasDiscountedRecommendation', 'urlDetailsBtn', \\\n",
    "                 'hideImage', 'isLikelyToSellOut', 'cardBannerMessage', 'cardBannerType', 'isPromoted', 'isElevated', \\\n",
    "                 'isOutdoors', 'isFamilyFriendly', 'showSkywards', 'skywardsMiles', 'assetsPath', 'isSpecialOffer', \\\n",
    "                 'collectionIdentifier', 'id', 'activityCardVersion', 'limit', 'isLoggedIn', 'timeSlotsExperimentEnabled', \\\n",
    "                 'freeCancellationFlag', 'resultSetPosition', 'highlightedOrientation', 'price.type', \\\n",
    "                 'experiments.hasOriginalsMoneyBackLabel','keyDetails.cancellation_policy.label', 'keyDetails.duration.label',\n",
    "                 'keyDetails.cancellation_policy.description', 'keyDetails.skip_the_line.label', 'keyDetails.duration.description',\n",
    "                 'keyDetails.skip_the_line.description', 'keyDetails.instant_confirmation.label', 'keyDetails.instant_confirmation.description'])\n",
    "\n",
    "df=df.rename(columns={'smallDescription': 'description', 'languageIds':'language', \n",
    "                      'price.original': 'price_original', 'price.min':'price_min',\n",
    "                      'averageRating':'rating'})\n",
    "\n",
    "cols = df.columns.tolist()\n",
    "cols.insert(1, cols.pop(cols.index('title')))\n",
    "cols.insert(2, cols.pop(cols.index('description')))\n",
    "cols.insert(3, cols.pop(cols.index('price_min')))\n",
    "cols.insert(4, cols.pop(cols.index('price_original')))\n",
    "cols.insert(5, cols.pop(cols.index('rating')))\n",
    "cols.insert(6, cols.pop(cols.index('duration')))\n",
    "cols.insert(7, cols.pop(cols.index('language')))\n",
    "cols.insert(8, cols.pop(cols.index('url')))\n",
    "df = df[cols]\n",
    "\n",
    "#DATA CLEANING\n",
    "\n",
    "df['title']=df['title'].str.replace('&#039;', '\\'')\n",
    "df['title']=df['title'].str.replace('&quot;', '\\\"')\n",
    "df['title']=df['title'].astype('str')\n",
    "\n",
    "df['price_min']=df['price_min'].str.replace(\" \", \"\").str.strip('€\\xa0\\n').str.replace(',', '.').astype('float')\n",
    "\n",
    "df['price_original']=df['price_original'].str.replace(\" \", \"\").str.strip('€\\xa0\\n').str.replace(',', '.').astype('float')\n",
    "\n",
    "df['rating']=df['rating'].fillna('Not rated yet')\n",
    "\n",
    "df['duration']=df['duration'].str.replace('heures', 'h')\n",
    "df['duration']=df['duration'].str.replace('heure', 'h')\n",
    "df['duration']=df['duration'].str.replace('jour', 'day')\n",
    "df['duration']=df['duration'].str.replace('minutes', 'min')\n",
    "df['duration']=df['duration'].str.replace(' - ', ' to ')\n",
    "df['duration']=df['duration'].str.replace(',5 h', 'h30')\n",
    "df['duration']=df['duration'].str.replace(',5', 'h30')\n",
    "df['duration']=df['duration'].str.replace('2 880,00 min', '2 days')\n",
    "df['duration']=df['duration'].str.replace('1 440,00 min', '1 day')\n",
    "df['duration']=df['duration'].str.replace('90 min', '1h30')\n"
   ]
  },
  {
   "cell_type": "code",
   "execution_count": 5,
   "metadata": {},
   "outputs": [
    {
     "name": "stdout",
     "output_type": "stream",
     "text": [
      "<class 'pandas.core.frame.DataFrame'>\n",
      "Int64Index: 1604 entries, 0 to 43\n",
      "Data columns (total 8 columns):\n",
      " #   Column          Non-Null Count  Dtype  \n",
      "---  ------          --------------  -----  \n",
      " 0   title           1604 non-null   object \n",
      " 1   description     1604 non-null   object \n",
      " 2   price_min       1604 non-null   float64\n",
      " 3   price_original  1604 non-null   float64\n",
      " 4   rating          1604 non-null   object \n",
      " 5   duration        1604 non-null   object \n",
      " 6   language        1604 non-null   object \n",
      " 7   url             1604 non-null   object \n",
      "dtypes: float64(2), object(6)\n",
      "memory usage: 112.8+ KB\n"
     ]
    }
   ],
   "source": [
    "df.info()"
   ]
  },
  {
   "cell_type": "code",
   "execution_count": 37,
   "metadata": {},
   "outputs": [
    {
     "data": {
      "text/plain": [
       "1608"
      ]
     },
     "execution_count": 37,
     "metadata": {},
     "output_type": "execute_result"
    }
   ],
   "source": [
    "\"\"\"lots=list(filter(lambda x: x.text.find('ytInitialData')>0,soup.select('.activity__breadcrumbs ul li a')))\n",
    "for i in len(df['url'])\n",
    "\"\"\"\n",
    "df['url']"
   ]
  },
  {
   "cell_type": "code",
   "execution_count": 7,
   "metadata": {},
   "outputs": [],
   "source": [
    "#GET CITIES\n",
    "country=list()\n",
    "region=list()\n",
    "city=list()\n",
    "\n",
    "for urls in df['url']:\n",
    "    more_infos=r.get(urls, headers=headers)\n",
    "    \n",
    "    soup=BeautifulSoup(more_infos.content)\n",
    "    place=str(soup.select('.activity__breadcrumbs ul li a'))\n",
    "    names=re.findall(r'(>[A-z].*?<)', place)\n",
    "    \n",
    "    country.append(names[0].strip('><'))\n",
    "    region.append(names[1].strip('><'))\n",
    "    city.append(names[2].strip('><'))\n",
    "    \n",
    "    #df2['country1']=df2['country1'].append(country)\n",
    "    #df2['region1']=df2['region1'].append(region)\n",
    "    #df2['city1']=df2['city1'].append(city)\n",
    "\n",
    "# more_infos=list(filter(lambda x: r.get(x, headers=headers), df['url']))\n",
    "#country=list(filter(lambda x: x.strip('><'), ))  \n",
    "\n",
    "#lots=list(filter(lambda x: x.text.find('(>[A-z].*?<)')>0,soup.select('.activity__breadcrumbs ul li a')))\n",
    "\n",
    "\n",
    "\n"
   ]
  },
  {
   "cell_type": "code",
   "execution_count": 8,
   "metadata": {},
   "outputs": [
    {
     "ename": "TypeError",
     "evalue": "filter expected 2 arguments, got 1",
     "output_type": "error",
     "traceback": [
      "\u001b[1;31m---------------------------------------------------------------------------\u001b[0m",
      "\u001b[1;31mTypeError\u001b[0m                                 Traceback (most recent call last)",
      "\u001b[1;32m<ipython-input-8-7605c6719cdd>\u001b[0m in \u001b[0;36m<module>\u001b[1;34m\u001b[0m\n\u001b[1;32m----> 1\u001b[1;33m \u001b[0mmore_infos\u001b[0m\u001b[1;33m=\u001b[0m\u001b[0mlist\u001b[0m\u001b[1;33m(\u001b[0m\u001b[0mfilter\u001b[0m\u001b[1;33m(\u001b[0m\u001b[1;32mlambda\u001b[0m \u001b[0mx\u001b[0m\u001b[1;33m:\u001b[0m \u001b[0mr\u001b[0m\u001b[1;33m.\u001b[0m\u001b[0mget\u001b[0m\u001b[1;33m(\u001b[0m\u001b[0mx\u001b[0m\u001b[1;33m,\u001b[0m \u001b[0mheaders\u001b[0m\u001b[1;33m=\u001b[0m\u001b[0mheaders\u001b[0m\u001b[1;33m)\u001b[0m \u001b[1;32mfor\u001b[0m \u001b[0mx\u001b[0m \u001b[1;32min\u001b[0m \u001b[0mdf\u001b[0m\u001b[1;33m[\u001b[0m\u001b[1;34m'url'\u001b[0m\u001b[1;33m]\u001b[0m\u001b[1;33m)\u001b[0m\u001b[1;33m)\u001b[0m\u001b[1;33m\u001b[0m\u001b[1;33m\u001b[0m\u001b[0m\n\u001b[0m",
      "\u001b[1;31mTypeError\u001b[0m: filter expected 2 arguments, got 1"
     ]
    }
   ],
   "source": [
    "more_infos=list(filter(lambda x: r.get(x, headers=headers) for x in df['url']))"
   ]
  },
  {
   "cell_type": "code",
   "execution_count": 21,
   "metadata": {},
   "outputs": [
    {
     "data": {
      "text/plain": [
       "\"    place=str(soup.select('.activity__breadcrumbs ul li a'))\\n    names=re.findall(r'(>[A-z].*?<)', place)\\n    \\n    if names==\\n    country.append(names[0].strip('><'))\\n    region.append(names[1].strip('><'))\\n    city.append(names[2].strip('><'))\""
      ]
     },
     "execution_count": 21,
     "metadata": {},
     "output_type": "execute_result"
    }
   ],
   "source": [
    "country=list()\n",
    "region=list()\n",
    "city=list()\n",
    "names=list()\n",
    "\n",
    "for url in df.url:\n",
    "    resp_test=r.get(url, headers=headers)\n",
    "    soup=BeautifulSoup(resp_test.content)\n",
    "\"\"\"    place=str(soup.select('.activity__breadcrumbs ul li a'))\n",
    "    names=re.findall(r'(>[A-z].*?<)', place)\n",
    "    \n",
    "    if names==\n",
    "    country.append(names[0].strip('><'))\n",
    "    region.append(names[1].strip('><'))\n",
    "    city.append(names[2].strip('><'))\"\"\""
   ]
  },
  {
   "cell_type": "code",
   "execution_count": 20,
   "metadata": {},
   "outputs": [
    {
     "data": {
      "text/plain": [
       "898"
      ]
     },
     "execution_count": 20,
     "metadata": {},
     "output_type": "execute_result"
    }
   ],
   "source": [
    "len(country)"
   ]
  },
  {
   "cell_type": "code",
   "execution_count": 12,
   "metadata": {},
   "outputs": [
    {
     "ename": "KeyError",
     "evalue": "'country'",
     "output_type": "error",
     "traceback": [
      "\u001b[1;31m---------------------------------------------------------------------------\u001b[0m",
      "\u001b[1;31mKeyError\u001b[0m                                  Traceback (most recent call last)",
      "\u001b[1;32m~\\anaconda3\\lib\\site-packages\\pandas\\core\\indexes\\base.py\u001b[0m in \u001b[0;36mget_loc\u001b[1;34m(self, key, method, tolerance)\u001b[0m\n\u001b[0;32m   2645\u001b[0m             \u001b[1;32mtry\u001b[0m\u001b[1;33m:\u001b[0m\u001b[1;33m\u001b[0m\u001b[1;33m\u001b[0m\u001b[0m\n\u001b[1;32m-> 2646\u001b[1;33m                 \u001b[1;32mreturn\u001b[0m \u001b[0mself\u001b[0m\u001b[1;33m.\u001b[0m\u001b[0m_engine\u001b[0m\u001b[1;33m.\u001b[0m\u001b[0mget_loc\u001b[0m\u001b[1;33m(\u001b[0m\u001b[0mkey\u001b[0m\u001b[1;33m)\u001b[0m\u001b[1;33m\u001b[0m\u001b[1;33m\u001b[0m\u001b[0m\n\u001b[0m\u001b[0;32m   2647\u001b[0m             \u001b[1;32mexcept\u001b[0m \u001b[0mKeyError\u001b[0m\u001b[1;33m:\u001b[0m\u001b[1;33m\u001b[0m\u001b[1;33m\u001b[0m\u001b[0m\n",
      "\u001b[1;32mpandas\\_libs\\index.pyx\u001b[0m in \u001b[0;36mpandas._libs.index.IndexEngine.get_loc\u001b[1;34m()\u001b[0m\n",
      "\u001b[1;32mpandas\\_libs\\index.pyx\u001b[0m in \u001b[0;36mpandas._libs.index.IndexEngine.get_loc\u001b[1;34m()\u001b[0m\n",
      "\u001b[1;32mpandas\\_libs\\hashtable_class_helper.pxi\u001b[0m in \u001b[0;36mpandas._libs.hashtable.PyObjectHashTable.get_item\u001b[1;34m()\u001b[0m\n",
      "\u001b[1;32mpandas\\_libs\\hashtable_class_helper.pxi\u001b[0m in \u001b[0;36mpandas._libs.hashtable.PyObjectHashTable.get_item\u001b[1;34m()\u001b[0m\n",
      "\u001b[1;31mKeyError\u001b[0m: 'country'",
      "\nDuring handling of the above exception, another exception occurred:\n",
      "\u001b[1;31mKeyError\u001b[0m                                  Traceback (most recent call last)",
      "\u001b[1;32m<ipython-input-12-f61adc66915d>\u001b[0m in \u001b[0;36m<module>\u001b[1;34m\u001b[0m\n\u001b[1;32m----> 1\u001b[1;33m \u001b[0mdf\u001b[0m\u001b[1;33m[\u001b[0m\u001b[1;34m'country'\u001b[0m\u001b[1;33m]\u001b[0m\u001b[1;33m=\u001b[0m\u001b[0mdf\u001b[0m\u001b[1;33m[\u001b[0m\u001b[1;34m'country'\u001b[0m\u001b[1;33m]\u001b[0m\u001b[1;33m.\u001b[0m\u001b[0madd\u001b[0m\u001b[1;33m(\u001b[0m\u001b[0mcountry\u001b[0m\u001b[1;33m)\u001b[0m\u001b[1;33m\u001b[0m\u001b[1;33m\u001b[0m\u001b[0m\n\u001b[0m",
      "\u001b[1;32m~\\anaconda3\\lib\\site-packages\\pandas\\core\\frame.py\u001b[0m in \u001b[0;36m__getitem__\u001b[1;34m(self, key)\u001b[0m\n\u001b[0;32m   2798\u001b[0m             \u001b[1;32mif\u001b[0m \u001b[0mself\u001b[0m\u001b[1;33m.\u001b[0m\u001b[0mcolumns\u001b[0m\u001b[1;33m.\u001b[0m\u001b[0mnlevels\u001b[0m \u001b[1;33m>\u001b[0m \u001b[1;36m1\u001b[0m\u001b[1;33m:\u001b[0m\u001b[1;33m\u001b[0m\u001b[1;33m\u001b[0m\u001b[0m\n\u001b[0;32m   2799\u001b[0m                 \u001b[1;32mreturn\u001b[0m \u001b[0mself\u001b[0m\u001b[1;33m.\u001b[0m\u001b[0m_getitem_multilevel\u001b[0m\u001b[1;33m(\u001b[0m\u001b[0mkey\u001b[0m\u001b[1;33m)\u001b[0m\u001b[1;33m\u001b[0m\u001b[1;33m\u001b[0m\u001b[0m\n\u001b[1;32m-> 2800\u001b[1;33m             \u001b[0mindexer\u001b[0m \u001b[1;33m=\u001b[0m \u001b[0mself\u001b[0m\u001b[1;33m.\u001b[0m\u001b[0mcolumns\u001b[0m\u001b[1;33m.\u001b[0m\u001b[0mget_loc\u001b[0m\u001b[1;33m(\u001b[0m\u001b[0mkey\u001b[0m\u001b[1;33m)\u001b[0m\u001b[1;33m\u001b[0m\u001b[1;33m\u001b[0m\u001b[0m\n\u001b[0m\u001b[0;32m   2801\u001b[0m             \u001b[1;32mif\u001b[0m \u001b[0mis_integer\u001b[0m\u001b[1;33m(\u001b[0m\u001b[0mindexer\u001b[0m\u001b[1;33m)\u001b[0m\u001b[1;33m:\u001b[0m\u001b[1;33m\u001b[0m\u001b[1;33m\u001b[0m\u001b[0m\n\u001b[0;32m   2802\u001b[0m                 \u001b[0mindexer\u001b[0m \u001b[1;33m=\u001b[0m \u001b[1;33m[\u001b[0m\u001b[0mindexer\u001b[0m\u001b[1;33m]\u001b[0m\u001b[1;33m\u001b[0m\u001b[1;33m\u001b[0m\u001b[0m\n",
      "\u001b[1;32m~\\anaconda3\\lib\\site-packages\\pandas\\core\\indexes\\base.py\u001b[0m in \u001b[0;36mget_loc\u001b[1;34m(self, key, method, tolerance)\u001b[0m\n\u001b[0;32m   2646\u001b[0m                 \u001b[1;32mreturn\u001b[0m \u001b[0mself\u001b[0m\u001b[1;33m.\u001b[0m\u001b[0m_engine\u001b[0m\u001b[1;33m.\u001b[0m\u001b[0mget_loc\u001b[0m\u001b[1;33m(\u001b[0m\u001b[0mkey\u001b[0m\u001b[1;33m)\u001b[0m\u001b[1;33m\u001b[0m\u001b[1;33m\u001b[0m\u001b[0m\n\u001b[0;32m   2647\u001b[0m             \u001b[1;32mexcept\u001b[0m \u001b[0mKeyError\u001b[0m\u001b[1;33m:\u001b[0m\u001b[1;33m\u001b[0m\u001b[1;33m\u001b[0m\u001b[0m\n\u001b[1;32m-> 2648\u001b[1;33m                 \u001b[1;32mreturn\u001b[0m \u001b[0mself\u001b[0m\u001b[1;33m.\u001b[0m\u001b[0m_engine\u001b[0m\u001b[1;33m.\u001b[0m\u001b[0mget_loc\u001b[0m\u001b[1;33m(\u001b[0m\u001b[0mself\u001b[0m\u001b[1;33m.\u001b[0m\u001b[0m_maybe_cast_indexer\u001b[0m\u001b[1;33m(\u001b[0m\u001b[0mkey\u001b[0m\u001b[1;33m)\u001b[0m\u001b[1;33m)\u001b[0m\u001b[1;33m\u001b[0m\u001b[1;33m\u001b[0m\u001b[0m\n\u001b[0m\u001b[0;32m   2649\u001b[0m         \u001b[0mindexer\u001b[0m \u001b[1;33m=\u001b[0m \u001b[0mself\u001b[0m\u001b[1;33m.\u001b[0m\u001b[0mget_indexer\u001b[0m\u001b[1;33m(\u001b[0m\u001b[1;33m[\u001b[0m\u001b[0mkey\u001b[0m\u001b[1;33m]\u001b[0m\u001b[1;33m,\u001b[0m \u001b[0mmethod\u001b[0m\u001b[1;33m=\u001b[0m\u001b[0mmethod\u001b[0m\u001b[1;33m,\u001b[0m \u001b[0mtolerance\u001b[0m\u001b[1;33m=\u001b[0m\u001b[0mtolerance\u001b[0m\u001b[1;33m)\u001b[0m\u001b[1;33m\u001b[0m\u001b[1;33m\u001b[0m\u001b[0m\n\u001b[0;32m   2650\u001b[0m         \u001b[1;32mif\u001b[0m \u001b[0mindexer\u001b[0m\u001b[1;33m.\u001b[0m\u001b[0mndim\u001b[0m \u001b[1;33m>\u001b[0m \u001b[1;36m1\u001b[0m \u001b[1;32mor\u001b[0m \u001b[0mindexer\u001b[0m\u001b[1;33m.\u001b[0m\u001b[0msize\u001b[0m \u001b[1;33m>\u001b[0m \u001b[1;36m1\u001b[0m\u001b[1;33m:\u001b[0m\u001b[1;33m\u001b[0m\u001b[1;33m\u001b[0m\u001b[0m\n",
      "\u001b[1;32mpandas\\_libs\\index.pyx\u001b[0m in \u001b[0;36mpandas._libs.index.IndexEngine.get_loc\u001b[1;34m()\u001b[0m\n",
      "\u001b[1;32mpandas\\_libs\\index.pyx\u001b[0m in \u001b[0;36mpandas._libs.index.IndexEngine.get_loc\u001b[1;34m()\u001b[0m\n",
      "\u001b[1;32mpandas\\_libs\\hashtable_class_helper.pxi\u001b[0m in \u001b[0;36mpandas._libs.hashtable.PyObjectHashTable.get_item\u001b[1;34m()\u001b[0m\n",
      "\u001b[1;32mpandas\\_libs\\hashtable_class_helper.pxi\u001b[0m in \u001b[0;36mpandas._libs.hashtable.PyObjectHashTable.get_item\u001b[1;34m()\u001b[0m\n",
      "\u001b[1;31mKeyError\u001b[0m: 'country'"
     ]
    }
   ],
   "source": [
    "pd.Series(country)\n",
    "df['country']=df['country'].add(country)"
   ]
  },
  {
   "cell_type": "code",
   "execution_count": 43,
   "metadata": {},
   "outputs": [
    {
     "data": {
      "text/plain": [
       "['>Aéroport Roissy-Charles-de-Gaulle<', '>Fort Boyard<', '>Dijon<']"
      ]
     },
     "execution_count": 43,
     "metadata": {},
     "output_type": "execute_result"
    }
   ],
   "source": [
    "city"
   ]
  },
  {
   "cell_type": "code",
   "execution_count": 41,
   "metadata": {},
   "outputs": [
    {
     "ename": "TypeError",
     "evalue": "expected string or bytes-like object",
     "output_type": "error",
     "traceback": [
      "\u001b[1;31m---------------------------------------------------------------------------\u001b[0m",
      "\u001b[1;31mTypeError\u001b[0m                                 Traceback (most recent call last)",
      "\u001b[1;32m<ipython-input-41-680b94dc1787>\u001b[0m in \u001b[0;36m<module>\u001b[1;34m\u001b[0m\n\u001b[1;32m----> 1\u001b[1;33m \u001b[0mlots\u001b[0m\u001b[1;33m=\u001b[0m\u001b[0mlist\u001b[0m\u001b[1;33m(\u001b[0m\u001b[0mfilter\u001b[0m\u001b[1;33m(\u001b[0m\u001b[1;32mlambda\u001b[0m \u001b[0mx\u001b[0m\u001b[1;33m:\u001b[0m \u001b[0mre\u001b[0m\u001b[1;33m.\u001b[0m\u001b[0mfindall\u001b[0m\u001b[1;33m(\u001b[0m\u001b[1;34m'( )'\u001b[0m\u001b[1;33m,\u001b[0m \u001b[0msoup\u001b[0m\u001b[1;33m)\u001b[0m\u001b[1;33m>\u001b[0m\u001b[1;36m0\u001b[0m\u001b[1;33m,\u001b[0m \u001b[0msoup\u001b[0m\u001b[1;33m.\u001b[0m\u001b[0mselect\u001b[0m\u001b[1;33m(\u001b[0m\u001b[1;34m'.activity__breadcrumbs ul li a'\u001b[0m\u001b[1;33m)\u001b[0m\u001b[1;33m)\u001b[0m\u001b[1;33m)\u001b[0m\u001b[1;33m\u001b[0m\u001b[1;33m\u001b[0m\u001b[0m\n\u001b[0m",
      "\u001b[1;32m<ipython-input-41-680b94dc1787>\u001b[0m in \u001b[0;36m<lambda>\u001b[1;34m(x)\u001b[0m\n\u001b[1;32m----> 1\u001b[1;33m \u001b[0mlots\u001b[0m\u001b[1;33m=\u001b[0m\u001b[0mlist\u001b[0m\u001b[1;33m(\u001b[0m\u001b[0mfilter\u001b[0m\u001b[1;33m(\u001b[0m\u001b[1;32mlambda\u001b[0m \u001b[0mx\u001b[0m\u001b[1;33m:\u001b[0m \u001b[0mre\u001b[0m\u001b[1;33m.\u001b[0m\u001b[0mfindall\u001b[0m\u001b[1;33m(\u001b[0m\u001b[1;34m'( )'\u001b[0m\u001b[1;33m,\u001b[0m \u001b[0msoup\u001b[0m\u001b[1;33m)\u001b[0m\u001b[1;33m>\u001b[0m\u001b[1;36m0\u001b[0m\u001b[1;33m,\u001b[0m \u001b[0msoup\u001b[0m\u001b[1;33m.\u001b[0m\u001b[0mselect\u001b[0m\u001b[1;33m(\u001b[0m\u001b[1;34m'.activity__breadcrumbs ul li a'\u001b[0m\u001b[1;33m)\u001b[0m\u001b[1;33m)\u001b[0m\u001b[1;33m)\u001b[0m\u001b[1;33m\u001b[0m\u001b[1;33m\u001b[0m\u001b[0m\n\u001b[0m",
      "\u001b[1;32m~\\anaconda3\\lib\\re.py\u001b[0m in \u001b[0;36mfindall\u001b[1;34m(pattern, string, flags)\u001b[0m\n\u001b[0;32m    221\u001b[0m \u001b[1;33m\u001b[0m\u001b[0m\n\u001b[0;32m    222\u001b[0m     Empty matches are included in the result.\"\"\"\n\u001b[1;32m--> 223\u001b[1;33m     \u001b[1;32mreturn\u001b[0m \u001b[0m_compile\u001b[0m\u001b[1;33m(\u001b[0m\u001b[0mpattern\u001b[0m\u001b[1;33m,\u001b[0m \u001b[0mflags\u001b[0m\u001b[1;33m)\u001b[0m\u001b[1;33m.\u001b[0m\u001b[0mfindall\u001b[0m\u001b[1;33m(\u001b[0m\u001b[0mstring\u001b[0m\u001b[1;33m)\u001b[0m\u001b[1;33m\u001b[0m\u001b[1;33m\u001b[0m\u001b[0m\n\u001b[0m\u001b[0;32m    224\u001b[0m \u001b[1;33m\u001b[0m\u001b[0m\n\u001b[0;32m    225\u001b[0m \u001b[1;32mdef\u001b[0m \u001b[0mfinditer\u001b[0m\u001b[1;33m(\u001b[0m\u001b[0mpattern\u001b[0m\u001b[1;33m,\u001b[0m \u001b[0mstring\u001b[0m\u001b[1;33m,\u001b[0m \u001b[0mflags\u001b[0m\u001b[1;33m=\u001b[0m\u001b[1;36m0\u001b[0m\u001b[1;33m)\u001b[0m\u001b[1;33m:\u001b[0m\u001b[1;33m\u001b[0m\u001b[1;33m\u001b[0m\u001b[0m\n",
      "\u001b[1;31mTypeError\u001b[0m: expected string or bytes-like object"
     ]
    }
   ],
   "source": [
    "lots=list(filter(lambda x: re.findall('( )', soup)>0, soup.select('.activity__breadcrumbs ul li a')))"
   ]
  },
  {
   "cell_type": "code",
   "execution_count": 8,
   "metadata": {},
   "outputs": [
    {
     "data": {
      "text/plain": [
       "'>Paris<'"
      ]
     },
     "execution_count": 8,
     "metadata": {},
     "output_type": "execute_result"
    }
   ],
   "source": [
    "names[1]"
   ]
  },
  {
   "cell_type": "code",
   "execution_count": 9,
   "metadata": {},
   "outputs": [
    {
     "ename": "NameError",
     "evalue": "name 'url_test' is not defined",
     "output_type": "error",
     "traceback": [
      "\u001b[1;31m---------------------------------------------------------------------------\u001b[0m",
      "\u001b[1;31mNameError\u001b[0m                                 Traceback (most recent call last)",
      "\u001b[1;32m<ipython-input-9-af45bd78f7ea>\u001b[0m in \u001b[0;36m<module>\u001b[1;34m\u001b[0m\n\u001b[1;32m----> 1\u001b[1;33m \u001b[0murl_test\u001b[0m\u001b[1;33m\u001b[0m\u001b[1;33m\u001b[0m\u001b[0m\n\u001b[0m",
      "\u001b[1;31mNameError\u001b[0m: name 'url_test' is not defined"
     ]
    }
   ],
   "source": [
    "url_test"
   ]
  },
  {
   "cell_type": "code",
   "execution_count": 11,
   "metadata": {},
   "outputs": [
    {
     "data": {
      "text/plain": [
       "1606"
      ]
     },
     "execution_count": 11,
     "metadata": {},
     "output_type": "execute_result"
    }
   ],
   "source": [
    "len(country)"
   ]
  },
  {
   "cell_type": "code",
   "execution_count": 27,
   "metadata": {},
   "outputs": [
    {
     "ename": "TypeError",
     "evalue": "'bool' object is not iterable",
     "output_type": "error",
     "traceback": [
      "\u001b[1;31m---------------------------------------------------------------------------\u001b[0m",
      "\u001b[1;31mTypeError\u001b[0m                                 Traceback (most recent call last)",
      "\u001b[1;32m<ipython-input-27-2f1b047c911f>\u001b[0m in \u001b[0;36m<module>\u001b[1;34m\u001b[0m\n\u001b[1;32m----> 1\u001b[1;33m \u001b[0murls\u001b[0m\u001b[1;33m=\u001b[0m\u001b[1;33m[\u001b[0m\u001b[1;34mf'https://www.getyourguide.fr/s/results.json?&q=France&searchSource=2&p={i}&page={j}'\u001b[0m \u001b[1;32mfor\u001b[0m \u001b[0mi\u001b[0m \u001b[1;32min\u001b[0m \u001b[0mrange\u001b[0m \u001b[1;33m(\u001b[0m\u001b[0mpagination\u001b[0m\u001b[1;33m)\u001b[0m \u001b[1;32mand\u001b[0m \u001b[0mj\u001b[0m \u001b[1;32mis\u001b[0m \u001b[0mmath\u001b[0m\u001b[1;33m.\u001b[0m\u001b[0mfloor\u001b[0m\u001b[1;33m(\u001b[0m\u001b[0mi\u001b[0m\u001b[1;33m/\u001b[0m\u001b[1;36m3.01\u001b[0m\u001b[1;33m)\u001b[0m\u001b[1;33m]\u001b[0m\u001b[1;33m\u001b[0m\u001b[1;33m\u001b[0m\u001b[0m\n\u001b[0m",
      "\u001b[1;31mTypeError\u001b[0m: 'bool' object is not iterable"
     ]
    }
   ],
   "source": [
    "urls=[f'https://www.getyourguide.fr/s/results.json?&q=France&searchSource=2&p={i}&page={j}' for i in range (pagination) and j=math.floor(i/3.01)]"
   ]
  },
  {
   "cell_type": "code",
   "execution_count": null,
   "metadata": {},
   "outputs": [],
   "source": []
  }
 ],
 "metadata": {
  "kernelspec": {
   "display_name": "Python 3",
   "language": "python",
   "name": "python3"
  },
  "language_info": {
   "codemirror_mode": {
    "name": "ipython",
    "version": 3
   },
   "file_extension": ".py",
   "mimetype": "text/x-python",
   "name": "python",
   "nbconvert_exporter": "python",
   "pygments_lexer": "ipython3",
   "version": "3.7.6"
  }
 },
 "nbformat": 4,
 "nbformat_minor": 4
}
