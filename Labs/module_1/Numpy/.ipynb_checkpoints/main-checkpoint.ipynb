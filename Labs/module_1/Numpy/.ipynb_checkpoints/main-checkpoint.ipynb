{
 "cells": [
  {
   "cell_type": "markdown",
   "metadata": {
    "colab_type": "text",
    "id": "OvHzcGeFo7QU"
   },
   "source": [
    "# Intrduction to NumPy\n",
    "\n",
    "#### 1. Import NumPy under the name np."
   ]
  },
  {
   "cell_type": "code",
   "execution_count": null,
   "metadata": {
    "colab": {},
    "colab_type": "code",
    "id": "mfZvyjW8o7QY"
   },
   "outputs": [],
   "source": [
    "import numpy as np"
   ]
  },
  {
   "cell_type": "markdown",
   "metadata": {
    "colab_type": "text",
    "id": "FqH3fRGro7Ql"
   },
   "source": [
    "#### 2. Print your NumPy version."
   ]
  },
  {
   "cell_type": "code",
   "execution_count": null,
   "metadata": {
    "colab": {},
    "colab_type": "code",
    "id": "_LzDxPcco7Qn",
    "outputId": "fe21bae2-1b51-47f6-b8f9-c11560ce9a37"
   },
   "outputs": [
    {
     "name": "stdout",
     "output_type": "stream",
     "text": [
      "1.18.1\n"
     ]
    }
   ],
   "source": [
    "print(np.__version__)"
   ]
  },
  {
   "cell_type": "markdown",
   "metadata": {
    "colab_type": "text",
    "id": "kBq4vKWLo7Qy"
   },
   "source": [
    "#### 3. Generate a 2x3x5 3-dimensional array with random values. Assign the array to variable *a*.\n",
    "**Challenge**: there are at least three easy ways that use numpy to generate random arrays. How many ways can you find?"
   ]
  },
  {
   "cell_type": "code",
   "execution_count": null,
   "metadata": {
    "colab": {},
    "colab_type": "code",
    "id": "-ORUAs8Mo7Q0"
   },
   "outputs": [],
   "source": [
    "a = np.random.random((2,3,5))"
   ]
  },
  {
   "cell_type": "code",
   "execution_count": null,
   "metadata": {
    "colab": {},
    "colab_type": "code",
    "id": "Z-x-hBmIo7Q9"
   },
   "outputs": [],
   "source": [
    "# Method 2"
   ]
  },
  {
   "cell_type": "code",
   "execution_count": null,
   "metadata": {
    "colab": {},
    "colab_type": "code",
    "id": "cYqnA6BTo7RF"
   },
   "outputs": [],
   "source": [
    "# Method 3"
   ]
  },
  {
   "cell_type": "markdown",
   "metadata": {
    "colab_type": "text",
    "id": "02prE7emo7RO"
   },
   "source": [
    "#### 4. Print *a*.\n"
   ]
  },
  {
   "cell_type": "code",
   "execution_count": null,
   "metadata": {
    "colab": {},
    "colab_type": "code",
    "id": "8CP3AHVTo7RQ",
    "outputId": "123f7353-b6a3-45fb-e987-139b56007872"
   },
   "outputs": [
    {
     "name": "stdout",
     "output_type": "stream",
     "text": [
      "[[[0.26125563 0.56157058 0.52999257 0.87409879 0.67592565]\n",
      "  [0.49538876 0.0482984  0.76506463 0.15051714 0.58056852]\n",
      "  [0.23544997 0.41196766 0.88300612 0.31694783 0.8029828 ]]\n",
      "\n",
      " [[0.67649396 0.2047262  0.27916963 0.52896468 0.38034091]\n",
      "  [0.38279075 0.34380454 0.87317171 0.35854224 0.44043682]\n",
      "  [0.31224115 0.21737996 0.68721909 0.90104484 0.17991855]]]\n"
     ]
    }
   ],
   "source": [
    "print(a)"
   ]
  },
  {
   "cell_type": "markdown",
   "metadata": {
    "colab_type": "text",
    "id": "va8Vo9RFo7RX"
   },
   "source": [
    "#### 5. Create a 5x2x3 3-dimensional array with all values equaling 1. Assign the array to variable *b*."
   ]
  },
  {
   "cell_type": "code",
   "execution_count": null,
   "metadata": {
    "colab": {},
    "colab_type": "code",
    "id": "Z9aIm2ITo7Ra"
   },
   "outputs": [],
   "source": [
    "b = np.ones((5,3,2), dtype=np.int16)"
   ]
  },
  {
   "cell_type": "markdown",
   "metadata": {
    "colab_type": "text",
    "id": "92zlpip2o7Rf"
   },
   "source": [
    "#### 6. Print *b*.\n"
   ]
  },
  {
   "cell_type": "code",
   "execution_count": null,
   "metadata": {
    "colab": {
     "base_uri": "https://localhost:8080/",
     "height": 347
    },
    "colab_type": "code",
    "executionInfo": {
     "elapsed": 1410,
     "status": "ok",
     "timestamp": 1594032032936,
     "user": {
      "displayName": "Eldiias Dzhamankulov",
      "photoUrl": "",
      "userId": "13723070166903437846"
     },
     "user_tz": -120
    },
    "id": "2bPDUucbo7Rg",
    "outputId": "870cf1a1-6dca-4eb2-a780-af7a1295e867"
   },
   "outputs": [
    {
     "name": "stdout",
     "output_type": "stream",
     "text": [
      "[[[1 1]\n",
      "  [1 1]\n",
      "  [1 1]]\n",
      "\n",
      " [[1 1]\n",
      "  [1 1]\n",
      "  [1 1]]\n",
      "\n",
      " [[1 1]\n",
      "  [1 1]\n",
      "  [1 1]]\n",
      "\n",
      " [[1 1]\n",
      "  [1 1]\n",
      "  [1 1]]\n",
      "\n",
      " [[1 1]\n",
      "  [1 1]\n",
      "  [1 1]]]\n"
     ]
    }
   ],
   "source": [
    "print(b)"
   ]
  },
  {
   "cell_type": "markdown",
   "metadata": {
    "colab_type": "text",
    "id": "8EZAX2pgo7Rn"
   },
   "source": [
    "#### 7. Do *a* and *b* have the same size? How do you prove that in Python code?"
   ]
  },
  {
   "cell_type": "code",
   "execution_count": null,
   "metadata": {
    "colab": {
     "base_uri": "https://localhost:8080/",
     "height": 35
    },
    "colab_type": "code",
    "executionInfo": {
     "elapsed": 972,
     "status": "ok",
     "timestamp": 1594032035363,
     "user": {
      "displayName": "Eldiias Dzhamankulov",
      "photoUrl": "",
      "userId": "13723070166903437846"
     },
     "user_tz": -120
    },
    "id": "ehXIfTp2o7Ro",
    "outputId": "1fef252d-2dc3-45f5-e213-5a94383f821e"
   },
   "outputs": [
    {
     "data": {
      "text/plain": [
       "(30, 30)"
      ]
     },
     "execution_count": 5,
     "metadata": {
      "tags": []
     },
     "output_type": "execute_result"
    }
   ],
   "source": [
    "a.size, b.size"
   ]
  },
  {
   "cell_type": "code",
   "execution_count": null,
   "metadata": {
    "colab": {
     "base_uri": "https://localhost:8080/",
     "height": 35
    },
    "colab_type": "code",
    "executionInfo": {
     "elapsed": 1522,
     "status": "ok",
     "timestamp": 1594032035938,
     "user": {
      "displayName": "Eldiias Dzhamankulov",
      "photoUrl": "",
      "userId": "13723070166903437846"
     },
     "user_tz": -120
    },
    "id": "WXmyHSSyo7Rv",
    "outputId": "19cb641a-915e-4fb2-d13a-c3b427ae5b18"
   },
   "outputs": [
    {
     "data": {
      "text/plain": [
       "True"
      ]
     },
     "execution_count": 6,
     "metadata": {
      "tags": []
     },
     "output_type": "execute_result"
    }
   ],
   "source": [
    "a.size == b.size"
   ]
  },
  {
   "cell_type": "markdown",
   "metadata": {
    "colab_type": "text",
    "id": "QdG7KjFZo7R0"
   },
   "source": [
    "#### 8. Are you able to add *a* and *b*? Why or why not?\n"
   ]
  },
  {
   "cell_type": "code",
   "execution_count": null,
   "metadata": {
    "colab": {
     "base_uri": "https://localhost:8080/",
     "height": 35
    },
    "colab_type": "code",
    "executionInfo": {
     "elapsed": 1455,
     "status": "ok",
     "timestamp": 1594032039436,
     "user": {
      "displayName": "Eldiias Dzhamankulov",
      "photoUrl": "",
      "userId": "13723070166903437846"
     },
     "user_tz": -120
    },
    "id": "GrZ7mpV4o7R1",
    "outputId": "ff56216c-5ad7-44be-a385-e2d4f2ac05ce"
   },
   "outputs": [
    {
     "data": {
      "application/vnd.google.colaboratory.intrinsic": {
       "type": "string"
      },
      "text/plain": [
       "'nope, not the same shape'"
      ]
     },
     "execution_count": 7,
     "metadata": {
      "tags": []
     },
     "output_type": "execute_result"
    }
   ],
   "source": [
    "# a + b\n",
    "'''nope, not the same shape'''"
   ]
  },
  {
   "cell_type": "markdown",
   "metadata": {
    "colab_type": "text",
    "id": "NXpLsdbWo7R6"
   },
   "source": [
    "#### 9. Transpose *b* so that it has the same structure of *a* (i.e. become a 2x3x5 array). Assign the transposed array to variable *c*."
   ]
  },
  {
   "cell_type": "code",
   "execution_count": null,
   "metadata": {
    "colab": {
     "base_uri": "https://localhost:8080/",
     "height": 139
    },
    "colab_type": "code",
    "executionInfo": {
     "elapsed": 829,
     "status": "ok",
     "timestamp": 1594032041011,
     "user": {
      "displayName": "Eldiias Dzhamankulov",
      "photoUrl": "",
      "userId": "13723070166903437846"
     },
     "user_tz": -120
    },
    "id": "vf1bR1l_o7R7",
    "outputId": "0eb84fe8-e180-487f-8da8-80547a266e76"
   },
   "outputs": [
    {
     "data": {
      "text/plain": [
       "array([[[1, 1, 1, 1, 1],\n",
       "        [1, 1, 1, 1, 1],\n",
       "        [1, 1, 1, 1, 1]],\n",
       "\n",
       "       [[1, 1, 1, 1, 1],\n",
       "        [1, 1, 1, 1, 1],\n",
       "        [1, 1, 1, 1, 1]]], dtype=int16)"
      ]
     },
     "execution_count": 8,
     "metadata": {
      "tags": []
     },
     "output_type": "execute_result"
    }
   ],
   "source": [
    "c = np.transpose(b)\n",
    "c"
   ]
  },
  {
   "cell_type": "markdown",
   "metadata": {
    "colab_type": "text",
    "id": "4SERmpo1o7SB"
   },
   "source": [
    "#### 10. Try to add *a* and *c*. Now it should work. Assign the sum to variable *d*. But why does it work now?"
   ]
  },
  {
   "cell_type": "code",
   "execution_count": null,
   "metadata": {
    "colab": {},
    "colab_type": "code",
    "id": "jkCbAGozo7SC"
   },
   "outputs": [],
   "source": [
    "d = a + c"
   ]
  },
  {
   "cell_type": "markdown",
   "metadata": {
    "colab_type": "text",
    "id": "Dz45o6RCo7SI"
   },
   "source": [
    "#### 11. Print *a* and *d*. Notice the difference and relation of the two array in terms of the values? Explain."
   ]
  },
  {
   "cell_type": "code",
   "execution_count": null,
   "metadata": {
    "colab": {
     "base_uri": "https://localhost:8080/",
     "height": 260
    },
    "colab_type": "code",
    "executionInfo": {
     "elapsed": 536,
     "status": "ok",
     "timestamp": 1594032047662,
     "user": {
      "displayName": "Eldiias Dzhamankulov",
      "photoUrl": "",
      "userId": "13723070166903437846"
     },
     "user_tz": -120
    },
    "id": "TfBKkpCso7SJ",
    "outputId": "d2aafb42-f486-4f7f-dc8a-f8c8ea9b26ab"
   },
   "outputs": [
    {
     "name": "stdout",
     "output_type": "stream",
     "text": [
      "[[[0.73021188 0.48994523 0.71343503 0.85930327 0.43657145]\n",
      "  [0.19714967 0.09614746 0.47714477 0.27065475 0.60760442]\n",
      "  [0.04003549 0.74051337 0.33616035 0.819748   0.19332774]]\n",
      "\n",
      " [[0.20812743 0.85359987 0.50132262 0.45184621 0.49982501]\n",
      "  [0.89959102 0.23124123 0.65954723 0.23744281 0.39511726]\n",
      "  [0.97920219 0.4994945  0.59102271 0.16539436 0.16544542]]]\n",
      "[[[1.73021188 1.48994523 1.71343503 1.85930327 1.43657145]\n",
      "  [1.19714967 1.09614746 1.47714477 1.27065475 1.60760442]\n",
      "  [1.04003549 1.74051337 1.33616035 1.819748   1.19332774]]\n",
      "\n",
      " [[1.20812743 1.85359987 1.50132262 1.45184621 1.49982501]\n",
      "  [1.89959102 1.23124123 1.65954723 1.23744281 1.39511726]\n",
      "  [1.97920219 1.4994945  1.59102271 1.16539436 1.16544542]]]\n"
     ]
    }
   ],
   "source": [
    "print(a)\n",
    "print(d)"
   ]
  },
  {
   "cell_type": "markdown",
   "metadata": {
    "colab_type": "text",
    "id": "SjwzHWa8o7SQ"
   },
   "source": [
    "#### 12. Multiply *a* and *c*. Assign the result to *e*."
   ]
  },
  {
   "cell_type": "code",
   "execution_count": null,
   "metadata": {
    "colab": {},
    "colab_type": "code",
    "id": "bmAQPGMlo7SR"
   },
   "outputs": [],
   "source": [
    "e = a *c"
   ]
  },
  {
   "cell_type": "markdown",
   "metadata": {
    "colab_type": "text",
    "id": "X-3a1ShZo7SY"
   },
   "source": [
    "#### 13. Does *e* equal to *a*? Why or why not?\n"
   ]
  },
  {
   "cell_type": "code",
   "execution_count": null,
   "metadata": {
    "colab": {},
    "colab_type": "code",
    "id": "F8qr4e-Yo7SZ",
    "outputId": "b461c2d9-2b99-44b8-9241-f0e159a443eb"
   },
   "outputs": [
    {
     "name": "stdout",
     "output_type": "stream",
     "text": [
      "[[[0.26125563 0.56157058 0.52999257 0.87409879 0.67592565]\n",
      "  [0.49538876 0.0482984  0.76506463 0.15051714 0.58056852]\n",
      "  [0.23544997 0.41196766 0.88300612 0.31694783 0.8029828 ]]\n",
      "\n",
      " [[0.67649396 0.2047262  0.27916963 0.52896468 0.38034091]\n",
      "  [0.38279075 0.34380454 0.87317171 0.35854224 0.44043682]\n",
      "  [0.31224115 0.21737996 0.68721909 0.90104484 0.17991855]]]\n",
      "[[[0.26125563 0.56157058 0.52999257 0.87409879 0.67592565]\n",
      "  [0.49538876 0.0482984  0.76506463 0.15051714 0.58056852]\n",
      "  [0.23544997 0.41196766 0.88300612 0.31694783 0.8029828 ]]\n",
      "\n",
      " [[0.67649396 0.2047262  0.27916963 0.52896468 0.38034091]\n",
      "  [0.38279075 0.34380454 0.87317171 0.35854224 0.44043682]\n",
      "  [0.31224115 0.21737996 0.68721909 0.90104484 0.17991855]]]\n"
     ]
    }
   ],
   "source": [
    "print(a)\n",
    "print(e)"
   ]
  },
  {
   "cell_type": "code",
   "execution_count": null,
   "metadata": {
    "colab": {
     "base_uri": "https://localhost:8080/",
     "height": 139
    },
    "colab_type": "code",
    "executionInfo": {
     "elapsed": 463,
     "status": "ok",
     "timestamp": 1594032053572,
     "user": {
      "displayName": "Eldiias Dzhamankulov",
      "photoUrl": "",
      "userId": "13723070166903437846"
     },
     "user_tz": -120
    },
    "id": "AXLQUzFUo7Sh",
    "outputId": "f1574068-2bcb-4ef7-fd92-7c139e9bc903"
   },
   "outputs": [
    {
     "data": {
      "text/plain": [
       "array([[[ True,  True,  True,  True,  True],\n",
       "        [ True,  True,  True,  True,  True],\n",
       "        [ True,  True,  True,  True,  True]],\n",
       "\n",
       "       [[ True,  True,  True,  True,  True],\n",
       "        [ True,  True,  True,  True,  True],\n",
       "        [ True,  True,  True,  True,  True]]])"
      ]
     },
     "execution_count": 12,
     "metadata": {
      "tags": []
     },
     "output_type": "execute_result"
    }
   ],
   "source": [
    "a == e"
   ]
  },
  {
   "cell_type": "markdown",
   "metadata": {
    "colab_type": "text",
    "id": "9J8oytfko7Sn"
   },
   "source": [
    "#### 14. Identify the max, min, and mean values in *d*. Assign those values to variables *d_max*, *d_min* and *d_mean*."
   ]
  },
  {
   "cell_type": "code",
   "execution_count": null,
   "metadata": {
    "colab": {},
    "colab_type": "code",
    "id": "JTeDfoLao7So"
   },
   "outputs": [],
   "source": [
    "d_max = d.max()\n",
    "d_min = d.min()\n",
    "d_mean = d.mean()"
   ]
  },
  {
   "cell_type": "markdown",
   "metadata": {
    "colab_type": "text",
    "id": "GmWL0clJo7Su"
   },
   "source": [
    "#### 15. Now we want to label the values in *d*. First create an empty array *f* with the same shape (i.e. 2x3x5) as *d* using `np.empty`.\n"
   ]
  },
  {
   "cell_type": "code",
   "execution_count": null,
   "metadata": {
    "colab": {},
    "colab_type": "code",
    "id": "kQmK9O8Ao7Sw"
   },
   "outputs": [],
   "source": [
    "f = np.zeros((2,3,5))"
   ]
  },
  {
   "cell_type": "markdown",
   "metadata": {
    "colab_type": "text",
    "id": "sMrRXOplo7S2"
   },
   "source": [
    "#### 16. Populate the values in *f*. \n",
    "\n",
    "For each value in *d*, if it's larger than *d_min* but smaller than *d_mean*, assign 25 to the corresponding value in *f*. If a value in *d* is larger than *d_mean* but smaller than *d_max*, assign 75 to the corresponding value in *f*. If a value equals to *d_mean*, assign 50 to the corresponding value in *f*. Assign 0 to the corresponding value(s) in *f* for *d_min* in *d*. Assign 100 to the corresponding value(s) in *f* for *d_max* in *d*. In the end, f should have only the following values: 0, 25, 50, 75, and 100.\n",
    "\n",
    "\n",
    "**Note**: you don't have to use Numpy in this question."
   ]
  },
  {
   "cell_type": "code",
   "execution_count": null,
   "metadata": {
    "colab": {
     "base_uri": "https://localhost:8080/",
     "height": 139
    },
    "colab_type": "code",
    "executionInfo": {
     "elapsed": 692,
     "status": "ok",
     "timestamp": 1594032167542,
     "user": {
      "displayName": "Eldiias Dzhamankulov",
      "photoUrl": "",
      "userId": "13723070166903437846"
     },
     "user_tz": -120
    },
    "id": "93r0H3zntvtA",
    "outputId": "9a4f46f1-e086-47f6-d04d-ce24436e96a3"
   },
   "outputs": [
    {
     "data": {
      "text/plain": [
       "array([[[1.73021188, 1.48994523, 1.71343503, 1.85930327, 1.43657145],\n",
       "        [1.19714967, 1.09614746, 1.47714477, 1.27065475, 1.60760442],\n",
       "        [1.04003549, 1.74051337, 1.33616035, 1.819748  , 1.19332774]],\n",
       "\n",
       "       [[1.20812743, 1.85359987, 1.50132262, 1.45184621, 1.49982501],\n",
       "        [1.89959102, 1.23124123, 1.65954723, 1.23744281, 1.39511726],\n",
       "        [1.97920219, 1.4994945 , 1.59102271, 1.16539436, 1.16544542]]])"
      ]
     },
     "execution_count": 20,
     "metadata": {
      "tags": []
     },
     "output_type": "execute_result"
    }
   ],
   "source": [
    "d"
   ]
  },
  {
   "cell_type": "code",
   "execution_count": null,
   "metadata": {
    "colab": {
     "base_uri": "https://localhost:8080/",
     "height": 139
    },
    "colab_type": "code",
    "executionInfo": {
     "elapsed": 1362,
     "status": "ok",
     "timestamp": 1594032162300,
     "user": {
      "displayName": "Eldiias Dzhamankulov",
      "photoUrl": "",
      "userId": "13723070166903437846"
     },
     "user_tz": -120
    },
    "id": "jWlZg2cvo7S3",
    "outputId": "2a75d048-b896-4bda-d0ae-a67160b1bbf2"
   },
   "outputs": [
    {
     "data": {
      "text/plain": [
       "array([[[ 50.,  50.,  50.,  50.,  25.],\n",
       "        [ 25.,  25.,  25.,  25.,  50.],\n",
       "        [  0.,  50.,  25.,  50.,  25.]],\n",
       "\n",
       "       [[ 25.,  50.,  50.,  25.,  50.],\n",
       "        [ 50.,  25.,  50.,  25.,  25.],\n",
       "        [100.,  50.,  50.,  25.,  25.]]])"
      ]
     },
     "execution_count": 19,
     "metadata": {
      "tags": []
     },
     "output_type": "execute_result"
    }
   ],
   "source": [
    "f = np.where(d == d_max, 100, d)\n",
    "f = np.where(d < d_max, 75, f)\n",
    "f = np.where(d < d_max, 50, f)\n",
    "f = np.where(d < d_mean, 25, f)\n",
    "f = np.where(d == d_min, 0, f)\n",
    "f"
   ]
  },
  {
   "cell_type": "code",
   "execution_count": null,
   "metadata": {
    "colab": {},
    "colab_type": "code",
    "id": "RnufEv0Ho7S-"
   },
   "outputs": [],
   "source": [
    "np.place(f, d == d_max, [100])\n",
    "np.place(f, d < d_max, [75])\n",
    "np.place(f, d == d_mean, [50])\n",
    "np.place(f, d < d_mean, [25])\n",
    "np.place(f, d == d_min, [0])"
   ]
  },
  {
   "cell_type": "code",
   "execution_count": null,
   "metadata": {
    "colab": {
     "base_uri": "https://localhost:8080/",
     "height": 139
    },
    "colab_type": "code",
    "executionInfo": {
     "elapsed": 454,
     "status": "ok",
     "timestamp": 1594032178406,
     "user": {
      "displayName": "Eldiias Dzhamankulov",
      "photoUrl": "",
      "userId": "13723070166903437846"
     },
     "user_tz": -120
    },
    "id": "Sc1iVXyNuFxQ",
    "outputId": "e503711b-fda6-4b20-e743-4afc5fdc54eb"
   },
   "outputs": [
    {
     "data": {
      "text/plain": [
       "array([[[ 75.,  75.,  75.,  75.,  25.],\n",
       "        [ 25.,  25.,  25.,  25.,  75.],\n",
       "        [  0.,  75.,  25.,  75.,  25.]],\n",
       "\n",
       "       [[ 25.,  75.,  75.,  25.,  75.],\n",
       "        [ 75.,  25.,  75.,  25.,  25.],\n",
       "        [100.,  75.,  75.,  25.,  25.]]])"
      ]
     },
     "execution_count": 22,
     "metadata": {
      "tags": []
     },
     "output_type": "execute_result"
    }
   ],
   "source": [
    "f"
   ]
  },
  {
   "cell_type": "markdown",
   "metadata": {
    "colab_type": "text",
    "id": "ZUedhQzPo7TD"
   },
   "source": [
    "#### 17. Print *d* and *f*. Do you have your expected *f*?\n",
    "For instance, if your *d* is:\n",
    "```python\n",
    "[[[1.85836099, 1.67064465, 1.62576044, 1.40243961, 1.88454931],\n",
    "[1.75354326, 1.69403643, 1.36729252, 1.61415071, 1.12104981],\n",
    "[1.72201435, 1.1862918 , 1.87078449, 1.7726778 , 1.88180042]],\n",
    "[[1.44747908, 1.31673383, 1.02000951, 1.52218947, 1.97066381],\n",
    "[1.79129243, 1.74983003, 1.96028037, 1.85166831, 1.65450881],\n",
    "[1.18068344, 1.9587381 , 1.00656599, 1.93402165, 1.73514584]]]\n",
    "```\n",
    "Your *f* should be:\n",
    "```python\n",
    "[[[ 75.,  75.,  75.,  25.,  75.],\n",
    "[ 75.,  75.,  25.,  25.,  25.],\n",
    "[ 75.,  25.,  75.,  75.,  75.]],\n",
    "[[ 25.,  25.,  25.,  25., 100.],\n",
    "[ 75.,  75.,  75.,  75.,  75.],\n",
    "[ 25.,  75.,   0.,  75.,  75.]]]\n",
    "```"
   ]
  },
  {
   "cell_type": "code",
   "execution_count": null,
   "metadata": {
    "colab": {},
    "colab_type": "code",
    "id": "cQTb_dCjo7TF",
    "outputId": "f0178fd4-d1f1-4ad6-8d72-1beb8d38c4a9"
   },
   "outputs": [
    {
     "data": {
      "text/plain": [
       "array([[[1.26125563, 1.56157058, 1.52999257, 1.87409879, 1.67592565],\n",
       "        [1.49538876, 1.0482984 , 1.76506463, 1.15051714, 1.58056852],\n",
       "        [1.23544997, 1.41196766, 1.88300612, 1.31694783, 1.8029828 ]],\n",
       "\n",
       "       [[1.67649396, 1.2047262 , 1.27916963, 1.52896468, 1.38034091],\n",
       "        [1.38279075, 1.34380454, 1.87317171, 1.35854224, 1.44043682],\n",
       "        [1.31224115, 1.21737996, 1.68721909, 1.90104484, 1.17991855]]])"
      ]
     },
     "execution_count": 22,
     "metadata": {
      "tags": []
     },
     "output_type": "execute_result"
    }
   ],
   "source": [
    "d"
   ]
  },
  {
   "cell_type": "code",
   "execution_count": null,
   "metadata": {
    "colab": {},
    "colab_type": "code",
    "id": "-lKj8JgRo7TQ",
    "outputId": "490ad7a7-2cf7-4a94-c524-32acae2d41e6"
   },
   "outputs": [
    {
     "name": "stdout",
     "output_type": "stream",
     "text": [
      "1.0482984026885809 1.4786426698948594 1.9010448431886875\n"
     ]
    }
   ],
   "source": [
    "print(d_min, d_mean, d_max)"
   ]
  },
  {
   "cell_type": "code",
   "execution_count": null,
   "metadata": {
    "colab": {},
    "colab_type": "code",
    "id": "KanvRz0So7TV",
    "outputId": "9887993c-fdc3-49ac-e310-3c83c7904baa"
   },
   "outputs": [
    {
     "data": {
      "text/plain": [
       "array([[[ 25.,  75.,  75.,  75.,  75.],\n",
       "        [ 75.,   0.,  75.,  25.,  75.],\n",
       "        [ 25.,  25.,  75.,  25.,  75.]],\n",
       "\n",
       "       [[ 75.,  25.,  25.,  75.,  25.],\n",
       "        [ 25.,  25.,  75.,  25.,  25.],\n",
       "        [ 25.,  25.,  75., 100.,  25.]]])"
      ]
     },
     "execution_count": 24,
     "metadata": {
      "tags": []
     },
     "output_type": "execute_result"
    }
   ],
   "source": [
    "f"
   ]
  },
  {
   "cell_type": "markdown",
   "metadata": {
    "colab_type": "text",
    "id": "m-AeX2seo7Tb"
   },
   "source": [
    "#### 18. Bonus question: instead of using numbers (i.e. 0, 25, 50, 75, and 100), use string values  (\"A\", \"B\", \"C\", \"D\", and \"E\") to label the array elements. For the example above, the expected result is:\n",
    "\n",
    "```python\n",
    "[[[ 'D',  'D',  'D',  'B',  'D'],\n",
    "[ 'D',  'D',  'B',  'B',  'B'],\n",
    "[ 'D',  'B',  'D',  'D',  'D']],\n",
    "[[ 'B',  'B',  'B',  'B',  'E'],\n",
    "[ 'D',  'D',  'D',  'D',  'D'],\n",
    "[ 'B',  'D',   'A',  'D', 'D']]]\n",
    "```\n",
    "**Note**: you don't have to use Numpy in this question."
   ]
  },
  {
   "cell_type": "code",
   "execution_count": null,
   "metadata": {
    "colab": {},
    "colab_type": "code",
    "id": "h1hkKlUAo7Tc"
   },
   "outputs": [],
   "source": [
    "g = np.where(f == 100, 'E', f)\n",
    "g = np.where(f == 75, 'D', g)\n",
    "g = np.where(f == 50, 'C', g)\n",
    "g = np.where(f == 25, 'B', g)\n",
    "g = np.where(f == 0, 'A', g)"
   ]
  },
  {
   "cell_type": "code",
   "execution_count": null,
   "metadata": {
    "colab": {},
    "colab_type": "code",
    "id": "j65ohA9lo7Tj",
    "outputId": "130b9114-e9fa-4d1c-8774-82d8eec1b127"
   },
   "outputs": [
    {
     "data": {
      "text/plain": [
       "array([[[ 25.,  75.,  75.,  75.,  75.],\n",
       "        [ 75.,   0.,  75.,  25.,  75.],\n",
       "        [ 25.,  25.,  75.,  25.,  75.]],\n",
       "\n",
       "       [[ 75.,  25.,  25.,  75.,  25.],\n",
       "        [ 25.,  25.,  75.,  25.,  25.],\n",
       "        [ 25.,  25.,  75., 100.,  25.]]])"
      ]
     },
     "execution_count": 26,
     "metadata": {
      "tags": []
     },
     "output_type": "execute_result"
    }
   ],
   "source": [
    "f"
   ]
  },
  {
   "cell_type": "code",
   "execution_count": null,
   "metadata": {
    "colab": {},
    "colab_type": "code",
    "id": "Ds9CgyKBo7Tx",
    "outputId": "e7e8a0af-d78e-4cde-d5af-a07d1c86ecf5"
   },
   "outputs": [
    {
     "data": {
      "text/plain": [
       "array([[['B', 'D', 'D', 'D', 'D'],\n",
       "        ['D', 'A', 'D', 'B', 'D'],\n",
       "        ['B', 'B', 'D', 'B', 'D']],\n",
       "\n",
       "       [['D', 'B', 'B', 'D', 'B'],\n",
       "        ['B', 'B', 'D', 'B', 'B'],\n",
       "        ['B', 'B', 'D', 'E', 'B']]], dtype='<U32')"
      ]
     },
     "execution_count": 27,
     "metadata": {
      "tags": []
     },
     "output_type": "execute_result"
    }
   ],
   "source": [
    "g"
   ]
  },
  {
   "cell_type": "code",
   "execution_count": null,
   "metadata": {
    "colab": {},
    "colab_type": "code",
    "id": "kvffQ1Fho7T5"
   },
   "outputs": [],
   "source": []
  }
 ],
 "metadata": {
  "colab": {
   "name": "main.ipynb",
   "provenance": []
  },
  "kernelspec": {
   "display_name": "Python 3",
   "language": "python",
   "name": "python3"
  },
  "language_info": {
   "codemirror_mode": {
    "name": "ipython",
    "version": 3
   },
   "file_extension": ".py",
   "mimetype": "text/x-python",
   "name": "python",
   "nbconvert_exporter": "python",
   "pygments_lexer": "ipython3",
   "version": "3.7.6"
  }
 },
 "nbformat": 4,
 "nbformat_minor": 1
}
