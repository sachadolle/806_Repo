{
 "cells": [
  {
   "cell_type": "markdown",
   "metadata": {},
   "source": [
    "# Before your start:\n",
    "\n",
    "    Read the README.md file\n",
    "    Comment as much as you can and use the resources (README.md file)\n",
    "    Happy learning!"
   ]
  },
  {
   "cell_type": "markdown",
   "metadata": {},
   "source": [
    "In this exercise, we  will generate random numbers from the continuous disributions we learned in the lesson. There are two ways to generate random numbers:\n",
    "\n",
    "1. Using the numpy library \n",
    "1. using the Scipy library \n",
    "\n",
    "Use either or both of the lbraries in this exercise."
   ]
  },
  {
   "cell_type": "markdown",
   "metadata": {},
   "source": [
    "## Uniform Distribution\n",
    "\n",
    "To generate uniform random numbers between any two given values using scipy, we can either use the following code or the code that we have\n",
    "discussed in class:"
   ]
  },
  {
   "cell_type": "code",
   "execution_count": 3,
   "metadata": {},
   "outputs": [
    {
     "name": "stdout",
     "output_type": "stream",
     "text": [
      "[2.80377596 2.55723413 2.18420697 2.68505133 2.64760068 2.27383854\n",
      " 2.24768059 2.7609596  2.44137772 2.45794216]\n"
     ]
    }
   ],
   "source": [
    "from scipy.stats import uniform\n",
    "x = uniform.rvs(size=10)\n",
    "a = 2\n",
    "b = 3\n",
    "randoms  = a + (b-a)*x\n",
    "print(randoms)"
   ]
  },
  {
   "cell_type": "markdown",
   "metadata": {},
   "source": [
    "**Your task:**\n",
    "\n",
    "1. Based on the code above, write a function that generates uniformly distributed random numbers. There are several requirements for your function:\n",
    "    * It should accept 3 parameters: \n",
    "        * `bottom` - the lower boundary of the generated numbers\n",
    "        * `ceiling` - the upper boundary of the generated numbers\n",
    "        * `count` - how many numbers to generate\n",
    "    * It should return an array of uniformly distributed random numbers\n",
    "\n",
    "1. Call your function with 2 sets of params below:\n",
    "    * bottom=10, ceiling=15, count=100\n",
    "    * bottom=10, ceiling=60, count=1,000\n",
    "\n",
    "1. Plot the uniform distributions generated above using histograms, where x axis is the value and y axis is the count. Let the histogram's number of bins be 10.\n",
    "\n",
    "Your output should look like below:\n",
    "\n",
    "![uniform distribution](ud.png)"
   ]
  },
  {
   "cell_type": "code",
   "execution_count": 10,
   "metadata": {},
   "outputs": [],
   "source": [
    "from scipy import stats as st\n",
    "import matplotlib.pyplot as plt"
   ]
  },
  {
   "cell_type": "code",
   "execution_count": 32,
   "metadata": {},
   "outputs": [
    {
     "data": {
      "text/plain": [
       "Text(0.5, 1.0, '1000')"
      ]
     },
     "execution_count": 32,
     "metadata": {},
     "output_type": "execute_result"
    },
    {
     "data": {
      "image/png": "[encoded data removed]",
      "text/plain": [
       "<Figure size 432x288 with 2 Axes>"
      ]
     },
     "metadata": {
      "needs_background": "light"
     },
     "output_type": "display_data"
    }
   ],
   "source": [
    "def randoms(size, a, b):\n",
    "    x = uniform.rvs(size=size)\n",
    "    return a + (b-a)*x\n",
    "\n",
    "fig, ax = plt.subplots(nrows=1, ncols=2)\n",
    "ax[0].hist(randoms(100, 10, 15))\n",
    "ax[0].set_title('100')\n",
    "ax[1].hist(randoms(1000, 10, 60))\n",
    "ax[1].set_title('1000')"
   ]
  },
  {
   "cell_type": "code",
   "execution_count": 60,
   "metadata": {},
   "outputs": [
    {
     "data": {
      "text/plain": [
       "Text(0.5, 1.0, '1000')"
      ]
     },
     "execution_count": 60,
     "metadata": {},
     "output_type": "execute_result"
    },
    {
     "data": {
      "image/png": "[encoded data removed]",
      "text/plain": [
       "<Figure size 432x288 with 2 Axes>"
      ]
     },
     "metadata": {
      "needs_background": "light"
     },
     "output_type": "display_data"
    }
   ],
   "source": [
    "def uni(bottom, ceiling, count):\n",
    "    x = uniform.rvs(size=count)\n",
    "    randoms= bottom+(ceiling-bottom)*x\n",
    "    return randoms\n",
    "\n",
    "fig, ax = plt.subplots(nrows=1, ncols=2)\n",
    "ax[0].hist(randoms(10, 15, 100))\n",
    "ax[0].set_title('100')\n",
    "ax[1].hist(randoms(10, 60, 1000))\n",
    "ax[1].set_title('1000')"
   ]
  },
  {
   "cell_type": "markdown",
   "metadata": {},
   "source": [
    "How are the two distributions different?"
   ]
  },
  {
   "cell_type": "code",
   "execution_count": null,
   "metadata": {},
   "outputs": [],
   "source": [
    "# yes because randoms"
   ]
  },
  {
   "cell_type": "markdown",
   "metadata": {},
   "source": [
    "## Normal Distribution\n",
    "\n",
    "1. In the same way in the Uniform Distribution challenge, write a function that generates normally distributed random numbers.\n",
    "1. Generate 1,000 normally distributed numbers with the average of 10 and standard deviation of 1\n",
    "1. Generate 1,000 normally distributed numbers with the average of 10 and standard deviation of 50\n",
    "2. Plot the distributions of the data generated.\n",
    "\n",
    "Expected output:\n",
    "\n",
    "![normal distribution](nd.png)"
   ]
  },
  {
   "cell_type": "code",
   "execution_count": 61,
   "metadata": {},
   "outputs": [
    {
     "data": {
      "text/plain": [
       "Text(0.5, 1.0, '1000')"
      ]
     },
     "execution_count": 61,
     "metadata": {},
     "output_type": "execute_result"
    },
    {
     "data": {
      "image/png": "[encoded data removed]",
      "text/plain": [
       "<Figure size 432x288 with 2 Axes>"
      ]
     },
     "metadata": {
      "needs_background": "light"
     },
     "output_type": "display_data"
    }
   ],
   "source": [
    "def normal(x, a, b):\n",
    "    return st.norm.rvs(size=x, loc=a, scale=b)\n",
    "\n",
    "fig, ax = plt.subplots(nrows=1, ncols=2)\n",
    "ax[0].hist(normal(100, 10, 1), bins=10)\n",
    "ax[0].set_title('100')\n",
    "ax[1].hist(normal(1000, 10, 50), bins=10)\n",
    "ax[1].set_title('1000')\n"
   ]
  },
  {
   "cell_type": "markdown",
   "metadata": {},
   "source": [
    "How are the two distributions different?"
   ]
  },
  {
   "cell_type": "code",
   "execution_count": 21,
   "metadata": {},
   "outputs": [],
   "source": [
    "#no"
   ]
  },
  {
   "cell_type": "markdown",
   "metadata": {},
   "source": [
    "## Normal Distribution of Real Data\n",
    "\n",
    "In this challenge we are going to take a look the real data. We will use vehicles.csv file for this exercise"
   ]
  },
  {
   "cell_type": "code",
   "execution_count": 34,
   "metadata": {},
   "outputs": [],
   "source": [
    "import pandas as pd\n",
    "vehicles=pd.read_csv(r'C:\\Users\\Sacha.dolle\\Desktop\\Cours IH\\Cours\\Week 2\\docs\\vehicules\\vehicles\\vehicles.csv')"
   ]
  },
  {
   "cell_type": "markdown",
   "metadata": {},
   "source": [
    "First import vehicles.csv.\n",
    "Then plot the histograms for the following variables:\n",
    "\n",
    "1. Fuel Barrels/Year"
   ]
  },
  {
   "cell_type": "code",
   "execution_count": 65,
   "metadata": {},
   "outputs": [
    {
     "data": {
      "text/plain": [
       "<matplotlib.axes._subplots.AxesSubplot at 0xc4bd660548>"
      ]
     },
     "execution_count": 65,
     "metadata": {},
     "output_type": "execute_result"
    },
    {
     "data": {
      "image/png": "[encoded data removed]",
      "text/plain": [
       "<Figure size 432x288 with 1 Axes>"
      ]
     },
     "metadata": {
      "needs_background": "light"
     },
     "output_type": "display_data"
    }
   ],
   "source": [
    "vehicles['Fuel Barrels/Year'].hist(bins=50)"
   ]
  },
  {
   "cell_type": "markdown",
   "metadata": {},
   "source": [
    "2. CO2 Emission Grams/Mile "
   ]
  },
  {
   "cell_type": "code",
   "execution_count": 63,
   "metadata": {},
   "outputs": [
    {
     "data": {
      "text/plain": [
       "(array([3.000e+00, 2.000e+00, 0.000e+00, 4.000e+00, 4.000e+00, 3.000e+00,\n",
       "        1.000e+00, 1.300e+01, 1.000e+00, 3.000e+00, 1.000e+01, 1.400e+01,\n",
       "        3.000e+01, 2.400e+01, 7.100e+01, 8.800e+01, 4.500e+01, 1.030e+02,\n",
       "        2.490e+02, 1.980e+02, 3.320e+02, 7.290e+02, 6.700e+02, 6.790e+02,\n",
       "        1.012e+03, 1.207e+03, 2.500e+02, 1.547e+03, 1.684e+03, 2.095e+03,\n",
       "        3.310e+02, 2.933e+03, 2.300e+02, 2.915e+03, 3.012e+03, 2.200e+02,\n",
       "        2.330e+02, 3.266e+03, 1.140e+02, 2.157e+03, 1.560e+02, 8.900e+01,\n",
       "        2.157e+03, 5.700e+01, 7.100e+01, 2.205e+03, 7.700e+01, 6.900e+01,\n",
       "        1.925e+03, 1.900e+01, 6.000e+00, 3.000e+01, 1.210e+03, 1.500e+01,\n",
       "        1.500e+01, 2.200e+01, 2.000e+00, 7.070e+02, 3.000e+00, 0.000e+00,\n",
       "        4.000e+00, 2.000e+00, 4.370e+02, 0.000e+00, 0.000e+00, 3.000e+00,\n",
       "        0.000e+00, 0.000e+00, 0.000e+00, 1.270e+02, 0.000e+00, 0.000e+00,\n",
       "        0.000e+00, 0.000e+00, 0.000e+00, 0.000e+00, 0.000e+00, 3.600e+01,\n",
       "        0.000e+00, 0.000e+00, 0.000e+00, 0.000e+00, 0.000e+00, 0.000e+00,\n",
       "        0.000e+00, 0.000e+00, 0.000e+00, 2.100e+01, 0.000e+00, 0.000e+00,\n",
       "        0.000e+00, 0.000e+00, 0.000e+00, 0.000e+00, 0.000e+00, 0.000e+00,\n",
       "        0.000e+00, 0.000e+00, 0.000e+00, 5.000e+00]),\n",
       " array([  37.        ,   49.32571429,   61.65142857,   73.97714286,\n",
       "          86.30285714,   98.62857143,  110.95428571,  123.28      ,\n",
       "         135.60571429,  147.93142857,  160.25714286,  172.58285714,\n",
       "         184.90857143,  197.23428571,  209.56      ,  221.88571429,\n",
       "         234.21142857,  246.53714286,  258.86285714,  271.18857143,\n",
       "         283.51428571,  295.84      ,  308.16571429,  320.49142857,\n",
       "         332.81714286,  345.14285714,  357.46857143,  369.79428571,\n",
       "         382.12      ,  394.44571429,  406.77142857,  419.09714286,\n",
       "         431.42285714,  443.74857143,  456.07428571,  468.4       ,\n",
       "         480.72571429,  493.05142857,  505.37714286,  517.70285714,\n",
       "         530.02857143,  542.35428571,  554.68      ,  567.00571429,\n",
       "         579.33142857,  591.65714286,  603.98285714,  616.30857143,\n",
       "         628.63428571,  640.96      ,  653.28571429,  665.61142857,\n",
       "         677.93714286,  690.26285714,  702.58857143,  714.91428571,\n",
       "         727.24      ,  739.56571429,  751.89142857,  764.21714286,\n",
       "         776.54285714,  788.86857143,  801.19428571,  813.52      ,\n",
       "         825.84571429,  838.17142857,  850.49714286,  862.82285714,\n",
       "         875.14857143,  887.47428571,  899.8       ,  912.12571429,\n",
       "         924.45142857,  936.77714286,  949.10285714,  961.42857143,\n",
       "         973.75428571,  986.08      ,  998.40571429, 1010.73142857,\n",
       "        1023.05714286, 1035.38285714, 1047.70857143, 1060.03428571,\n",
       "        1072.36      , 1084.68571429, 1097.01142857, 1109.33714286,\n",
       "        1121.66285714, 1133.98857143, 1146.31428571, 1158.64      ,\n",
       "        1170.96571429, 1183.29142857, 1195.61714286, 1207.94285714,\n",
       "        1220.26857143, 1232.59428571, 1244.92      , 1257.24571429,\n",
       "        1269.57142857]),\n",
       " <a list of 100 Patch objects>)"
      ]
     },
     "execution_count": 63,
     "metadata": {},
     "output_type": "execute_result"
    },
    {
     "data": {
      "image/png": "[encoded data removed]",
      "text/plain": [
       "<Figure size 432x288 with 1 Axes>"
      ]
     },
     "metadata": {
      "needs_background": "light"
     },
     "output_type": "display_data"
    }
   ],
   "source": [
    "plt.hist(vehicles['CO2 Emission Grams/Mile'], bins=100)"
   ]
  },
  {
   "cell_type": "markdown",
   "metadata": {},
   "source": [
    "3. Combined MPG"
   ]
  },
  {
   "cell_type": "code",
   "execution_count": 62,
   "metadata": {},
   "outputs": [
    {
     "data": {
      "text/plain": [
       "(array([5.000e+00, 0.000e+00, 2.100e+01, 0.000e+00, 4.000e+01, 0.000e+00,\n",
       "        1.310e+02, 0.000e+00, 4.410e+02, 0.000e+00, 7.410e+02, 0.000e+00,\n",
       "        1.255e+03, 0.000e+00, 1.947e+03, 0.000e+00, 2.241e+03, 0.000e+00,\n",
       "        2.315e+03, 0.000e+00, 2.420e+03, 0.000e+00, 3.559e+03, 0.000e+00,\n",
       "        3.282e+03, 0.000e+00, 3.093e+03, 0.000e+00, 3.158e+03, 0.000e+00,\n",
       "        2.247e+03, 0.000e+00, 1.794e+03, 0.000e+00, 1.546e+03, 0.000e+00,\n",
       "        1.278e+03, 0.000e+00, 1.067e+03, 0.000e+00, 6.920e+02, 0.000e+00,\n",
       "        6.390e+02, 0.000e+00, 4.530e+02, 0.000e+00, 3.710e+02, 0.000e+00,\n",
       "        2.610e+02, 0.000e+00, 0.000e+00, 1.690e+02, 0.000e+00, 1.760e+02,\n",
       "        0.000e+00, 1.620e+02, 0.000e+00, 7.100e+01, 0.000e+00, 5.800e+01,\n",
       "        0.000e+00, 4.100e+01, 0.000e+00, 4.300e+01, 0.000e+00, 2.300e+01,\n",
       "        0.000e+00, 6.500e+01, 0.000e+00, 3.800e+01, 0.000e+00, 3.700e+01,\n",
       "        0.000e+00, 7.000e+00, 0.000e+00, 5.000e+00, 0.000e+00, 5.000e+00,\n",
       "        0.000e+00, 1.100e+01, 0.000e+00, 1.600e+01, 0.000e+00, 2.000e+00,\n",
       "        0.000e+00, 0.000e+00, 0.000e+00, 1.500e+01, 0.000e+00, 0.000e+00,\n",
       "        0.000e+00, 5.000e+00, 0.000e+00, 4.000e+00, 0.000e+00, 0.000e+00,\n",
       "        0.000e+00, 0.000e+00, 0.000e+00, 2.000e+00]),\n",
       " array([ 7.  ,  7.49,  7.98,  8.47,  8.96,  9.45,  9.94, 10.43, 10.92,\n",
       "        11.41, 11.9 , 12.39, 12.88, 13.37, 13.86, 14.35, 14.84, 15.33,\n",
       "        15.82, 16.31, 16.8 , 17.29, 17.78, 18.27, 18.76, 19.25, 19.74,\n",
       "        20.23, 20.72, 21.21, 21.7 , 22.19, 22.68, 23.17, 23.66, 24.15,\n",
       "        24.64, 25.13, 25.62, 26.11, 26.6 , 27.09, 27.58, 28.07, 28.56,\n",
       "        29.05, 29.54, 30.03, 30.52, 31.01, 31.5 , 31.99, 32.48, 32.97,\n",
       "        33.46, 33.95, 34.44, 34.93, 35.42, 35.91, 36.4 , 36.89, 37.38,\n",
       "        37.87, 38.36, 38.85, 39.34, 39.83, 40.32, 40.81, 41.3 , 41.79,\n",
       "        42.28, 42.77, 43.26, 43.75, 44.24, 44.73, 45.22, 45.71, 46.2 ,\n",
       "        46.69, 47.18, 47.67, 48.16, 48.65, 49.14, 49.63, 50.12, 50.61,\n",
       "        51.1 , 51.59, 52.08, 52.57, 53.06, 53.55, 54.04, 54.53, 55.02,\n",
       "        55.51, 56.  ]),\n",
       " <a list of 100 Patch objects>)"
      ]
     },
     "execution_count": 62,
     "metadata": {},
     "output_type": "execute_result"
    },
    {
     "data": {
      "image/png": "[encoded data removed]",
      "text/plain": [
       "<Figure size 432x288 with 1 Axes>"
      ]
     },
     "metadata": {
      "needs_background": "light"
     },
     "output_type": "display_data"
    }
   ],
   "source": [
    "plt.hist(vehicles['Combined MPG'], bins=100)"
   ]
  },
  {
   "cell_type": "markdown",
   "metadata": {},
   "source": [
    "Which one(s) of the variables are nearly normally distributed? How do you know?"
   ]
  },
  {
   "cell_type": "code",
   "execution_count": null,
   "metadata": {},
   "outputs": [],
   "source": [
    "# The Combined MPG because the values around de mean are more equals"
   ]
  },
  {
   "cell_type": "markdown",
   "metadata": {},
   "source": [
    "## Exponential Distribution"
   ]
  },
  {
   "cell_type": "markdown",
   "metadata": {},
   "source": [
    "1. Using `numpy.random.exponential`, create a function that returns a list of numbers exponentially distributed with the mean of 10. \n",
    "\n",
    "1. Use the function to generate two number sequences with the size of 1 and 100.\n",
    "\n",
    "1. Plot the distributions as histograms with the nubmer of bins as 100.\n",
    "\n",
    "Your output should look like below:\n",
    "\n",
    "![exponential distribution](ed.png)"
   ]
  },
  {
   "cell_type": "code",
   "execution_count": 67,
   "metadata": {},
   "outputs": [],
   "source": [
    "import numpy as np\n",
    "from scipy.stats import expon"
   ]
  },
  {
   "cell_type": "code",
   "execution_count": null,
   "metadata": {},
   "outputs": [],
   "source": [
    "np.random.exponential(scale=10, size=100)"
   ]
  },
  {
   "cell_type": "code",
   "execution_count": 69,
   "metadata": {},
   "outputs": [],
   "source": [
    "def my_exp(size):\n",
    "    mean=10\n",
    "    dec=1/mean\n",
    "    return expon.rvs(dec, size=size)"
   ]
  },
  {
   "cell_type": "code",
   "execution_count": 72,
   "metadata": {},
   "outputs": [],
   "source": [
    "one=my_exp(1)\n",
    "hund=my_exp(100)"
   ]
  },
  {
   "cell_type": "code",
   "execution_count": 74,
   "metadata": {},
   "outputs": [
    {
     "data": {
      "text/plain": [
       "(array([0., 0., 0., 0., 0., 1., 0., 0., 0., 0.]),\n",
       " array([-0.14053178, -0.04053178,  0.05946822,  0.15946822,  0.25946822,\n",
       "         0.35946822,  0.45946822,  0.55946822,  0.65946822,  0.75946822,\n",
       "         0.85946822]),\n",
       " <a list of 10 Patch objects>)"
      ]
     },
     "execution_count": 74,
     "metadata": {},
     "output_type": "execute_result"
    },
    {
     "data": {
      "image/png": "[encoded data removed]",
      "text/plain": [
       "<Figure size 432x288 with 1 Axes>"
      ]
     },
     "metadata": {
      "needs_background": "light"
     },
     "output_type": "display_data"
    }
   ],
   "source": [
    "plt.hist(one)"
   ]
  },
  {
   "cell_type": "code",
   "execution_count": 76,
   "metadata": {},
   "outputs": [
    {
     "data": {
      "text/plain": [
       "(array([38., 23., 16.,  9.,  5.,  2.,  5.,  0.,  1.,  1.]),\n",
       " array([0.10422856, 0.50507641, 0.90592426, 1.30677212, 1.70761997,\n",
       "        2.10846782, 2.50931567, 2.91016352, 3.31101137, 3.71185922,\n",
       "        4.11270707]),\n",
       " <a list of 10 Patch objects>)"
      ]
     },
     "execution_count": 76,
     "metadata": {},
     "output_type": "execute_result"
    },
    {
     "data": {
      "image/png": "[encoded data removed]",
      "text/plain": [
       "<Figure size 432x288 with 1 Axes>"
      ]
     },
     "metadata": {
      "needs_background": "light"
     },
     "output_type": "display_data"
    }
   ],
   "source": [
    "plt.hist(hund, bins=10)"
   ]
  },
  {
   "cell_type": "markdown",
   "metadata": {},
   "source": [
    "How are the two distributions different?"
   ]
  },
  {
   "cell_type": "code",
   "execution_count": null,
   "metadata": {},
   "outputs": [],
   "source": [
    "# your answer here"
   ]
  },
  {
   "cell_type": "markdown",
   "metadata": {},
   "source": [
    "## Exponential Distribution of Real Data\n",
    "\n",
    "Suppose that the amount of time one spends in a bank is exponentially distributed with mean as 10 minutes (i.e. λ = 1/10). What is the probability that a customer will spend less than fifteen minutes in the bank? \n",
    "\n",
    "Write a code in python to solve this problem"
   ]
  },
  {
   "cell_type": "code",
   "execution_count": 80,
   "metadata": {},
   "outputs": [
    {
     "data": {
      "text/plain": [
       "1.0"
      ]
     },
     "execution_count": 80,
     "metadata": {},
     "output_type": "execute_result"
    }
   ],
   "source": [
    "1-st.expon.pdf(x=15, scale=1/10)  #scale=1/mean"
   ]
  },
  {
   "cell_type": "markdown",
   "metadata": {},
   "source": [
    "What is the probability that the customer will spend more than 15 minutes"
   ]
  },
  {
   "cell_type": "code",
   "execution_count": 83,
   "metadata": {},
   "outputs": [
    {
     "data": {
      "text/plain": [
       "0.7768698398515702"
      ]
     },
     "execution_count": 83,
     "metadata": {},
     "output_type": "execute_result"
    }
   ],
   "source": [
    "st.expon.cdf(x=15, scale=10) #x : time to wait / scale: time / cdf : values before"
   ]
  },
  {
   "cell_type": "code",
   "execution_count": null,
   "metadata": {},
   "outputs": [],
   "source": []
  }
 ],
 "metadata": {
  "kernelspec": {
   "display_name": "Python 3",
   "language": "python",
   "name": "python3"
  },
  "language_info": {
   "codemirror_mode": {
    "name": "ipython",
    "version": 3
   },
   "file_extension": ".py",
   "mimetype": "text/x-python",
   "name": "python",
   "nbconvert_exporter": "python",
   "pygments_lexer": "ipython3",
   "version": "3.7.6"
  }
 },
 "nbformat": 4,
 "nbformat_minor": 2
}
