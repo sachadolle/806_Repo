{
 "cells": [
  {
   "cell_type": "markdown",
   "metadata": {
    "toc": true
   },
   "source": [
    "<h1>Table of Contents<span class=\"tocSkip\"></span></h1>\n",
    "<div class=\"toc\"><ul class=\"toc-item\"><li><span><a href=\"#Lists\" data-toc-modified-id=\"Lists-1\"><span class=\"toc-item-num\">1&nbsp;&nbsp;</span>Lists</a></span></li><li><span><a href=\"#Tuples\" data-toc-modified-id=\"Tuples-2\"><span class=\"toc-item-num\">2&nbsp;&nbsp;</span>Tuples</a></span></li><li><span><a href=\"#Sets\" data-toc-modified-id=\"Sets-3\"><span class=\"toc-item-num\">3&nbsp;&nbsp;</span>Sets</a></span></li><li><span><a href=\"#Dictionaries\" data-toc-modified-id=\"Dictionaries-4\"><span class=\"toc-item-num\">4&nbsp;&nbsp;</span>Dictionaries</a></span></li><li><span><a href=\"#Generators\" data-toc-modified-id=\"Generators-5\"><span class=\"toc-item-num\">5&nbsp;&nbsp;</span>Generators</a></span></li><li><span><a href=\"#Text-analysis\" data-toc-modified-id=\"Text-analysis-6\"><span class=\"toc-item-num\">6&nbsp;&nbsp;</span>Text analysis</a></span></li><li><span><a href=\"#Lab-Review\" data-toc-modified-id=\"Lab-Review-7\"><span class=\"toc-item-num\">7&nbsp;&nbsp;</span>Lab Review</a></span><ul class=\"toc-item\"><li><span><a href=\"#Tuples\" data-toc-modified-id=\"Tuples-7.1\"><span class=\"toc-item-num\">7.1&nbsp;&nbsp;</span>Tuples</a></span></li><li><span><a href=\"#Sets\" data-toc-modified-id=\"Sets-7.2\"><span class=\"toc-item-num\">7.2&nbsp;&nbsp;</span>Sets</a></span></li><li><span><a href=\"#Dicts\" data-toc-modified-id=\"Dicts-7.3\"><span class=\"toc-item-num\">7.3&nbsp;&nbsp;</span>Dicts</a></span></li><li><span><a href=\"#list-comprehensions\" data-toc-modified-id=\"list-comprehensions-7.4\"><span class=\"toc-item-num\">7.4&nbsp;&nbsp;</span>list comprehensions</a></span></li></ul></li><li><span><a href=\"#Text\" data-toc-modified-id=\"Text-8\"><span class=\"toc-item-num\">8&nbsp;&nbsp;</span>Text</a></span></li></ul></div>"
   ]
  },
  {
   "cell_type": "markdown",
   "metadata": {},
   "source": [
    "# Lists"
   ]
  },
  {
   "cell_type": "code",
   "execution_count": 1,
   "metadata": {},
   "outputs": [],
   "source": [
    "lst=[]"
   ]
  },
  {
   "cell_type": "code",
   "execution_count": 2,
   "metadata": {},
   "outputs": [],
   "source": [
    "lst=list()"
   ]
  },
  {
   "cell_type": "code",
   "execution_count": 3,
   "metadata": {},
   "outputs": [],
   "source": [
    "lst=[1,2,3]"
   ]
  },
  {
   "cell_type": "code",
   "execution_count": 4,
   "metadata": {},
   "outputs": [
    {
     "data": {
      "text/plain": [
       "[1, 2, 3]"
      ]
     },
     "execution_count": 4,
     "metadata": {},
     "output_type": "execute_result"
    }
   ],
   "source": [
    "lst"
   ]
  },
  {
   "cell_type": "code",
   "execution_count": 29,
   "metadata": {},
   "outputs": [],
   "source": [
    "lst=list(range(5))"
   ]
  },
  {
   "cell_type": "code",
   "execution_count": 30,
   "metadata": {},
   "outputs": [
    {
     "data": {
      "text/plain": [
       "[0, 1, 2, 3, 4]"
      ]
     },
     "execution_count": 30,
     "metadata": {},
     "output_type": "execute_result"
    }
   ],
   "source": [
    "lst"
   ]
  },
  {
   "cell_type": "code",
   "execution_count": 31,
   "metadata": {},
   "outputs": [
    {
     "data": {
      "text/plain": [
       "[-0.2, -0.15, 0.0, 0.25, 0.6]"
      ]
     },
     "execution_count": 31,
     "metadata": {},
     "output_type": "execute_result"
    }
   ],
   "source": [
    "lst2=[]\n",
    "\n",
    "for i in lst:\n",
    "    lst2.append((i**2-4)/20)\n",
    "lst2"
   ]
  },
  {
   "cell_type": "code",
   "execution_count": 8,
   "metadata": {},
   "outputs": [
    {
     "data": {
      "text/plain": [
       "[0, 1, 2, 3, 4, -0.2, -0.15, 0.0, 0.25, 0.6]"
      ]
     },
     "execution_count": 8,
     "metadata": {},
     "output_type": "execute_result"
    }
   ],
   "source": [
    "lst+lst2"
   ]
  },
  {
   "cell_type": "code",
   "execution_count": 9,
   "metadata": {},
   "outputs": [
    {
     "data": {
      "text/plain": [
       "[[0, 1, 2, 3, 4], [-0.2, -0.15, 0.0, 0.25, 0.6]]"
      ]
     },
     "execution_count": 9,
     "metadata": {},
     "output_type": "execute_result"
    }
   ],
   "source": [
    "[lst,lst2] #list of lists"
   ]
  },
  {
   "cell_type": "code",
   "execution_count": 10,
   "metadata": {},
   "outputs": [],
   "source": [
    "lst3=[]\n",
    "\n",
    "for i in range(len(lst)):\n",
    "    lst3.append(lst[i]+lst2[i])\n"
   ]
  },
  {
   "cell_type": "code",
   "execution_count": 11,
   "metadata": {},
   "outputs": [
    {
     "data": {
      "text/plain": [
       "[-0.2, 0.85, 2.0, 3.25, 4.6]"
      ]
     },
     "execution_count": 11,
     "metadata": {},
     "output_type": "execute_result"
    }
   ],
   "source": [
    "lst3"
   ]
  },
  {
   "cell_type": "code",
   "execution_count": 12,
   "metadata": {},
   "outputs": [
    {
     "data": {
      "text/plain": [
       "5"
      ]
     },
     "execution_count": 12,
     "metadata": {},
     "output_type": "execute_result"
    }
   ],
   "source": [
    "len(lst)"
   ]
  },
  {
   "cell_type": "code",
   "execution_count": 15,
   "metadata": {},
   "outputs": [
    {
     "data": {
      "text/plain": [
       "['cargo', 'bat', 'tiger']"
      ]
     },
     "execution_count": 15,
     "metadata": {},
     "output_type": "execute_result"
    }
   ],
   "source": [
    "lst=['cargo','bat','tiger']\n",
    "\n",
    "lst"
   ]
  },
  {
   "cell_type": "code",
   "execution_count": 16,
   "metadata": {},
   "outputs": [],
   "source": [
    "lst.append('bomb')"
   ]
  },
  {
   "cell_type": "code",
   "execution_count": 17,
   "metadata": {},
   "outputs": [
    {
     "data": {
      "text/plain": [
       "['cargo', 'bat', 'tiger', 'bomb']"
      ]
     },
     "execution_count": 17,
     "metadata": {},
     "output_type": "execute_result"
    }
   ],
   "source": [
    "lst"
   ]
  },
  {
   "cell_type": "code",
   "execution_count": 18,
   "metadata": {},
   "outputs": [],
   "source": [
    "lst.remove('bat')"
   ]
  },
  {
   "cell_type": "code",
   "execution_count": 19,
   "metadata": {},
   "outputs": [
    {
     "data": {
      "text/plain": [
       "['cargo', 'tiger', 'bomb']"
      ]
     },
     "execution_count": 19,
     "metadata": {},
     "output_type": "execute_result"
    }
   ],
   "source": [
    "lst"
   ]
  },
  {
   "cell_type": "code",
   "execution_count": 20,
   "metadata": {},
   "outputs": [
    {
     "ename": "ValueError",
     "evalue": "list.remove(x): x not in list",
     "output_type": "error",
     "traceback": [
      "\u001b[0;31m---------------------------------------------------------------------------\u001b[0m",
      "\u001b[0;31mValueError\u001b[0m                                Traceback (most recent call last)",
      "\u001b[0;32m<ipython-input-20-55a9f3029d30>\u001b[0m in \u001b[0;36m<module>\u001b[0;34m\u001b[0m\n\u001b[0;32m----> 1\u001b[0;31m \u001b[0mlst\u001b[0m\u001b[0;34m.\u001b[0m\u001b[0mremove\u001b[0m\u001b[0;34m(\u001b[0m\u001b[0;34m'bat'\u001b[0m\u001b[0;34m)\u001b[0m\u001b[0;34m\u001b[0m\u001b[0;34m\u001b[0m\u001b[0m\n\u001b[0m",
      "\u001b[0;31mValueError\u001b[0m: list.remove(x): x not in list"
     ]
    }
   ],
   "source": [
    "lst.remove('bat')"
   ]
  },
  {
   "cell_type": "code",
   "execution_count": 21,
   "metadata": {},
   "outputs": [],
   "source": [
    "lst=['cargo','bat','tiger', 'bat']\n"
   ]
  },
  {
   "cell_type": "code",
   "execution_count": 22,
   "metadata": {},
   "outputs": [],
   "source": [
    "lst.remove('bat')"
   ]
  },
  {
   "cell_type": "code",
   "execution_count": 23,
   "metadata": {},
   "outputs": [
    {
     "data": {
      "text/plain": [
       "['cargo', 'tiger', 'bat']"
      ]
     },
     "execution_count": 23,
     "metadata": {},
     "output_type": "execute_result"
    }
   ],
   "source": [
    "lst"
   ]
  },
  {
   "cell_type": "code",
   "execution_count": 24,
   "metadata": {},
   "outputs": [
    {
     "data": {
      "text/plain": [
       "['cargo', 'tiger']"
      ]
     },
     "execution_count": 24,
     "metadata": {},
     "output_type": "execute_result"
    }
   ],
   "source": [
    "lst.remove('bat')\n",
    "lst"
   ]
  },
  {
   "cell_type": "code",
   "execution_count": 25,
   "metadata": {},
   "outputs": [
    {
     "data": {
      "text/plain": [
       "['cargo', 'tiger', 'dumpling']"
      ]
     },
     "execution_count": 25,
     "metadata": {},
     "output_type": "execute_result"
    }
   ],
   "source": [
    "lst+['dumpling']"
   ]
  },
  {
   "cell_type": "code",
   "execution_count": 26,
   "metadata": {},
   "outputs": [
    {
     "data": {
      "text/plain": [
       "False"
      ]
     },
     "execution_count": 26,
     "metadata": {},
     "output_type": "execute_result"
    }
   ],
   "source": [
    "'dumpling' in lst"
   ]
  },
  {
   "cell_type": "code",
   "execution_count": 27,
   "metadata": {},
   "outputs": [
    {
     "data": {
      "text/plain": [
       "['cargo', 'tiger']"
      ]
     },
     "execution_count": 27,
     "metadata": {},
     "output_type": "execute_result"
    }
   ],
   "source": [
    "lst"
   ]
  },
  {
   "cell_type": "code",
   "execution_count": 28,
   "metadata": {},
   "outputs": [
    {
     "data": {
      "text/plain": [
       "True"
      ]
     },
     "execution_count": 28,
     "metadata": {},
     "output_type": "execute_result"
    }
   ],
   "source": [
    "not 'dumpling' in lst"
   ]
  },
  {
   "cell_type": "code",
   "execution_count": 33,
   "metadata": {},
   "outputs": [
    {
     "data": {
      "text/plain": [
       "10"
      ]
     },
     "execution_count": 33,
     "metadata": {},
     "output_type": "execute_result"
    }
   ],
   "source": [
    "sum(lst)"
   ]
  },
  {
   "cell_type": "code",
   "execution_count": 34,
   "metadata": {},
   "outputs": [
    {
     "data": {
      "text/plain": [
       "4"
      ]
     },
     "execution_count": 34,
     "metadata": {},
     "output_type": "execute_result"
    }
   ],
   "source": [
    "max(lst)"
   ]
  },
  {
   "cell_type": "code",
   "execution_count": 35,
   "metadata": {},
   "outputs": [
    {
     "data": {
      "text/plain": [
       "0"
      ]
     },
     "execution_count": 35,
     "metadata": {},
     "output_type": "execute_result"
    }
   ],
   "source": [
    "min(lst)"
   ]
  },
  {
   "cell_type": "code",
   "execution_count": 36,
   "metadata": {},
   "outputs": [
    {
     "data": {
      "text/plain": [
       "5"
      ]
     },
     "execution_count": 36,
     "metadata": {},
     "output_type": "execute_result"
    }
   ],
   "source": [
    "len(lst)"
   ]
  },
  {
   "cell_type": "code",
   "execution_count": 37,
   "metadata": {},
   "outputs": [],
   "source": [
    "lst.sort()"
   ]
  },
  {
   "cell_type": "code",
   "execution_count": 38,
   "metadata": {},
   "outputs": [
    {
     "data": {
      "text/plain": [
       "[0, 1, 2, 3, 4]"
      ]
     },
     "execution_count": 38,
     "metadata": {},
     "output_type": "execute_result"
    }
   ],
   "source": [
    "lst"
   ]
  },
  {
   "cell_type": "code",
   "execution_count": 39,
   "metadata": {},
   "outputs": [],
   "source": [
    "lst.sort(reverse=True)"
   ]
  },
  {
   "cell_type": "code",
   "execution_count": 40,
   "metadata": {},
   "outputs": [
    {
     "data": {
      "text/plain": [
       "[4, 3, 2, 1, 0]"
      ]
     },
     "execution_count": 40,
     "metadata": {},
     "output_type": "execute_result"
    }
   ],
   "source": [
    "lst"
   ]
  },
  {
   "cell_type": "code",
   "execution_count": 43,
   "metadata": {},
   "outputs": [],
   "source": [
    "lst.sort(reverse=False)"
   ]
  },
  {
   "cell_type": "code",
   "execution_count": 44,
   "metadata": {},
   "outputs": [
    {
     "data": {
      "text/plain": [
       "[0, 1, 2, 3, 4]"
      ]
     },
     "execution_count": 44,
     "metadata": {},
     "output_type": "execute_result"
    }
   ],
   "source": [
    "lst"
   ]
  },
  {
   "cell_type": "markdown",
   "metadata": {},
   "source": [
    "# Tuples"
   ]
  },
  {
   "cell_type": "code",
   "execution_count": 45,
   "metadata": {},
   "outputs": [],
   "source": [
    "chocolates = ('dark', 'milk', 'semi sweet')"
   ]
  },
  {
   "cell_type": "code",
   "execution_count": 46,
   "metadata": {},
   "outputs": [
    {
     "data": {
      "text/plain": [
       "('dark', 'milk', 'semi sweet')"
      ]
     },
     "execution_count": 46,
     "metadata": {},
     "output_type": "execute_result"
    }
   ],
   "source": [
    "chocolates"
   ]
  },
  {
   "cell_type": "code",
   "execution_count": 47,
   "metadata": {},
   "outputs": [
    {
     "data": {
      "text/plain": [
       "'semi sweet'"
      ]
     },
     "execution_count": 47,
     "metadata": {},
     "output_type": "execute_result"
    }
   ],
   "source": [
    "chocolates[2]"
   ]
  },
  {
   "cell_type": "code",
   "execution_count": 48,
   "metadata": {},
   "outputs": [
    {
     "ename": "TypeError",
     "evalue": "'tuple' object does not support item assignment",
     "output_type": "error",
     "traceback": [
      "\u001b[0;31m---------------------------------------------------------------------------\u001b[0m",
      "\u001b[0;31mTypeError\u001b[0m                                 Traceback (most recent call last)",
      "\u001b[0;32m<ipython-input-48-a6cb7e4c2f9a>\u001b[0m in \u001b[0;36m<module>\u001b[0;34m\u001b[0m\n\u001b[0;32m----> 1\u001b[0;31m \u001b[0mchocolates\u001b[0m\u001b[0;34m[\u001b[0m\u001b[0;36m2\u001b[0m\u001b[0;34m]\u001b[0m\u001b[0;34m=\u001b[0m\u001b[0;34m'salty'\u001b[0m\u001b[0;34m\u001b[0m\u001b[0;34m\u001b[0m\u001b[0m\n\u001b[0m",
      "\u001b[0;31mTypeError\u001b[0m: 'tuple' object does not support item assignment"
     ]
    }
   ],
   "source": [
    "chocolates[2]='salty'"
   ]
  },
  {
   "cell_type": "code",
   "execution_count": 49,
   "metadata": {},
   "outputs": [
    {
     "data": {
      "text/plain": [
       "3"
      ]
     },
     "execution_count": 49,
     "metadata": {},
     "output_type": "execute_result"
    }
   ],
   "source": [
    "len(chocolates)"
   ]
  },
  {
   "cell_type": "code",
   "execution_count": 50,
   "metadata": {},
   "outputs": [
    {
     "ename": "IndexError",
     "evalue": "tuple index out of range",
     "output_type": "error",
     "traceback": [
      "\u001b[0;31m---------------------------------------------------------------------------\u001b[0m",
      "\u001b[0;31mIndexError\u001b[0m                                Traceback (most recent call last)",
      "\u001b[0;32m<ipython-input-50-6d74e6209ce2>\u001b[0m in \u001b[0;36m<module>\u001b[0;34m\u001b[0m\n\u001b[0;32m----> 1\u001b[0;31m \u001b[0mchocolates\u001b[0m\u001b[0;34m[\u001b[0m\u001b[0;36m19\u001b[0m\u001b[0;34m]\u001b[0m\u001b[0;34m\u001b[0m\u001b[0;34m\u001b[0m\u001b[0m\n\u001b[0m",
      "\u001b[0;31mIndexError\u001b[0m: tuple index out of range"
     ]
    }
   ],
   "source": [
    "chocolates[19]"
   ]
  },
  {
   "cell_type": "code",
   "execution_count": 51,
   "metadata": {},
   "outputs": [
    {
     "name": "stdout",
     "output_type": "stream",
     "text": [
      "dark\n",
      "milk\n",
      "semi sweet\n"
     ]
    }
   ],
   "source": [
    "for chocolate in chocolates:\n",
    "    print(chocolate)"
   ]
  },
  {
   "cell_type": "code",
   "execution_count": 52,
   "metadata": {},
   "outputs": [
    {
     "ename": "AttributeError",
     "evalue": "'tuple' object has no attribute 'append'",
     "output_type": "error",
     "traceback": [
      "\u001b[0;31m---------------------------------------------------------------------------\u001b[0m",
      "\u001b[0;31mAttributeError\u001b[0m                            Traceback (most recent call last)",
      "\u001b[0;32m<ipython-input-52-4651137c9522>\u001b[0m in \u001b[0;36m<module>\u001b[0;34m\u001b[0m\n\u001b[0;32m----> 1\u001b[0;31m \u001b[0mchocolates\u001b[0m\u001b[0;34m.\u001b[0m\u001b[0mappend\u001b[0m\u001b[0;34m(\u001b[0m\u001b[0;34m'salty'\u001b[0m\u001b[0;34m)\u001b[0m\u001b[0;34m\u001b[0m\u001b[0;34m\u001b[0m\u001b[0m\n\u001b[0m",
      "\u001b[0;31mAttributeError\u001b[0m: 'tuple' object has no attribute 'append'"
     ]
    }
   ],
   "source": [
    "chocolates.append('salty')"
   ]
  },
  {
   "cell_type": "code",
   "execution_count": 56,
   "metadata": {},
   "outputs": [],
   "source": [
    "buaa=list(chocolates)"
   ]
  },
  {
   "cell_type": "code",
   "execution_count": 57,
   "metadata": {},
   "outputs": [],
   "source": [
    "buaa.append('salty')"
   ]
  },
  {
   "cell_type": "code",
   "execution_count": 60,
   "metadata": {},
   "outputs": [
    {
     "data": {
      "text/plain": [
       "('dark', 'milk', 'semi sweet', 'salty')"
      ]
     },
     "execution_count": 60,
     "metadata": {},
     "output_type": "execute_result"
    }
   ],
   "source": [
    "tuple(buaa)"
   ]
  },
  {
   "cell_type": "code",
   "execution_count": 61,
   "metadata": {},
   "outputs": [],
   "source": [
    "# unpack the tuple\n",
    "\n",
    "i,j,k = chocolates"
   ]
  },
  {
   "cell_type": "code",
   "execution_count": 62,
   "metadata": {},
   "outputs": [
    {
     "data": {
      "text/plain": [
       "'dark'"
      ]
     },
     "execution_count": 62,
     "metadata": {},
     "output_type": "execute_result"
    }
   ],
   "source": [
    "i"
   ]
  },
  {
   "cell_type": "code",
   "execution_count": 63,
   "metadata": {},
   "outputs": [
    {
     "data": {
      "text/plain": [
       "'milk'"
      ]
     },
     "execution_count": 63,
     "metadata": {},
     "output_type": "execute_result"
    }
   ],
   "source": [
    "j"
   ]
  },
  {
   "cell_type": "code",
   "execution_count": 64,
   "metadata": {},
   "outputs": [
    {
     "data": {
      "text/plain": [
       "'semi sweet'"
      ]
     },
     "execution_count": 64,
     "metadata": {},
     "output_type": "execute_result"
    }
   ],
   "source": [
    "k"
   ]
  },
  {
   "cell_type": "code",
   "execution_count": 65,
   "metadata": {},
   "outputs": [],
   "source": [
    "tpl=(1,2)"
   ]
  },
  {
   "cell_type": "code",
   "execution_count": 66,
   "metadata": {},
   "outputs": [
    {
     "name": "stdout",
     "output_type": "stream",
     "text": [
      "1 2\n"
     ]
    }
   ],
   "source": [
    "i,j=tpl\n",
    "print(i,j)"
   ]
  },
  {
   "cell_type": "code",
   "execution_count": 68,
   "metadata": {},
   "outputs": [],
   "source": [
    "q,w=(lst,lst2)"
   ]
  },
  {
   "cell_type": "code",
   "execution_count": 70,
   "metadata": {},
   "outputs": [
    {
     "data": {
      "text/plain": [
       "True"
      ]
     },
     "execution_count": 70,
     "metadata": {},
     "output_type": "execute_result"
    }
   ],
   "source": [
    "q==lst"
   ]
  },
  {
   "cell_type": "code",
   "execution_count": 71,
   "metadata": {},
   "outputs": [
    {
     "data": {
      "text/plain": [
       "True"
      ]
     },
     "execution_count": 71,
     "metadata": {},
     "output_type": "execute_result"
    }
   ],
   "source": [
    "q is lst"
   ]
  },
  {
   "cell_type": "code",
   "execution_count": 72,
   "metadata": {},
   "outputs": [
    {
     "data": {
      "text/plain": [
       "[0, 1, 11, 3, 4]"
      ]
     },
     "execution_count": 72,
     "metadata": {},
     "output_type": "execute_result"
    }
   ],
   "source": [
    "lst[2]=11\n",
    "lst"
   ]
  },
  {
   "cell_type": "code",
   "execution_count": 73,
   "metadata": {},
   "outputs": [
    {
     "data": {
      "text/plain": [
       "[0, 1, 11, 3, 4]"
      ]
     },
     "execution_count": 73,
     "metadata": {},
     "output_type": "execute_result"
    }
   ],
   "source": [
    "q"
   ]
  },
  {
   "cell_type": "markdown",
   "metadata": {},
   "source": [
    "# Sets"
   ]
  },
  {
   "cell_type": "code",
   "execution_count": 74,
   "metadata": {},
   "outputs": [
    {
     "data": {
      "text/plain": [
       "dict"
      ]
     },
     "execution_count": 74,
     "metadata": {},
     "output_type": "execute_result"
    }
   ],
   "source": [
    "st={}\n",
    "type(st)"
   ]
  },
  {
   "cell_type": "code",
   "execution_count": 75,
   "metadata": {},
   "outputs": [],
   "source": [
    "st=set()"
   ]
  },
  {
   "cell_type": "code",
   "execution_count": 78,
   "metadata": {},
   "outputs": [],
   "source": [
    "lst4=[]\n",
    "for i in range(20):\n",
    "    lst4.append(i%3)"
   ]
  },
  {
   "cell_type": "code",
   "execution_count": 79,
   "metadata": {},
   "outputs": [
    {
     "data": {
      "text/plain": [
       "[0, 1, 2, 0, 1, 2, 0, 1, 2, 0, 1, 2, 0, 1, 2, 0, 1, 2, 0, 1]"
      ]
     },
     "execution_count": 79,
     "metadata": {},
     "output_type": "execute_result"
    }
   ],
   "source": [
    "lst4"
   ]
  },
  {
   "cell_type": "code",
   "execution_count": 81,
   "metadata": {},
   "outputs": [],
   "source": [
    "st=set(lst4)"
   ]
  },
  {
   "cell_type": "code",
   "execution_count": 83,
   "metadata": {},
   "outputs": [
    {
     "ename": "TypeError",
     "evalue": "'set' object is not subscriptable",
     "output_type": "error",
     "traceback": [
      "\u001b[0;31m---------------------------------------------------------------------------\u001b[0m",
      "\u001b[0;31mTypeError\u001b[0m                                 Traceback (most recent call last)",
      "\u001b[0;32m<ipython-input-83-befede3e1a8a>\u001b[0m in \u001b[0;36m<module>\u001b[0;34m\u001b[0m\n\u001b[0;32m----> 1\u001b[0;31m \u001b[0mst\u001b[0m\u001b[0;34m[\u001b[0m\u001b[0;36m2\u001b[0m\u001b[0;34m]\u001b[0m\u001b[0;34m\u001b[0m\u001b[0;34m\u001b[0m\u001b[0m\n\u001b[0m",
      "\u001b[0;31mTypeError\u001b[0m: 'set' object is not subscriptable"
     ]
    }
   ],
   "source": [
    "st[2]"
   ]
  },
  {
   "cell_type": "code",
   "execution_count": 84,
   "metadata": {},
   "outputs": [],
   "source": [
    "s1={1,2,3,4}\n",
    "s2={2,3,4,5}"
   ]
  },
  {
   "cell_type": "code",
   "execution_count": 85,
   "metadata": {},
   "outputs": [
    {
     "data": {
      "text/plain": [
       "{1, 2, 3, 4, 5}"
      ]
     },
     "execution_count": 85,
     "metadata": {},
     "output_type": "execute_result"
    }
   ],
   "source": [
    "s1 | s2 # union"
   ]
  },
  {
   "cell_type": "code",
   "execution_count": 86,
   "metadata": {},
   "outputs": [
    {
     "data": {
      "text/plain": [
       "{2, 3, 4}"
      ]
     },
     "execution_count": 86,
     "metadata": {},
     "output_type": "execute_result"
    }
   ],
   "source": [
    "s1 & s2 # intersection"
   ]
  },
  {
   "cell_type": "code",
   "execution_count": 87,
   "metadata": {},
   "outputs": [
    {
     "data": {
      "text/plain": [
       "{1, 2, 3, 4}"
      ]
     },
     "execution_count": 87,
     "metadata": {},
     "output_type": "execute_result"
    }
   ],
   "source": [
    "s1 or s2"
   ]
  },
  {
   "cell_type": "code",
   "execution_count": 88,
   "metadata": {},
   "outputs": [
    {
     "data": {
      "text/plain": [
       "{2, 3, 4, 5}"
      ]
     },
     "execution_count": 88,
     "metadata": {},
     "output_type": "execute_result"
    }
   ],
   "source": [
    "s1 and s2"
   ]
  },
  {
   "cell_type": "code",
   "execution_count": 89,
   "metadata": {},
   "outputs": [
    {
     "data": {
      "text/plain": [
       "{2, 3, 4}"
      ]
     },
     "execution_count": 89,
     "metadata": {},
     "output_type": "execute_result"
    }
   ],
   "source": [
    "s1.intersection(s2)"
   ]
  },
  {
   "cell_type": "code",
   "execution_count": 90,
   "metadata": {},
   "outputs": [
    {
     "data": {
      "text/plain": [
       "{1, 2, 3, 4, 5}"
      ]
     },
     "execution_count": 90,
     "metadata": {},
     "output_type": "execute_result"
    }
   ],
   "source": [
    "s1.union(s2)"
   ]
  },
  {
   "cell_type": "code",
   "execution_count": 91,
   "metadata": {},
   "outputs": [
    {
     "data": {
      "text/plain": [
       "{1}"
      ]
     },
     "execution_count": 91,
     "metadata": {},
     "output_type": "execute_result"
    }
   ],
   "source": [
    "s1.difference(s2)"
   ]
  },
  {
   "cell_type": "code",
   "execution_count": 92,
   "metadata": {},
   "outputs": [
    {
     "data": {
      "text/plain": [
       "{1}"
      ]
     },
     "execution_count": 92,
     "metadata": {},
     "output_type": "execute_result"
    }
   ],
   "source": [
    "s1-s2"
   ]
  },
  {
   "cell_type": "code",
   "execution_count": 94,
   "metadata": {},
   "outputs": [
    {
     "data": {
      "text/plain": [
       "{5}"
      ]
     },
     "execution_count": 94,
     "metadata": {},
     "output_type": "execute_result"
    }
   ],
   "source": [
    "s2.difference(s1)"
   ]
  },
  {
   "cell_type": "code",
   "execution_count": 95,
   "metadata": {},
   "outputs": [
    {
     "data": {
      "text/plain": [
       "{5}"
      ]
     },
     "execution_count": 95,
     "metadata": {},
     "output_type": "execute_result"
    }
   ],
   "source": [
    "s2-s1"
   ]
  },
  {
   "cell_type": "code",
   "execution_count": 96,
   "metadata": {},
   "outputs": [
    {
     "data": {
      "text/plain": [
       "{1, 5}"
      ]
     },
     "execution_count": 96,
     "metadata": {},
     "output_type": "execute_result"
    }
   ],
   "source": [
    "s1.symmetric_difference(s2)"
   ]
  },
  {
   "cell_type": "code",
   "execution_count": 97,
   "metadata": {},
   "outputs": [],
   "source": [
    "s3={3,4}"
   ]
  },
  {
   "cell_type": "code",
   "execution_count": 98,
   "metadata": {},
   "outputs": [
    {
     "data": {
      "text/plain": [
       "True"
      ]
     },
     "execution_count": 98,
     "metadata": {},
     "output_type": "execute_result"
    }
   ],
   "source": [
    "s3.issubset(s1) # all the elements of s3 are in s1"
   ]
  },
  {
   "cell_type": "code",
   "execution_count": 99,
   "metadata": {},
   "outputs": [
    {
     "data": {
      "text/plain": [
       "True"
      ]
     },
     "execution_count": 99,
     "metadata": {},
     "output_type": "execute_result"
    }
   ],
   "source": [
    "s1.issuperset(s3) # s1 contains all the elements of s3"
   ]
  },
  {
   "cell_type": "code",
   "execution_count": 102,
   "metadata": {},
   "outputs": [
    {
     "data": {
      "text/plain": [
       "{1}"
      ]
     },
     "execution_count": 102,
     "metadata": {},
     "output_type": "execute_result"
    }
   ],
   "source": [
    "s1-s2"
   ]
  },
  {
   "cell_type": "code",
   "execution_count": 103,
   "metadata": {},
   "outputs": [
    {
     "data": {
      "text/plain": [
       "{1, 2}"
      ]
     },
     "execution_count": 103,
     "metadata": {},
     "output_type": "execute_result"
    }
   ],
   "source": [
    "s1-s3"
   ]
  },
  {
   "cell_type": "code",
   "execution_count": 104,
   "metadata": {},
   "outputs": [
    {
     "ename": "TypeError",
     "evalue": "unsupported operand type(s) for +: 'set' and 'set'",
     "output_type": "error",
     "traceback": [
      "\u001b[0;31m---------------------------------------------------------------------------\u001b[0m",
      "\u001b[0;31mTypeError\u001b[0m                                 Traceback (most recent call last)",
      "\u001b[0;32m<ipython-input-104-f20250a9f944>\u001b[0m in \u001b[0;36m<module>\u001b[0;34m\u001b[0m\n\u001b[0;32m----> 1\u001b[0;31m \u001b[0ms1\u001b[0m\u001b[0;34m+\u001b[0m\u001b[0ms2\u001b[0m\u001b[0;34m\u001b[0m\u001b[0;34m\u001b[0m\u001b[0m\n\u001b[0m",
      "\u001b[0;31mTypeError\u001b[0m: unsupported operand type(s) for +: 'set' and 'set'"
     ]
    }
   ],
   "source": [
    "s1+s2"
   ]
  },
  {
   "cell_type": "code",
   "execution_count": 105,
   "metadata": {},
   "outputs": [
    {
     "data": {
      "text/plain": [
       "True"
      ]
     },
     "execution_count": 105,
     "metadata": {},
     "output_type": "execute_result"
    }
   ],
   "source": [
    "1 in s1"
   ]
  },
  {
   "cell_type": "code",
   "execution_count": 107,
   "metadata": {},
   "outputs": [],
   "source": [
    "txt1='the quick brown fox jumps over the lazy dog'\n",
    "txt2='the big bang theory'"
   ]
  },
  {
   "cell_type": "markdown",
   "metadata": {},
   "source": [
    "Which common letters do those sentences share?"
   ]
  },
  {
   "cell_type": "code",
   "execution_count": 111,
   "metadata": {},
   "outputs": [],
   "source": [
    "s=[]\n",
    "for i in txt1:\n",
    "    for j in txt2:\n",
    "        if i==j:\n",
    "            s.append(i)\n",
    "            break"
   ]
  },
  {
   "cell_type": "code",
   "execution_count": 112,
   "metadata": {
    "collapsed": true
   },
   "outputs": [
    {
     "data": {
      "text/plain": [
       "['t',\n",
       " 'h',\n",
       " 'e',\n",
       " ' ',\n",
       " 'i',\n",
       " ' ',\n",
       " 'b',\n",
       " 'r',\n",
       " 'o',\n",
       " 'n',\n",
       " ' ',\n",
       " 'o',\n",
       " ' ',\n",
       " ' ',\n",
       " 'o',\n",
       " 'e',\n",
       " 'r',\n",
       " ' ',\n",
       " 't',\n",
       " 'h',\n",
       " 'e',\n",
       " ' ',\n",
       " 'a',\n",
       " 'y',\n",
       " ' ',\n",
       " 'o',\n",
       " 'g']"
      ]
     },
     "execution_count": 112,
     "metadata": {},
     "output_type": "execute_result"
    }
   ],
   "source": [
    "s"
   ]
  },
  {
   "cell_type": "code",
   "execution_count": 113,
   "metadata": {},
   "outputs": [
    {
     "data": {
      "text/plain": [
       "{' ', 'a', 'b', 'e', 'g', 'h', 'i', 'n', 'o', 'r', 't', 'y'}"
      ]
     },
     "execution_count": 113,
     "metadata": {},
     "output_type": "execute_result"
    }
   ],
   "source": [
    "set(txt1) & set(txt2)"
   ]
  },
  {
   "cell_type": "code",
   "execution_count": 114,
   "metadata": {},
   "outputs": [],
   "source": [
    "set1={0,1,'!','245e11',42,'mononoke','%',11}"
   ]
  },
  {
   "cell_type": "code",
   "execution_count": 115,
   "metadata": {},
   "outputs": [
    {
     "data": {
      "text/plain": [
       "{'!', '%', 0, 1, 11, '245e11', 42, 'mononoke'}"
      ]
     },
     "execution_count": 115,
     "metadata": {},
     "output_type": "execute_result"
    }
   ],
   "source": [
    "set1"
   ]
  },
  {
   "cell_type": "code",
   "execution_count": 118,
   "metadata": {},
   "outputs": [
    {
     "name": "stdout",
     "output_type": "stream",
     "text": [
      "0\n",
      "1\n",
      "42\n",
      "%\n",
      "!\n",
      "11\n",
      "245e11\n",
      "mononoke\n"
     ]
    }
   ],
   "source": [
    "for i in set1:\n",
    "    print(i)"
   ]
  },
  {
   "cell_type": "code",
   "execution_count": 119,
   "metadata": {},
   "outputs": [],
   "source": [
    "set1.remove('!')"
   ]
  },
  {
   "cell_type": "code",
   "execution_count": 121,
   "metadata": {},
   "outputs": [
    {
     "name": "stdout",
     "output_type": "stream",
     "text": [
      "0\n",
      "1\n",
      "42\n",
      "%\n",
      "11\n",
      "245e11\n",
      "mononoke\n"
     ]
    }
   ],
   "source": [
    "for i in set1:\n",
    "    print(i)"
   ]
  },
  {
   "cell_type": "markdown",
   "metadata": {},
   "source": [
    "# Dictionaries"
   ]
  },
  {
   "cell_type": "code",
   "execution_count": 122,
   "metadata": {},
   "outputs": [
    {
     "data": {
      "text/plain": [
       "('dark', 'milk', 'semi sweet')"
      ]
     },
     "execution_count": 122,
     "metadata": {},
     "output_type": "execute_result"
    }
   ],
   "source": [
    "chocolates"
   ]
  },
  {
   "cell_type": "code",
   "execution_count": 123,
   "metadata": {},
   "outputs": [],
   "source": [
    "brands=['Lindt','Nestle','Milka']"
   ]
  },
  {
   "cell_type": "code",
   "execution_count": 125,
   "metadata": {},
   "outputs": [
    {
     "data": {
      "text/plain": [
       "{'dark': 'Lindt'}"
      ]
     },
     "execution_count": 125,
     "metadata": {},
     "output_type": "execute_result"
    }
   ],
   "source": [
    "dct={'dark':'Lindt'}\n",
    "dct"
   ]
  },
  {
   "cell_type": "code",
   "execution_count": 126,
   "metadata": {},
   "outputs": [
    {
     "name": "stdout",
     "output_type": "stream",
     "text": [
      "0 Lindt dark\n",
      "1 Nestle milk\n",
      "2 Milka semi sweet\n"
     ]
    }
   ],
   "source": [
    "for i in range(len(chocolates)):\n",
    "    print(i,brands[i],chocolates[i])"
   ]
  },
  {
   "cell_type": "code",
   "execution_count": 127,
   "metadata": {},
   "outputs": [],
   "source": [
    "dct={}\n",
    "for i in range(len(brands)):\n",
    "    dct.update({chocolates[i]:brands[i]})"
   ]
  },
  {
   "cell_type": "code",
   "execution_count": 128,
   "metadata": {},
   "outputs": [
    {
     "data": {
      "text/plain": [
       "{'dark': 'Lindt', 'milk': 'Nestle', 'semi sweet': 'Milka'}"
      ]
     },
     "execution_count": 128,
     "metadata": {},
     "output_type": "execute_result"
    }
   ],
   "source": [
    "dct"
   ]
  },
  {
   "cell_type": "code",
   "execution_count": 129,
   "metadata": {},
   "outputs": [],
   "source": [
    "dct2={}\n",
    "for i in range(len(brands)):\n",
    "    dct2[chocolates[i]] = brands[i]"
   ]
  },
  {
   "cell_type": "code",
   "execution_count": 130,
   "metadata": {},
   "outputs": [
    {
     "data": {
      "text/plain": [
       "{'dark': 'Lindt', 'milk': 'Nestle', 'semi sweet': 'Milka'}"
      ]
     },
     "execution_count": 130,
     "metadata": {},
     "output_type": "execute_result"
    }
   ],
   "source": [
    "dct2"
   ]
  },
  {
   "cell_type": "code",
   "execution_count": 132,
   "metadata": {},
   "outputs": [],
   "source": [
    "dct3={}\n",
    "for i,j in zip(chocolates,brands):\n",
    "    dct3[i]=j"
   ]
  },
  {
   "cell_type": "code",
   "execution_count": 133,
   "metadata": {},
   "outputs": [
    {
     "data": {
      "text/plain": [
       "{'dark': 'Lindt', 'milk': 'Nestle', 'semi sweet': 'Milka'}"
      ]
     },
     "execution_count": 133,
     "metadata": {},
     "output_type": "execute_result"
    }
   ],
   "source": [
    "dct3"
   ]
  },
  {
   "cell_type": "code",
   "execution_count": 134,
   "metadata": {},
   "outputs": [
    {
     "data": {
      "text/plain": [
       "[('dark', 'Lindt'), ('milk', 'Nestle'), ('semi sweet', 'Milka')]"
      ]
     },
     "execution_count": 134,
     "metadata": {},
     "output_type": "execute_result"
    }
   ],
   "source": [
    "list(zip(chocolates,brands))"
   ]
  },
  {
   "cell_type": "code",
   "execution_count": 135,
   "metadata": {},
   "outputs": [],
   "source": [
    "dct.update({'kinder surprise':'kinder'})"
   ]
  },
  {
   "cell_type": "code",
   "execution_count": 138,
   "metadata": {},
   "outputs": [],
   "source": [
    "del dct['kinder surprise']"
   ]
  },
  {
   "cell_type": "code",
   "execution_count": 139,
   "metadata": {},
   "outputs": [
    {
     "data": {
      "text/plain": [
       "{'dark': 'Lindt', 'milk': 'Nestle', 'semi sweet': 'Milka'}"
      ]
     },
     "execution_count": 139,
     "metadata": {},
     "output_type": "execute_result"
    }
   ],
   "source": [
    "dct"
   ]
  },
  {
   "cell_type": "code",
   "execution_count": 140,
   "metadata": {},
   "outputs": [
    {
     "data": {
      "text/plain": [
       "'Nestle'"
      ]
     },
     "execution_count": 140,
     "metadata": {},
     "output_type": "execute_result"
    }
   ],
   "source": [
    "dct.pop('milk')"
   ]
  },
  {
   "cell_type": "code",
   "execution_count": 141,
   "metadata": {},
   "outputs": [
    {
     "data": {
      "text/plain": [
       "{'dark': 'Lindt', 'semi sweet': 'Milka'}"
      ]
     },
     "execution_count": 141,
     "metadata": {},
     "output_type": "execute_result"
    }
   ],
   "source": [
    "dct"
   ]
  },
  {
   "cell_type": "code",
   "execution_count": 142,
   "metadata": {},
   "outputs": [],
   "source": [
    "dct['nougat']=dct.pop('dark')"
   ]
  },
  {
   "cell_type": "code",
   "execution_count": 143,
   "metadata": {},
   "outputs": [
    {
     "data": {
      "text/plain": [
       "{'semi sweet': 'Milka', 'nougat': 'Lindt'}"
      ]
     },
     "execution_count": 143,
     "metadata": {},
     "output_type": "execute_result"
    }
   ],
   "source": [
    "dct"
   ]
  },
  {
   "cell_type": "code",
   "execution_count": 144,
   "metadata": {},
   "outputs": [],
   "source": [
    "dct.update({'semi sweet':'Catberry'})"
   ]
  },
  {
   "cell_type": "code",
   "execution_count": 145,
   "metadata": {},
   "outputs": [
    {
     "data": {
      "text/plain": [
       "{'semi sweet': 'Catberry', 'nougat': 'Lindt'}"
      ]
     },
     "execution_count": 145,
     "metadata": {},
     "output_type": "execute_result"
    }
   ],
   "source": [
    "dct"
   ]
  },
  {
   "cell_type": "code",
   "execution_count": 146,
   "metadata": {},
   "outputs": [
    {
     "data": {
      "text/plain": [
       "dict_keys(['semi sweet', 'nougat'])"
      ]
     },
     "execution_count": 146,
     "metadata": {},
     "output_type": "execute_result"
    }
   ],
   "source": [
    "dct.keys()"
   ]
  },
  {
   "cell_type": "code",
   "execution_count": 147,
   "metadata": {},
   "outputs": [
    {
     "data": {
      "text/plain": [
       "dict_values(['Catberry', 'Lindt'])"
      ]
     },
     "execution_count": 147,
     "metadata": {},
     "output_type": "execute_result"
    }
   ],
   "source": [
    "dct.values()"
   ]
  },
  {
   "cell_type": "code",
   "execution_count": 148,
   "metadata": {},
   "outputs": [
    {
     "data": {
      "text/plain": [
       "dict_items([('semi sweet', 'Catberry'), ('nougat', 'Lindt')])"
      ]
     },
     "execution_count": 148,
     "metadata": {},
     "output_type": "execute_result"
    }
   ],
   "source": [
    "dct.items()"
   ]
  },
  {
   "cell_type": "code",
   "execution_count": 149,
   "metadata": {},
   "outputs": [
    {
     "name": "stdout",
     "output_type": "stream",
     "text": [
      "semi sweet\n",
      "nougat\n"
     ]
    }
   ],
   "source": [
    "for i in dct:\n",
    "    print(i)"
   ]
  },
  {
   "cell_type": "code",
   "execution_count": 150,
   "metadata": {},
   "outputs": [
    {
     "name": "stdout",
     "output_type": "stream",
     "text": [
      "semi sweet\n",
      "nougat\n"
     ]
    }
   ],
   "source": [
    "for i in dct.keys():\n",
    "    print(i)"
   ]
  },
  {
   "cell_type": "code",
   "execution_count": 151,
   "metadata": {},
   "outputs": [
    {
     "name": "stdout",
     "output_type": "stream",
     "text": [
      "Catberry\n",
      "Lindt\n"
     ]
    }
   ],
   "source": [
    "for i in dct.values():\n",
    "    print(i)"
   ]
  },
  {
   "cell_type": "code",
   "execution_count": 152,
   "metadata": {},
   "outputs": [
    {
     "name": "stdout",
     "output_type": "stream",
     "text": [
      "('semi sweet', 'Catberry')\n",
      "('nougat', 'Lindt')\n"
     ]
    }
   ],
   "source": [
    "for i in dct.items():\n",
    "    print(i)"
   ]
  },
  {
   "cell_type": "code",
   "execution_count": 157,
   "metadata": {},
   "outputs": [
    {
     "name": "stdout",
     "output_type": "stream",
     "text": [
      "semi sweet Catberry\n",
      "nougat Lindt\n"
     ]
    }
   ],
   "source": [
    "for i,j in dct.items():\n",
    "    print(i,j)"
   ]
  },
  {
   "cell_type": "code",
   "execution_count": 158,
   "metadata": {},
   "outputs": [
    {
     "name": "stdout",
     "output_type": "stream",
     "text": [
      "The best brand for semi sweet chocolate is Catberry\n",
      "The best brand for nougat chocolate is Lindt\n"
     ]
    }
   ],
   "source": [
    "for i,j in dct.items():\n",
    "    print('The best brand for',i,'chocolate is',j)"
   ]
  },
  {
   "cell_type": "markdown",
   "metadata": {},
   "source": [
    "# Generators"
   ]
  },
  {
   "cell_type": "code",
   "execution_count": 1,
   "metadata": {},
   "outputs": [],
   "source": [
    "fruits=['apple','pineapple','mango','banana','pear']"
   ]
  },
  {
   "cell_type": "code",
   "execution_count": 2,
   "metadata": {},
   "outputs": [
    {
     "name": "stdout",
     "output_type": "stream",
     "text": [
      "apple\n",
      "pineapple\n",
      "pear\n"
     ]
    }
   ],
   "source": [
    "for fruit in fruits:\n",
    "    if 'e' in fruit:\n",
    "        print(fruit)"
   ]
  },
  {
   "cell_type": "code",
   "execution_count": 3,
   "metadata": {},
   "outputs": [
    {
     "data": {
      "text/plain": [
       "['apple', 'pineapple', 'pear']"
      ]
     },
     "execution_count": 3,
     "metadata": {},
     "output_type": "execute_result"
    }
   ],
   "source": [
    "lst=[]\n",
    "for fruit in fruits:\n",
    "    if 'e' in fruit:\n",
    "        lst.append(fruit)\n",
    "lst"
   ]
  },
  {
   "cell_type": "code",
   "execution_count": 4,
   "metadata": {},
   "outputs": [
    {
     "data": {
      "text/plain": [
       "<generator object <genexpr> at 0x7f49a7fd1450>"
      ]
     },
     "execution_count": 4,
     "metadata": {},
     "output_type": "execute_result"
    }
   ],
   "source": [
    "(fruit for fruit in fruits if 'e' in fruit)"
   ]
  },
  {
   "cell_type": "code",
   "execution_count": 5,
   "metadata": {},
   "outputs": [
    {
     "data": {
      "text/plain": [
       "['apple', 'pineapple', 'pear']"
      ]
     },
     "execution_count": 5,
     "metadata": {},
     "output_type": "execute_result"
    }
   ],
   "source": [
    "[fruit for fruit in fruits if 'e' in fruit]"
   ]
  },
  {
   "cell_type": "code",
   "execution_count": 6,
   "metadata": {},
   "outputs": [
    {
     "data": {
      "text/plain": [
       "{'apple', 'pear', 'pineapple'}"
      ]
     },
     "execution_count": 6,
     "metadata": {},
     "output_type": "execute_result"
    }
   ],
   "source": [
    "{fruit for fruit in fruits if 'e' in fruit}"
   ]
  },
  {
   "cell_type": "code",
   "execution_count": 7,
   "metadata": {},
   "outputs": [
    {
     "data": {
      "text/plain": [
       "('apple', 'pineapple', 'pear')"
      ]
     },
     "execution_count": 7,
     "metadata": {},
     "output_type": "execute_result"
    }
   ],
   "source": [
    "tuple(fruit for fruit in fruits if 'e' in fruit)"
   ]
  },
  {
   "cell_type": "markdown",
   "metadata": {},
   "source": [
    "```python\n",
    "what for what in list if filter\n",
    "```"
   ]
  },
  {
   "cell_type": "markdown",
   "metadata": {},
   "source": [
    "List of all even numbers from 0 to 20."
   ]
  },
  {
   "cell_type": "code",
   "execution_count": 8,
   "metadata": {},
   "outputs": [
    {
     "data": {
      "text/plain": [
       "[0, 2, 4, 6, 8, 10, 12, 14, 16, 18, 20]"
      ]
     },
     "execution_count": 8,
     "metadata": {},
     "output_type": "execute_result"
    }
   ],
   "source": [
    "lst2=[]\n",
    "for i in range(21):\n",
    "    if i%2==0:\n",
    "        lst2.append(i)\n",
    "lst2"
   ]
  },
  {
   "cell_type": "code",
   "execution_count": 9,
   "metadata": {},
   "outputs": [
    {
     "data": {
      "text/plain": [
       "[0, 2, 4, 6, 8, 10, 12, 14, 16, 18, 20]"
      ]
     },
     "execution_count": 9,
     "metadata": {},
     "output_type": "execute_result"
    }
   ],
   "source": [
    "[i for i in range(21) if i%2==0]"
   ]
  },
  {
   "cell_type": "code",
   "execution_count": 10,
   "metadata": {},
   "outputs": [
    {
     "data": {
      "text/plain": [
       "[0.0,\n",
       " 0.5,\n",
       " 1.0,\n",
       " 1.5,\n",
       " 2.0,\n",
       " 2.5,\n",
       " 3.0,\n",
       " 3.5,\n",
       " 4.0,\n",
       " 4.5,\n",
       " 5.0,\n",
       " 5.5,\n",
       " 6.0,\n",
       " 6.5,\n",
       " 7.0,\n",
       " 7.5,\n",
       " 8.0,\n",
       " 8.5,\n",
       " 9.0,\n",
       " 9.5,\n",
       " 10.0]"
      ]
     },
     "execution_count": 10,
     "metadata": {},
     "output_type": "execute_result"
    }
   ],
   "source": [
    "[i/2 for i in range(21)]"
   ]
  },
  {
   "cell_type": "code",
   "execution_count": 11,
   "metadata": {},
   "outputs": [],
   "source": [
    "lst_lst=[[0,1,2,3],[1,2,3],['yes','no']]"
   ]
  },
  {
   "cell_type": "markdown",
   "metadata": {},
   "source": [
    "Merge list of lists into 1 list"
   ]
  },
  {
   "cell_type": "code",
   "execution_count": 14,
   "metadata": {},
   "outputs": [
    {
     "data": {
      "text/plain": [
       "[0, 1, 2, 3, 1, 2, 3, 'yes', 'no']"
      ]
     },
     "execution_count": 14,
     "metadata": {},
     "output_type": "execute_result"
    }
   ],
   "source": [
    "lst3=[]\n",
    "for i in lst_lst:\n",
    "    for j in i:\n",
    "        lst3.append(j)\n",
    "lst3"
   ]
  },
  {
   "cell_type": "code",
   "execution_count": 16,
   "metadata": {},
   "outputs": [
    {
     "data": {
      "text/plain": [
       "[0, 1, 2, 3, 1, 2, 3, 'yes', 'no']"
      ]
     },
     "execution_count": 16,
     "metadata": {},
     "output_type": "execute_result"
    }
   ],
   "source": [
    "[j for i in lst_lst for j in i]"
   ]
  },
  {
   "cell_type": "code",
   "execution_count": 18,
   "metadata": {},
   "outputs": [
    {
     "ename": "NameError",
     "evalue": "name 'l' is not defined",
     "output_type": "error",
     "traceback": [
      "\u001b[0;31m---------------------------------------------------------------------------\u001b[0m",
      "\u001b[0;31mNameError\u001b[0m                                 Traceback (most recent call last)",
      "\u001b[0;32m<ipython-input-18-f1de2a7aeb34>\u001b[0m in \u001b[0;36m<module>\u001b[0;34m\u001b[0m\n\u001b[0;32m----> 1\u001b[0;31m \u001b[0;34m[\u001b[0m\u001b[0mk\u001b[0m \u001b[0;32mfor\u001b[0m \u001b[0mk\u001b[0m \u001b[0;32min\u001b[0m \u001b[0ml\u001b[0m \u001b[0;32mfor\u001b[0m \u001b[0ml\u001b[0m \u001b[0;32min\u001b[0m \u001b[0mlst_lst\u001b[0m\u001b[0;34m]\u001b[0m\u001b[0;34m\u001b[0m\u001b[0;34m\u001b[0m\u001b[0m\n\u001b[0m",
      "\u001b[0;31mNameError\u001b[0m: name 'l' is not defined"
     ]
    }
   ],
   "source": [
    "[k for k in l for l in lst_lst] # so, the order matters"
   ]
  },
  {
   "cell_type": "markdown",
   "metadata": {},
   "source": [
    "Create a list with text that is contained in the list of lists"
   ]
  },
  {
   "cell_type": "code",
   "execution_count": 20,
   "metadata": {},
   "outputs": [
    {
     "data": {
      "text/plain": [
       "['yes', 'no']"
      ]
     },
     "execution_count": 20,
     "metadata": {},
     "output_type": "execute_result"
    }
   ],
   "source": [
    "[k for l in lst_lst for k in l if type(k)==str] "
   ]
  },
  {
   "cell_type": "code",
   "execution_count": 21,
   "metadata": {},
   "outputs": [
    {
     "data": {
      "text/plain": [
       "['yes', 'no']"
      ]
     },
     "execution_count": 21,
     "metadata": {},
     "output_type": "execute_result"
    }
   ],
   "source": [
    "[k for l in lst_lst for k in l if isinstance(k, str)] "
   ]
  },
  {
   "cell_type": "markdown",
   "metadata": {},
   "source": [
    "If list has 3 elements substract 1; if list has 4 elements - power of 2; else - print as it is"
   ]
  },
  {
   "cell_type": "code",
   "execution_count": 22,
   "metadata": {},
   "outputs": [
    {
     "data": {
      "text/plain": [
       "[0, 1, 4, 9, 0, 1, 2, 'yes', 'no']"
      ]
     },
     "execution_count": 22,
     "metadata": {},
     "output_type": "execute_result"
    }
   ],
   "source": [
    "lst4=[]\n",
    "for i in lst_lst:\n",
    "    if len(i)==3:\n",
    "        for j in i:\n",
    "            lst4.append(j-1)\n",
    "    elif (len(i))==4:\n",
    "        for j in i:\n",
    "            lst4.append(j**2)\n",
    "    else:\n",
    "        for j in i:\n",
    "            lst4.append(j)\n",
    "lst4"
   ]
  },
  {
   "cell_type": "code",
   "execution_count": 23,
   "metadata": {},
   "outputs": [
    {
     "data": {
      "text/plain": [
       "[0, 1, 4, 9, 0, 1, 2, 'yes', 'no']"
      ]
     },
     "execution_count": 23,
     "metadata": {},
     "output_type": "execute_result"
    }
   ],
   "source": [
    "lst4=[]\n",
    "for i in lst_lst:\n",
    "    for j in i:\n",
    "        if len(i)==3:\n",
    "            lst4.append(j-1)\n",
    "        elif (len(i))==4:\n",
    "            lst4.append(j**2)\n",
    "        else:\n",
    "            lst4.append(j)\n",
    "lst4"
   ]
  },
  {
   "cell_type": "code",
   "execution_count": 24,
   "metadata": {},
   "outputs": [
    {
     "data": {
      "text/plain": [
       "[0, 1, 4, 9, 0, 1, 2, 'yes', 'no']"
      ]
     },
     "execution_count": 24,
     "metadata": {},
     "output_type": "execute_result"
    }
   ],
   "source": [
    "[j-1 if len(i)==3 else j**2 if len(i)==4 else j for i in lst_lst for j in i]"
   ]
  },
  {
   "cell_type": "markdown",
   "metadata": {},
   "source": [
    "list of unique values"
   ]
  },
  {
   "cell_type": "code",
   "execution_count": 27,
   "metadata": {},
   "outputs": [
    {
     "data": {
      "text/plain": [
       "[0, 1, 2, 3, 'yes', 'no']"
      ]
     },
     "execution_count": 27,
     "metadata": {},
     "output_type": "execute_result"
    }
   ],
   "source": [
    "list({j for i in lst_lst for j in i})"
   ]
  },
  {
   "cell_type": "code",
   "execution_count": 34,
   "metadata": {},
   "outputs": [
    {
     "data": {
      "text/plain": [
       "[0, 1, 2, 3, 1, 2, 3, 'yes', 'no']"
      ]
     },
     "execution_count": 34,
     "metadata": {},
     "output_type": "execute_result"
    }
   ],
   "source": [
    "lst3"
   ]
  },
  {
   "cell_type": "code",
   "execution_count": 35,
   "metadata": {},
   "outputs": [
    {
     "name": "stdout",
     "output_type": "stream",
     "text": [
      "0 1\n",
      "1 2\n",
      "2 2\n",
      "3 2\n",
      "1 2\n",
      "2 2\n",
      "3 2\n",
      "yes 1\n",
      "no 1\n"
     ]
    }
   ],
   "source": [
    "for i in lst3:\n",
    "    print(i, lst3.count(i)) #values are repeated"
   ]
  },
  {
   "cell_type": "code",
   "execution_count": 36,
   "metadata": {},
   "outputs": [
    {
     "name": "stdout",
     "output_type": "stream",
     "text": [
      "0 1\n",
      "1 2\n",
      "2 2\n",
      "3 2\n",
      "yes 1\n",
      "no 1\n"
     ]
    }
   ],
   "source": [
    "for i in set(lst3):\n",
    "    print(i, lst3.count(i))"
   ]
  },
  {
   "cell_type": "code",
   "execution_count": 37,
   "metadata": {},
   "outputs": [
    {
     "data": {
      "text/plain": [
       "{0: 1, 1: 2, 2: 2, 3: 2, 'yes': 1, 'no': 1}"
      ]
     },
     "execution_count": 37,
     "metadata": {},
     "output_type": "execute_result"
    }
   ],
   "source": [
    "{i:lst3.count(i) for i in set(lst3)}"
   ]
  },
  {
   "cell_type": "markdown",
   "metadata": {},
   "source": [
    "# Text analysis\n",
    "\n",
    "Get the frequency of every letter in a song."
   ]
  },
  {
   "cell_type": "code",
   "execution_count": 38,
   "metadata": {},
   "outputs": [],
   "source": [
    "lyrics=\"\"\"Tonight, I'm gonna have myself a real good time\n",
    "I feel alive and the world I'll turn it inside out, yeah\n",
    "And floating around in ecstasy\n",
    "So don't stop me now don't stop me\n",
    "'Cause I'm having a good time, having a good time\n",
    "I'm a shooting star, leaping through the sky\n",
    "Like a tiger defying the laws of gravity\n",
    "I'm a racing car, passing by like Lady Godiva\n",
    "I'm gonna go, go, go\n",
    "There's no stopping me\n",
    "I'm burnin' through the sky, yeah\n",
    "Two hundred degrees\n",
    "That's why they call me Mister Fahrenheit\n",
    "I'm traveling at the speed of light\n",
    "I wanna make a supersonic man out of you\n",
    "Don't stop me now, I'm having such a good time\n",
    "I'm having a ball\n",
    "Don't stop me now\n",
    "If you wanna have a good time, just give me a call\n",
    "Don't stop me now ('cause I'm having a good time)\n",
    "Don't stop me now (yes, I'm havin' a good time)\n",
    "I don't want to stop at all\n",
    "Yeah, I'm a rocket ship on my way to Mars\n",
    "On a collision course\n",
    "I am a satellite, I'm out of control\n",
    "I am a sex machine, ready to reload\n",
    "Like an atom bomb about to\n",
    "Oh, oh, oh, oh, oh explode\n",
    "I'm burnin' through the sky, yeah\n",
    "Two hundred degrees\n",
    "That's why they call me Mister Fahrenheit\n",
    "I'm traveling at the speed of light\n",
    "I wanna make a supersonic woman of you\n",
    "Don't stop me, don't stop me\n",
    "Don't stop me, hey, hey, hey\n",
    "Don't stop me, don't stop me\n",
    "Ooh ooh ooh, I like it\n",
    "Don't stop me, don't stop me\n",
    "Have a good time, good time\n",
    "Don't stop me, don't stop me, ah\n",
    "Oh yeah\n",
    "Alright\n",
    "Oh, I'm burnin' through the sky, yeah\n",
    "Two hundred degrees\n",
    "That's why they call me Mister Fahrenheit\n",
    "I'm traveling at the speed of light\n",
    "I wanna make a supersonic man out of you\n",
    "Don't stop me now, I'm having such a good time\n",
    "I'm having a ball\n",
    "Don't stop me now\n",
    "If you wanna have a good time (wooh)\n",
    "Just give me a call (alright)\n",
    "Don't stop me now ('cause I'm having a good time, yeah yeah)\n",
    "Don't stop me now (yes, I'm havin' a good time)\n",
    "I don't want to stop at all\n",
    "La da da da daah\n",
    "Da da da haa\n",
    "Ha da da ha ha haaa\n",
    "Ha da daa ha da da aaa\n",
    "Ooh ooh ooh\"\"\""
   ]
  },
  {
   "cell_type": "code",
   "execution_count": 41,
   "metadata": {
    "collapsed": true
   },
   "outputs": [
    {
     "data": {
      "text/plain": [
       "{'S': 1,\n",
       " 'O': 6,\n",
       " '(': 6,\n",
       " 'y': 36,\n",
       " ',': 34,\n",
       " 'G': 1,\n",
       " 'p': 33,\n",
       " 'i': 71,\n",
       " 'v': 22,\n",
       " 'n': 98,\n",
       " 'e': 134,\n",
       " 'f': 14,\n",
       " 'I': 33,\n",
       " 'x': 2,\n",
       " 'j': 1,\n",
       " \"'\": 55,\n",
       " 'g': 53,\n",
       " 'o': 153,\n",
       " 'T': 8,\n",
       " 'c': 20,\n",
       " 'd': 56,\n",
       " 'l': 45,\n",
       " 'h': 92,\n",
       " 'u': 33,\n",
       " ' ': 345,\n",
       " 'r': 43,\n",
       " 't': 123,\n",
       " 'a': 151,\n",
       " ')': 6,\n",
       " 'D': 14,\n",
       " 'H': 3,\n",
       " 'F': 3,\n",
       " 'w': 27,\n",
       " 's': 69,\n",
       " 'J': 1,\n",
       " 'M': 4,\n",
       " '\\n': 59,\n",
       " 'k': 12,\n",
       " 'm': 72,\n",
       " 'L': 4,\n",
       " 'C': 1,\n",
       " 'A': 2,\n",
       " 'b': 9,\n",
       " 'Y': 1}"
      ]
     },
     "execution_count": 41,
     "metadata": {},
     "output_type": "execute_result"
    }
   ],
   "source": [
    "#{i:lst3.count(i) for i in set(lst3)}\n",
    "\n",
    "{i:lyrics.count(i) for i in set(lyrics)}"
   ]
  },
  {
   "cell_type": "code",
   "execution_count": 42,
   "metadata": {
    "collapsed": true
   },
   "outputs": [
    {
     "data": {
      "text/plain": [
       "{'(': 6,\n",
       " 'y': 37,\n",
       " ',': 34,\n",
       " 'p': 33,\n",
       " 'i': 104,\n",
       " 'v': 22,\n",
       " 'n': 98,\n",
       " 'e': 134,\n",
       " 'f': 17,\n",
       " 'x': 2,\n",
       " 'j': 2,\n",
       " \"'\": 55,\n",
       " 'g': 54,\n",
       " 'o': 159,\n",
       " 'c': 21,\n",
       " 'd': 70,\n",
       " 'l': 49,\n",
       " 'h': 95,\n",
       " 'u': 33,\n",
       " ' ': 345,\n",
       " 'r': 43,\n",
       " 't': 131,\n",
       " 'a': 153,\n",
       " ')': 6,\n",
       " 'w': 27,\n",
       " 's': 70,\n",
       " '\\n': 59,\n",
       " 'k': 12,\n",
       " 'm': 76,\n",
       " 'b': 9}"
      ]
     },
     "execution_count": 42,
     "metadata": {},
     "output_type": "execute_result"
    }
   ],
   "source": [
    "{i:lyrics.lower().count(i) for i in set(lyrics.lower())}"
   ]
  },
  {
   "cell_type": "code",
   "execution_count": 43,
   "metadata": {},
   "outputs": [],
   "source": [
    "import os"
   ]
  },
  {
   "cell_type": "code",
   "execution_count": 44,
   "metadata": {},
   "outputs": [
    {
     "data": {
      "text/plain": [
       "'/home/mauritian/Documents/June 2020/Week1'"
      ]
     },
     "execution_count": 44,
     "metadata": {},
     "output_type": "execute_result"
    }
   ],
   "source": [
    "os.getcwd() # get current working directory"
   ]
  },
  {
   "cell_type": "code",
   "execution_count": 45,
   "metadata": {},
   "outputs": [
    {
     "data": {
      "text/plain": [
       "['.ipynb_checkpoints', 'Day2.ipynb']"
      ]
     },
     "execution_count": 45,
     "metadata": {},
     "output_type": "execute_result"
    }
   ],
   "source": [
    "os.listdir() #list all the files in the directory"
   ]
  },
  {
   "cell_type": "code",
   "execution_count": 46,
   "metadata": {},
   "outputs": [],
   "source": [
    "os.chdir('..') # change directory"
   ]
  },
  {
   "cell_type": "code",
   "execution_count": 47,
   "metadata": {},
   "outputs": [
    {
     "data": {
      "text/plain": [
       "'/home/mauritian/Documents/June 2020'"
      ]
     },
     "execution_count": 47,
     "metadata": {},
     "output_type": "execute_result"
    }
   ],
   "source": [
    "os.getcwd()"
   ]
  },
  {
   "cell_type": "code",
   "execution_count": 48,
   "metadata": {},
   "outputs": [
    {
     "data": {
      "text/plain": [
       "['.ipynb_checkpoints', 'Week1']"
      ]
     },
     "execution_count": 48,
     "metadata": {},
     "output_type": "execute_result"
    }
   ],
   "source": [
    "os.listdir()"
   ]
  },
  {
   "cell_type": "code",
   "execution_count": 49,
   "metadata": {},
   "outputs": [],
   "source": [
    "os.chdir('./Week1')"
   ]
  },
  {
   "cell_type": "code",
   "execution_count": 50,
   "metadata": {},
   "outputs": [
    {
     "data": {
      "text/plain": [
       "['.ipynb_checkpoints', 'Day2.ipynb']"
      ]
     },
     "execution_count": 50,
     "metadata": {},
     "output_type": "execute_result"
    }
   ],
   "source": [
    "os.listdir()"
   ]
  },
  {
   "cell_type": "code",
   "execution_count": 51,
   "metadata": {},
   "outputs": [],
   "source": [
    "os.chdir('/home/mauritian/Documents/Git/')"
   ]
  },
  {
   "cell_type": "code",
   "execution_count": 52,
   "metadata": {},
   "outputs": [
    {
     "data": {
      "text/plain": [
       "'/home/mauritian/Documents/Git'"
      ]
     },
     "execution_count": 52,
     "metadata": {},
     "output_type": "execute_result"
    }
   ],
   "source": [
    "os.getcwd()"
   ]
  },
  {
   "cell_type": "code",
   "execution_count": 53,
   "metadata": {},
   "outputs": [],
   "source": [
    "os.chdir('./data-labs/module-1/lab-list-comprehensions/')"
   ]
  },
  {
   "cell_type": "code",
   "execution_count": 54,
   "metadata": {},
   "outputs": [
    {
     "data": {
      "text/plain": [
       "['data', 'README.md', 'your-code']"
      ]
     },
     "execution_count": 54,
     "metadata": {},
     "output_type": "execute_result"
    }
   ],
   "source": [
    "os.listdir()"
   ]
  },
  {
   "cell_type": "code",
   "execution_count": 55,
   "metadata": {},
   "outputs": [],
   "source": [
    "os.chdir('./data')"
   ]
  },
  {
   "cell_type": "code",
   "execution_count": 56,
   "metadata": {},
   "outputs": [
    {
     "data": {
      "text/plain": [
       "['sample_file_5.txt',\n",
       " 'sample_file_0.txt',\n",
       " 'sample_file_3.txt',\n",
       " 'sample_file_9.csv',\n",
       " 'sample_file_3.csv',\n",
       " 'sample_file_7.csv',\n",
       " 'sample_file_4.csv',\n",
       " 'sample_file_9.txt',\n",
       " 'sample_file_7.txt',\n",
       " 'sample_file_2.txt',\n",
       " 'sample_file_8.txt',\n",
       " 'sample_file_0.csv',\n",
       " 'sample_file_6.txt',\n",
       " 'sample_file_1.txt',\n",
       " 'sample_file_8.csv',\n",
       " 'sample_file_4.txt',\n",
       " 'sample_file_1.csv',\n",
       " 'sample_file_5.csv',\n",
       " 'sample_file_2.csv',\n",
       " 'sample_file_6.csv']"
      ]
     },
     "execution_count": 56,
     "metadata": {},
     "output_type": "execute_result"
    }
   ],
   "source": [
    "os.listdir()"
   ]
  },
  {
   "cell_type": "code",
   "execution_count": 58,
   "metadata": {},
   "outputs": [],
   "source": [
    "list_of_files_to_open=[file for file in os.listdir() if file.endswith('csv')]"
   ]
  },
  {
   "cell_type": "code",
   "execution_count": 59,
   "metadata": {},
   "outputs": [],
   "source": [
    "import pandas as pd"
   ]
  },
  {
   "cell_type": "code",
   "execution_count": 60,
   "metadata": {},
   "outputs": [
    {
     "data": {
      "text/html": [
       "<div>\n",
       "<style scoped>\n",
       "    .dataframe tbody tr th:only-of-type {\n",
       "        vertical-align: middle;\n",
       "    }\n",
       "\n",
       "    .dataframe tbody tr th {\n",
       "        vertical-align: top;\n",
       "    }\n",
       "\n",
       "    .dataframe thead th {\n",
       "        text-align: right;\n",
       "    }\n",
       "</style>\n",
       "<table border=\"1\" class=\"dataframe\">\n",
       "  <thead>\n",
       "    <tr style=\"text-align: right;\">\n",
       "      <th></th>\n",
       "      <th>0</th>\n",
       "      <th>1</th>\n",
       "      <th>2</th>\n",
       "      <th>3</th>\n",
       "      <th>4</th>\n",
       "      <th>5</th>\n",
       "      <th>6</th>\n",
       "      <th>7</th>\n",
       "      <th>8</th>\n",
       "      <th>9</th>\n",
       "      <th>10</th>\n",
       "      <th>11</th>\n",
       "      <th>12</th>\n",
       "      <th>13</th>\n",
       "      <th>14</th>\n",
       "      <th>15</th>\n",
       "      <th>16</th>\n",
       "      <th>17</th>\n",
       "      <th>18</th>\n",
       "      <th>19</th>\n",
       "    </tr>\n",
       "  </thead>\n",
       "  <tbody>\n",
       "    <tr>\n",
       "      <th>0</th>\n",
       "      <td>0.702566</td>\n",
       "      <td>0.092336</td>\n",
       "      <td>0.245083</td>\n",
       "      <td>0.918402</td>\n",
       "      <td>0.695110</td>\n",
       "      <td>0.886921</td>\n",
       "      <td>0.588605</td>\n",
       "      <td>0.950970</td>\n",
       "      <td>0.168079</td>\n",
       "      <td>0.783107</td>\n",
       "      <td>0.698836</td>\n",
       "      <td>0.120857</td>\n",
       "      <td>0.207432</td>\n",
       "      <td>0.824789</td>\n",
       "      <td>0.349212</td>\n",
       "      <td>0.818606</td>\n",
       "      <td>0.376941</td>\n",
       "      <td>0.886644</td>\n",
       "      <td>0.472826</td>\n",
       "      <td>0.551858</td>\n",
       "    </tr>\n",
       "    <tr>\n",
       "      <th>1</th>\n",
       "      <td>0.177005</td>\n",
       "      <td>0.649551</td>\n",
       "      <td>0.467321</td>\n",
       "      <td>0.449597</td>\n",
       "      <td>0.458872</td>\n",
       "      <td>0.815586</td>\n",
       "      <td>0.455132</td>\n",
       "      <td>0.729812</td>\n",
       "      <td>0.998528</td>\n",
       "      <td>0.048724</td>\n",
       "      <td>0.377391</td>\n",
       "      <td>0.729498</td>\n",
       "      <td>0.721515</td>\n",
       "      <td>0.566724</td>\n",
       "      <td>0.338366</td>\n",
       "      <td>0.877239</td>\n",
       "      <td>0.129824</td>\n",
       "      <td>0.773155</td>\n",
       "      <td>0.485385</td>\n",
       "      <td>0.686294</td>\n",
       "    </tr>\n",
       "    <tr>\n",
       "      <th>2</th>\n",
       "      <td>0.689556</td>\n",
       "      <td>0.445586</td>\n",
       "      <td>0.005691</td>\n",
       "      <td>0.150171</td>\n",
       "      <td>0.554146</td>\n",
       "      <td>0.492320</td>\n",
       "      <td>0.185612</td>\n",
       "      <td>0.060855</td>\n",
       "      <td>0.457443</td>\n",
       "      <td>0.847337</td>\n",
       "      <td>0.603072</td>\n",
       "      <td>0.346574</td>\n",
       "      <td>0.898464</td>\n",
       "      <td>0.482963</td>\n",
       "      <td>0.443979</td>\n",
       "      <td>0.430132</td>\n",
       "      <td>0.713078</td>\n",
       "      <td>0.302786</td>\n",
       "      <td>0.051382</td>\n",
       "      <td>0.203699</td>\n",
       "    </tr>\n",
       "    <tr>\n",
       "      <th>3</th>\n",
       "      <td>0.047188</td>\n",
       "      <td>0.854596</td>\n",
       "      <td>0.833368</td>\n",
       "      <td>0.043878</td>\n",
       "      <td>0.883505</td>\n",
       "      <td>0.786302</td>\n",
       "      <td>0.980916</td>\n",
       "      <td>0.004030</td>\n",
       "      <td>0.619601</td>\n",
       "      <td>0.547769</td>\n",
       "      <td>0.160962</td>\n",
       "      <td>0.545281</td>\n",
       "      <td>0.931623</td>\n",
       "      <td>0.991855</td>\n",
       "      <td>0.821099</td>\n",
       "      <td>0.654592</td>\n",
       "      <td>0.346710</td>\n",
       "      <td>0.183948</td>\n",
       "      <td>0.372739</td>\n",
       "      <td>0.739383</td>\n",
       "    </tr>\n",
       "    <tr>\n",
       "      <th>4</th>\n",
       "      <td>0.936065</td>\n",
       "      <td>0.725831</td>\n",
       "      <td>0.184239</td>\n",
       "      <td>0.677391</td>\n",
       "      <td>0.242726</td>\n",
       "      <td>0.125457</td>\n",
       "      <td>0.356254</td>\n",
       "      <td>0.937350</td>\n",
       "      <td>0.215774</td>\n",
       "      <td>0.212762</td>\n",
       "      <td>0.483018</td>\n",
       "      <td>0.573162</td>\n",
       "      <td>0.634487</td>\n",
       "      <td>0.423924</td>\n",
       "      <td>0.394633</td>\n",
       "      <td>0.766967</td>\n",
       "      <td>0.606719</td>\n",
       "      <td>0.538712</td>\n",
       "      <td>0.885516</td>\n",
       "      <td>0.667051</td>\n",
       "    </tr>\n",
       "  </tbody>\n",
       "</table>\n",
       "</div>"
      ],
      "text/plain": [
       "          0         1         2         3         4         5         6  \\\n",
       "0  0.702566  0.092336  0.245083  0.918402  0.695110  0.886921  0.588605   \n",
       "1  0.177005  0.649551  0.467321  0.449597  0.458872  0.815586  0.455132   \n",
       "2  0.689556  0.445586  0.005691  0.150171  0.554146  0.492320  0.185612   \n",
       "3  0.047188  0.854596  0.833368  0.043878  0.883505  0.786302  0.980916   \n",
       "4  0.936065  0.725831  0.184239  0.677391  0.242726  0.125457  0.356254   \n",
       "\n",
       "          7         8         9        10        11        12        13  \\\n",
       "0  0.950970  0.168079  0.783107  0.698836  0.120857  0.207432  0.824789   \n",
       "1  0.729812  0.998528  0.048724  0.377391  0.729498  0.721515  0.566724   \n",
       "2  0.060855  0.457443  0.847337  0.603072  0.346574  0.898464  0.482963   \n",
       "3  0.004030  0.619601  0.547769  0.160962  0.545281  0.931623  0.991855   \n",
       "4  0.937350  0.215774  0.212762  0.483018  0.573162  0.634487  0.423924   \n",
       "\n",
       "         14        15        16        17        18        19  \n",
       "0  0.349212  0.818606  0.376941  0.886644  0.472826  0.551858  \n",
       "1  0.338366  0.877239  0.129824  0.773155  0.485385  0.686294  \n",
       "2  0.443979  0.430132  0.713078  0.302786  0.051382  0.203699  \n",
       "3  0.821099  0.654592  0.346710  0.183948  0.372739  0.739383  \n",
       "4  0.394633  0.766967  0.606719  0.538712  0.885516  0.667051  "
      ]
     },
     "execution_count": 60,
     "metadata": {},
     "output_type": "execute_result"
    }
   ],
   "source": [
    "pd.read_csv('sample_file_6.csv')"
   ]
  },
  {
   "cell_type": "code",
   "execution_count": 62,
   "metadata": {},
   "outputs": [],
   "source": [
    "lof=[pd.read_csv(file) for file in list_of_files_to_open]"
   ]
  },
  {
   "cell_type": "code",
   "execution_count": 64,
   "metadata": {},
   "outputs": [
    {
     "data": {
      "text/html": [
       "<div>\n",
       "<style scoped>\n",
       "    .dataframe tbody tr th:only-of-type {\n",
       "        vertical-align: middle;\n",
       "    }\n",
       "\n",
       "    .dataframe tbody tr th {\n",
       "        vertical-align: top;\n",
       "    }\n",
       "\n",
       "    .dataframe thead th {\n",
       "        text-align: right;\n",
       "    }\n",
       "</style>\n",
       "<table border=\"1\" class=\"dataframe\">\n",
       "  <thead>\n",
       "    <tr style=\"text-align: right;\">\n",
       "      <th></th>\n",
       "      <th>0</th>\n",
       "      <th>1</th>\n",
       "      <th>2</th>\n",
       "      <th>3</th>\n",
       "      <th>4</th>\n",
       "      <th>5</th>\n",
       "      <th>6</th>\n",
       "      <th>7</th>\n",
       "      <th>8</th>\n",
       "      <th>9</th>\n",
       "      <th>10</th>\n",
       "      <th>11</th>\n",
       "      <th>12</th>\n",
       "      <th>13</th>\n",
       "      <th>14</th>\n",
       "      <th>15</th>\n",
       "      <th>16</th>\n",
       "      <th>17</th>\n",
       "      <th>18</th>\n",
       "      <th>19</th>\n",
       "    </tr>\n",
       "  </thead>\n",
       "  <tbody>\n",
       "    <tr>\n",
       "      <th>0</th>\n",
       "      <td>0.376101</td>\n",
       "      <td>0.896590</td>\n",
       "      <td>0.500995</td>\n",
       "      <td>0.381416</td>\n",
       "      <td>0.447730</td>\n",
       "      <td>0.048472</td>\n",
       "      <td>0.094235</td>\n",
       "      <td>0.986890</td>\n",
       "      <td>0.582352</td>\n",
       "      <td>0.037230</td>\n",
       "      <td>0.130306</td>\n",
       "      <td>0.766153</td>\n",
       "      <td>0.153783</td>\n",
       "      <td>0.199140</td>\n",
       "      <td>0.330318</td>\n",
       "      <td>0.969657</td>\n",
       "      <td>0.110998</td>\n",
       "      <td>0.033474</td>\n",
       "      <td>0.117277</td>\n",
       "      <td>0.213938</td>\n",
       "    </tr>\n",
       "    <tr>\n",
       "      <th>1</th>\n",
       "      <td>0.498192</td>\n",
       "      <td>0.565500</td>\n",
       "      <td>0.152394</td>\n",
       "      <td>0.284232</td>\n",
       "      <td>0.557042</td>\n",
       "      <td>0.417095</td>\n",
       "      <td>0.663465</td>\n",
       "      <td>0.158188</td>\n",
       "      <td>0.039182</td>\n",
       "      <td>0.543442</td>\n",
       "      <td>0.521210</td>\n",
       "      <td>0.993481</td>\n",
       "      <td>0.580359</td>\n",
       "      <td>0.765757</td>\n",
       "      <td>0.931264</td>\n",
       "      <td>0.336841</td>\n",
       "      <td>0.271230</td>\n",
       "      <td>0.509798</td>\n",
       "      <td>0.877048</td>\n",
       "      <td>0.310951</td>\n",
       "    </tr>\n",
       "    <tr>\n",
       "      <th>2</th>\n",
       "      <td>0.635284</td>\n",
       "      <td>0.247512</td>\n",
       "      <td>0.179986</td>\n",
       "      <td>0.468231</td>\n",
       "      <td>0.911799</td>\n",
       "      <td>0.764209</td>\n",
       "      <td>0.941413</td>\n",
       "      <td>0.808370</td>\n",
       "      <td>0.578024</td>\n",
       "      <td>0.181267</td>\n",
       "      <td>0.064788</td>\n",
       "      <td>0.924226</td>\n",
       "      <td>0.070744</td>\n",
       "      <td>0.704575</td>\n",
       "      <td>0.948127</td>\n",
       "      <td>0.971452</td>\n",
       "      <td>0.360861</td>\n",
       "      <td>0.074394</td>\n",
       "      <td>0.386949</td>\n",
       "      <td>0.396453</td>\n",
       "    </tr>\n",
       "    <tr>\n",
       "      <th>3</th>\n",
       "      <td>0.647497</td>\n",
       "      <td>0.072412</td>\n",
       "      <td>0.681403</td>\n",
       "      <td>0.977189</td>\n",
       "      <td>0.690953</td>\n",
       "      <td>0.829347</td>\n",
       "      <td>0.236915</td>\n",
       "      <td>0.406938</td>\n",
       "      <td>0.898234</td>\n",
       "      <td>0.513575</td>\n",
       "      <td>0.532473</td>\n",
       "      <td>0.790312</td>\n",
       "      <td>0.082292</td>\n",
       "      <td>0.850821</td>\n",
       "      <td>0.088025</td>\n",
       "      <td>0.289218</td>\n",
       "      <td>0.822775</td>\n",
       "      <td>0.515933</td>\n",
       "      <td>0.962827</td>\n",
       "      <td>0.026952</td>\n",
       "    </tr>\n",
       "    <tr>\n",
       "      <th>4</th>\n",
       "      <td>0.170792</td>\n",
       "      <td>0.586900</td>\n",
       "      <td>0.029834</td>\n",
       "      <td>0.921923</td>\n",
       "      <td>0.090727</td>\n",
       "      <td>0.592746</td>\n",
       "      <td>0.972429</td>\n",
       "      <td>0.774760</td>\n",
       "      <td>0.293800</td>\n",
       "      <td>0.956949</td>\n",
       "      <td>0.811740</td>\n",
       "      <td>0.525562</td>\n",
       "      <td>0.454788</td>\n",
       "      <td>0.848812</td>\n",
       "      <td>0.095214</td>\n",
       "      <td>0.415311</td>\n",
       "      <td>0.026496</td>\n",
       "      <td>0.513342</td>\n",
       "      <td>0.830389</td>\n",
       "      <td>0.931145</td>\n",
       "    </tr>\n",
       "  </tbody>\n",
       "</table>\n",
       "</div>"
      ],
      "text/plain": [
       "          0         1         2         3         4         5         6  \\\n",
       "0  0.376101  0.896590  0.500995  0.381416  0.447730  0.048472  0.094235   \n",
       "1  0.498192  0.565500  0.152394  0.284232  0.557042  0.417095  0.663465   \n",
       "2  0.635284  0.247512  0.179986  0.468231  0.911799  0.764209  0.941413   \n",
       "3  0.647497  0.072412  0.681403  0.977189  0.690953  0.829347  0.236915   \n",
       "4  0.170792  0.586900  0.029834  0.921923  0.090727  0.592746  0.972429   \n",
       "\n",
       "          7         8         9        10        11        12        13  \\\n",
       "0  0.986890  0.582352  0.037230  0.130306  0.766153  0.153783  0.199140   \n",
       "1  0.158188  0.039182  0.543442  0.521210  0.993481  0.580359  0.765757   \n",
       "2  0.808370  0.578024  0.181267  0.064788  0.924226  0.070744  0.704575   \n",
       "3  0.406938  0.898234  0.513575  0.532473  0.790312  0.082292  0.850821   \n",
       "4  0.774760  0.293800  0.956949  0.811740  0.525562  0.454788  0.848812   \n",
       "\n",
       "         14        15        16        17        18        19  \n",
       "0  0.330318  0.969657  0.110998  0.033474  0.117277  0.213938  \n",
       "1  0.931264  0.336841  0.271230  0.509798  0.877048  0.310951  \n",
       "2  0.948127  0.971452  0.360861  0.074394  0.386949  0.396453  \n",
       "3  0.088025  0.289218  0.822775  0.515933  0.962827  0.026952  \n",
       "4  0.095214  0.415311  0.026496  0.513342  0.830389  0.931145  "
      ]
     },
     "execution_count": 64,
     "metadata": {},
     "output_type": "execute_result"
    }
   ],
   "source": [
    "lof[1]"
   ]
  },
  {
   "cell_type": "code",
   "execution_count": 69,
   "metadata": {},
   "outputs": [
    {
     "data": {
      "text/html": [
       "<div>\n",
       "<style scoped>\n",
       "    .dataframe tbody tr th:only-of-type {\n",
       "        vertical-align: middle;\n",
       "    }\n",
       "\n",
       "    .dataframe tbody tr th {\n",
       "        vertical-align: top;\n",
       "    }\n",
       "\n",
       "    .dataframe thead th {\n",
       "        text-align: right;\n",
       "    }\n",
       "</style>\n",
       "<table border=\"1\" class=\"dataframe\">\n",
       "  <thead>\n",
       "    <tr style=\"text-align: right;\">\n",
       "      <th></th>\n",
       "      <th>0</th>\n",
       "      <th>1</th>\n",
       "      <th>2</th>\n",
       "      <th>3</th>\n",
       "      <th>4</th>\n",
       "      <th>5</th>\n",
       "      <th>6</th>\n",
       "      <th>7</th>\n",
       "      <th>8</th>\n",
       "      <th>9</th>\n",
       "      <th>10</th>\n",
       "      <th>11</th>\n",
       "      <th>12</th>\n",
       "      <th>13</th>\n",
       "      <th>14</th>\n",
       "      <th>15</th>\n",
       "      <th>16</th>\n",
       "      <th>17</th>\n",
       "      <th>18</th>\n",
       "      <th>19</th>\n",
       "    </tr>\n",
       "  </thead>\n",
       "  <tbody>\n",
       "    <tr>\n",
       "      <th>0</th>\n",
       "      <td>0.132453</td>\n",
       "      <td>0.106635</td>\n",
       "      <td>0.673568</td>\n",
       "      <td>0.507253</td>\n",
       "      <td>0.162925</td>\n",
       "      <td>0.130042</td>\n",
       "      <td>0.980388</td>\n",
       "      <td>0.623167</td>\n",
       "      <td>0.074066</td>\n",
       "      <td>0.111557</td>\n",
       "      <td>0.864664</td>\n",
       "      <td>0.093637</td>\n",
       "      <td>0.446974</td>\n",
       "      <td>0.022525</td>\n",
       "      <td>0.713369</td>\n",
       "      <td>0.707874</td>\n",
       "      <td>0.563506</td>\n",
       "      <td>0.982256</td>\n",
       "      <td>0.562498</td>\n",
       "      <td>0.968681</td>\n",
       "    </tr>\n",
       "    <tr>\n",
       "      <th>1</th>\n",
       "      <td>0.384938</td>\n",
       "      <td>0.767604</td>\n",
       "      <td>0.850528</td>\n",
       "      <td>0.605998</td>\n",
       "      <td>0.826172</td>\n",
       "      <td>0.667488</td>\n",
       "      <td>0.142045</td>\n",
       "      <td>0.086904</td>\n",
       "      <td>0.912348</td>\n",
       "      <td>0.892183</td>\n",
       "      <td>0.426389</td>\n",
       "      <td>0.776552</td>\n",
       "      <td>0.429496</td>\n",
       "      <td>0.602056</td>\n",
       "      <td>0.283769</td>\n",
       "      <td>0.166793</td>\n",
       "      <td>0.316878</td>\n",
       "      <td>0.688337</td>\n",
       "      <td>0.169525</td>\n",
       "      <td>0.966198</td>\n",
       "    </tr>\n",
       "    <tr>\n",
       "      <th>2</th>\n",
       "      <td>0.318691</td>\n",
       "      <td>0.675720</td>\n",
       "      <td>0.807189</td>\n",
       "      <td>0.752518</td>\n",
       "      <td>0.531342</td>\n",
       "      <td>0.703225</td>\n",
       "      <td>0.598293</td>\n",
       "      <td>0.921508</td>\n",
       "      <td>0.563333</td>\n",
       "      <td>0.184300</td>\n",
       "      <td>0.667625</td>\n",
       "      <td>0.270017</td>\n",
       "      <td>0.573440</td>\n",
       "      <td>0.163669</td>\n",
       "      <td>0.032852</td>\n",
       "      <td>0.689315</td>\n",
       "      <td>0.973684</td>\n",
       "      <td>0.719610</td>\n",
       "      <td>0.163670</td>\n",
       "      <td>0.724486</td>\n",
       "    </tr>\n",
       "    <tr>\n",
       "      <th>3</th>\n",
       "      <td>0.538593</td>\n",
       "      <td>0.291241</td>\n",
       "      <td>0.407187</td>\n",
       "      <td>0.613260</td>\n",
       "      <td>0.851424</td>\n",
       "      <td>0.962086</td>\n",
       "      <td>0.590512</td>\n",
       "      <td>0.980700</td>\n",
       "      <td>0.159022</td>\n",
       "      <td>0.684265</td>\n",
       "      <td>0.898633</td>\n",
       "      <td>0.470113</td>\n",
       "      <td>0.756593</td>\n",
       "      <td>0.282408</td>\n",
       "      <td>0.551369</td>\n",
       "      <td>0.732153</td>\n",
       "      <td>0.494100</td>\n",
       "      <td>0.792803</td>\n",
       "      <td>0.794426</td>\n",
       "      <td>0.837695</td>\n",
       "    </tr>\n",
       "    <tr>\n",
       "      <th>4</th>\n",
       "      <td>0.713271</td>\n",
       "      <td>0.156210</td>\n",
       "      <td>0.392800</td>\n",
       "      <td>0.702348</td>\n",
       "      <td>0.009400</td>\n",
       "      <td>0.030304</td>\n",
       "      <td>0.960066</td>\n",
       "      <td>0.688937</td>\n",
       "      <td>0.260252</td>\n",
       "      <td>0.634608</td>\n",
       "      <td>0.273775</td>\n",
       "      <td>0.264145</td>\n",
       "      <td>0.682941</td>\n",
       "      <td>0.908499</td>\n",
       "      <td>0.450950</td>\n",
       "      <td>0.200761</td>\n",
       "      <td>0.968324</td>\n",
       "      <td>0.221165</td>\n",
       "      <td>0.891382</td>\n",
       "      <td>0.398914</td>\n",
       "    </tr>\n",
       "  </tbody>\n",
       "</table>\n",
       "</div>"
      ],
      "text/plain": [
       "          0         1         2         3         4         5         6  \\\n",
       "0  0.132453  0.106635  0.673568  0.507253  0.162925  0.130042  0.980388   \n",
       "1  0.384938  0.767604  0.850528  0.605998  0.826172  0.667488  0.142045   \n",
       "2  0.318691  0.675720  0.807189  0.752518  0.531342  0.703225  0.598293   \n",
       "3  0.538593  0.291241  0.407187  0.613260  0.851424  0.962086  0.590512   \n",
       "4  0.713271  0.156210  0.392800  0.702348  0.009400  0.030304  0.960066   \n",
       "\n",
       "          7         8         9        10        11        12        13  \\\n",
       "0  0.623167  0.074066  0.111557  0.864664  0.093637  0.446974  0.022525   \n",
       "1  0.086904  0.912348  0.892183  0.426389  0.776552  0.429496  0.602056   \n",
       "2  0.921508  0.563333  0.184300  0.667625  0.270017  0.573440  0.163669   \n",
       "3  0.980700  0.159022  0.684265  0.898633  0.470113  0.756593  0.282408   \n",
       "4  0.688937  0.260252  0.634608  0.273775  0.264145  0.682941  0.908499   \n",
       "\n",
       "         14        15        16        17        18        19  \n",
       "0  0.713369  0.707874  0.563506  0.982256  0.562498  0.968681  \n",
       "1  0.283769  0.166793  0.316878  0.688337  0.169525  0.966198  \n",
       "2  0.032852  0.689315  0.973684  0.719610  0.163670  0.724486  \n",
       "3  0.551369  0.732153  0.494100  0.792803  0.794426  0.837695  \n",
       "4  0.450950  0.200761  0.968324  0.221165  0.891382  0.398914  "
      ]
     },
     "execution_count": 69,
     "metadata": {},
     "output_type": "execute_result"
    }
   ],
   "source": [
    "lof[5]"
   ]
  },
  {
   "cell_type": "code",
   "execution_count": 66,
   "metadata": {},
   "outputs": [
    {
     "data": {
      "text/html": [
       "<div>\n",
       "<style scoped>\n",
       "    .dataframe tbody tr th:only-of-type {\n",
       "        vertical-align: middle;\n",
       "    }\n",
       "\n",
       "    .dataframe tbody tr th {\n",
       "        vertical-align: top;\n",
       "    }\n",
       "\n",
       "    .dataframe thead th {\n",
       "        text-align: right;\n",
       "    }\n",
       "</style>\n",
       "<table border=\"1\" class=\"dataframe\">\n",
       "  <thead>\n",
       "    <tr style=\"text-align: right;\">\n",
       "      <th></th>\n",
       "      <th>0</th>\n",
       "      <th>1</th>\n",
       "      <th>2</th>\n",
       "      <th>3</th>\n",
       "      <th>4</th>\n",
       "      <th>5</th>\n",
       "      <th>6</th>\n",
       "      <th>7</th>\n",
       "      <th>8</th>\n",
       "      <th>9</th>\n",
       "      <th>10</th>\n",
       "      <th>11</th>\n",
       "      <th>12</th>\n",
       "      <th>13</th>\n",
       "      <th>14</th>\n",
       "      <th>15</th>\n",
       "      <th>16</th>\n",
       "      <th>17</th>\n",
       "      <th>18</th>\n",
       "      <th>19</th>\n",
       "    </tr>\n",
       "  </thead>\n",
       "  <tbody>\n",
       "    <tr>\n",
       "      <th>0</th>\n",
       "      <td>0.215190</td>\n",
       "      <td>0.155352</td>\n",
       "      <td>0.160848</td>\n",
       "      <td>0.807736</td>\n",
       "      <td>0.363587</td>\n",
       "      <td>0.899832</td>\n",
       "      <td>0.146754</td>\n",
       "      <td>0.094802</td>\n",
       "      <td>0.705133</td>\n",
       "      <td>0.882762</td>\n",
       "      <td>0.773320</td>\n",
       "      <td>0.687745</td>\n",
       "      <td>0.016789</td>\n",
       "      <td>0.340725</td>\n",
       "      <td>0.984182</td>\n",
       "      <td>0.985461</td>\n",
       "      <td>0.412044</td>\n",
       "      <td>0.867894</td>\n",
       "      <td>0.113432</td>\n",
       "      <td>0.349845</td>\n",
       "    </tr>\n",
       "    <tr>\n",
       "      <th>1</th>\n",
       "      <td>0.895544</td>\n",
       "      <td>0.955196</td>\n",
       "      <td>0.089925</td>\n",
       "      <td>0.827555</td>\n",
       "      <td>0.089071</td>\n",
       "      <td>0.642883</td>\n",
       "      <td>0.996052</td>\n",
       "      <td>0.879020</td>\n",
       "      <td>0.421837</td>\n",
       "      <td>0.412141</td>\n",
       "      <td>0.858513</td>\n",
       "      <td>0.217091</td>\n",
       "      <td>0.176157</td>\n",
       "      <td>0.551236</td>\n",
       "      <td>0.834378</td>\n",
       "      <td>0.419535</td>\n",
       "      <td>0.041431</td>\n",
       "      <td>0.602258</td>\n",
       "      <td>0.984628</td>\n",
       "      <td>0.516899</td>\n",
       "    </tr>\n",
       "    <tr>\n",
       "      <th>2</th>\n",
       "      <td>0.413752</td>\n",
       "      <td>0.693052</td>\n",
       "      <td>0.789796</td>\n",
       "      <td>0.929164</td>\n",
       "      <td>0.536191</td>\n",
       "      <td>0.439769</td>\n",
       "      <td>0.773474</td>\n",
       "      <td>0.982074</td>\n",
       "      <td>0.876955</td>\n",
       "      <td>0.633154</td>\n",
       "      <td>0.279005</td>\n",
       "      <td>0.483317</td>\n",
       "      <td>0.908288</td>\n",
       "      <td>0.756172</td>\n",
       "      <td>0.462130</td>\n",
       "      <td>0.289892</td>\n",
       "      <td>0.145233</td>\n",
       "      <td>0.076819</td>\n",
       "      <td>0.797836</td>\n",
       "      <td>0.197592</td>\n",
       "    </tr>\n",
       "    <tr>\n",
       "      <th>3</th>\n",
       "      <td>0.728001</td>\n",
       "      <td>0.348156</td>\n",
       "      <td>0.935787</td>\n",
       "      <td>0.851163</td>\n",
       "      <td>0.444573</td>\n",
       "      <td>0.715080</td>\n",
       "      <td>0.988408</td>\n",
       "      <td>0.210332</td>\n",
       "      <td>0.732133</td>\n",
       "      <td>0.892383</td>\n",
       "      <td>0.216893</td>\n",
       "      <td>0.367595</td>\n",
       "      <td>0.846208</td>\n",
       "      <td>0.240111</td>\n",
       "      <td>0.471880</td>\n",
       "      <td>0.399721</td>\n",
       "      <td>0.758196</td>\n",
       "      <td>0.665568</td>\n",
       "      <td>0.931542</td>\n",
       "      <td>0.448124</td>\n",
       "    </tr>\n",
       "    <tr>\n",
       "      <th>4</th>\n",
       "      <td>0.134942</td>\n",
       "      <td>0.875931</td>\n",
       "      <td>0.273505</td>\n",
       "      <td>0.207588</td>\n",
       "      <td>0.080696</td>\n",
       "      <td>0.717396</td>\n",
       "      <td>0.033930</td>\n",
       "      <td>0.646837</td>\n",
       "      <td>0.888722</td>\n",
       "      <td>0.922742</td>\n",
       "      <td>0.176593</td>\n",
       "      <td>0.861333</td>\n",
       "      <td>0.389451</td>\n",
       "      <td>0.695244</td>\n",
       "      <td>0.129955</td>\n",
       "      <td>0.364114</td>\n",
       "      <td>0.428224</td>\n",
       "      <td>0.365442</td>\n",
       "      <td>0.847818</td>\n",
       "      <td>0.588319</td>\n",
       "    </tr>\n",
       "    <tr>\n",
       "      <th>5</th>\n",
       "      <td>0.376101</td>\n",
       "      <td>0.896590</td>\n",
       "      <td>0.500995</td>\n",
       "      <td>0.381416</td>\n",
       "      <td>0.447730</td>\n",
       "      <td>0.048472</td>\n",
       "      <td>0.094235</td>\n",
       "      <td>0.986890</td>\n",
       "      <td>0.582352</td>\n",
       "      <td>0.037230</td>\n",
       "      <td>0.130306</td>\n",
       "      <td>0.766153</td>\n",
       "      <td>0.153783</td>\n",
       "      <td>0.199140</td>\n",
       "      <td>0.330318</td>\n",
       "      <td>0.969657</td>\n",
       "      <td>0.110998</td>\n",
       "      <td>0.033474</td>\n",
       "      <td>0.117277</td>\n",
       "      <td>0.213938</td>\n",
       "    </tr>\n",
       "    <tr>\n",
       "      <th>6</th>\n",
       "      <td>0.498192</td>\n",
       "      <td>0.565500</td>\n",
       "      <td>0.152394</td>\n",
       "      <td>0.284232</td>\n",
       "      <td>0.557042</td>\n",
       "      <td>0.417095</td>\n",
       "      <td>0.663465</td>\n",
       "      <td>0.158188</td>\n",
       "      <td>0.039182</td>\n",
       "      <td>0.543442</td>\n",
       "      <td>0.521210</td>\n",
       "      <td>0.993481</td>\n",
       "      <td>0.580359</td>\n",
       "      <td>0.765757</td>\n",
       "      <td>0.931264</td>\n",
       "      <td>0.336841</td>\n",
       "      <td>0.271230</td>\n",
       "      <td>0.509798</td>\n",
       "      <td>0.877048</td>\n",
       "      <td>0.310951</td>\n",
       "    </tr>\n",
       "    <tr>\n",
       "      <th>7</th>\n",
       "      <td>0.635284</td>\n",
       "      <td>0.247512</td>\n",
       "      <td>0.179986</td>\n",
       "      <td>0.468231</td>\n",
       "      <td>0.911799</td>\n",
       "      <td>0.764209</td>\n",
       "      <td>0.941413</td>\n",
       "      <td>0.808370</td>\n",
       "      <td>0.578024</td>\n",
       "      <td>0.181267</td>\n",
       "      <td>0.064788</td>\n",
       "      <td>0.924226</td>\n",
       "      <td>0.070744</td>\n",
       "      <td>0.704575</td>\n",
       "      <td>0.948127</td>\n",
       "      <td>0.971452</td>\n",
       "      <td>0.360861</td>\n",
       "      <td>0.074394</td>\n",
       "      <td>0.386949</td>\n",
       "      <td>0.396453</td>\n",
       "    </tr>\n",
       "    <tr>\n",
       "      <th>8</th>\n",
       "      <td>0.647497</td>\n",
       "      <td>0.072412</td>\n",
       "      <td>0.681403</td>\n",
       "      <td>0.977189</td>\n",
       "      <td>0.690953</td>\n",
       "      <td>0.829347</td>\n",
       "      <td>0.236915</td>\n",
       "      <td>0.406938</td>\n",
       "      <td>0.898234</td>\n",
       "      <td>0.513575</td>\n",
       "      <td>0.532473</td>\n",
       "      <td>0.790312</td>\n",
       "      <td>0.082292</td>\n",
       "      <td>0.850821</td>\n",
       "      <td>0.088025</td>\n",
       "      <td>0.289218</td>\n",
       "      <td>0.822775</td>\n",
       "      <td>0.515933</td>\n",
       "      <td>0.962827</td>\n",
       "      <td>0.026952</td>\n",
       "    </tr>\n",
       "    <tr>\n",
       "      <th>9</th>\n",
       "      <td>0.170792</td>\n",
       "      <td>0.586900</td>\n",
       "      <td>0.029834</td>\n",
       "      <td>0.921923</td>\n",
       "      <td>0.090727</td>\n",
       "      <td>0.592746</td>\n",
       "      <td>0.972429</td>\n",
       "      <td>0.774760</td>\n",
       "      <td>0.293800</td>\n",
       "      <td>0.956949</td>\n",
       "      <td>0.811740</td>\n",
       "      <td>0.525562</td>\n",
       "      <td>0.454788</td>\n",
       "      <td>0.848812</td>\n",
       "      <td>0.095214</td>\n",
       "      <td>0.415311</td>\n",
       "      <td>0.026496</td>\n",
       "      <td>0.513342</td>\n",
       "      <td>0.830389</td>\n",
       "      <td>0.931145</td>\n",
       "    </tr>\n",
       "    <tr>\n",
       "      <th>10</th>\n",
       "      <td>0.460281</td>\n",
       "      <td>0.308551</td>\n",
       "      <td>0.735894</td>\n",
       "      <td>0.054059</td>\n",
       "      <td>0.593642</td>\n",
       "      <td>0.397679</td>\n",
       "      <td>0.019922</td>\n",
       "      <td>0.855673</td>\n",
       "      <td>0.339445</td>\n",
       "      <td>0.895810</td>\n",
       "      <td>0.832431</td>\n",
       "      <td>0.553308</td>\n",
       "      <td>0.617711</td>\n",
       "      <td>0.841575</td>\n",
       "      <td>0.336094</td>\n",
       "      <td>0.951907</td>\n",
       "      <td>0.050986</td>\n",
       "      <td>0.856135</td>\n",
       "      <td>0.773953</td>\n",
       "      <td>0.295344</td>\n",
       "    </tr>\n",
       "    <tr>\n",
       "      <th>11</th>\n",
       "      <td>0.065851</td>\n",
       "      <td>0.736029</td>\n",
       "      <td>0.797730</td>\n",
       "      <td>0.692722</td>\n",
       "      <td>0.167764</td>\n",
       "      <td>0.839756</td>\n",
       "      <td>0.910186</td>\n",
       "      <td>0.643328</td>\n",
       "      <td>0.371559</td>\n",
       "      <td>0.674311</td>\n",
       "      <td>0.424815</td>\n",
       "      <td>0.279397</td>\n",
       "      <td>0.015081</td>\n",
       "      <td>0.788497</td>\n",
       "      <td>0.132391</td>\n",
       "      <td>0.766033</td>\n",
       "      <td>0.708510</td>\n",
       "      <td>0.752866</td>\n",
       "      <td>0.493862</td>\n",
       "      <td>0.577262</td>\n",
       "    </tr>\n",
       "    <tr>\n",
       "      <th>12</th>\n",
       "      <td>0.671323</td>\n",
       "      <td>0.747296</td>\n",
       "      <td>0.892328</td>\n",
       "      <td>0.732902</td>\n",
       "      <td>0.065608</td>\n",
       "      <td>0.262364</td>\n",
       "      <td>0.712417</td>\n",
       "      <td>0.764379</td>\n",
       "      <td>0.017461</td>\n",
       "      <td>0.131970</td>\n",
       "      <td>0.649451</td>\n",
       "      <td>0.902157</td>\n",
       "      <td>0.034188</td>\n",
       "      <td>0.840938</td>\n",
       "      <td>0.098536</td>\n",
       "      <td>0.957824</td>\n",
       "      <td>0.566209</td>\n",
       "      <td>0.655947</td>\n",
       "      <td>0.592733</td>\n",
       "      <td>0.002596</td>\n",
       "    </tr>\n",
       "    <tr>\n",
       "      <th>13</th>\n",
       "      <td>0.445478</td>\n",
       "      <td>0.523522</td>\n",
       "      <td>0.959355</td>\n",
       "      <td>0.348292</td>\n",
       "      <td>0.761805</td>\n",
       "      <td>0.301391</td>\n",
       "      <td>0.712240</td>\n",
       "      <td>0.945462</td>\n",
       "      <td>0.139241</td>\n",
       "      <td>0.105477</td>\n",
       "      <td>0.889501</td>\n",
       "      <td>0.160828</td>\n",
       "      <td>0.400774</td>\n",
       "      <td>0.770295</td>\n",
       "      <td>0.844655</td>\n",
       "      <td>0.772798</td>\n",
       "      <td>0.584262</td>\n",
       "      <td>0.807400</td>\n",
       "      <td>0.177419</td>\n",
       "      <td>0.926007</td>\n",
       "    </tr>\n",
       "    <tr>\n",
       "      <th>14</th>\n",
       "      <td>0.291399</td>\n",
       "      <td>0.551248</td>\n",
       "      <td>0.736542</td>\n",
       "      <td>0.163562</td>\n",
       "      <td>0.451149</td>\n",
       "      <td>0.888938</td>\n",
       "      <td>0.968465</td>\n",
       "      <td>0.396090</td>\n",
       "      <td>0.681679</td>\n",
       "      <td>0.390542</td>\n",
       "      <td>0.030394</td>\n",
       "      <td>0.944077</td>\n",
       "      <td>0.366139</td>\n",
       "      <td>0.078188</td>\n",
       "      <td>0.175482</td>\n",
       "      <td>0.232489</td>\n",
       "      <td>0.806964</td>\n",
       "      <td>0.904593</td>\n",
       "      <td>0.803629</td>\n",
       "      <td>0.792851</td>\n",
       "    </tr>\n",
       "    <tr>\n",
       "      <th>15</th>\n",
       "      <td>0.901381</td>\n",
       "      <td>0.790944</td>\n",
       "      <td>0.596603</td>\n",
       "      <td>0.354721</td>\n",
       "      <td>0.357002</td>\n",
       "      <td>0.321325</td>\n",
       "      <td>0.738398</td>\n",
       "      <td>0.777885</td>\n",
       "      <td>0.775623</td>\n",
       "      <td>0.717817</td>\n",
       "      <td>0.788198</td>\n",
       "      <td>0.962214</td>\n",
       "      <td>0.394465</td>\n",
       "      <td>0.878922</td>\n",
       "      <td>0.084206</td>\n",
       "      <td>0.680941</td>\n",
       "      <td>0.992897</td>\n",
       "      <td>0.267455</td>\n",
       "      <td>0.212403</td>\n",
       "      <td>0.572150</td>\n",
       "    </tr>\n",
       "    <tr>\n",
       "      <th>16</th>\n",
       "      <td>0.763823</td>\n",
       "      <td>0.537281</td>\n",
       "      <td>0.708804</td>\n",
       "      <td>0.975269</td>\n",
       "      <td>0.053777</td>\n",
       "      <td>0.957740</td>\n",
       "      <td>0.389137</td>\n",
       "      <td>0.689829</td>\n",
       "      <td>0.510885</td>\n",
       "      <td>0.737445</td>\n",
       "      <td>0.097678</td>\n",
       "      <td>0.242906</td>\n",
       "      <td>0.073603</td>\n",
       "      <td>0.497591</td>\n",
       "      <td>0.798467</td>\n",
       "      <td>0.789078</td>\n",
       "      <td>0.947559</td>\n",
       "      <td>0.631497</td>\n",
       "      <td>0.057953</td>\n",
       "      <td>0.060306</td>\n",
       "    </tr>\n",
       "    <tr>\n",
       "      <th>17</th>\n",
       "      <td>0.571864</td>\n",
       "      <td>0.386243</td>\n",
       "      <td>0.567476</td>\n",
       "      <td>0.509283</td>\n",
       "      <td>0.552594</td>\n",
       "      <td>0.173807</td>\n",
       "      <td>0.229092</td>\n",
       "      <td>0.257945</td>\n",
       "      <td>0.313437</td>\n",
       "      <td>0.418311</td>\n",
       "      <td>0.750007</td>\n",
       "      <td>0.604759</td>\n",
       "      <td>0.234886</td>\n",
       "      <td>0.832337</td>\n",
       "      <td>0.421263</td>\n",
       "      <td>0.455785</td>\n",
       "      <td>0.893841</td>\n",
       "      <td>0.726412</td>\n",
       "      <td>0.458360</td>\n",
       "      <td>0.048740</td>\n",
       "    </tr>\n",
       "    <tr>\n",
       "      <th>18</th>\n",
       "      <td>0.956168</td>\n",
       "      <td>0.422274</td>\n",
       "      <td>0.121713</td>\n",
       "      <td>0.685208</td>\n",
       "      <td>0.713370</td>\n",
       "      <td>0.416245</td>\n",
       "      <td>0.337151</td>\n",
       "      <td>0.570693</td>\n",
       "      <td>0.435938</td>\n",
       "      <td>0.360098</td>\n",
       "      <td>0.037437</td>\n",
       "      <td>0.167545</td>\n",
       "      <td>0.847880</td>\n",
       "      <td>0.773456</td>\n",
       "      <td>0.490628</td>\n",
       "      <td>0.544232</td>\n",
       "      <td>0.954668</td>\n",
       "      <td>0.567280</td>\n",
       "      <td>0.571539</td>\n",
       "      <td>0.560742</td>\n",
       "    </tr>\n",
       "    <tr>\n",
       "      <th>19</th>\n",
       "      <td>0.121826</td>\n",
       "      <td>0.237479</td>\n",
       "      <td>0.553956</td>\n",
       "      <td>0.173660</td>\n",
       "      <td>0.354423</td>\n",
       "      <td>0.532080</td>\n",
       "      <td>0.271361</td>\n",
       "      <td>0.766006</td>\n",
       "      <td>0.607020</td>\n",
       "      <td>0.197302</td>\n",
       "      <td>0.526352</td>\n",
       "      <td>0.676571</td>\n",
       "      <td>0.473574</td>\n",
       "      <td>0.953228</td>\n",
       "      <td>0.413186</td>\n",
       "      <td>0.957242</td>\n",
       "      <td>0.642558</td>\n",
       "      <td>0.351496</td>\n",
       "      <td>0.547297</td>\n",
       "      <td>0.177401</td>\n",
       "    </tr>\n",
       "    <tr>\n",
       "      <th>20</th>\n",
       "      <td>0.734751</td>\n",
       "      <td>0.195362</td>\n",
       "      <td>0.734309</td>\n",
       "      <td>0.598184</td>\n",
       "      <td>0.763433</td>\n",
       "      <td>0.263434</td>\n",
       "      <td>0.868066</td>\n",
       "      <td>0.058092</td>\n",
       "      <td>0.753502</td>\n",
       "      <td>0.587513</td>\n",
       "      <td>0.311608</td>\n",
       "      <td>0.178356</td>\n",
       "      <td>0.182922</td>\n",
       "      <td>0.147631</td>\n",
       "      <td>0.391188</td>\n",
       "      <td>0.816049</td>\n",
       "      <td>0.749068</td>\n",
       "      <td>0.293260</td>\n",
       "      <td>0.937828</td>\n",
       "      <td>0.880858</td>\n",
       "    </tr>\n",
       "    <tr>\n",
       "      <th>21</th>\n",
       "      <td>0.772607</td>\n",
       "      <td>0.445391</td>\n",
       "      <td>0.249642</td>\n",
       "      <td>0.787922</td>\n",
       "      <td>0.598583</td>\n",
       "      <td>0.827238</td>\n",
       "      <td>0.624126</td>\n",
       "      <td>0.601524</td>\n",
       "      <td>0.688753</td>\n",
       "      <td>0.338870</td>\n",
       "      <td>0.081595</td>\n",
       "      <td>0.471474</td>\n",
       "      <td>0.267443</td>\n",
       "      <td>0.453351</td>\n",
       "      <td>0.800716</td>\n",
       "      <td>0.045749</td>\n",
       "      <td>0.683793</td>\n",
       "      <td>0.389789</td>\n",
       "      <td>0.016787</td>\n",
       "      <td>0.503695</td>\n",
       "    </tr>\n",
       "    <tr>\n",
       "      <th>22</th>\n",
       "      <td>0.226428</td>\n",
       "      <td>0.268764</td>\n",
       "      <td>0.694262</td>\n",
       "      <td>0.622335</td>\n",
       "      <td>0.063843</td>\n",
       "      <td>0.122683</td>\n",
       "      <td>0.815625</td>\n",
       "      <td>0.584542</td>\n",
       "      <td>0.032594</td>\n",
       "      <td>0.589775</td>\n",
       "      <td>0.764350</td>\n",
       "      <td>0.650973</td>\n",
       "      <td>0.565705</td>\n",
       "      <td>0.691784</td>\n",
       "      <td>0.265223</td>\n",
       "      <td>0.739031</td>\n",
       "      <td>0.560394</td>\n",
       "      <td>0.334802</td>\n",
       "      <td>0.517694</td>\n",
       "      <td>0.646110</td>\n",
       "    </tr>\n",
       "    <tr>\n",
       "      <th>23</th>\n",
       "      <td>0.362748</td>\n",
       "      <td>0.495430</td>\n",
       "      <td>0.113876</td>\n",
       "      <td>0.594149</td>\n",
       "      <td>0.612522</td>\n",
       "      <td>0.625204</td>\n",
       "      <td>0.864050</td>\n",
       "      <td>0.260279</td>\n",
       "      <td>0.528873</td>\n",
       "      <td>0.168043</td>\n",
       "      <td>0.715929</td>\n",
       "      <td>0.677014</td>\n",
       "      <td>0.175735</td>\n",
       "      <td>0.632370</td>\n",
       "      <td>0.926715</td>\n",
       "      <td>0.085675</td>\n",
       "      <td>0.120525</td>\n",
       "      <td>0.141746</td>\n",
       "      <td>0.771144</td>\n",
       "      <td>0.489660</td>\n",
       "    </tr>\n",
       "    <tr>\n",
       "      <th>24</th>\n",
       "      <td>0.033415</td>\n",
       "      <td>0.340433</td>\n",
       "      <td>0.464971</td>\n",
       "      <td>0.363737</td>\n",
       "      <td>0.025815</td>\n",
       "      <td>0.434129</td>\n",
       "      <td>0.415163</td>\n",
       "      <td>0.892210</td>\n",
       "      <td>0.381701</td>\n",
       "      <td>0.415264</td>\n",
       "      <td>0.790801</td>\n",
       "      <td>0.696930</td>\n",
       "      <td>0.819751</td>\n",
       "      <td>0.944029</td>\n",
       "      <td>0.869965</td>\n",
       "      <td>0.041723</td>\n",
       "      <td>0.819140</td>\n",
       "      <td>0.676051</td>\n",
       "      <td>0.109349</td>\n",
       "      <td>0.872947</td>\n",
       "    </tr>\n",
       "    <tr>\n",
       "      <th>25</th>\n",
       "      <td>0.132453</td>\n",
       "      <td>0.106635</td>\n",
       "      <td>0.673568</td>\n",
       "      <td>0.507253</td>\n",
       "      <td>0.162925</td>\n",
       "      <td>0.130042</td>\n",
       "      <td>0.980388</td>\n",
       "      <td>0.623167</td>\n",
       "      <td>0.074066</td>\n",
       "      <td>0.111557</td>\n",
       "      <td>0.864664</td>\n",
       "      <td>0.093637</td>\n",
       "      <td>0.446974</td>\n",
       "      <td>0.022525</td>\n",
       "      <td>0.713369</td>\n",
       "      <td>0.707874</td>\n",
       "      <td>0.563506</td>\n",
       "      <td>0.982256</td>\n",
       "      <td>0.562498</td>\n",
       "      <td>0.968681</td>\n",
       "    </tr>\n",
       "    <tr>\n",
       "      <th>26</th>\n",
       "      <td>0.384938</td>\n",
       "      <td>0.767604</td>\n",
       "      <td>0.850528</td>\n",
       "      <td>0.605998</td>\n",
       "      <td>0.826172</td>\n",
       "      <td>0.667488</td>\n",
       "      <td>0.142045</td>\n",
       "      <td>0.086904</td>\n",
       "      <td>0.912348</td>\n",
       "      <td>0.892183</td>\n",
       "      <td>0.426389</td>\n",
       "      <td>0.776552</td>\n",
       "      <td>0.429496</td>\n",
       "      <td>0.602056</td>\n",
       "      <td>0.283769</td>\n",
       "      <td>0.166793</td>\n",
       "      <td>0.316878</td>\n",
       "      <td>0.688337</td>\n",
       "      <td>0.169525</td>\n",
       "      <td>0.966198</td>\n",
       "    </tr>\n",
       "    <tr>\n",
       "      <th>27</th>\n",
       "      <td>0.318691</td>\n",
       "      <td>0.675720</td>\n",
       "      <td>0.807189</td>\n",
       "      <td>0.752518</td>\n",
       "      <td>0.531342</td>\n",
       "      <td>0.703225</td>\n",
       "      <td>0.598293</td>\n",
       "      <td>0.921508</td>\n",
       "      <td>0.563333</td>\n",
       "      <td>0.184300</td>\n",
       "      <td>0.667625</td>\n",
       "      <td>0.270017</td>\n",
       "      <td>0.573440</td>\n",
       "      <td>0.163669</td>\n",
       "      <td>0.032852</td>\n",
       "      <td>0.689315</td>\n",
       "      <td>0.973684</td>\n",
       "      <td>0.719610</td>\n",
       "      <td>0.163670</td>\n",
       "      <td>0.724486</td>\n",
       "    </tr>\n",
       "    <tr>\n",
       "      <th>28</th>\n",
       "      <td>0.538593</td>\n",
       "      <td>0.291241</td>\n",
       "      <td>0.407187</td>\n",
       "      <td>0.613260</td>\n",
       "      <td>0.851424</td>\n",
       "      <td>0.962086</td>\n",
       "      <td>0.590512</td>\n",
       "      <td>0.980700</td>\n",
       "      <td>0.159022</td>\n",
       "      <td>0.684265</td>\n",
       "      <td>0.898633</td>\n",
       "      <td>0.470113</td>\n",
       "      <td>0.756593</td>\n",
       "      <td>0.282408</td>\n",
       "      <td>0.551369</td>\n",
       "      <td>0.732153</td>\n",
       "      <td>0.494100</td>\n",
       "      <td>0.792803</td>\n",
       "      <td>0.794426</td>\n",
       "      <td>0.837695</td>\n",
       "    </tr>\n",
       "    <tr>\n",
       "      <th>29</th>\n",
       "      <td>0.713271</td>\n",
       "      <td>0.156210</td>\n",
       "      <td>0.392800</td>\n",
       "      <td>0.702348</td>\n",
       "      <td>0.009400</td>\n",
       "      <td>0.030304</td>\n",
       "      <td>0.960066</td>\n",
       "      <td>0.688937</td>\n",
       "      <td>0.260252</td>\n",
       "      <td>0.634608</td>\n",
       "      <td>0.273775</td>\n",
       "      <td>0.264145</td>\n",
       "      <td>0.682941</td>\n",
       "      <td>0.908499</td>\n",
       "      <td>0.450950</td>\n",
       "      <td>0.200761</td>\n",
       "      <td>0.968324</td>\n",
       "      <td>0.221165</td>\n",
       "      <td>0.891382</td>\n",
       "      <td>0.398914</td>\n",
       "    </tr>\n",
       "    <tr>\n",
       "      <th>30</th>\n",
       "      <td>0.276827</td>\n",
       "      <td>0.260054</td>\n",
       "      <td>0.942397</td>\n",
       "      <td>0.113187</td>\n",
       "      <td>0.781355</td>\n",
       "      <td>0.475740</td>\n",
       "      <td>0.152061</td>\n",
       "      <td>0.250324</td>\n",
       "      <td>0.147078</td>\n",
       "      <td>0.162984</td>\n",
       "      <td>0.977025</td>\n",
       "      <td>0.509619</td>\n",
       "      <td>0.593212</td>\n",
       "      <td>0.911839</td>\n",
       "      <td>0.257645</td>\n",
       "      <td>0.386457</td>\n",
       "      <td>0.696932</td>\n",
       "      <td>0.069162</td>\n",
       "      <td>0.952291</td>\n",
       "      <td>0.286542</td>\n",
       "    </tr>\n",
       "    <tr>\n",
       "      <th>31</th>\n",
       "      <td>0.995885</td>\n",
       "      <td>0.158381</td>\n",
       "      <td>0.244274</td>\n",
       "      <td>0.962163</td>\n",
       "      <td>0.651900</td>\n",
       "      <td>0.930665</td>\n",
       "      <td>0.577190</td>\n",
       "      <td>0.087914</td>\n",
       "      <td>0.960261</td>\n",
       "      <td>0.580840</td>\n",
       "      <td>0.194616</td>\n",
       "      <td>0.661459</td>\n",
       "      <td>0.674085</td>\n",
       "      <td>0.049326</td>\n",
       "      <td>0.785803</td>\n",
       "      <td>0.315645</td>\n",
       "      <td>0.495355</td>\n",
       "      <td>0.232135</td>\n",
       "      <td>0.549324</td>\n",
       "      <td>0.572232</td>\n",
       "    </tr>\n",
       "    <tr>\n",
       "      <th>32</th>\n",
       "      <td>0.641917</td>\n",
       "      <td>0.821055</td>\n",
       "      <td>0.392437</td>\n",
       "      <td>0.782617</td>\n",
       "      <td>0.510762</td>\n",
       "      <td>0.428320</td>\n",
       "      <td>0.017324</td>\n",
       "      <td>0.680720</td>\n",
       "      <td>0.340412</td>\n",
       "      <td>0.462513</td>\n",
       "      <td>0.785776</td>\n",
       "      <td>0.251949</td>\n",
       "      <td>0.032847</td>\n",
       "      <td>0.995700</td>\n",
       "      <td>0.816563</td>\n",
       "      <td>0.735692</td>\n",
       "      <td>0.435998</td>\n",
       "      <td>0.430411</td>\n",
       "      <td>0.531757</td>\n",
       "      <td>0.489528</td>\n",
       "    </tr>\n",
       "    <tr>\n",
       "      <th>33</th>\n",
       "      <td>0.806532</td>\n",
       "      <td>0.569258</td>\n",
       "      <td>0.148175</td>\n",
       "      <td>0.809987</td>\n",
       "      <td>0.459632</td>\n",
       "      <td>0.735762</td>\n",
       "      <td>0.730664</td>\n",
       "      <td>0.934502</td>\n",
       "      <td>0.080322</td>\n",
       "      <td>0.763502</td>\n",
       "      <td>0.398504</td>\n",
       "      <td>0.027637</td>\n",
       "      <td>0.409665</td>\n",
       "      <td>0.942846</td>\n",
       "      <td>0.133256</td>\n",
       "      <td>0.157158</td>\n",
       "      <td>0.929446</td>\n",
       "      <td>0.402791</td>\n",
       "      <td>0.685976</td>\n",
       "      <td>0.246594</td>\n",
       "    </tr>\n",
       "    <tr>\n",
       "      <th>34</th>\n",
       "      <td>0.311185</td>\n",
       "      <td>0.501165</td>\n",
       "      <td>0.365979</td>\n",
       "      <td>0.782807</td>\n",
       "      <td>0.776795</td>\n",
       "      <td>0.797199</td>\n",
       "      <td>0.791946</td>\n",
       "      <td>0.847157</td>\n",
       "      <td>0.771811</td>\n",
       "      <td>0.233944</td>\n",
       "      <td>0.522344</td>\n",
       "      <td>0.053030</td>\n",
       "      <td>0.208551</td>\n",
       "      <td>0.824354</td>\n",
       "      <td>0.588567</td>\n",
       "      <td>0.604341</td>\n",
       "      <td>0.232964</td>\n",
       "      <td>0.229109</td>\n",
       "      <td>0.022881</td>\n",
       "      <td>0.479022</td>\n",
       "    </tr>\n",
       "    <tr>\n",
       "      <th>35</th>\n",
       "      <td>0.437114</td>\n",
       "      <td>0.156941</td>\n",
       "      <td>0.183148</td>\n",
       "      <td>0.817785</td>\n",
       "      <td>0.747632</td>\n",
       "      <td>0.726855</td>\n",
       "      <td>0.944758</td>\n",
       "      <td>0.287449</td>\n",
       "      <td>0.792692</td>\n",
       "      <td>0.080025</td>\n",
       "      <td>0.079886</td>\n",
       "      <td>0.067887</td>\n",
       "      <td>0.543498</td>\n",
       "      <td>0.711158</td>\n",
       "      <td>0.960030</td>\n",
       "      <td>0.810807</td>\n",
       "      <td>0.579395</td>\n",
       "      <td>0.660811</td>\n",
       "      <td>0.520295</td>\n",
       "      <td>0.945250</td>\n",
       "    </tr>\n",
       "    <tr>\n",
       "      <th>36</th>\n",
       "      <td>0.213337</td>\n",
       "      <td>0.503490</td>\n",
       "      <td>0.802663</td>\n",
       "      <td>0.443484</td>\n",
       "      <td>0.700893</td>\n",
       "      <td>0.129329</td>\n",
       "      <td>0.007176</td>\n",
       "      <td>0.027735</td>\n",
       "      <td>0.427692</td>\n",
       "      <td>0.156926</td>\n",
       "      <td>0.486138</td>\n",
       "      <td>0.571278</td>\n",
       "      <td>0.940414</td>\n",
       "      <td>0.940730</td>\n",
       "      <td>0.933377</td>\n",
       "      <td>0.427869</td>\n",
       "      <td>0.654402</td>\n",
       "      <td>0.407580</td>\n",
       "      <td>0.122453</td>\n",
       "      <td>0.115311</td>\n",
       "    </tr>\n",
       "    <tr>\n",
       "      <th>37</th>\n",
       "      <td>0.625692</td>\n",
       "      <td>0.184609</td>\n",
       "      <td>0.120652</td>\n",
       "      <td>0.410955</td>\n",
       "      <td>0.408272</td>\n",
       "      <td>0.686792</td>\n",
       "      <td>0.480168</td>\n",
       "      <td>0.286901</td>\n",
       "      <td>0.320112</td>\n",
       "      <td>0.048815</td>\n",
       "      <td>0.768725</td>\n",
       "      <td>0.461014</td>\n",
       "      <td>0.090451</td>\n",
       "      <td>0.720938</td>\n",
       "      <td>0.192501</td>\n",
       "      <td>0.219077</td>\n",
       "      <td>0.034113</td>\n",
       "      <td>0.858956</td>\n",
       "      <td>0.816036</td>\n",
       "      <td>0.582192</td>\n",
       "    </tr>\n",
       "    <tr>\n",
       "      <th>38</th>\n",
       "      <td>0.642007</td>\n",
       "      <td>0.175592</td>\n",
       "      <td>0.476889</td>\n",
       "      <td>0.451096</td>\n",
       "      <td>0.803491</td>\n",
       "      <td>0.272613</td>\n",
       "      <td>0.576037</td>\n",
       "      <td>0.774269</td>\n",
       "      <td>0.323313</td>\n",
       "      <td>0.349850</td>\n",
       "      <td>0.413465</td>\n",
       "      <td>0.641111</td>\n",
       "      <td>0.841210</td>\n",
       "      <td>0.668661</td>\n",
       "      <td>0.101031</td>\n",
       "      <td>0.972135</td>\n",
       "      <td>0.479581</td>\n",
       "      <td>0.149982</td>\n",
       "      <td>0.035150</td>\n",
       "      <td>0.528075</td>\n",
       "    </tr>\n",
       "    <tr>\n",
       "      <th>39</th>\n",
       "      <td>0.809129</td>\n",
       "      <td>0.549374</td>\n",
       "      <td>0.055405</td>\n",
       "      <td>0.857802</td>\n",
       "      <td>0.760688</td>\n",
       "      <td>0.662257</td>\n",
       "      <td>0.453289</td>\n",
       "      <td>0.658329</td>\n",
       "      <td>0.973615</td>\n",
       "      <td>0.449771</td>\n",
       "      <td>0.615229</td>\n",
       "      <td>0.467290</td>\n",
       "      <td>0.158077</td>\n",
       "      <td>0.305716</td>\n",
       "      <td>0.730355</td>\n",
       "      <td>0.412336</td>\n",
       "      <td>0.469142</td>\n",
       "      <td>0.078734</td>\n",
       "      <td>0.448741</td>\n",
       "      <td>0.827487</td>\n",
       "    </tr>\n",
       "    <tr>\n",
       "      <th>40</th>\n",
       "      <td>0.948664</td>\n",
       "      <td>0.215285</td>\n",
       "      <td>0.918270</td>\n",
       "      <td>0.599951</td>\n",
       "      <td>0.755120</td>\n",
       "      <td>0.971609</td>\n",
       "      <td>0.103190</td>\n",
       "      <td>0.194754</td>\n",
       "      <td>0.932388</td>\n",
       "      <td>0.591727</td>\n",
       "      <td>0.697517</td>\n",
       "      <td>0.607355</td>\n",
       "      <td>0.177649</td>\n",
       "      <td>0.435968</td>\n",
       "      <td>0.202404</td>\n",
       "      <td>0.979777</td>\n",
       "      <td>0.095713</td>\n",
       "      <td>0.159040</td>\n",
       "      <td>0.651457</td>\n",
       "      <td>0.803393</td>\n",
       "    </tr>\n",
       "    <tr>\n",
       "      <th>41</th>\n",
       "      <td>0.163236</td>\n",
       "      <td>0.803926</td>\n",
       "      <td>0.916655</td>\n",
       "      <td>0.775234</td>\n",
       "      <td>0.644890</td>\n",
       "      <td>0.701362</td>\n",
       "      <td>0.910208</td>\n",
       "      <td>0.871204</td>\n",
       "      <td>0.321745</td>\n",
       "      <td>0.586035</td>\n",
       "      <td>0.887054</td>\n",
       "      <td>0.240060</td>\n",
       "      <td>0.915342</td>\n",
       "      <td>0.205310</td>\n",
       "      <td>0.489504</td>\n",
       "      <td>0.848926</td>\n",
       "      <td>0.304342</td>\n",
       "      <td>0.358977</td>\n",
       "      <td>0.841539</td>\n",
       "      <td>0.964889</td>\n",
       "    </tr>\n",
       "    <tr>\n",
       "      <th>42</th>\n",
       "      <td>0.934136</td>\n",
       "      <td>0.031410</td>\n",
       "      <td>0.954057</td>\n",
       "      <td>0.853387</td>\n",
       "      <td>0.642160</td>\n",
       "      <td>0.681184</td>\n",
       "      <td>0.317198</td>\n",
       "      <td>0.875259</td>\n",
       "      <td>0.538416</td>\n",
       "      <td>0.867511</td>\n",
       "      <td>0.813309</td>\n",
       "      <td>0.215624</td>\n",
       "      <td>0.552062</td>\n",
       "      <td>0.498378</td>\n",
       "      <td>0.739656</td>\n",
       "      <td>0.307914</td>\n",
       "      <td>0.233996</td>\n",
       "      <td>0.602166</td>\n",
       "      <td>0.244210</td>\n",
       "      <td>0.313071</td>\n",
       "    </tr>\n",
       "    <tr>\n",
       "      <th>43</th>\n",
       "      <td>0.757038</td>\n",
       "      <td>0.918964</td>\n",
       "      <td>0.475459</td>\n",
       "      <td>0.837686</td>\n",
       "      <td>0.149645</td>\n",
       "      <td>0.819032</td>\n",
       "      <td>0.611996</td>\n",
       "      <td>0.644348</td>\n",
       "      <td>0.938444</td>\n",
       "      <td>0.410444</td>\n",
       "      <td>0.561513</td>\n",
       "      <td>0.499231</td>\n",
       "      <td>0.856437</td>\n",
       "      <td>0.054619</td>\n",
       "      <td>0.326310</td>\n",
       "      <td>0.461825</td>\n",
       "      <td>0.954783</td>\n",
       "      <td>0.361873</td>\n",
       "      <td>0.145952</td>\n",
       "      <td>0.873029</td>\n",
       "    </tr>\n",
       "    <tr>\n",
       "      <th>44</th>\n",
       "      <td>0.263455</td>\n",
       "      <td>0.816283</td>\n",
       "      <td>0.336707</td>\n",
       "      <td>0.587997</td>\n",
       "      <td>0.285871</td>\n",
       "      <td>0.619942</td>\n",
       "      <td>0.018027</td>\n",
       "      <td>0.548845</td>\n",
       "      <td>0.121471</td>\n",
       "      <td>0.194299</td>\n",
       "      <td>0.149844</td>\n",
       "      <td>0.848866</td>\n",
       "      <td>0.531840</td>\n",
       "      <td>0.663384</td>\n",
       "      <td>0.084884</td>\n",
       "      <td>0.120312</td>\n",
       "      <td>0.463214</td>\n",
       "      <td>0.437889</td>\n",
       "      <td>0.542376</td>\n",
       "      <td>0.668447</td>\n",
       "    </tr>\n",
       "    <tr>\n",
       "      <th>45</th>\n",
       "      <td>0.702566</td>\n",
       "      <td>0.092336</td>\n",
       "      <td>0.245083</td>\n",
       "      <td>0.918402</td>\n",
       "      <td>0.695110</td>\n",
       "      <td>0.886921</td>\n",
       "      <td>0.588605</td>\n",
       "      <td>0.950970</td>\n",
       "      <td>0.168079</td>\n",
       "      <td>0.783107</td>\n",
       "      <td>0.698836</td>\n",
       "      <td>0.120857</td>\n",
       "      <td>0.207432</td>\n",
       "      <td>0.824789</td>\n",
       "      <td>0.349212</td>\n",
       "      <td>0.818606</td>\n",
       "      <td>0.376941</td>\n",
       "      <td>0.886644</td>\n",
       "      <td>0.472826</td>\n",
       "      <td>0.551858</td>\n",
       "    </tr>\n",
       "    <tr>\n",
       "      <th>46</th>\n",
       "      <td>0.177005</td>\n",
       "      <td>0.649551</td>\n",
       "      <td>0.467321</td>\n",
       "      <td>0.449597</td>\n",
       "      <td>0.458872</td>\n",
       "      <td>0.815586</td>\n",
       "      <td>0.455132</td>\n",
       "      <td>0.729812</td>\n",
       "      <td>0.998528</td>\n",
       "      <td>0.048724</td>\n",
       "      <td>0.377391</td>\n",
       "      <td>0.729498</td>\n",
       "      <td>0.721515</td>\n",
       "      <td>0.566724</td>\n",
       "      <td>0.338366</td>\n",
       "      <td>0.877239</td>\n",
       "      <td>0.129824</td>\n",
       "      <td>0.773155</td>\n",
       "      <td>0.485385</td>\n",
       "      <td>0.686294</td>\n",
       "    </tr>\n",
       "    <tr>\n",
       "      <th>47</th>\n",
       "      <td>0.689556</td>\n",
       "      <td>0.445586</td>\n",
       "      <td>0.005691</td>\n",
       "      <td>0.150171</td>\n",
       "      <td>0.554146</td>\n",
       "      <td>0.492320</td>\n",
       "      <td>0.185612</td>\n",
       "      <td>0.060855</td>\n",
       "      <td>0.457443</td>\n",
       "      <td>0.847337</td>\n",
       "      <td>0.603072</td>\n",
       "      <td>0.346574</td>\n",
       "      <td>0.898464</td>\n",
       "      <td>0.482963</td>\n",
       "      <td>0.443979</td>\n",
       "      <td>0.430132</td>\n",
       "      <td>0.713078</td>\n",
       "      <td>0.302786</td>\n",
       "      <td>0.051382</td>\n",
       "      <td>0.203699</td>\n",
       "    </tr>\n",
       "    <tr>\n",
       "      <th>48</th>\n",
       "      <td>0.047188</td>\n",
       "      <td>0.854596</td>\n",
       "      <td>0.833368</td>\n",
       "      <td>0.043878</td>\n",
       "      <td>0.883505</td>\n",
       "      <td>0.786302</td>\n",
       "      <td>0.980916</td>\n",
       "      <td>0.004030</td>\n",
       "      <td>0.619601</td>\n",
       "      <td>0.547769</td>\n",
       "      <td>0.160962</td>\n",
       "      <td>0.545281</td>\n",
       "      <td>0.931623</td>\n",
       "      <td>0.991855</td>\n",
       "      <td>0.821099</td>\n",
       "      <td>0.654592</td>\n",
       "      <td>0.346710</td>\n",
       "      <td>0.183948</td>\n",
       "      <td>0.372739</td>\n",
       "      <td>0.739383</td>\n",
       "    </tr>\n",
       "    <tr>\n",
       "      <th>49</th>\n",
       "      <td>0.936065</td>\n",
       "      <td>0.725831</td>\n",
       "      <td>0.184239</td>\n",
       "      <td>0.677391</td>\n",
       "      <td>0.242726</td>\n",
       "      <td>0.125457</td>\n",
       "      <td>0.356254</td>\n",
       "      <td>0.937350</td>\n",
       "      <td>0.215774</td>\n",
       "      <td>0.212762</td>\n",
       "      <td>0.483018</td>\n",
       "      <td>0.573162</td>\n",
       "      <td>0.634487</td>\n",
       "      <td>0.423924</td>\n",
       "      <td>0.394633</td>\n",
       "      <td>0.766967</td>\n",
       "      <td>0.606719</td>\n",
       "      <td>0.538712</td>\n",
       "      <td>0.885516</td>\n",
       "      <td>0.667051</td>\n",
       "    </tr>\n",
       "  </tbody>\n",
       "</table>\n",
       "</div>"
      ],
      "text/plain": [
       "           0         1         2         3         4         5         6  \\\n",
       "0   0.215190  0.155352  0.160848  0.807736  0.363587  0.899832  0.146754   \n",
       "1   0.895544  0.955196  0.089925  0.827555  0.089071  0.642883  0.996052   \n",
       "2   0.413752  0.693052  0.789796  0.929164  0.536191  0.439769  0.773474   \n",
       "3   0.728001  0.348156  0.935787  0.851163  0.444573  0.715080  0.988408   \n",
       "4   0.134942  0.875931  0.273505  0.207588  0.080696  0.717396  0.033930   \n",
       "5   0.376101  0.896590  0.500995  0.381416  0.447730  0.048472  0.094235   \n",
       "6   0.498192  0.565500  0.152394  0.284232  0.557042  0.417095  0.663465   \n",
       "7   0.635284  0.247512  0.179986  0.468231  0.911799  0.764209  0.941413   \n",
       "8   0.647497  0.072412  0.681403  0.977189  0.690953  0.829347  0.236915   \n",
       "9   0.170792  0.586900  0.029834  0.921923  0.090727  0.592746  0.972429   \n",
       "10  0.460281  0.308551  0.735894  0.054059  0.593642  0.397679  0.019922   \n",
       "11  0.065851  0.736029  0.797730  0.692722  0.167764  0.839756  0.910186   \n",
       "12  0.671323  0.747296  0.892328  0.732902  0.065608  0.262364  0.712417   \n",
       "13  0.445478  0.523522  0.959355  0.348292  0.761805  0.301391  0.712240   \n",
       "14  0.291399  0.551248  0.736542  0.163562  0.451149  0.888938  0.968465   \n",
       "15  0.901381  0.790944  0.596603  0.354721  0.357002  0.321325  0.738398   \n",
       "16  0.763823  0.537281  0.708804  0.975269  0.053777  0.957740  0.389137   \n",
       "17  0.571864  0.386243  0.567476  0.509283  0.552594  0.173807  0.229092   \n",
       "18  0.956168  0.422274  0.121713  0.685208  0.713370  0.416245  0.337151   \n",
       "19  0.121826  0.237479  0.553956  0.173660  0.354423  0.532080  0.271361   \n",
       "20  0.734751  0.195362  0.734309  0.598184  0.763433  0.263434  0.868066   \n",
       "21  0.772607  0.445391  0.249642  0.787922  0.598583  0.827238  0.624126   \n",
       "22  0.226428  0.268764  0.694262  0.622335  0.063843  0.122683  0.815625   \n",
       "23  0.362748  0.495430  0.113876  0.594149  0.612522  0.625204  0.864050   \n",
       "24  0.033415  0.340433  0.464971  0.363737  0.025815  0.434129  0.415163   \n",
       "25  0.132453  0.106635  0.673568  0.507253  0.162925  0.130042  0.980388   \n",
       "26  0.384938  0.767604  0.850528  0.605998  0.826172  0.667488  0.142045   \n",
       "27  0.318691  0.675720  0.807189  0.752518  0.531342  0.703225  0.598293   \n",
       "28  0.538593  0.291241  0.407187  0.613260  0.851424  0.962086  0.590512   \n",
       "29  0.713271  0.156210  0.392800  0.702348  0.009400  0.030304  0.960066   \n",
       "30  0.276827  0.260054  0.942397  0.113187  0.781355  0.475740  0.152061   \n",
       "31  0.995885  0.158381  0.244274  0.962163  0.651900  0.930665  0.577190   \n",
       "32  0.641917  0.821055  0.392437  0.782617  0.510762  0.428320  0.017324   \n",
       "33  0.806532  0.569258  0.148175  0.809987  0.459632  0.735762  0.730664   \n",
       "34  0.311185  0.501165  0.365979  0.782807  0.776795  0.797199  0.791946   \n",
       "35  0.437114  0.156941  0.183148  0.817785  0.747632  0.726855  0.944758   \n",
       "36  0.213337  0.503490  0.802663  0.443484  0.700893  0.129329  0.007176   \n",
       "37  0.625692  0.184609  0.120652  0.410955  0.408272  0.686792  0.480168   \n",
       "38  0.642007  0.175592  0.476889  0.451096  0.803491  0.272613  0.576037   \n",
       "39  0.809129  0.549374  0.055405  0.857802  0.760688  0.662257  0.453289   \n",
       "40  0.948664  0.215285  0.918270  0.599951  0.755120  0.971609  0.103190   \n",
       "41  0.163236  0.803926  0.916655  0.775234  0.644890  0.701362  0.910208   \n",
       "42  0.934136  0.031410  0.954057  0.853387  0.642160  0.681184  0.317198   \n",
       "43  0.757038  0.918964  0.475459  0.837686  0.149645  0.819032  0.611996   \n",
       "44  0.263455  0.816283  0.336707  0.587997  0.285871  0.619942  0.018027   \n",
       "45  0.702566  0.092336  0.245083  0.918402  0.695110  0.886921  0.588605   \n",
       "46  0.177005  0.649551  0.467321  0.449597  0.458872  0.815586  0.455132   \n",
       "47  0.689556  0.445586  0.005691  0.150171  0.554146  0.492320  0.185612   \n",
       "48  0.047188  0.854596  0.833368  0.043878  0.883505  0.786302  0.980916   \n",
       "49  0.936065  0.725831  0.184239  0.677391  0.242726  0.125457  0.356254   \n",
       "\n",
       "           7         8         9        10        11        12        13  \\\n",
       "0   0.094802  0.705133  0.882762  0.773320  0.687745  0.016789  0.340725   \n",
       "1   0.879020  0.421837  0.412141  0.858513  0.217091  0.176157  0.551236   \n",
       "2   0.982074  0.876955  0.633154  0.279005  0.483317  0.908288  0.756172   \n",
       "3   0.210332  0.732133  0.892383  0.216893  0.367595  0.846208  0.240111   \n",
       "4   0.646837  0.888722  0.922742  0.176593  0.861333  0.389451  0.695244   \n",
       "5   0.986890  0.582352  0.037230  0.130306  0.766153  0.153783  0.199140   \n",
       "6   0.158188  0.039182  0.543442  0.521210  0.993481  0.580359  0.765757   \n",
       "7   0.808370  0.578024  0.181267  0.064788  0.924226  0.070744  0.704575   \n",
       "8   0.406938  0.898234  0.513575  0.532473  0.790312  0.082292  0.850821   \n",
       "9   0.774760  0.293800  0.956949  0.811740  0.525562  0.454788  0.848812   \n",
       "10  0.855673  0.339445  0.895810  0.832431  0.553308  0.617711  0.841575   \n",
       "11  0.643328  0.371559  0.674311  0.424815  0.279397  0.015081  0.788497   \n",
       "12  0.764379  0.017461  0.131970  0.649451  0.902157  0.034188  0.840938   \n",
       "13  0.945462  0.139241  0.105477  0.889501  0.160828  0.400774  0.770295   \n",
       "14  0.396090  0.681679  0.390542  0.030394  0.944077  0.366139  0.078188   \n",
       "15  0.777885  0.775623  0.717817  0.788198  0.962214  0.394465  0.878922   \n",
       "16  0.689829  0.510885  0.737445  0.097678  0.242906  0.073603  0.497591   \n",
       "17  0.257945  0.313437  0.418311  0.750007  0.604759  0.234886  0.832337   \n",
       "18  0.570693  0.435938  0.360098  0.037437  0.167545  0.847880  0.773456   \n",
       "19  0.766006  0.607020  0.197302  0.526352  0.676571  0.473574  0.953228   \n",
       "20  0.058092  0.753502  0.587513  0.311608  0.178356  0.182922  0.147631   \n",
       "21  0.601524  0.688753  0.338870  0.081595  0.471474  0.267443  0.453351   \n",
       "22  0.584542  0.032594  0.589775  0.764350  0.650973  0.565705  0.691784   \n",
       "23  0.260279  0.528873  0.168043  0.715929  0.677014  0.175735  0.632370   \n",
       "24  0.892210  0.381701  0.415264  0.790801  0.696930  0.819751  0.944029   \n",
       "25  0.623167  0.074066  0.111557  0.864664  0.093637  0.446974  0.022525   \n",
       "26  0.086904  0.912348  0.892183  0.426389  0.776552  0.429496  0.602056   \n",
       "27  0.921508  0.563333  0.184300  0.667625  0.270017  0.573440  0.163669   \n",
       "28  0.980700  0.159022  0.684265  0.898633  0.470113  0.756593  0.282408   \n",
       "29  0.688937  0.260252  0.634608  0.273775  0.264145  0.682941  0.908499   \n",
       "30  0.250324  0.147078  0.162984  0.977025  0.509619  0.593212  0.911839   \n",
       "31  0.087914  0.960261  0.580840  0.194616  0.661459  0.674085  0.049326   \n",
       "32  0.680720  0.340412  0.462513  0.785776  0.251949  0.032847  0.995700   \n",
       "33  0.934502  0.080322  0.763502  0.398504  0.027637  0.409665  0.942846   \n",
       "34  0.847157  0.771811  0.233944  0.522344  0.053030  0.208551  0.824354   \n",
       "35  0.287449  0.792692  0.080025  0.079886  0.067887  0.543498  0.711158   \n",
       "36  0.027735  0.427692  0.156926  0.486138  0.571278  0.940414  0.940730   \n",
       "37  0.286901  0.320112  0.048815  0.768725  0.461014  0.090451  0.720938   \n",
       "38  0.774269  0.323313  0.349850  0.413465  0.641111  0.841210  0.668661   \n",
       "39  0.658329  0.973615  0.449771  0.615229  0.467290  0.158077  0.305716   \n",
       "40  0.194754  0.932388  0.591727  0.697517  0.607355  0.177649  0.435968   \n",
       "41  0.871204  0.321745  0.586035  0.887054  0.240060  0.915342  0.205310   \n",
       "42  0.875259  0.538416  0.867511  0.813309  0.215624  0.552062  0.498378   \n",
       "43  0.644348  0.938444  0.410444  0.561513  0.499231  0.856437  0.054619   \n",
       "44  0.548845  0.121471  0.194299  0.149844  0.848866  0.531840  0.663384   \n",
       "45  0.950970  0.168079  0.783107  0.698836  0.120857  0.207432  0.824789   \n",
       "46  0.729812  0.998528  0.048724  0.377391  0.729498  0.721515  0.566724   \n",
       "47  0.060855  0.457443  0.847337  0.603072  0.346574  0.898464  0.482963   \n",
       "48  0.004030  0.619601  0.547769  0.160962  0.545281  0.931623  0.991855   \n",
       "49  0.937350  0.215774  0.212762  0.483018  0.573162  0.634487  0.423924   \n",
       "\n",
       "          14        15        16        17        18        19  \n",
       "0   0.984182  0.985461  0.412044  0.867894  0.113432  0.349845  \n",
       "1   0.834378  0.419535  0.041431  0.602258  0.984628  0.516899  \n",
       "2   0.462130  0.289892  0.145233  0.076819  0.797836  0.197592  \n",
       "3   0.471880  0.399721  0.758196  0.665568  0.931542  0.448124  \n",
       "4   0.129955  0.364114  0.428224  0.365442  0.847818  0.588319  \n",
       "5   0.330318  0.969657  0.110998  0.033474  0.117277  0.213938  \n",
       "6   0.931264  0.336841  0.271230  0.509798  0.877048  0.310951  \n",
       "7   0.948127  0.971452  0.360861  0.074394  0.386949  0.396453  \n",
       "8   0.088025  0.289218  0.822775  0.515933  0.962827  0.026952  \n",
       "9   0.095214  0.415311  0.026496  0.513342  0.830389  0.931145  \n",
       "10  0.336094  0.951907  0.050986  0.856135  0.773953  0.295344  \n",
       "11  0.132391  0.766033  0.708510  0.752866  0.493862  0.577262  \n",
       "12  0.098536  0.957824  0.566209  0.655947  0.592733  0.002596  \n",
       "13  0.844655  0.772798  0.584262  0.807400  0.177419  0.926007  \n",
       "14  0.175482  0.232489  0.806964  0.904593  0.803629  0.792851  \n",
       "15  0.084206  0.680941  0.992897  0.267455  0.212403  0.572150  \n",
       "16  0.798467  0.789078  0.947559  0.631497  0.057953  0.060306  \n",
       "17  0.421263  0.455785  0.893841  0.726412  0.458360  0.048740  \n",
       "18  0.490628  0.544232  0.954668  0.567280  0.571539  0.560742  \n",
       "19  0.413186  0.957242  0.642558  0.351496  0.547297  0.177401  \n",
       "20  0.391188  0.816049  0.749068  0.293260  0.937828  0.880858  \n",
       "21  0.800716  0.045749  0.683793  0.389789  0.016787  0.503695  \n",
       "22  0.265223  0.739031  0.560394  0.334802  0.517694  0.646110  \n",
       "23  0.926715  0.085675  0.120525  0.141746  0.771144  0.489660  \n",
       "24  0.869965  0.041723  0.819140  0.676051  0.109349  0.872947  \n",
       "25  0.713369  0.707874  0.563506  0.982256  0.562498  0.968681  \n",
       "26  0.283769  0.166793  0.316878  0.688337  0.169525  0.966198  \n",
       "27  0.032852  0.689315  0.973684  0.719610  0.163670  0.724486  \n",
       "28  0.551369  0.732153  0.494100  0.792803  0.794426  0.837695  \n",
       "29  0.450950  0.200761  0.968324  0.221165  0.891382  0.398914  \n",
       "30  0.257645  0.386457  0.696932  0.069162  0.952291  0.286542  \n",
       "31  0.785803  0.315645  0.495355  0.232135  0.549324  0.572232  \n",
       "32  0.816563  0.735692  0.435998  0.430411  0.531757  0.489528  \n",
       "33  0.133256  0.157158  0.929446  0.402791  0.685976  0.246594  \n",
       "34  0.588567  0.604341  0.232964  0.229109  0.022881  0.479022  \n",
       "35  0.960030  0.810807  0.579395  0.660811  0.520295  0.945250  \n",
       "36  0.933377  0.427869  0.654402  0.407580  0.122453  0.115311  \n",
       "37  0.192501  0.219077  0.034113  0.858956  0.816036  0.582192  \n",
       "38  0.101031  0.972135  0.479581  0.149982  0.035150  0.528075  \n",
       "39  0.730355  0.412336  0.469142  0.078734  0.448741  0.827487  \n",
       "40  0.202404  0.979777  0.095713  0.159040  0.651457  0.803393  \n",
       "41  0.489504  0.848926  0.304342  0.358977  0.841539  0.964889  \n",
       "42  0.739656  0.307914  0.233996  0.602166  0.244210  0.313071  \n",
       "43  0.326310  0.461825  0.954783  0.361873  0.145952  0.873029  \n",
       "44  0.084884  0.120312  0.463214  0.437889  0.542376  0.668447  \n",
       "45  0.349212  0.818606  0.376941  0.886644  0.472826  0.551858  \n",
       "46  0.338366  0.877239  0.129824  0.773155  0.485385  0.686294  \n",
       "47  0.443979  0.430132  0.713078  0.302786  0.051382  0.203699  \n",
       "48  0.821099  0.654592  0.346710  0.183948  0.372739  0.739383  \n",
       "49  0.394633  0.766967  0.606719  0.538712  0.885516  0.667051  "
      ]
     },
     "execution_count": 66,
     "metadata": {},
     "output_type": "execute_result"
    }
   ],
   "source": [
    "pd.concat(lof, ignore_index=True)"
   ]
  },
  {
   "cell_type": "code",
   "execution_count": null,
   "metadata": {},
   "outputs": [],
   "source": []
  },
  {
   "cell_type": "code",
   "execution_count": null,
   "metadata": {},
   "outputs": [],
   "source": []
  },
  {
   "cell_type": "markdown",
   "metadata": {},
   "source": [
    "# Lab Review"
   ]
  },
  {
   "cell_type": "markdown",
   "metadata": {},
   "source": [
    "## Tuples"
   ]
  },
  {
   "cell_type": "code",
   "execution_count": 70,
   "metadata": {},
   "outputs": [],
   "source": [
    "tup=('I',)"
   ]
  },
  {
   "cell_type": "code",
   "execution_count": 71,
   "metadata": {},
   "outputs": [
    {
     "data": {
      "text/plain": [
       "('I',)"
      ]
     },
     "execution_count": 71,
     "metadata": {},
     "output_type": "execute_result"
    }
   ],
   "source": [
    "tup"
   ]
  },
  {
   "cell_type": "code",
   "execution_count": 72,
   "metadata": {},
   "outputs": [
    {
     "name": "stdout",
     "output_type": "stream",
     "text": [
      "<class 'tuple'>\n"
     ]
    }
   ],
   "source": [
    "print(type(tup))"
   ]
  },
  {
   "cell_type": "code",
   "execution_count": 73,
   "metadata": {},
   "outputs": [],
   "source": [
    "ronhack=[\"r\", \"o\", \"n\", \"h\", \"a\", \"c\", \"k\"]"
   ]
  },
  {
   "cell_type": "code",
   "execution_count": 74,
   "metadata": {},
   "outputs": [
    {
     "ename": "AttributeError",
     "evalue": "'tuple' object has no attribute 'append'",
     "output_type": "error",
     "traceback": [
      "\u001b[0;31m---------------------------------------------------------------------------\u001b[0m",
      "\u001b[0;31mAttributeError\u001b[0m                            Traceback (most recent call last)",
      "\u001b[0;32m<ipython-input-74-b13d81c6d873>\u001b[0m in \u001b[0;36m<module>\u001b[0;34m\u001b[0m\n\u001b[0;32m----> 1\u001b[0;31m \u001b[0mtup\u001b[0m\u001b[0;34m.\u001b[0m\u001b[0mappend\u001b[0m\u001b[0;34m(\u001b[0m\u001b[0mronhack\u001b[0m\u001b[0;34m)\u001b[0m\u001b[0;34m\u001b[0m\u001b[0;34m\u001b[0m\u001b[0m\n\u001b[0m",
      "\u001b[0;31mAttributeError\u001b[0m: 'tuple' object has no attribute 'append'"
     ]
    }
   ],
   "source": [
    "tup.append(ronhack)"
   ]
  },
  {
   "cell_type": "code",
   "execution_count": 76,
   "metadata": {},
   "outputs": [
    {
     "data": {
      "text/plain": [
       "('I', 'r', 'o', 'n', 'h', 'a', 'c', 'k')"
      ]
     },
     "execution_count": 76,
     "metadata": {},
     "output_type": "execute_result"
    }
   ],
   "source": [
    "tup+tuple(ronhack)"
   ]
  },
  {
   "cell_type": "code",
   "execution_count": 77,
   "metadata": {},
   "outputs": [
    {
     "data": {
      "text/plain": [
       "('I',)"
      ]
     },
     "execution_count": 77,
     "metadata": {},
     "output_type": "execute_result"
    }
   ],
   "source": [
    "tup"
   ]
  },
  {
   "cell_type": "code",
   "execution_count": 78,
   "metadata": {},
   "outputs": [],
   "source": [
    "tup=tup+tuple(ronhack)"
   ]
  },
  {
   "cell_type": "code",
   "execution_count": 79,
   "metadata": {},
   "outputs": [
    {
     "data": {
      "text/plain": [
       "('I', 'r', 'o', 'n', 'h', 'a', 'c', 'k')"
      ]
     },
     "execution_count": 79,
     "metadata": {},
     "output_type": "execute_result"
    }
   ],
   "source": [
    "tup"
   ]
  },
  {
   "cell_type": "code",
   "execution_count": 80,
   "metadata": {},
   "outputs": [],
   "source": [
    "tup1,tup2=tup[:4],tup[-4:]"
   ]
  },
  {
   "cell_type": "code",
   "execution_count": 81,
   "metadata": {},
   "outputs": [
    {
     "data": {
      "text/plain": [
       "('I', 'r', 'o', 'n')"
      ]
     },
     "execution_count": 81,
     "metadata": {},
     "output_type": "execute_result"
    }
   ],
   "source": [
    "tup1"
   ]
  },
  {
   "cell_type": "code",
   "execution_count": 82,
   "metadata": {},
   "outputs": [
    {
     "data": {
      "text/plain": [
       "('h', 'a', 'c', 'k')"
      ]
     },
     "execution_count": 82,
     "metadata": {},
     "output_type": "execute_result"
    }
   ],
   "source": [
    "tup2"
   ]
  },
  {
   "cell_type": "code",
   "execution_count": 83,
   "metadata": {},
   "outputs": [],
   "source": [
    "tup3=tup1+tup2"
   ]
  },
  {
   "cell_type": "code",
   "execution_count": 84,
   "metadata": {},
   "outputs": [
    {
     "data": {
      "text/plain": [
       "('I', 'r', 'o', 'n', 'h', 'a', 'c', 'k')"
      ]
     },
     "execution_count": 84,
     "metadata": {},
     "output_type": "execute_result"
    }
   ],
   "source": [
    "tup3"
   ]
  },
  {
   "cell_type": "code",
   "execution_count": 85,
   "metadata": {},
   "outputs": [
    {
     "data": {
      "text/plain": [
       "True"
      ]
     },
     "execution_count": 85,
     "metadata": {},
     "output_type": "execute_result"
    }
   ],
   "source": [
    "tup3==tup"
   ]
  },
  {
   "cell_type": "code",
   "execution_count": 86,
   "metadata": {},
   "outputs": [
    {
     "data": {
      "text/plain": [
       "True"
      ]
     },
     "execution_count": 86,
     "metadata": {},
     "output_type": "execute_result"
    }
   ],
   "source": [
    "(len(tup1)+len(tup2))==len(tup3)"
   ]
  },
  {
   "cell_type": "code",
   "execution_count": 87,
   "metadata": {},
   "outputs": [
    {
     "data": {
      "text/plain": [
       "4"
      ]
     },
     "execution_count": 87,
     "metadata": {},
     "output_type": "execute_result"
    }
   ],
   "source": [
    "tup3.index('h')"
   ]
  },
  {
   "cell_type": "code",
   "execution_count": 88,
   "metadata": {},
   "outputs": [
    {
     "name": "stdout",
     "output_type": "stream",
     "text": [
      "4\n"
     ]
    }
   ],
   "source": [
    "for i,j in enumerate(tup3):\n",
    "    if j=='h':\n",
    "        print(i)"
   ]
  },
  {
   "cell_type": "code",
   "execution_count": 89,
   "metadata": {},
   "outputs": [
    {
     "name": "stdout",
     "output_type": "stream",
     "text": [
      "4\n"
     ]
    }
   ],
   "source": [
    "for i in range(len(tup3)):\n",
    "    if tup3[i]=='h':\n",
    "        print(i)"
   ]
  },
  {
   "cell_type": "code",
   "execution_count": 90,
   "metadata": {},
   "outputs": [
    {
     "name": "stdout",
     "output_type": "stream",
     "text": [
      "True\n",
      "False\n",
      "True\n",
      "False\n",
      "False\n"
     ]
    }
   ],
   "source": [
    "letters = [\"a\", \"b\", \"c\", \"d\", \"e\"]\n",
    "\n",
    "for i in letters:\n",
    "    if i in tup3:\n",
    "        print(True)\n",
    "    else:\n",
    "        print(False)"
   ]
  },
  {
   "cell_type": "code",
   "execution_count": 91,
   "metadata": {},
   "outputs": [
    {
     "name": "stdout",
     "output_type": "stream",
     "text": [
      "True\n",
      "False\n",
      "True\n",
      "False\n",
      "False\n"
     ]
    }
   ],
   "source": [
    "for i in letters:\n",
    "    print(i in tup3)"
   ]
  },
  {
   "cell_type": "code",
   "execution_count": 92,
   "metadata": {},
   "outputs": [
    {
     "name": "stdout",
     "output_type": "stream",
     "text": [
      "letter a appears in tup3 1 times.\n",
      "letter b was not detected in tup3.\n",
      "letter c appears in tup3 1 times.\n",
      "letter d was not detected in tup3.\n",
      "letter e was not detected in tup3.\n"
     ]
    }
   ],
   "source": [
    "for i in letters:\n",
    "    if i in tup3:\n",
    "        print(f'letter {i} appears in tup3 {tup3.count(i)} times.')\n",
    "    else:\n",
    "        print(f'letter {i} was not detected in tup3.')"
   ]
  },
  {
   "cell_type": "markdown",
   "metadata": {},
   "source": [
    "## Sets"
   ]
  },
  {
   "cell_type": "code",
   "execution_count": 93,
   "metadata": {},
   "outputs": [],
   "source": [
    "import random"
   ]
  },
  {
   "cell_type": "code",
   "execution_count": 95,
   "metadata": {},
   "outputs": [
    {
     "name": "stdout",
     "output_type": "stream",
     "text": [
      "[6, 88, 55, 5, 81, 9, 73, 76, 25, 31, 10, 42, 45, 61, 28, 43, 67, 66, 91, 68, 18, 65, 17, 46, 12, 29, 2, 36, 78, 20, 4, 0, 79, 89, 84, 93, 21, 85, 8, 52, 72, 50, 69, 82, 59, 22, 94, 13, 63, 58, 96, 83, 62, 86, 35, 77, 16, 95, 27, 64, 30, 44, 57, 39, 60, 7, 41, 11, 97, 87, 47, 70, 26, 98, 1, 24, 37, 19, 92, 15]\n"
     ]
    }
   ],
   "source": [
    "sample_list_1=random.sample(range(100), k=80)\n",
    "print(sample_list_1)"
   ]
  },
  {
   "cell_type": "code",
   "execution_count": 97,
   "metadata": {},
   "outputs": [],
   "source": [
    "len(set(sample_list_1))\n",
    "\n",
    "set1=set(sample_list_1)"
   ]
  },
  {
   "cell_type": "code",
   "execution_count": 98,
   "metadata": {},
   "outputs": [],
   "source": [
    "sample_list_2=[]\n",
    "\n",
    "for i in range(80):\n",
    "    sample_list_2.append(random.randint(0,100))"
   ]
  },
  {
   "cell_type": "code",
   "execution_count": 99,
   "metadata": {},
   "outputs": [
    {
     "name": "stdout",
     "output_type": "stream",
     "text": [
      "[48, 4, 44, 77, 93, 68, 82, 1, 75, 4, 56, 50, 6, 7, 13, 93, 73, 32, 75, 39, 77, 58, 50, 73, 39, 76, 24, 6, 69, 12, 39, 4, 3, 64, 82, 16, 16, 29, 42, 71, 20, 27, 21, 4, 1, 57, 68, 0, 48, 73, 2, 28, 35, 48, 68, 65, 8, 45, 12, 93, 71, 41, 21, 33, 71, 92, 18, 21, 83, 95, 29, 48, 52, 34, 19, 2, 45, 10, 33, 93]\n"
     ]
    }
   ],
   "source": [
    "print(sample_list_2)"
   ]
  },
  {
   "cell_type": "code",
   "execution_count": 100,
   "metadata": {},
   "outputs": [
    {
     "data": {
      "text/plain": [
       "49"
      ]
     },
     "execution_count": 100,
     "metadata": {},
     "output_type": "execute_result"
    }
   ],
   "source": [
    "set2=set(sample_list_2)\n",
    "len(set2)"
   ]
  },
  {
   "cell_type": "code",
   "execution_count": 101,
   "metadata": {},
   "outputs": [],
   "source": [
    "set3=set1-set2"
   ]
  },
  {
   "cell_type": "code",
   "execution_count": 102,
   "metadata": {},
   "outputs": [],
   "source": [
    "set4=set2-set1"
   ]
  },
  {
   "cell_type": "code",
   "execution_count": 103,
   "metadata": {},
   "outputs": [],
   "source": [
    "set5=set1&set2"
   ]
  },
  {
   "cell_type": "code",
   "execution_count": 104,
   "metadata": {},
   "outputs": [],
   "source": [
    "set5=set1.intersection(set2)"
   ]
  },
  {
   "cell_type": "code",
   "execution_count": 106,
   "metadata": {},
   "outputs": [
    {
     "data": {
      "text/plain": [
       "True"
      ]
     },
     "execution_count": 106,
     "metadata": {},
     "output_type": "execute_result"
    }
   ],
   "source": [
    "2*len(set5)+len(set3)+len(set4)==len(set1)+len(set2)"
   ]
  },
  {
   "cell_type": "code",
   "execution_count": 107,
   "metadata": {},
   "outputs": [
    {
     "data": {
      "text/plain": [
       "True"
      ]
     },
     "execution_count": 107,
     "metadata": {},
     "output_type": "execute_result"
    }
   ],
   "source": [
    "len(set1)==len(set3)+len(set5)"
   ]
  },
  {
   "cell_type": "code",
   "execution_count": 108,
   "metadata": {},
   "outputs": [],
   "source": [
    "set6=set()"
   ]
  },
  {
   "cell_type": "code",
   "execution_count": 109,
   "metadata": {},
   "outputs": [],
   "source": [
    "set6.update(set3,set5)"
   ]
  },
  {
   "cell_type": "code",
   "execution_count": 110,
   "metadata": {},
   "outputs": [
    {
     "data": {
      "text/plain": [
       "True"
      ]
     },
     "execution_count": 110,
     "metadata": {},
     "output_type": "execute_result"
    }
   ],
   "source": [
    "set1==set6"
   ]
  },
  {
   "cell_type": "code",
   "execution_count": 111,
   "metadata": {},
   "outputs": [
    {
     "name": "stdout",
     "output_type": "stream",
     "text": [
      "False\n",
      "True\n"
     ]
    }
   ],
   "source": [
    "print(set2.issubset(set1))\n",
    "print(set3.issubset(set1))"
   ]
  },
  {
   "cell_type": "code",
   "execution_count": 113,
   "metadata": {},
   "outputs": [
    {
     "data": {
      "text/plain": [
       "True"
      ]
     },
     "execution_count": 113,
     "metadata": {},
     "output_type": "execute_result"
    }
   ],
   "source": [
    "ag1=set3.union(set4)\n",
    "ag1=ag1.union(set5)\n",
    "\n",
    "ag2=set1.union(set2)\n",
    "\n",
    "ag1==ag2"
   ]
  },
  {
   "cell_type": "code",
   "execution_count": 115,
   "metadata": {},
   "outputs": [
    {
     "data": {
      "text/plain": [
       "True"
      ]
     },
     "execution_count": 115,
     "metadata": {},
     "output_type": "execute_result"
    }
   ],
   "source": [
    "set3.union(set4,set5)==set1.union(set2)"
   ]
  },
  {
   "cell_type": "code",
   "execution_count": 116,
   "metadata": {},
   "outputs": [
    {
     "data": {
      "text/plain": [
       "True"
      ]
     },
     "execution_count": 116,
     "metadata": {},
     "output_type": "execute_result"
    }
   ],
   "source": [
    "set3|set4|set5==set1|set2"
   ]
  },
  {
   "cell_type": "code",
   "execution_count": 117,
   "metadata": {},
   "outputs": [
    {
     "data": {
      "text/plain": [
       "79"
      ]
     },
     "execution_count": 117,
     "metadata": {},
     "output_type": "execute_result"
    }
   ],
   "source": [
    "set1.pop()\n",
    "len(set1)"
   ]
  },
  {
   "cell_type": "code",
   "execution_count": 118,
   "metadata": {},
   "outputs": [
    {
     "name": "stdout",
     "output_type": "stream",
     "text": [
      "{2, 4, 5, 6, 7, 8, 10, 12, 13, 15, 16, 17, 18, 20, 22, 24, 25, 26, 27, 28, 30, 35, 36, 37, 42, 43, 44, 45, 46, 47, 50, 52, 55, 57, 58, 60, 62, 63, 64, 65, 66, 67, 68, 70, 72, 73, 76, 77, 78, 82, 83, 84, 85, 86, 87, 88, 92, 93, 94, 95, 96, 97, 98}\n"
     ]
    }
   ],
   "source": [
    "list_to_remove = [1, 9, 11, 19, 21, 29, 31, 39, 41, 49, 51, 59, 61, 69, 71, 79, 81, 89, 91, 99]\n",
    "\n",
    "for i in list_to_remove:\n",
    "    if i in set1:\n",
    "        set1.remove(i)\n",
    "print(set1)"
   ]
  },
  {
   "cell_type": "code",
   "execution_count": 119,
   "metadata": {
    "collapsed": true
   },
   "outputs": [
    {
     "data": {
      "text/plain": [
       "{2,\n",
       " 4,\n",
       " 5,\n",
       " 6,\n",
       " 7,\n",
       " 8,\n",
       " 10,\n",
       " 12,\n",
       " 13,\n",
       " 15,\n",
       " 16,\n",
       " 17,\n",
       " 18,\n",
       " 20,\n",
       " 22,\n",
       " 24,\n",
       " 25,\n",
       " 26,\n",
       " 27,\n",
       " 28,\n",
       " 30,\n",
       " 35,\n",
       " 36,\n",
       " 37,\n",
       " 42,\n",
       " 43,\n",
       " 44,\n",
       " 45,\n",
       " 46,\n",
       " 47,\n",
       " 50,\n",
       " 52,\n",
       " 55,\n",
       " 57,\n",
       " 58,\n",
       " 60,\n",
       " 62,\n",
       " 63,\n",
       " 64,\n",
       " 65,\n",
       " 66,\n",
       " 67,\n",
       " 68,\n",
       " 70,\n",
       " 72,\n",
       " 73,\n",
       " 76,\n",
       " 77,\n",
       " 78,\n",
       " 82,\n",
       " 83,\n",
       " 84,\n",
       " 85,\n",
       " 86,\n",
       " 87,\n",
       " 88,\n",
       " 92,\n",
       " 93,\n",
       " 94,\n",
       " 95,\n",
       " 96,\n",
       " 97,\n",
       " 98}"
      ]
     },
     "execution_count": 119,
     "metadata": {},
     "output_type": "execute_result"
    }
   ],
   "source": [
    "set1-set(list_to_remove)"
   ]
  },
  {
   "cell_type": "markdown",
   "metadata": {},
   "source": [
    "## Dicts"
   ]
  },
  {
   "cell_type": "code",
   "execution_count": 120,
   "metadata": {},
   "outputs": [],
   "source": [
    "word_freq = {'love': 25, 'conversation': 1, 'every': 6, \"we're\": 1, 'plate': 1, 'sour': 1, 'jukebox': 1, 'now': 11, 'taxi': 1, 'fast': 1, 'bag': 1, 'man': 1, 'push': 3, 'baby': 14, 'going': 1, 'you': 16, \"don't\": 2, 'one': 1, 'mind': 2, 'backseat': 1, 'friends': 1, 'then': 3, 'know': 2, 'take': 1, 'play': 1, 'okay': 1, 'so': 2, 'begin': 1, 'start': 2, 'over': 1, 'body': 17, 'boy': 2, 'just': 1, 'we': 7, 'are': 1, 'girl': 2, 'tell': 1, 'singing': 2, 'drinking': 1, 'put': 3, 'our': 1, 'where': 1, \"i'll\": 1, 'all': 1, \"isn't\": 1, 'make': 1, 'lover': 1, 'get': 1, 'radio': 1, 'give': 1, \"i'm\": 23, 'like': 10, 'can': 1, 'doing': 2, 'with': 22, 'club': 1, 'come': 37, 'it': 1, 'somebody': 2, 'handmade': 2, 'out': 1, 'new': 6, 'room': 3, 'chance': 1, 'follow': 6, 'in': 27, 'may': 2, 'brand': 6, 'that': 2, 'magnet': 3, 'up': 3, 'first': 1, 'and': 23, 'pull': 3, 'of': 6, 'table': 1, 'much': 2, 'last': 3, 'i': 6, 'thrifty': 1, 'grab': 2, 'was': 2, 'driver': 1, 'slow': 1, 'dance': 1, 'the': 18, 'say': 2, 'trust': 1, 'family': 1, 'week': 1, 'date': 1, 'me': 10, 'do': 3, 'waist': 2, 'smell': 3, 'day': 6, 'although': 3, 'your': 21, 'leave': 1, 'want': 2, \"let's\": 2, 'lead': 6, 'at': 1, 'hand': 1, 'how': 1, 'talk': 4, 'not': 2, 'eat': 1, 'falling': 3, 'about': 1, 'story': 1, 'sweet': 1, 'best': 1, 'crazy': 2, 'let': 1, 'too': 5, 'van': 1, 'shots': 1, 'go': 2, 'to': 2, 'a': 8, 'my': 33, 'is': 5, 'place': 1, 'find': 1, 'shape': 6, 'on': 40, 'kiss': 1, 'were': 3, 'night': 3, 'heart': 3, 'for': 3, 'discovering': 6, 'something': 6, 'be': 16, 'bedsheets': 3, 'fill': 2, 'hours': 2, 'stop': 1, 'bar': 1}"
   ]
  },
  {
   "cell_type": "code",
   "execution_count": 123,
   "metadata": {},
   "outputs": [],
   "source": [
    "keys=list(word_freq.keys())"
   ]
  },
  {
   "cell_type": "code",
   "execution_count": 124,
   "metadata": {},
   "outputs": [],
   "source": [
    "keys.sort()"
   ]
  },
  {
   "cell_type": "code",
   "execution_count": 126,
   "metadata": {},
   "outputs": [],
   "source": [
    "word_freq2={}"
   ]
  },
  {
   "cell_type": "code",
   "execution_count": 127,
   "metadata": {},
   "outputs": [],
   "source": [
    "for i in keys:\n",
    "    word_freq2[i]=word_freq[i]"
   ]
  },
  {
   "cell_type": "code",
   "execution_count": 128,
   "metadata": {
    "collapsed": true
   },
   "outputs": [
    {
     "data": {
      "text/plain": [
       "{'a': 8,\n",
       " 'about': 1,\n",
       " 'all': 1,\n",
       " 'although': 3,\n",
       " 'and': 23,\n",
       " 'are': 1,\n",
       " 'at': 1,\n",
       " 'baby': 14,\n",
       " 'backseat': 1,\n",
       " 'bag': 1,\n",
       " 'bar': 1,\n",
       " 'be': 16,\n",
       " 'bedsheets': 3,\n",
       " 'begin': 1,\n",
       " 'best': 1,\n",
       " 'body': 17,\n",
       " 'boy': 2,\n",
       " 'brand': 6,\n",
       " 'can': 1,\n",
       " 'chance': 1,\n",
       " 'club': 1,\n",
       " 'come': 37,\n",
       " 'conversation': 1,\n",
       " 'crazy': 2,\n",
       " 'dance': 1,\n",
       " 'date': 1,\n",
       " 'day': 6,\n",
       " 'discovering': 6,\n",
       " 'do': 3,\n",
       " 'doing': 2,\n",
       " \"don't\": 2,\n",
       " 'drinking': 1,\n",
       " 'driver': 1,\n",
       " 'eat': 1,\n",
       " 'every': 6,\n",
       " 'falling': 3,\n",
       " 'family': 1,\n",
       " 'fast': 1,\n",
       " 'fill': 2,\n",
       " 'find': 1,\n",
       " 'first': 1,\n",
       " 'follow': 6,\n",
       " 'for': 3,\n",
       " 'friends': 1,\n",
       " 'get': 1,\n",
       " 'girl': 2,\n",
       " 'give': 1,\n",
       " 'go': 2,\n",
       " 'going': 1,\n",
       " 'grab': 2,\n",
       " 'hand': 1,\n",
       " 'handmade': 2,\n",
       " 'heart': 3,\n",
       " 'hours': 2,\n",
       " 'how': 1,\n",
       " 'i': 6,\n",
       " \"i'll\": 1,\n",
       " \"i'm\": 23,\n",
       " 'in': 27,\n",
       " 'is': 5,\n",
       " \"isn't\": 1,\n",
       " 'it': 1,\n",
       " 'jukebox': 1,\n",
       " 'just': 1,\n",
       " 'kiss': 1,\n",
       " 'know': 2,\n",
       " 'last': 3,\n",
       " 'lead': 6,\n",
       " 'leave': 1,\n",
       " 'let': 1,\n",
       " \"let's\": 2,\n",
       " 'like': 10,\n",
       " 'love': 25,\n",
       " 'lover': 1,\n",
       " 'magnet': 3,\n",
       " 'make': 1,\n",
       " 'man': 1,\n",
       " 'may': 2,\n",
       " 'me': 10,\n",
       " 'mind': 2,\n",
       " 'much': 2,\n",
       " 'my': 33,\n",
       " 'new': 6,\n",
       " 'night': 3,\n",
       " 'not': 2,\n",
       " 'now': 11,\n",
       " 'of': 6,\n",
       " 'okay': 1,\n",
       " 'on': 40,\n",
       " 'one': 1,\n",
       " 'our': 1,\n",
       " 'out': 1,\n",
       " 'over': 1,\n",
       " 'place': 1,\n",
       " 'plate': 1,\n",
       " 'play': 1,\n",
       " 'pull': 3,\n",
       " 'push': 3,\n",
       " 'put': 3,\n",
       " 'radio': 1,\n",
       " 'room': 3,\n",
       " 'say': 2,\n",
       " 'shape': 6,\n",
       " 'shots': 1,\n",
       " 'singing': 2,\n",
       " 'slow': 1,\n",
       " 'smell': 3,\n",
       " 'so': 2,\n",
       " 'somebody': 2,\n",
       " 'something': 6,\n",
       " 'sour': 1,\n",
       " 'start': 2,\n",
       " 'stop': 1,\n",
       " 'story': 1,\n",
       " 'sweet': 1,\n",
       " 'table': 1,\n",
       " 'take': 1,\n",
       " 'talk': 4,\n",
       " 'taxi': 1,\n",
       " 'tell': 1,\n",
       " 'that': 2,\n",
       " 'the': 18,\n",
       " 'then': 3,\n",
       " 'thrifty': 1,\n",
       " 'to': 2,\n",
       " 'too': 5,\n",
       " 'trust': 1,\n",
       " 'up': 3,\n",
       " 'van': 1,\n",
       " 'waist': 2,\n",
       " 'want': 2,\n",
       " 'was': 2,\n",
       " 'we': 7,\n",
       " \"we're\": 1,\n",
       " 'week': 1,\n",
       " 'were': 3,\n",
       " 'where': 1,\n",
       " 'with': 22,\n",
       " 'you': 16,\n",
       " 'your': 21}"
      ]
     },
     "execution_count": 128,
     "metadata": {},
     "output_type": "execute_result"
    }
   ],
   "source": [
    "word_freq2"
   ]
  },
  {
   "cell_type": "code",
   "execution_count": 129,
   "metadata": {},
   "outputs": [
    {
     "name": "stdout",
     "output_type": "stream",
     "text": [
      "[('conversation', 1), (\"we're\", 1), ('plate', 1), ('sour', 1), ('jukebox', 1), ('taxi', 1), ('fast', 1), ('bag', 1), ('man', 1), ('going', 1), ('one', 1), ('backseat', 1), ('friends', 1), ('take', 1), ('play', 1), ('okay', 1), ('begin', 1), ('over', 1), ('just', 1), ('are', 1), ('tell', 1), ('drinking', 1), ('our', 1), ('where', 1), (\"i'll\", 1), ('all', 1), (\"isn't\", 1), ('make', 1), ('lover', 1), ('get', 1), ('radio', 1), ('give', 1), ('can', 1), ('club', 1), ('it', 1), ('out', 1), ('chance', 1), ('first', 1), ('table', 1), ('thrifty', 1), ('driver', 1), ('slow', 1), ('dance', 1), ('trust', 1), ('family', 1), ('week', 1), ('date', 1), ('leave', 1), ('at', 1), ('hand', 1), ('how', 1), ('eat', 1), ('about', 1), ('story', 1), ('sweet', 1), ('best', 1), ('let', 1), ('van', 1), ('shots', 1), ('place', 1), ('find', 1), ('kiss', 1), ('stop', 1), ('bar', 1), (\"don't\", 2), ('mind', 2), ('know', 2), ('so', 2), ('start', 2), ('boy', 2), ('girl', 2), ('singing', 2), ('doing', 2), ('somebody', 2), ('handmade', 2), ('may', 2), ('that', 2), ('much', 2), ('grab', 2), ('was', 2), ('say', 2), ('waist', 2), ('want', 2), (\"let's\", 2), ('not', 2), ('crazy', 2), ('go', 2), ('to', 2), ('fill', 2), ('hours', 2), ('push', 3), ('then', 3), ('put', 3), ('room', 3), ('magnet', 3), ('up', 3), ('pull', 3), ('last', 3), ('do', 3), ('smell', 3), ('although', 3), ('falling', 3), ('were', 3), ('night', 3), ('heart', 3), ('for', 3), ('bedsheets', 3), ('talk', 4), ('too', 5), ('is', 5), ('every', 6), ('new', 6), ('follow', 6), ('brand', 6), ('of', 6), ('i', 6), ('day', 6), ('lead', 6), ('shape', 6), ('discovering', 6), ('something', 6), ('we', 7), ('a', 8), ('like', 10), ('me', 10), ('now', 11), ('baby', 14), ('you', 16), ('be', 16), ('body', 17), ('the', 18), ('your', 21), ('with', 22), (\"i'm\", 23), ('and', 23), ('love', 25), ('in', 27), ('my', 33), ('come', 37), ('on', 40)]\n"
     ]
    }
   ],
   "source": [
    "import operator\n",
    "sorted_tups = sorted(word_freq.items(), key=operator.itemgetter(1))\n",
    "print(sorted_tups)"
   ]
  },
  {
   "cell_type": "code",
   "execution_count": 131,
   "metadata": {},
   "outputs": [],
   "source": [
    "word_freq3={}\n",
    "\n",
    "for i,j in sorted_tups:\n",
    "    word_freq3[i]=j"
   ]
  },
  {
   "cell_type": "code",
   "execution_count": 133,
   "metadata": {
    "collapsed": true
   },
   "outputs": [
    {
     "data": {
      "text/plain": [
       "{'conversation': 1,\n",
       " \"we're\": 1,\n",
       " 'plate': 1,\n",
       " 'sour': 1,\n",
       " 'jukebox': 1,\n",
       " 'taxi': 1,\n",
       " 'fast': 1,\n",
       " 'bag': 1,\n",
       " 'man': 1,\n",
       " 'going': 1,\n",
       " 'one': 1,\n",
       " 'backseat': 1,\n",
       " 'friends': 1,\n",
       " 'take': 1,\n",
       " 'play': 1,\n",
       " 'okay': 1,\n",
       " 'begin': 1,\n",
       " 'over': 1,\n",
       " 'just': 1,\n",
       " 'are': 1,\n",
       " 'tell': 1,\n",
       " 'drinking': 1,\n",
       " 'our': 1,\n",
       " 'where': 1,\n",
       " \"i'll\": 1,\n",
       " 'all': 1,\n",
       " \"isn't\": 1,\n",
       " 'make': 1,\n",
       " 'lover': 1,\n",
       " 'get': 1,\n",
       " 'radio': 1,\n",
       " 'give': 1,\n",
       " 'can': 1,\n",
       " 'club': 1,\n",
       " 'it': 1,\n",
       " 'out': 1,\n",
       " 'chance': 1,\n",
       " 'first': 1,\n",
       " 'table': 1,\n",
       " 'thrifty': 1,\n",
       " 'driver': 1,\n",
       " 'slow': 1,\n",
       " 'dance': 1,\n",
       " 'trust': 1,\n",
       " 'family': 1,\n",
       " 'week': 1,\n",
       " 'date': 1,\n",
       " 'leave': 1,\n",
       " 'at': 1,\n",
       " 'hand': 1,\n",
       " 'how': 1,\n",
       " 'eat': 1,\n",
       " 'about': 1,\n",
       " 'story': 1,\n",
       " 'sweet': 1,\n",
       " 'best': 1,\n",
       " 'let': 1,\n",
       " 'van': 1,\n",
       " 'shots': 1,\n",
       " 'place': 1,\n",
       " 'find': 1,\n",
       " 'kiss': 1,\n",
       " 'stop': 1,\n",
       " 'bar': 1,\n",
       " \"don't\": 2,\n",
       " 'mind': 2,\n",
       " 'know': 2,\n",
       " 'so': 2,\n",
       " 'start': 2,\n",
       " 'boy': 2,\n",
       " 'girl': 2,\n",
       " 'singing': 2,\n",
       " 'doing': 2,\n",
       " 'somebody': 2,\n",
       " 'handmade': 2,\n",
       " 'may': 2,\n",
       " 'that': 2,\n",
       " 'much': 2,\n",
       " 'grab': 2,\n",
       " 'was': 2,\n",
       " 'say': 2,\n",
       " 'waist': 2,\n",
       " 'want': 2,\n",
       " \"let's\": 2,\n",
       " 'not': 2,\n",
       " 'crazy': 2,\n",
       " 'go': 2,\n",
       " 'to': 2,\n",
       " 'fill': 2,\n",
       " 'hours': 2,\n",
       " 'push': 3,\n",
       " 'then': 3,\n",
       " 'put': 3,\n",
       " 'room': 3,\n",
       " 'magnet': 3,\n",
       " 'up': 3,\n",
       " 'pull': 3,\n",
       " 'last': 3,\n",
       " 'do': 3,\n",
       " 'smell': 3,\n",
       " 'although': 3,\n",
       " 'falling': 3,\n",
       " 'were': 3,\n",
       " 'night': 3,\n",
       " 'heart': 3,\n",
       " 'for': 3,\n",
       " 'bedsheets': 3,\n",
       " 'talk': 4,\n",
       " 'too': 5,\n",
       " 'is': 5,\n",
       " 'every': 6,\n",
       " 'new': 6,\n",
       " 'follow': 6,\n",
       " 'brand': 6,\n",
       " 'of': 6,\n",
       " 'i': 6,\n",
       " 'day': 6,\n",
       " 'lead': 6,\n",
       " 'shape': 6,\n",
       " 'discovering': 6,\n",
       " 'something': 6,\n",
       " 'we': 7,\n",
       " 'a': 8,\n",
       " 'like': 10,\n",
       " 'me': 10,\n",
       " 'now': 11,\n",
       " 'baby': 14,\n",
       " 'you': 16,\n",
       " 'be': 16,\n",
       " 'body': 17,\n",
       " 'the': 18,\n",
       " 'your': 21,\n",
       " 'with': 22,\n",
       " \"i'm\": 23,\n",
       " 'and': 23,\n",
       " 'love': 25,\n",
       " 'in': 27,\n",
       " 'my': 33,\n",
       " 'come': 37,\n",
       " 'on': 40}"
      ]
     },
     "execution_count": 133,
     "metadata": {},
     "output_type": "execute_result"
    }
   ],
   "source": [
    "dict(sorted_tups)"
   ]
  },
  {
   "cell_type": "markdown",
   "metadata": {},
   "source": [
    "## list comprehensions"
   ]
  },
  {
   "cell_type": "code",
   "execution_count": 144,
   "metadata": {},
   "outputs": [],
   "source": [
    "import os"
   ]
  },
  {
   "cell_type": "code",
   "execution_count": 146,
   "metadata": {},
   "outputs": [
    {
     "name": "stdout",
     "output_type": "stream",
     "text": [
      "[1, 2, 3, 4, 5, 6, 7, 8, 9, 10, 11, 12, 13, 14, 15, 16, 17, 18, 19, 20, 21, 22, 23, 24, 25, 26, 27, 28, 29, 30, 31, 32, 33, 34, 35, 36, 37, 38, 39, 40, 41, 42, 43, 44, 45, 46, 47, 48, 49, 50]\n"
     ]
    }
   ],
   "source": [
    "print([i for i in range(1,51)])"
   ]
  },
  {
   "cell_type": "code",
   "execution_count": 148,
   "metadata": {},
   "outputs": [
    {
     "name": "stdout",
     "output_type": "stream",
     "text": [
      "[2, 4, 6, 8, 10, 12, 14, 16, 18, 20, 22, 24, 26, 28, 30, 32, 34, 36, 38, 40, 42, 44, 46, 48, 50, 52, 54, 56, 58, 60, 62, 64, 66, 68, 70, 72, 74, 76, 78, 80, 82, 84, 86, 88, 90, 92, 94, 96, 98, 100, 102, 104, 106, 108, 110, 112, 114, 116, 118, 120, 122, 124, 126, 128, 130, 132, 134, 136, 138, 140, 142, 144, 146, 148, 150, 152, 154, 156, 158, 160, 162, 164, 166, 168, 170, 172, 174, 176, 178, 180, 182, 184, 186, 188, 190, 192, 194, 196, 198, 200]\n"
     ]
    }
   ],
   "source": [
    "print([i*2 for i in range(1,101)])"
   ]
  },
  {
   "cell_type": "code",
   "execution_count": 150,
   "metadata": {},
   "outputs": [
    {
     "name": "stdout",
     "output_type": "stream",
     "text": [
      "[2, 4, 6, 8, 10, 12, 14, 16, 18, 20, 22, 24, 26, 28, 30, 32, 34, 36, 38, 40, 42, 44, 46, 48, 50, 52, 54, 56, 58, 60, 62, 64, 66, 68, 70, 72, 74, 76, 78, 80, 82, 84, 86, 88, 90, 92, 94, 96, 98, 100, 102, 104, 106, 108, 110, 112, 114, 116, 118, 120, 122, 124, 126, 128, 130, 132, 134, 136, 138, 140, 142, 144, 146, 148, 150, 152, 154, 156, 158, 160, 162, 164, 166, 168, 170, 172, 174, 176, 178, 180, 182, 184, 186, 188, 190, 192, 194, 196, 198, 200]\n"
     ]
    }
   ],
   "source": [
    "print([i for i in range(1,201) if i%2==0])"
   ]
  },
  {
   "cell_type": "code",
   "execution_count": 151,
   "metadata": {},
   "outputs": [],
   "source": [
    "a = [[0.84062117, 0.48006452, 0.7876326 , 0.77109654],\n",
    "       [0.44409793, 0.09014516, 0.81835917, 0.87645456],\n",
    "       [0.7066597 , 0.09610873, 0.41247947, 0.57433389],\n",
    "       [0.29960807, 0.42315023, 0.34452557, 0.4751035 ],\n",
    "       [0.17003563, 0.46843998, 0.92796258, 0.69814654],\n",
    "       [0.41290051, 0.19561071, 0.16284783, 0.97016248],\n",
    "       [0.71725408, 0.87702738, 0.31244595, 0.76615487],\n",
    "       [0.20754036, 0.57871812, 0.07214068, 0.40356048],\n",
    "       [0.12149553, 0.53222417, 0.9976855 , 0.12536346],\n",
    "       [0.80930099, 0.50962849, 0.94555126, 0.33364763]];"
   ]
  },
  {
   "cell_type": "code",
   "execution_count": 153,
   "metadata": {},
   "outputs": [
    {
     "name": "stdout",
     "output_type": "stream",
     "text": [
      "[0.84062117, 0.48006452, 0.7876326, 0.77109654, 0.44409793, 0.09014516, 0.81835917, 0.87645456, 0.7066597, 0.09610873, 0.41247947, 0.57433389, 0.29960807, 0.42315023, 0.34452557, 0.4751035, 0.17003563, 0.46843998, 0.92796258, 0.69814654, 0.41290051, 0.19561071, 0.16284783, 0.97016248, 0.71725408, 0.87702738, 0.31244595, 0.76615487, 0.20754036, 0.57871812, 0.07214068, 0.40356048, 0.12149553, 0.53222417, 0.9976855, 0.12536346, 0.80930099, 0.50962849, 0.94555126, 0.33364763]\n"
     ]
    }
   ],
   "source": [
    "print([j for i in a for j in i])"
   ]
  },
  {
   "cell_type": "code",
   "execution_count": 154,
   "metadata": {},
   "outputs": [
    {
     "name": "stdout",
     "output_type": "stream",
     "text": [
      "[0.84062117, 0.7876326, 0.77109654, 0.81835917, 0.87645456, 0.7066597, 0.57433389, 0.92796258, 0.69814654, 0.97016248, 0.71725408, 0.87702738, 0.76615487, 0.57871812, 0.53222417, 0.9976855, 0.80930099, 0.50962849, 0.94555126]\n"
     ]
    }
   ],
   "source": [
    "print([j for i in a for j in i if j>=0.5])"
   ]
  },
  {
   "cell_type": "code",
   "execution_count": 155,
   "metadata": {},
   "outputs": [],
   "source": [
    "b = [[[0.55867166, 0.06210792, 0.08147297],\n",
    "        [0.82579068, 0.91512478, 0.06833034]],\n",
    "\n",
    "       [[0.05440634, 0.65857693, 0.30296619],\n",
    "        [0.06769833, 0.96031863, 0.51293743]],\n",
    "\n",
    "       [[0.09143215, 0.71893382, 0.45850679],\n",
    "        [0.58256464, 0.59005654, 0.56266457]],\n",
    "\n",
    "       [[0.71600294, 0.87392666, 0.11434044],\n",
    "        [0.8694668 , 0.65669313, 0.10708681]],\n",
    "\n",
    "       [[0.07529684, 0.46470767, 0.47984544],\n",
    "        [0.65368638, 0.14901286, 0.23760688]]];"
   ]
  },
  {
   "cell_type": "code",
   "execution_count": 157,
   "metadata": {},
   "outputs": [
    {
     "name": "stdout",
     "output_type": "stream",
     "text": [
      "[0.55867166, 0.06210792, 0.08147297, 0.82579068, 0.91512478, 0.06833034, 0.05440634, 0.65857693, 0.30296619, 0.06769833, 0.96031863, 0.51293743, 0.09143215, 0.71893382, 0.45850679, 0.58256464, 0.59005654, 0.56266457, 0.71600294, 0.87392666, 0.11434044, 0.8694668, 0.65669313, 0.10708681, 0.07529684, 0.46470767, 0.47984544, 0.65368638, 0.14901286, 0.23760688]\n"
     ]
    }
   ],
   "source": [
    "print([k for i in b for j in i for k in j])"
   ]
  },
  {
   "cell_type": "code",
   "execution_count": 160,
   "metadata": {},
   "outputs": [
    {
     "data": {
      "text/plain": [
       "[0.08147297,\n",
       " 0.06833034,\n",
       " 0.30296619,\n",
       " 0.45850679,\n",
       " 0.11434044,\n",
       " 0.10708681,\n",
       " 0.47984544,\n",
       " 0.23760688]"
      ]
     },
     "execution_count": 160,
     "metadata": {},
     "output_type": "execute_result"
    }
   ],
   "source": [
    "[j[-1] for i in b for j in i if j[-1]<=0.5]"
   ]
  },
  {
   "cell_type": "code",
   "execution_count": 161,
   "metadata": {},
   "outputs": [
    {
     "data": {
      "text/plain": [
       "'/home/mauritian/Documents/Git/data-labs/module-1/lab-list-comprehensions/data'"
      ]
     },
     "execution_count": 161,
     "metadata": {},
     "output_type": "execute_result"
    }
   ],
   "source": [
    "os.getcwd()"
   ]
  },
  {
   "cell_type": "code",
   "execution_count": 163,
   "metadata": {},
   "outputs": [
    {
     "data": {
      "text/plain": [
       "['sample_file_9.csv',\n",
       " 'sample_file_3.csv',\n",
       " 'sample_file_7.csv',\n",
       " 'sample_file_4.csv',\n",
       " 'sample_file_0.csv',\n",
       " 'sample_file_8.csv',\n",
       " 'sample_file_1.csv',\n",
       " 'sample_file_5.csv',\n",
       " 'sample_file_2.csv',\n",
       " 'sample_file_6.csv']"
      ]
     },
     "execution_count": 163,
     "metadata": {},
     "output_type": "execute_result"
    }
   ],
   "source": [
    "[i for i in os.listdir() if i.endswith('csv')]"
   ]
  },
  {
   "cell_type": "code",
   "execution_count": 164,
   "metadata": {},
   "outputs": [
    {
     "data": {
      "text/plain": [
       "['sample_file_9.csv',\n",
       " 'sample_file_3.csv',\n",
       " 'sample_file_7.csv',\n",
       " 'sample_file_4.csv',\n",
       " 'sample_file_0.csv',\n",
       " 'sample_file_8.csv',\n",
       " 'sample_file_1.csv',\n",
       " 'sample_file_5.csv',\n",
       " 'sample_file_2.csv',\n",
       " 'sample_file_6.csv']"
      ]
     },
     "execution_count": 164,
     "metadata": {},
     "output_type": "execute_result"
    }
   ],
   "source": [
    "[i for i in os.listdir() if '.csv' in i]"
   ]
  },
  {
   "cell_type": "code",
   "execution_count": null,
   "metadata": {},
   "outputs": [],
   "source": []
  },
  {
   "cell_type": "markdown",
   "metadata": {},
   "source": [
    "# Text"
   ]
  },
  {
   "cell_type": "code",
   "execution_count": 165,
   "metadata": {},
   "outputs": [],
   "source": [
    "txt='Hello world'"
   ]
  },
  {
   "cell_type": "code",
   "execution_count": 166,
   "metadata": {},
   "outputs": [
    {
     "data": {
      "text/plain": [
       "'Hello world'"
      ]
     },
     "execution_count": 166,
     "metadata": {},
     "output_type": "execute_result"
    }
   ],
   "source": [
    "txt"
   ]
  },
  {
   "cell_type": "code",
   "execution_count": 170,
   "metadata": {},
   "outputs": [
    {
     "name": "stdout",
     "output_type": "stream",
     "text": [
      "Hello! Wie geht'sca va bien\n"
     ]
    }
   ],
   "source": [
    "txt=input('Hello! Wie geht\\'s')"
   ]
  },
  {
   "cell_type": "code",
   "execution_count": 171,
   "metadata": {},
   "outputs": [
    {
     "data": {
      "text/plain": [
       "'ca va bien'"
      ]
     },
     "execution_count": 171,
     "metadata": {},
     "output_type": "execute_result"
    }
   ],
   "source": [
    "txt"
   ]
  },
  {
   "cell_type": "code",
   "execution_count": 169,
   "metadata": {},
   "outputs": [
    {
     "data": {
      "text/plain": [
       "\"l'Hopital\""
      ]
     },
     "execution_count": 169,
     "metadata": {},
     "output_type": "execute_result"
    }
   ],
   "source": [
    "'l\\'Hopital'"
   ]
  },
  {
   "cell_type": "code",
   "execution_count": 172,
   "metadata": {},
   "outputs": [
    {
     "data": {
      "text/plain": [
       "'ca va'"
      ]
     },
     "execution_count": 172,
     "metadata": {},
     "output_type": "execute_result"
    }
   ],
   "source": [
    "txt[:5]"
   ]
  },
  {
   "cell_type": "code",
   "execution_count": 173,
   "metadata": {},
   "outputs": [
    {
     "data": {
      "text/plain": [
       "'ca v'"
      ]
     },
     "execution_count": 173,
     "metadata": {},
     "output_type": "execute_result"
    }
   ],
   "source": [
    "txt[:4]"
   ]
  },
  {
   "cell_type": "code",
   "execution_count": 174,
   "metadata": {},
   "outputs": [
    {
     "data": {
      "text/plain": [
       "'va'"
      ]
     },
     "execution_count": 174,
     "metadata": {},
     "output_type": "execute_result"
    }
   ],
   "source": [
    "txt[3:5]"
   ]
  },
  {
   "cell_type": "code",
   "execution_count": 175,
   "metadata": {},
   "outputs": [
    {
     "data": {
      "text/plain": [
       "'c abe'"
      ]
     },
     "execution_count": 175,
     "metadata": {},
     "output_type": "execute_result"
    }
   ],
   "source": [
    "txt[::2]# skip 1"
   ]
  },
  {
   "cell_type": "code",
   "execution_count": 176,
   "metadata": {},
   "outputs": [
    {
     "data": {
      "text/plain": [
       "'cvbn'"
      ]
     },
     "execution_count": 176,
     "metadata": {},
     "output_type": "execute_result"
    }
   ],
   "source": [
    "txt[::3] #skip 2"
   ]
  },
  {
   "cell_type": "code",
   "execution_count": 177,
   "metadata": {},
   "outputs": [
    {
     "data": {
      "text/plain": [
       "'ca va bien'"
      ]
     },
     "execution_count": 177,
     "metadata": {},
     "output_type": "execute_result"
    }
   ],
   "source": [
    "txt[::1]#all of them"
   ]
  },
  {
   "cell_type": "code",
   "execution_count": 178,
   "metadata": {},
   "outputs": [
    {
     "data": {
      "text/plain": [
       "'neib av ac'"
      ]
     },
     "execution_count": 178,
     "metadata": {},
     "output_type": "execute_result"
    }
   ],
   "source": [
    "txt[::-1]"
   ]
  },
  {
   "cell_type": "code",
   "execution_count": 179,
   "metadata": {},
   "outputs": [
    {
     "data": {
      "text/plain": [
       "'CA VA BIEN'"
      ]
     },
     "execution_count": 179,
     "metadata": {},
     "output_type": "execute_result"
    }
   ],
   "source": [
    "txt.upper()"
   ]
  },
  {
   "cell_type": "code",
   "execution_count": 180,
   "metadata": {},
   "outputs": [
    {
     "data": {
      "text/plain": [
       "'Ca Va Bien'"
      ]
     },
     "execution_count": 180,
     "metadata": {},
     "output_type": "execute_result"
    }
   ],
   "source": [
    "txt.title()"
   ]
  },
  {
   "cell_type": "code",
   "execution_count": 181,
   "metadata": {},
   "outputs": [
    {
     "data": {
      "text/plain": [
       "'Ca va bien'"
      ]
     },
     "execution_count": 181,
     "metadata": {},
     "output_type": "execute_result"
    }
   ],
   "source": [
    "txt.capitalize()"
   ]
  },
  {
   "cell_type": "code",
   "execution_count": 182,
   "metadata": {},
   "outputs": [
    {
     "data": {
      "text/plain": [
       "'ca va bien'"
      ]
     },
     "execution_count": 182,
     "metadata": {},
     "output_type": "execute_result"
    }
   ],
   "source": [
    "txt.lower()"
   ]
  },
  {
   "cell_type": "code",
   "execution_count": 183,
   "metadata": {},
   "outputs": [
    {
     "data": {
      "text/plain": [
       "'ca va bien. Und du?'"
      ]
     },
     "execution_count": 183,
     "metadata": {},
     "output_type": "execute_result"
    }
   ],
   "source": [
    "txt+'. Und du?'"
   ]
  },
  {
   "cell_type": "code",
   "execution_count": 184,
   "metadata": {},
   "outputs": [],
   "source": [
    "hi='Hello'\n",
    "world='World'"
   ]
  },
  {
   "cell_type": "code",
   "execution_count": 185,
   "metadata": {},
   "outputs": [
    {
     "data": {
      "text/plain": [
       "'HelloWorld'"
      ]
     },
     "execution_count": 185,
     "metadata": {},
     "output_type": "execute_result"
    }
   ],
   "source": [
    "hi+world"
   ]
  },
  {
   "cell_type": "code",
   "execution_count": 186,
   "metadata": {},
   "outputs": [
    {
     "data": {
      "text/plain": [
       "'Hello World'"
      ]
     },
     "execution_count": 186,
     "metadata": {},
     "output_type": "execute_result"
    }
   ],
   "source": [
    "hi+' '+world"
   ]
  },
  {
   "cell_type": "code",
   "execution_count": 187,
   "metadata": {},
   "outputs": [],
   "source": [
    "lst=['I','really','love','my','sweet','thing']"
   ]
  },
  {
   "cell_type": "code",
   "execution_count": 188,
   "metadata": {},
   "outputs": [
    {
     "data": {
      "text/plain": [
       "['I', 'really', 'love', 'my', 'sweet', 'thing']"
      ]
     },
     "execution_count": 188,
     "metadata": {},
     "output_type": "execute_result"
    }
   ],
   "source": [
    "lst"
   ]
  },
  {
   "cell_type": "code",
   "execution_count": 189,
   "metadata": {},
   "outputs": [
    {
     "ename": "TypeError",
     "evalue": "unsupported operand type(s) for +: 'int' and 'str'",
     "output_type": "error",
     "traceback": [
      "\u001b[0;31m---------------------------------------------------------------------------\u001b[0m",
      "\u001b[0;31mTypeError\u001b[0m                                 Traceback (most recent call last)",
      "\u001b[0;32m<ipython-input-189-de86c5632935>\u001b[0m in \u001b[0;36m<module>\u001b[0;34m\u001b[0m\n\u001b[0;32m----> 1\u001b[0;31m \u001b[0msum\u001b[0m\u001b[0;34m(\u001b[0m\u001b[0mlst\u001b[0m\u001b[0;34m)\u001b[0m\u001b[0;34m\u001b[0m\u001b[0;34m\u001b[0m\u001b[0m\n\u001b[0m",
      "\u001b[0;31mTypeError\u001b[0m: unsupported operand type(s) for +: 'int' and 'str'"
     ]
    }
   ],
   "source": [
    "sum(lst)"
   ]
  },
  {
   "cell_type": "code",
   "execution_count": 193,
   "metadata": {},
   "outputs": [
    {
     "data": {
      "text/plain": [
       "'I really love my sweet thing.'"
      ]
     },
     "execution_count": 193,
     "metadata": {},
     "output_type": "execute_result"
    }
   ],
   "source": [
    "txt=''\n",
    "for i in lst:\n",
    "    txt+=i+' '\n",
    "txt[:-1]+'.'"
   ]
  },
  {
   "cell_type": "code",
   "execution_count": 195,
   "metadata": {},
   "outputs": [
    {
     "data": {
      "text/plain": [
       "'I really love my sweet thing.'"
      ]
     },
     "execution_count": 195,
     "metadata": {},
     "output_type": "execute_result"
    }
   ],
   "source": [
    "' '.join(lst)+'.'"
   ]
  },
  {
   "cell_type": "code",
   "execution_count": 197,
   "metadata": {},
   "outputs": [
    {
     "data": {
      "text/plain": [
       "'I banana really banana love banana my banana sweet banana thing'"
      ]
     },
     "execution_count": 197,
     "metadata": {},
     "output_type": "execute_result"
    }
   ],
   "source": [
    "' banana '.join(lst)"
   ]
  },
  {
   "cell_type": "code",
   "execution_count": 198,
   "metadata": {},
   "outputs": [
    {
     "data": {
      "text/plain": [
       "'I really love my sweet thing'"
      ]
     },
     "execution_count": 198,
     "metadata": {},
     "output_type": "execute_result"
    }
   ],
   "source": [
    "sentence=' '.join(lst)\n",
    "sentence"
   ]
  },
  {
   "cell_type": "code",
   "execution_count": 200,
   "metadata": {},
   "outputs": [
    {
     "data": {
      "text/plain": [
       "['I', 'really', 'love', 'my', 'sweet', 'thing']"
      ]
     },
     "execution_count": 200,
     "metadata": {},
     "output_type": "execute_result"
    }
   ],
   "source": [
    "lst=[]\n",
    "word=''\n",
    "for i in sentence+' ':\n",
    "    word+=i\n",
    "    if i==' ':\n",
    "        lst.append(word[:-1])\n",
    "        word=''\n",
    "lst"
   ]
  },
  {
   "cell_type": "code",
   "execution_count": 202,
   "metadata": {},
   "outputs": [
    {
     "data": {
      "text/plain": [
       "['I', 'really', 'love', 'my', 'sweet', 'thing']"
      ]
     },
     "execution_count": 202,
     "metadata": {},
     "output_type": "execute_result"
    }
   ],
   "source": [
    "sentence.split()"
   ]
  },
  {
   "cell_type": "code",
   "execution_count": 203,
   "metadata": {},
   "outputs": [
    {
     "data": {
      "text/plain": [
       "['I rea', '', 'y ', 'ove my sweet thing']"
      ]
     },
     "execution_count": 203,
     "metadata": {},
     "output_type": "execute_result"
    }
   ],
   "source": [
    "sentence.split('l')"
   ]
  },
  {
   "cell_type": "code",
   "execution_count": 205,
   "metadata": {},
   "outputs": [
    {
     "data": {
      "text/plain": [
       "['Champs Élys', 'es']"
      ]
     },
     "execution_count": 205,
     "metadata": {},
     "output_type": "execute_result"
    }
   ],
   "source": [
    "\"Champs Élysées\".split('é')"
   ]
  },
  {
   "cell_type": "code",
   "execution_count": 206,
   "metadata": {},
   "outputs": [],
   "source": [
    "sentence='Freds friends fried Fritos for Fridays food.'"
   ]
  },
  {
   "cell_type": "code",
   "execution_count": 207,
   "metadata": {},
   "outputs": [
    {
     "data": {
      "text/plain": [
       "['Freds', 'friends', 'fried', 'Fritos', 'for', 'Fridays', 'food.']"
      ]
     },
     "execution_count": 207,
     "metadata": {},
     "output_type": "execute_result"
    }
   ],
   "source": [
    "sentence.split()"
   ]
  },
  {
   "cell_type": "code",
   "execution_count": 208,
   "metadata": {},
   "outputs": [
    {
     "data": {
      "text/plain": [
       "['Freds friends fried Fritos for Fridays food', '']"
      ]
     },
     "execution_count": 208,
     "metadata": {},
     "output_type": "execute_result"
    }
   ],
   "source": [
    "sentence.split('.')"
   ]
  },
  {
   "cell_type": "code",
   "execution_count": 209,
   "metadata": {},
   "outputs": [
    {
     "data": {
      "text/plain": [
       "['Freds friends ', ' Fritos for Fridays food.']"
      ]
     },
     "execution_count": 209,
     "metadata": {},
     "output_type": "execute_result"
    }
   ],
   "source": [
    "sentence.split('fried')"
   ]
  },
  {
   "cell_type": "code",
   "execution_count": 210,
   "metadata": {},
   "outputs": [
    {
     "data": {
      "text/plain": [
       "['Freds friends fried ', ' for Fridays food.']"
      ]
     },
     "execution_count": 210,
     "metadata": {},
     "output_type": "execute_result"
    }
   ],
   "source": [
    "sentence.split('Fritos')"
   ]
  },
  {
   "cell_type": "code",
   "execution_count": 213,
   "metadata": {},
   "outputs": [
    {
     "data": {
      "text/plain": [
       "'Freds friends fried Fritos for Fridays food'"
      ]
     },
     "execution_count": 213,
     "metadata": {},
     "output_type": "execute_result"
    }
   ],
   "source": [
    "sentence.strip('.')"
   ]
  },
  {
   "cell_type": "code",
   "execution_count": 214,
   "metadata": {},
   "outputs": [
    {
     "data": {
      "text/plain": [
       "'reds friends fried Fritos for Fridays food'"
      ]
     },
     "execution_count": 214,
     "metadata": {},
     "output_type": "execute_result"
    }
   ],
   "source": [
    "sentence.strip('.F')"
   ]
  },
  {
   "cell_type": "code",
   "execution_count": 215,
   "metadata": {},
   "outputs": [
    {
     "data": {
      "text/plain": [
       "'Freds friends fried Fritos for Fridays foo'"
      ]
     },
     "execution_count": 215,
     "metadata": {},
     "output_type": "execute_result"
    }
   ],
   "source": [
    "sentence.strip('.d')"
   ]
  },
  {
   "cell_type": "code",
   "execution_count": 216,
   "metadata": {},
   "outputs": [
    {
     "data": {
      "text/plain": [
       "'reds friends fried Fritos for Fridays'"
      ]
     },
     "execution_count": 216,
     "metadata": {},
     "output_type": "execute_result"
    }
   ],
   "source": [
    "sentence.strip('.doFf ')"
   ]
  },
  {
   "cell_type": "code",
   "execution_count": 217,
   "metadata": {},
   "outputs": [
    {
     "data": {
      "text/plain": [
       "'reds friends fried Fritos for Fridays food.'"
      ]
     },
     "execution_count": 217,
     "metadata": {},
     "output_type": "execute_result"
    }
   ],
   "source": [
    "sentence.lstrip('.doFf ')"
   ]
  },
  {
   "cell_type": "code",
   "execution_count": 218,
   "metadata": {},
   "outputs": [
    {
     "data": {
      "text/plain": [
       "'Freds friends fried Fritos for Fridays'"
      ]
     },
     "execution_count": 218,
     "metadata": {},
     "output_type": "execute_result"
    }
   ],
   "source": [
    "sentence.rstrip('.doFf ')"
   ]
  },
  {
   "cell_type": "code",
   "execution_count": 219,
   "metadata": {},
   "outputs": [],
   "source": [
    "lyrics=\"\"\"I'm blue da ba dee da ba daa\n",
    "Da ba dee da ba daa, da ba dee da ba daa, da ba dee da ba daa\n",
    "Da ba dee da ba daa, da ba dee da ba daa, da ba dee da ba daa\"\"\""
   ]
  },
  {
   "cell_type": "code",
   "execution_count": 221,
   "metadata": {},
   "outputs": [
    {
     "name": "stdout",
     "output_type": "stream",
     "text": [
      "[\"I'm\", 'blue', 'da', 'ba', 'dee', 'da', 'ba', 'daa', 'Da', 'ba', 'dee', 'da', 'ba', 'daa,', 'da', 'ba', 'dee', 'da', 'ba', 'daa,', 'da', 'ba', 'dee', 'da', 'ba', 'daa', 'Da', 'ba', 'dee', 'da', 'ba', 'daa,', 'da', 'ba', 'dee', 'da', 'ba', 'daa,', 'da', 'ba', 'dee', 'da', 'ba', 'daa']\n"
     ]
    }
   ],
   "source": [
    "print(lyrics.split())"
   ]
  },
  {
   "cell_type": "code",
   "execution_count": 222,
   "metadata": {},
   "outputs": [
    {
     "data": {
      "text/plain": [
       "3"
      ]
     },
     "execution_count": 222,
     "metadata": {},
     "output_type": "execute_result"
    }
   ],
   "source": [
    "lyrics.split().count('daa')"
   ]
  },
  {
   "cell_type": "code",
   "execution_count": 225,
   "metadata": {},
   "outputs": [
    {
     "data": {
      "text/plain": [
       "7"
      ]
     },
     "execution_count": 225,
     "metadata": {},
     "output_type": "execute_result"
    }
   ],
   "source": [
    "[i.strip(',') for i in lyrics.split()].count('daa')"
   ]
  },
  {
   "cell_type": "code",
   "execution_count": 226,
   "metadata": {},
   "outputs": [
    {
     "data": {
      "text/plain": [
       "12"
      ]
     },
     "execution_count": 226,
     "metadata": {},
     "output_type": "execute_result"
    }
   ],
   "source": [
    "lyrics.split().count('da')"
   ]
  },
  {
   "cell_type": "code",
   "execution_count": 228,
   "metadata": {},
   "outputs": [
    {
     "data": {
      "text/plain": [
       "14"
      ]
     },
     "execution_count": 228,
     "metadata": {},
     "output_type": "execute_result"
    }
   ],
   "source": [
    "[i.strip(',').lower() for i in lyrics.split()].count('da')"
   ]
  },
  {
   "cell_type": "code",
   "execution_count": 229,
   "metadata": {},
   "outputs": [
    {
     "data": {
      "text/plain": [
       "44"
      ]
     },
     "execution_count": 229,
     "metadata": {},
     "output_type": "execute_result"
    }
   ],
   "source": [
    "len([i.strip(',').lower() for i in lyrics.split()])"
   ]
  },
  {
   "cell_type": "code",
   "execution_count": 230,
   "metadata": {},
   "outputs": [
    {
     "data": {
      "text/plain": [
       "6"
      ]
     },
     "execution_count": 230,
     "metadata": {},
     "output_type": "execute_result"
    }
   ],
   "source": [
    "len({i.strip(',').lower() for i in lyrics.split()})"
   ]
  },
  {
   "cell_type": "code",
   "execution_count": 231,
   "metadata": {},
   "outputs": [
    {
     "name": "stdout",
     "output_type": "stream",
     "text": [
      "I'm blue da ba dee da ba daa\n",
      "Da ba dee da ba daa, da ba dee da ba daa, da ba dee da ba daa\n",
      "Da ba dee da ba daa, da ba dee da ba daa, da ba dee da ba daa\n"
     ]
    }
   ],
   "source": [
    "print(lyrics)"
   ]
  },
  {
   "cell_type": "code",
   "execution_count": 232,
   "metadata": {},
   "outputs": [
    {
     "data": {
      "text/plain": [
       "\"I'm blue da ba dee da ba daa Da ba dee da ba daa, da ba dee da ba daa, da ba dee da ba daa Da ba dee da ba daa, da ba dee da ba daa, da ba dee da ba daa\""
      ]
     },
     "execution_count": 232,
     "metadata": {},
     "output_type": "execute_result"
    }
   ],
   "source": [
    "lyrics.replace('\\n', ' ')"
   ]
  },
  {
   "cell_type": "code",
   "execution_count": 236,
   "metadata": {},
   "outputs": [
    {
     "data": {
      "text/plain": [
       "['da',\n",
       " 'dee',\n",
       " 'da',\n",
       " 'daa',\n",
       " 'da',\n",
       " 'dee',\n",
       " 'da',\n",
       " 'daa,',\n",
       " 'da',\n",
       " 'dee',\n",
       " 'da',\n",
       " 'daa,',\n",
       " 'da',\n",
       " 'dee',\n",
       " 'da',\n",
       " 'daa',\n",
       " 'da',\n",
       " 'dee',\n",
       " 'da',\n",
       " 'daa,',\n",
       " 'da',\n",
       " 'dee',\n",
       " 'da',\n",
       " 'daa,',\n",
       " 'da',\n",
       " 'dee',\n",
       " 'da',\n",
       " 'daa']"
      ]
     },
     "execution_count": 236,
     "metadata": {},
     "output_type": "execute_result"
    }
   ],
   "source": [
    "[i for i in lyrics.lower().split() if i.startswith('d')]"
   ]
  },
  {
   "cell_type": "code",
   "execution_count": 237,
   "metadata": {
    "collapsed": true
   },
   "outputs": [
    {
     "data": {
      "text/plain": [
       "['da',\n",
       " 'dee',\n",
       " 'da',\n",
       " 'daa',\n",
       " 'da',\n",
       " 'dee',\n",
       " 'da',\n",
       " 'daa,',\n",
       " 'da',\n",
       " 'dee',\n",
       " 'da',\n",
       " 'daa,',\n",
       " 'da',\n",
       " 'dee',\n",
       " 'da',\n",
       " 'daa',\n",
       " 'da',\n",
       " 'dee',\n",
       " 'da',\n",
       " 'daa,',\n",
       " 'da',\n",
       " 'dee',\n",
       " 'da',\n",
       " 'daa,',\n",
       " 'da',\n",
       " 'dee',\n",
       " 'da',\n",
       " 'daa']"
      ]
     },
     "execution_count": 237,
     "metadata": {},
     "output_type": "execute_result"
    }
   ],
   "source": [
    "[i for i in lyrics.lower().split() if i[0]=='d']"
   ]
  },
  {
   "cell_type": "code",
   "execution_count": 238,
   "metadata": {},
   "outputs": [
    {
     "data": {
      "text/plain": [
       "False"
      ]
     },
     "execution_count": 238,
     "metadata": {},
     "output_type": "execute_result"
    }
   ],
   "source": [
    "lyrics.istitle()"
   ]
  },
  {
   "cell_type": "code",
   "execution_count": 242,
   "metadata": {},
   "outputs": [
    {
     "data": {
      "text/plain": [
       "True"
      ]
     },
     "execution_count": 242,
     "metadata": {},
     "output_type": "execute_result"
    }
   ],
   "source": [
    "lyrics[:2].istitle()"
   ]
  },
  {
   "cell_type": "code",
   "execution_count": 243,
   "metadata": {},
   "outputs": [
    {
     "data": {
      "text/plain": [
       "\"I'm \""
      ]
     },
     "execution_count": 243,
     "metadata": {},
     "output_type": "execute_result"
    }
   ],
   "source": [
    "lyrics[:4]"
   ]
  },
  {
   "cell_type": "code",
   "execution_count": 245,
   "metadata": {
    "collapsed": true
   },
   "outputs": [
    {
     "data": {
      "text/plain": [
       "['blue',\n",
       " 'da',\n",
       " 'ba',\n",
       " 'dee',\n",
       " 'da',\n",
       " 'ba',\n",
       " 'daa',\n",
       " 'ba',\n",
       " 'dee',\n",
       " 'da',\n",
       " 'ba',\n",
       " 'daa,',\n",
       " 'da',\n",
       " 'ba',\n",
       " 'dee',\n",
       " 'da',\n",
       " 'ba',\n",
       " 'daa,',\n",
       " 'da',\n",
       " 'ba',\n",
       " 'dee',\n",
       " 'da',\n",
       " 'ba',\n",
       " 'daa',\n",
       " 'ba',\n",
       " 'dee',\n",
       " 'da',\n",
       " 'ba',\n",
       " 'daa,',\n",
       " 'da',\n",
       " 'ba',\n",
       " 'dee',\n",
       " 'da',\n",
       " 'ba',\n",
       " 'daa,',\n",
       " 'da',\n",
       " 'ba',\n",
       " 'dee',\n",
       " 'da',\n",
       " 'ba',\n",
       " 'daa']"
      ]
     },
     "execution_count": 245,
     "metadata": {},
     "output_type": "execute_result"
    }
   ],
   "source": [
    "[i for i in lyrics.split() if i.islower()]"
   ]
  },
  {
   "cell_type": "code",
   "execution_count": 246,
   "metadata": {},
   "outputs": [
    {
     "data": {
      "text/plain": [
       "[]"
      ]
     },
     "execution_count": 246,
     "metadata": {},
     "output_type": "execute_result"
    }
   ],
   "source": [
    "[i for i in lyrics.split() if i.isupper()]"
   ]
  },
  {
   "cell_type": "code",
   "execution_count": 247,
   "metadata": {},
   "outputs": [
    {
     "data": {
      "text/plain": [
       "['Da', 'Da']"
      ]
     },
     "execution_count": 247,
     "metadata": {},
     "output_type": "execute_result"
    }
   ],
   "source": [
    "[i for i in lyrics.split() if i.istitle()]"
   ]
  },
  {
   "cell_type": "code",
   "execution_count": 249,
   "metadata": {},
   "outputs": [
    {
     "data": {
      "text/plain": [
       "['daa,', 'daa,', 'daa,', 'daa,']"
      ]
     },
     "execution_count": 249,
     "metadata": {},
     "output_type": "execute_result"
    }
   ],
   "source": [
    "[i for i in lyrics.split() if i.endswith(',')]"
   ]
  },
  {
   "cell_type": "code",
   "execution_count": 250,
   "metadata": {},
   "outputs": [
    {
     "data": {
      "text/plain": [
       "True"
      ]
     },
     "execution_count": 250,
     "metadata": {},
     "output_type": "execute_result"
    }
   ],
   "source": [
    "'daa' in lyrics"
   ]
  },
  {
   "cell_type": "code",
   "execution_count": 251,
   "metadata": {},
   "outputs": [
    {
     "data": {
      "text/plain": [
       "False"
      ]
     },
     "execution_count": 251,
     "metadata": {},
     "output_type": "execute_result"
    }
   ],
   "source": [
    "'monkey' in lyrics"
   ]
  },
  {
   "cell_type": "code",
   "execution_count": 252,
   "metadata": {},
   "outputs": [
    {
     "data": {
      "text/plain": [
       "\"I'm blue da ba MONKEY da ba daa\\nDa ba MONKEY da ba daa, da ba MONKEY da ba daa, da ba MONKEY da ba daa\\nDa ba MONKEY da ba daa, da ba MONKEY da ba daa, da ba MONKEY da ba daa\""
      ]
     },
     "execution_count": 252,
     "metadata": {},
     "output_type": "execute_result"
    }
   ],
   "source": [
    "lyrics.replace('dee','MONKEY')"
   ]
  },
  {
   "cell_type": "code",
   "execution_count": 253,
   "metadata": {},
   "outputs": [
    {
     "data": {
      "text/plain": [
       "\"I'm blue da ba MONKEY da ba daa\\nDa ba dee da ba daa, da ba dee da ba daa, da ba dee da ba daa\\nDa ba dee da ba daa, da ba dee da ba daa, da ba dee da ba daa\""
      ]
     },
     "execution_count": 253,
     "metadata": {},
     "output_type": "execute_result"
    }
   ],
   "source": [
    "lyrics.replace('dee','MONKEY',1)"
   ]
  },
  {
   "cell_type": "code",
   "execution_count": 254,
   "metadata": {},
   "outputs": [
    {
     "data": {
      "text/plain": [
       "\"I'm blue da ba MONKEY da ba daa\\nDa ba MONKEY da ba daa, da ba dee da ba daa, da ba dee da ba daa\\nDa ba dee da ba daa, da ba dee da ba daa, da ba dee da ba daa\""
      ]
     },
     "execution_count": 254,
     "metadata": {},
     "output_type": "execute_result"
    }
   ],
   "source": [
    "lyrics.replace('dee','MONKEY',2)"
   ]
  }
 ],
 "metadata": {
  "kernelspec": {
   "display_name": "Python 3",
   "language": "python",
   "name": "python3"
  },
  "language_info": {
   "codemirror_mode": {
    "name": "ipython",
    "version": 3
   },
   "file_extension": ".py",
   "mimetype": "text/x-python",
   "name": "python",
   "nbconvert_exporter": "python",
   "pygments_lexer": "ipython3",
   "version": "3.7.6"
  },
  "toc": {
   "base_numbering": 1,
   "nav_menu": {},
   "number_sections": true,
   "sideBar": true,
   "skip_h1_title": false,
   "title_cell": "Table of Contents",
   "title_sidebar": "Contents",
   "toc_cell": true,
   "toc_position": {},
   "toc_section_display": true,
   "toc_window_display": false
  }
 },
 "nbformat": 4,
 "nbformat_minor": 4
}
