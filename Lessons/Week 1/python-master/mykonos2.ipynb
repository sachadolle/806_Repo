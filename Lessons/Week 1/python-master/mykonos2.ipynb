{
 "cells": [
  {
   "cell_type": "markdown",
   "metadata": {},
   "source": [
    "# PYTHON OOP: Design of the Reservation Management System for a Boutique Hotel in Mykonos, Greece."
   ]
  },
  {
   "cell_type": "code",
   "execution_count": 1,
   "metadata": {},
   "outputs": [],
   "source": [
    "import datetime\n",
    "from datetime import date"
   ]
  },
  {
   "cell_type": "markdown",
   "metadata": {},
   "source": [
    "Class villa encapsulates the following rented villa characteristics: name of villa, name of personal assistant. It also offers functions that inform about the hours that the personal assistant will be on call and the dates that the villa will be cleaned and keys will be changed. In addition, it has a function to print the label of the gift that is left in the room of each new guest. "
   ]
  },
  {
   "cell_type": "code",
   "execution_count": 3,
   "metadata": {},
   "outputs": [],
   "source": [
    "class villa(object):\n",
    "    def __init__(self,n,id):\n",
    "        self.villaName=n\n",
    "    def setPersonalAssistant(self,pa):\n",
    "        self.personalAssistant=pa\n",
    "        print(f\"{pa} will be on call from 8.00am to 8.00pm for villa {self.villaName}\")\n",
    "    def cleanAndChangeKey(self,d1,d2):\n",
    "        print(f\"Villa {self.villaName} will be cleaned and keys will be changed on {d1} and {d2}\")\n",
    "    def printGiftLabel(self,s):\n",
    "        print(f\"Welcome at the {self.villaName}, {s} party!\")"
   ]
  },
  {
   "cell_type": "code",
   "execution_count": null,
   "metadata": {},
   "outputs": [],
   "source": []
  },
  {
   "cell_type": "markdown",
   "metadata": {},
   "source": [
    "Class vipVilla inherits from class villa. It encapsulates the name of the VIP personal assistant and offers an access function to it."
   ]
  },
  {
   "cell_type": "code",
   "execution_count": 4,
   "metadata": {},
   "outputs": [],
   "source": [
    "class vipVilla(villa):\n",
    "    def __init__(self,nn,id):\n",
    "        villa.__init__(self,nn,id)\n",
    "\n",
    "    def setPersonalAssistant(self,pa):\n",
    "        self.vipPersAssist=pa\n",
    "        print(f\"{pa} will be on call (7.00am-9.00pm) for villa {self.villaName} and arrange for a personal yacht\")"
   ]
  },
  {
   "cell_type": "code",
   "execution_count": null,
   "metadata": {},
   "outputs": [],
   "source": []
  },
  {
   "cell_type": "markdown",
   "metadata": {},
   "source": [
    "Class guest encapsulates the following attributes of a guest: first and last name, number of adults, and number of children in the room. It offers an access function to last name and a printing function for the guest object."
   ]
  },
  {
   "cell_type": "code",
   "execution_count": 5,
   "metadata": {},
   "outputs": [],
   "source": [
    "class guest(object):\n",
    "    def __init__(self,l1,f1,b,c):\n",
    "       self.first=l1\n",
    "       self.last=f1\n",
    "       self.noofAdults=b\n",
    "       self.noofChildren=c\n",
    "    def getLastName(self):\n",
    "        return self.last\n",
    "    def __repr__(self):\n",
    "       return 'Guest: (%s, %s)' % (self.first, self.last)"
   ]
  },
  {
   "cell_type": "code",
   "execution_count": null,
   "metadata": {},
   "outputs": [],
   "source": []
  },
  {
   "cell_type": "markdown",
   "metadata": {},
   "source": [
    "Class reservation encapsulates the following attributes of a reservation: the name of the reserved villa, checkin date, checkout date, reservation ID, a printing function for the reservation class."
   ]
  },
  {
   "cell_type": "code",
   "execution_count": 6,
   "metadata": {},
   "outputs": [],
   "source": [
    "class reservation(object):\n",
    "    def __init__(self,n,de,le):\n",
    "         self.checkinDate=de\n",
    "         self.lengthofStay=le\n",
    "         self.villaName=n\n",
    "         self.checkoutDate=de+datetime.timedelta(days=le)\n",
    "    def getvillaName(self):\n",
    "             return self.villaName\n",
    "    def getcheckinDate(self):\n",
    "            return self.checkinDate\n",
    "    def getcheckoutDate(self):\n",
    "            return self.checkoutDate\n",
    "    def setreservID(self,id):\n",
    "        self.reservID=id\n",
    "    def __repr__(self):\n",
    "       return 'Reservation: (%s, %s, %s, %s)' % (self.checkinDate, self.lengthofStay, self.villaName,self.reservID)"
   ]
  },
  {
   "cell_type": "code",
   "execution_count": null,
   "metadata": {},
   "outputs": [],
   "source": []
  },
  {
   "cell_type": "markdown",
   "metadata": {},
   "source": [
    "Class resort encapsulates the following attributes:  a list with the names of the (standard) villas, a list with the names of the VIP villas, a guest list, a reservation list and a reservation ID list. It also offers access functions to a Guest object, Reservation object, reservation ID and a function that prints all lists."
   ]
  },
  {
   "cell_type": "code",
   "execution_count": 7,
   "metadata": {},
   "outputs": [],
   "source": [
    "class resort(object):\n",
    "      vil=['Elektra','Persephone','Artemis','Kouros']\n",
    "      vipVil=['Zeus','Alexandrian']\n",
    "      guestList=[]\n",
    "      reservationList=[]\n",
    "      resIDList=[0]\n",
    "      def __init__(self):\n",
    "          print(\"Welcome to Myconos Hidden Cove!\")\n",
    "      def setGuest(self,g):\n",
    "          self.guestList.append(g)\n",
    "      def setReservation(self,r):\n",
    "          self.reservationList.append(r)\n",
    "      def getresID(self):\n",
    "          return self.resIDList[-1]\n",
    "      def updateResIDList(self):\n",
    "          i=self.getresID()+1\n",
    "          self.resIDList.append(i)\n",
    "          return(self.resIDList[-1])\n",
    "      def printLists(self):\n",
    "          print(f\" The guest list is: {self.guestList}\")\n",
    "          print(f\" The reservation list is: {self.reservationList}\")\n",
    "          print(f\" The resID list is: {self.resIDList}\")"
   ]
  },
  {
   "cell_type": "code",
   "execution_count": null,
   "metadata": {},
   "outputs": [],
   "source": []
  },
  {
   "cell_type": "markdown",
   "metadata": {},
   "source": [
    "The next cell is the test module. We create a resort object, and two guests. The first guest reserves a VIP villa and the second, a standard one. Reservations are created, and all lists are printed at the end."
   ]
  },
  {
   "cell_type": "code",
   "execution_count": 8,
   "metadata": {},
   "outputs": [
    {
     "name": "stdout",
     "output_type": "stream",
     "text": [
      "Welcome to Myconos Hidden Cove!\n"
     ]
    },
    {
     "ename": "NameError",
     "evalue": "name 'date' is not defined",
     "output_type": "error",
     "traceback": [
      "\u001b[1;31m---------------------------------------------------------------------------\u001b[0m",
      "\u001b[1;31mNameError\u001b[0m                                 Traceback (most recent call last)",
      "\u001b[1;32m<ipython-input-8-f961eb9dcdd1>\u001b[0m in \u001b[0;36m<module>\u001b[1;34m\u001b[0m\n\u001b[0;32m      3\u001b[0m \u001b[0msa\u001b[0m\u001b[1;33m=\u001b[0m\u001b[0mguest\u001b[0m\u001b[1;33m(\u001b[0m\u001b[1;34m'Albert'\u001b[0m\u001b[1;33m,\u001b[0m\u001b[1;34m'Mitchell'\u001b[0m\u001b[1;33m,\u001b[0m\u001b[1;36m2\u001b[0m\u001b[1;33m,\u001b[0m\u001b[1;36m1\u001b[0m\u001b[1;33m)\u001b[0m\u001b[1;33m\u001b[0m\u001b[1;33m\u001b[0m\u001b[0m\n\u001b[0;32m      4\u001b[0m \u001b[0mrr\u001b[0m\u001b[1;33m.\u001b[0m\u001b[0msetGuest\u001b[0m\u001b[1;33m(\u001b[0m\u001b[0msa\u001b[0m\u001b[1;33m)\u001b[0m\u001b[1;33m\u001b[0m\u001b[1;33m\u001b[0m\u001b[0m\n\u001b[1;32m----> 5\u001b[1;33m \u001b[0mre\u001b[0m\u001b[1;33m=\u001b[0m\u001b[0mreservation\u001b[0m\u001b[1;33m(\u001b[0m\u001b[1;34m'Zeus'\u001b[0m\u001b[1;33m,\u001b[0m\u001b[0mdate\u001b[0m\u001b[1;33m(\u001b[0m\u001b[1;36m2019\u001b[0m\u001b[1;33m,\u001b[0m\u001b[1;36m6\u001b[0m\u001b[1;33m,\u001b[0m\u001b[1;36m3\u001b[0m\u001b[1;33m)\u001b[0m\u001b[1;33m,\u001b[0m\u001b[1;36m5\u001b[0m\u001b[1;33m)\u001b[0m\u001b[1;33m\u001b[0m\u001b[1;33m\u001b[0m\u001b[0m\n\u001b[0m\u001b[0;32m      6\u001b[0m \u001b[0mrr\u001b[0m\u001b[1;33m.\u001b[0m\u001b[0msetReservation\u001b[0m\u001b[1;33m(\u001b[0m\u001b[0mre\u001b[0m\u001b[1;33m)\u001b[0m\u001b[1;33m\u001b[0m\u001b[1;33m\u001b[0m\u001b[0m\n\u001b[0;32m      7\u001b[0m \u001b[0mnewid\u001b[0m\u001b[1;33m=\u001b[0m\u001b[0mrr\u001b[0m\u001b[1;33m.\u001b[0m\u001b[0mupdateResIDList\u001b[0m\u001b[1;33m(\u001b[0m\u001b[1;33m)\u001b[0m\u001b[1;33m\u001b[0m\u001b[1;33m\u001b[0m\u001b[0m\n",
      "\u001b[1;31mNameError\u001b[0m: name 'date' is not defined"
     ]
    }
   ],
   "source": [
    "rr=resort()\n",
    "#Guest 1\n",
    "sa=guest('Albert','Mitchell',2,1)\n",
    "rr.setGuest(sa)\n",
    "re=reservation('Zeus',date(2019,6,3),5)\n",
    "rr.setReservation(re)\n",
    "newid=rr.updateResIDList()\n",
    "re.setreservID(newid)\n",
    "if re.getvillaName() == 'Zeus' or re.getvillaName()=='Alexandrian':\n",
    "    villarese=vipVilla(re.getvillaName(),newid)\n",
    "else:\n",
    "    villarese=villa(re.getvillaName(),newid)\n",
    "villarese.printGiftLabel(sa.getLastName())\n",
    "villarese.setPersonalAssistant('Eleni')\n",
    "villarese.cleanAndChangeKey(re.getcheckinDate(),re.getcheckoutDate())\n",
    "\n",
    "#Guest 2\n",
    "\n",
    "sa2=guest('Simon','Marchese',2,1)\n",
    "rr.setGuest(sa2)\n",
    "re2=reservation('Artemis',date(2019,7,3),8)\n",
    "rr.setReservation(re2)\n",
    "newid2=rr.updateResIDList()\n",
    "re2.setreservID(newid2)\n",
    "if re2.getvillaName() == 'Zeus' or re2.getvillaName()=='Alexandrian':\n",
    "    villarese2=vipVilla(re2.getvillaName(),newid2)\n",
    "else:\n",
    "    villarese2=villa(re2.getvillaName(),newid2)\n",
    "villarese2.printGiftLabel(sa2.getLastName())\n",
    "villarese2.setPersonalAssistant('Dorian')\n",
    "villarese2.cleanAndChangeKey(re2.getcheckinDate(),re2.getcheckoutDate())\n",
    "\n",
    "rr.printLists()\n"
   ]
  },
  {
   "cell_type": "code",
   "execution_count": null,
   "metadata": {},
   "outputs": [],
   "source": []
  }
 ],
 "metadata": {
  "kernelspec": {
   "display_name": "Python 3",
   "language": "python",
   "name": "python3"
  },
  "language_info": {
   "codemirror_mode": {
    "name": "ipython",
    "version": 3
   },
   "file_extension": ".py",
   "mimetype": "text/x-python",
   "name": "python",
   "nbconvert_exporter": "python",
   "pygments_lexer": "ipython3",
   "version": "3.7.6"
  }
 },
 "nbformat": 4,
 "nbformat_minor": 2
}
