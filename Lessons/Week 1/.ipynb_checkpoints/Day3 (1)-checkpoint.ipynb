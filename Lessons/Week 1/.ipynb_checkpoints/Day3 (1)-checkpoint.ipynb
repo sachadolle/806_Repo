{
 "cells": [
  {
   "cell_type": "markdown",
   "metadata": {
    "toc": true
   },
   "source": [
    "<h1>Table of Contents<span class=\"tocSkip\"></span></h1>\n",
    "<div class=\"toc\"><ul class=\"toc-item\"><li><span><a href=\"#Short-review\" data-toc-modified-id=\"Short-review-1\"><span class=\"toc-item-num\">1&nbsp;&nbsp;</span>Short review</a></span></li><li><span><a href=\"#Text-Decryption\" data-toc-modified-id=\"Text-Decryption-2\"><span class=\"toc-item-num\">2&nbsp;&nbsp;</span>Text Decryption</a></span></li><li><span><a href=\"#Programming-Paradigms\" data-toc-modified-id=\"Programming-Paradigms-3\"><span class=\"toc-item-num\">3&nbsp;&nbsp;</span>Programming Paradigms</a></span></li><li><span><a href=\"#Functional-Programming\" data-toc-modified-id=\"Functional-Programming-4\"><span class=\"toc-item-num\">4&nbsp;&nbsp;</span>Functional Programming</a></span></li><li><span><a href=\"#Error-Handling\" data-toc-modified-id=\"Error-Handling-5\"><span class=\"toc-item-num\">5&nbsp;&nbsp;</span>Error Handling</a></span></li><li><span><a href=\"#Try-Except-Finally\" data-toc-modified-id=\"Try-Except-Finally-6\"><span class=\"toc-item-num\">6&nbsp;&nbsp;</span>Try Except Finally</a></span></li><li><span><a href=\"#Raise\" data-toc-modified-id=\"Raise-7\"><span class=\"toc-item-num\">7&nbsp;&nbsp;</span>Raise</a></span></li></ul></div>"
   ]
  },
  {
   "cell_type": "markdown",
   "metadata": {},
   "source": [
    "# Short review"
   ]
  },
  {
   "cell_type": "code",
   "execution_count": 1,
   "metadata": {
    "collapsed": true
   },
   "outputs": [
    {
     "data": {
      "text/plain": [
       "[-99,\n",
       " -96,\n",
       " -93,\n",
       " -90,\n",
       " -87,\n",
       " -84,\n",
       " -81,\n",
       " -78,\n",
       " -75,\n",
       " -72,\n",
       " -69,\n",
       " -66,\n",
       " -63,\n",
       " -60,\n",
       " -57,\n",
       " -54,\n",
       " -51,\n",
       " -48,\n",
       " -45,\n",
       " -42,\n",
       " -39,\n",
       " -36,\n",
       " -33,\n",
       " -30,\n",
       " -27,\n",
       " -24,\n",
       " -21,\n",
       " -18,\n",
       " -15,\n",
       " -12,\n",
       " -9,\n",
       " -6,\n",
       " -3,\n",
       " 0,\n",
       " 3,\n",
       " 6,\n",
       " 9,\n",
       " 12,\n",
       " 15,\n",
       " 18,\n",
       " 21,\n",
       " 24,\n",
       " 27,\n",
       " 30,\n",
       " 33,\n",
       " 36,\n",
       " 39,\n",
       " 42,\n",
       " 45,\n",
       " 48,\n",
       " 51,\n",
       " 54,\n",
       " 57,\n",
       " 60,\n",
       " 63,\n",
       " 66,\n",
       " 69,\n",
       " 72,\n",
       " 75,\n",
       " 78,\n",
       " 81,\n",
       " 84,\n",
       " 87,\n",
       " 90,\n",
       " 93,\n",
       " 96,\n",
       " 99]"
      ]
     },
     "execution_count": 1,
     "metadata": {},
     "output_type": "execute_result"
    }
   ],
   "source": [
    "[i for i in range(-100,100) if i%3==0]"
   ]
  },
  {
   "cell_type": "code",
   "execution_count": 1,
   "metadata": {},
   "outputs": [],
   "source": [
    "lyrics=\"\"\"Let's dance\n",
    "Put on your red shoes and dance the blues\n",
    "Let's dance\n",
    "To the song they're playin' on the radio\n",
    "Let's sway\n",
    "While color lights up your face\n",
    "Let's sway\n",
    "Sway through the crowd to an empty space\n",
    "If you say run\n",
    "I'll run with you\n",
    "And if you say hide\n",
    "We'll hide\n",
    "Because my love for you\n",
    "Would break my heart in two\n",
    "If you should fall into my arms\n",
    "And tremble like a flower\n",
    "Let's dance\n",
    "Let's dance\n",
    "For fear your grace should fall\n",
    "Let's dance\n",
    "For fear tonight is all\n",
    "Let's sway\n",
    "You could look into my eyes\n",
    "Let's sway\n",
    "Under the moonlight, this serious moonlight\n",
    "And if you say run\n",
    "I'll run with you\n",
    "And if you say hide\n",
    "We'll hide…\"\"\""
   ]
  },
  {
   "cell_type": "code",
   "execution_count": 2,
   "metadata": {},
   "outputs": [
    {
     "data": {
      "text/plain": [
       "{\"let's\": 9,\n",
       " 'dance': 6,\n",
       " 'put': 1,\n",
       " 'on': 6,\n",
       " 'your': 3,\n",
       " 'red': 1,\n",
       " 'shoes': 1,\n",
       " 'and': 5,\n",
       " 'the': 6,\n",
       " 'blues': 1,\n",
       " 'to': 5,\n",
       " 'song': 1,\n",
       " \"they're\": 1,\n",
       " \"playin'\": 1,\n",
       " 'radio': 1,\n",
       " 'sway': 5,\n",
       " 'while': 1,\n",
       " 'color': 1,\n",
       " 'lights': 1,\n",
       " 'up': 1,\n",
       " 'face': 1,\n",
       " 'through': 1,\n",
       " 'crowd': 1,\n",
       " 'an': 12,\n",
       " 'empty': 1,\n",
       " 'space': 1,\n",
       " 'if': 5,\n",
       " 'you': 12,\n",
       " 'say': 4,\n",
       " 'run': 4,\n",
       " \"i'll\": 2,\n",
       " 'with': 2,\n",
       " 'hide': 4,\n",
       " \"we'll\": 2,\n",
       " 'because': 1,\n",
       " 'my': 4,\n",
       " 'love': 1,\n",
       " 'for': 3,\n",
       " 'would': 1,\n",
       " 'break': 1,\n",
       " 'heart': 1,\n",
       " 'in': 4,\n",
       " 'two': 1,\n",
       " 'should': 2,\n",
       " 'fall': 2,\n",
       " 'into': 2,\n",
       " 'arms': 1,\n",
       " 'tremble': 1,\n",
       " 'like': 1,\n",
       " 'a': 36,\n",
       " 'flower': 1,\n",
       " 'fear': 2,\n",
       " 'grace': 1,\n",
       " 'tonight': 1,\n",
       " 'is': 2,\n",
       " 'all': 3,\n",
       " 'could': 1,\n",
       " 'look': 1,\n",
       " 'eyes': 1,\n",
       " 'under': 1,\n",
       " 'moonlight,': 1,\n",
       " 'this': 1,\n",
       " 'serious': 1,\n",
       " 'moonlight': 2,\n",
       " 'hide…': 1}"
      ]
     },
     "execution_count": 2,
     "metadata": {},
     "output_type": "execute_result"
    }
   ],
   "source": [
    "{i.lower():lyrics.lower().strip('.,!?').count(i.lower()) for i in lyrics.split()}"
   ]
  },
  {
   "cell_type": "code",
   "execution_count": 19,
   "metadata": {
    "collapsed": true
   },
   "outputs": [
    {
     "name": "stdout",
     "output_type": "stream",
     "text": [
      "let's 9\n",
      "dance 6\n",
      "put 1\n",
      "on 6\n",
      "your 3\n",
      "red 1\n",
      "shoes 1\n",
      "and 5\n",
      "dance 6\n",
      "the 6\n",
      "blues 1\n",
      "let's 9\n",
      "dance 6\n",
      "to 5\n",
      "the 6\n",
      "song 1\n",
      "they're 1\n",
      "playin' 1\n",
      "on 6\n",
      "the 6\n",
      "radio 1\n",
      "let's 9\n",
      "sway 5\n",
      "while 1\n",
      "color 1\n",
      "lights 1\n",
      "up 1\n",
      "your 3\n",
      "face 1\n",
      "let's 9\n",
      "sway 5\n",
      "sway 5\n",
      "through 1\n",
      "the 6\n",
      "crowd 1\n",
      "to 5\n",
      "an 12\n",
      "empty 1\n",
      "space 1\n",
      "if 5\n",
      "you 12\n",
      "say 4\n",
      "run 4\n",
      "i'll 2\n",
      "run 4\n",
      "with 2\n",
      "you 12\n",
      "and 5\n",
      "if 5\n",
      "you 12\n",
      "say 4\n",
      "hide 4\n",
      "we'll 2\n",
      "hide 4\n",
      "because 1\n",
      "my 4\n",
      "love 1\n",
      "for 3\n",
      "you 12\n",
      "would 1\n",
      "break 1\n",
      "my 4\n",
      "heart 1\n",
      "in 4\n",
      "two 1\n",
      "if 5\n",
      "you 12\n",
      "should 2\n",
      "fall 2\n",
      "into 2\n",
      "my 4\n",
      "arms 1\n",
      "and 5\n",
      "tremble 1\n",
      "like 1\n",
      "a 36\n",
      "flower 1\n",
      "let's 9\n",
      "dance 6\n",
      "let's 9\n",
      "dance 6\n",
      "for 3\n",
      "fear 2\n",
      "your 3\n",
      "grace 1\n",
      "should 2\n",
      "fall 2\n",
      "let's 9\n",
      "dance 6\n",
      "for 3\n",
      "fear 2\n",
      "tonight 1\n",
      "is 2\n",
      "all 3\n",
      "let's 9\n",
      "sway 5\n",
      "you 12\n",
      "could 1\n",
      "look 1\n",
      "into 2\n",
      "my 4\n",
      "eyes 1\n",
      "let's 9\n",
      "sway 5\n",
      "under 1\n",
      "the 6\n",
      "moonlight 2\n",
      "this 1\n",
      "serious 1\n",
      "moonlight 2\n",
      "and 5\n",
      "if 5\n",
      "you 12\n",
      "say 4\n",
      "run 4\n",
      "i'll 2\n",
      "run 4\n",
      "with 2\n",
      "you 12\n",
      "and 5\n",
      "if 5\n",
      "you 12\n",
      "say 4\n",
      "hide 4\n",
      "we'll 2\n",
      "hide 4\n"
     ]
    }
   ],
   "source": [
    "for i in lyrics.split():\n",
    "    new_word=i.strip('.,!?…').lower()\n",
    "    \n",
    "    print(new_word, lyrics.lower().count(new_word))"
   ]
  },
  {
   "cell_type": "code",
   "execution_count": 22,
   "metadata": {
    "collapsed": true
   },
   "outputs": [
    {
     "data": {
      "text/plain": [
       "{\"let's\": 9,\n",
       " 'dance': 6,\n",
       " 'put': 1,\n",
       " 'on': 6,\n",
       " 'your': 3,\n",
       " 'red': 1,\n",
       " 'shoes': 1,\n",
       " 'and': 5,\n",
       " 'the': 6,\n",
       " 'blues': 1,\n",
       " 'to': 5,\n",
       " 'song': 1,\n",
       " \"they're\": 1,\n",
       " \"playin'\": 1,\n",
       " 'radio': 1,\n",
       " 'sway': 5,\n",
       " 'while': 1,\n",
       " 'color': 1,\n",
       " 'lights': 1,\n",
       " 'up': 1,\n",
       " 'face': 1,\n",
       " 'through': 1,\n",
       " 'crowd': 1,\n",
       " 'an': 12,\n",
       " 'empty': 1,\n",
       " 'space': 1,\n",
       " 'if': 5,\n",
       " 'you': 12,\n",
       " 'say': 4,\n",
       " 'run': 4,\n",
       " \"i'll\": 2,\n",
       " 'with': 2,\n",
       " 'hide': 4,\n",
       " \"we'll\": 2,\n",
       " 'because': 1,\n",
       " 'my': 4,\n",
       " 'love': 1,\n",
       " 'for': 3,\n",
       " 'would': 1,\n",
       " 'break': 1,\n",
       " 'heart': 1,\n",
       " 'in': 4,\n",
       " 'two': 1,\n",
       " 'should': 2,\n",
       " 'fall': 2,\n",
       " 'into': 2,\n",
       " 'arms': 1,\n",
       " 'tremble': 1,\n",
       " 'like': 1,\n",
       " 'a': 36,\n",
       " 'flower': 1,\n",
       " 'fear': 2,\n",
       " 'grace': 1,\n",
       " 'tonight': 1,\n",
       " 'is': 2,\n",
       " 'all': 3,\n",
       " 'could': 1,\n",
       " 'look': 1,\n",
       " 'eyes': 1,\n",
       " 'under': 1,\n",
       " 'moonlight': 2,\n",
       " 'this': 1,\n",
       " 'serious': 1}"
      ]
     },
     "execution_count": 22,
     "metadata": {},
     "output_type": "execute_result"
    }
   ],
   "source": [
    "{i.strip('.,!?…'): lyrics.lower().count(i.strip('.,!?…')) for i in lyrics.lower().split()}"
   ]
  },
  {
   "cell_type": "markdown",
   "metadata": {},
   "source": [
    "# Text Decryption"
   ]
  },
  {
   "cell_type": "code",
   "execution_count": 23,
   "metadata": {},
   "outputs": [],
   "source": [
    "encrypted_text=\"\"\"GFS WMY OG LGDVS MF SFNKYHOSU ESLLMRS, PC WS BFGW POL DMFRQMRS, PL OG CPFU M UPCCSKSFO HDMPFOSXO GC OIS LMES DMFRQMRS DGFR SFGQRI OG CPDD GFS LISSO GK LG, MFU OISF WS NGQFO OIS GNNQKKSFNSL GC SMNI DSOOSK. WS NMDD OIS EGLO CKSJQSFODY GNNQKKPFR DSOOSK OIS 'CPKLO', OIS FSXO EGLO GNNQKKPFR DSOOSK OIS 'LSNGFU' OIS CGDDGWPFR EGLO GNNQKKPFR DSOOSK OIS 'OIPKU', MFU LG GF, QFOPD WS MNNGQFO CGK MDD OIS UPCCSKSFO DSOOSKL PF OIS HDMPFOSXO LMEHDS. OISF WS DGGB MO OIS NPHISK OSXO WS WMFO OG LGDVS MFU WS MDLG NDMLLPCY POL LYEAGDL. WS CPFU OIS EGLO GNNQKKPFR LYEAGD MFU NIMFRS PO OG OIS CGKE GC OIS 'CPKLO' DSOOSK GC OIS HDMPFOSXO LMEHDS, OIS FSXO EGLO NGEEGF LYEAGD PL NIMFRSU OG OIS CGKE GC OIS 'LSNGFU' DSOOSK, MFU OIS CGDDGWPFR EGLO NGEEGF LYEAGD PL NIMFRSU OG OIS CGKE GC OIS 'OIPKU' DSOOSK, MFU LG GF, QFOPD WS MNNGQFO CGK MDD LYEAGDL GC OIS NKYHOGRKME WS WMFO OG LGDVS.\"\"\""
   ]
  },
  {
   "cell_type": "code",
   "execution_count": 24,
   "metadata": {},
   "outputs": [
    {
     "name": "stdout",
     "output_type": "stream",
     "text": [
      "GFS WMY OG LGDVS MF SFNKYHOSU ESLLMRS, PC WS BFGW POL DMFRQMRS, PL OG CPFU M UPCCSKSFO HDMPFOSXO GC OIS LMES DMFRQMRS DGFR SFGQRI OG CPDD GFS LISSO GK LG, MFU OISF WS NGQFO OIS GNNQKKSFNSL GC SMNI DSOOSK. WS NMDD OIS EGLO CKSJQSFODY GNNQKKPFR DSOOSK OIS 'CPKLO', OIS FSXO EGLO GNNQKKPFR DSOOSK OIS 'LSNGFU' OIS CGDDGWPFR EGLO GNNQKKPFR DSOOSK OIS 'OIPKU', MFU LG GF, QFOPD WS MNNGQFO CGK MDD OIS UPCCSKSFO DSOOSKL PF OIS HDMPFOSXO LMEHDS. OISF WS DGGB MO OIS NPHISK OSXO WS WMFO OG LGDVS MFU WS MDLG NDMLLPCY POL LYEAGDL. WS CPFU OIS EGLO GNNQKKPFR LYEAGD MFU NIMFRS PO OG OIS CGKE GC OIS 'CPKLO' DSOOSK GC OIS HDMPFOSXO LMEHDS, OIS FSXO EGLO NGEEGF LYEAGD PL NIMFRSU OG OIS CGKE GC OIS 'LSNGFU' DSOOSK, MFU OIS CGDDGWPFR EGLO NGEEGF LYEAGD PL NIMFRSU OG OIS CGKE GC OIS 'OIPKU' DSOOSK, MFU LG GF, QFOPD WS MNNGQFO CGK MDD LYEAGDL GC OIS NKYHOGRKME WS WMFO OG LGDVS.\n"
     ]
    }
   ],
   "source": [
    "print(encrypted_text)"
   ]
  },
  {
   "cell_type": "code",
   "execution_count": 26,
   "metadata": {},
   "outputs": [],
   "source": [
    "freq={i:encrypted_text.count(i) for i in encrypted_text}"
   ]
  },
  {
   "cell_type": "code",
   "execution_count": 34,
   "metadata": {},
   "outputs": [],
   "source": [
    "import operator\n",
    "\n",
    "freq=dict(sorted(freq.items(), key=operator.itemgetter(1), reverse=True))"
   ]
  },
  {
   "cell_type": "code",
   "execution_count": 36,
   "metadata": {},
   "outputs": [],
   "source": [
    "del freq[' ']"
   ]
  },
  {
   "cell_type": "code",
   "execution_count": 37,
   "metadata": {
    "collapsed": true
   },
   "outputs": [
    {
     "data": {
      "text/plain": [
       "{'S': 88,\n",
       " 'O': 85,\n",
       " 'G': 67,\n",
       " 'F': 51,\n",
       " 'D': 42,\n",
       " 'L': 39,\n",
       " 'M': 35,\n",
       " 'K': 35,\n",
       " 'I': 33,\n",
       " 'P': 30,\n",
       " 'N': 29,\n",
       " 'C': 26,\n",
       " 'E': 23,\n",
       " 'U': 17,\n",
       " 'R': 17,\n",
       " 'W': 16,\n",
       " 'Q': 14,\n",
       " \"'\": 12,\n",
       " 'Y': 10,\n",
       " ',': 10,\n",
       " 'H': 8,\n",
       " 'X': 6,\n",
       " 'A': 5,\n",
       " '.': 4,\n",
       " 'V': 3,\n",
       " 'B': 2,\n",
       " 'J': 1}"
      ]
     },
     "execution_count": 37,
     "metadata": {},
     "output_type": "execute_result"
    }
   ],
   "source": [
    "freq"
   ]
  },
  {
   "cell_type": "code",
   "execution_count": 39,
   "metadata": {
    "scrolled": true
   },
   "outputs": [
    {
     "data": {
      "text/plain": [
       "\"GFe WMY OG LGDVe MF eFNKYHOeU EeLLMRe, PC We BFGW POL DMFRQMRe, PL OG CPFU M UPCCeKeFO HDMPFOeXO GC OIe LMEe DMFRQMRe DGFR eFGQRI OG CPDD GFe LIeeO GK LG, MFU OIeF We NGQFO OIe GNNQKKeFNeL GC eMNI DeOOeK. We NMDD OIe EGLO CKeJQeFODY GNNQKKPFR DeOOeK OIe 'CPKLO', OIe FeXO EGLO GNNQKKPFR DeOOeK OIe 'LeNGFU' OIe CGDDGWPFR EGLO GNNQKKPFR DeOOeK OIe 'OIPKU', MFU LG GF, QFOPD We MNNGQFO CGK MDD OIe UPCCeKeFO DeOOeKL PF OIe HDMPFOeXO LMEHDe. OIeF We DGGB MO OIe NPHIeK OeXO We WMFO OG LGDVe MFU We MDLG NDMLLPCY POL LYEAGDL. We CPFU OIe EGLO GNNQKKPFR LYEAGD MFU NIMFRe PO OG OIe CGKE GC OIe 'CPKLO' DeOOeK GC OIe HDMPFOeXO LMEHDe, OIe FeXO EGLO NGEEGF LYEAGD PL NIMFReU OG OIe CGKE GC OIe 'LeNGFU' DeOOeK, MFU OIe CGDDGWPFR EGLO NGEEGF LYEAGD PL NIMFReU OG OIe CGKE GC OIe 'OIPKU' DeOOeK, MFU LG GF, QFOPD We MNNGQFO CGK MDD LYEAGDL GC OIe NKYHOGRKME We WMFO OG LGDVe.\""
      ]
     },
     "execution_count": 39,
     "metadata": {},
     "output_type": "execute_result"
    }
   ],
   "source": [
    "encrypted_text.replace('S','e')"
   ]
  },
  {
   "cell_type": "code",
   "execution_count": 40,
   "metadata": {},
   "outputs": [
    {
     "data": {
      "text/plain": [
       "\"GFS WMY OG LGDVS MF SFNKYHOSU ESLLMRS, PC WS BFGW POL DMFRQMRS, PL OG CPFU M UPCCSKSFO HDMPFOSXO GC OIS LMES DMFRQMRS DGFR SFGQRI OG CPDD GFS LISSO GK LG, MFU OISF WS NGQFO OIS GNNQKKSFNSL GC SMNI DSOOSK. WS NMDD OIS EGLO CKSJQSFODY GNNQKKPFR DSOOSK OIS 'CPKLO', OIS FSXO EGLO GNNQKKPFR DSOOSK OIS 'LSNGFU' OIS CGDDGWPFR EGLO GNNQKKPFR DSOOSK OIS 'OIPKU', MFU LG GF, QFOPD WS MNNGQFO CGK MDD OIS UPCCSKSFO DSOOSKL PF OIS HDMPFOSXO LMEHDS. OISF WS DGGB MO OIS NPHISK OSXO WS WMFO OG LGDVS MFU WS MDLG NDMLLPCY POL LYEAGDL. WS CPFU OIS EGLO GNNQKKPFR LYEAGD MFU NIMFRS PO OG OIS CGKE GC OIS 'CPKLO' DSOOSK GC OIS HDMPFOSXO LMEHDS, OIS FSXO EGLO NGEEGF LYEAGD PL NIMFRSU OG OIS CGKE GC OIS 'LSNGFU' DSOOSK, MFU OIS CGDDGWPFR EGLO NGEEGF LYEAGD PL NIMFRSU OG OIS CGKE GC OIS 'OIPKU' DSOOSK, MFU LG GF, QFOPD WS MNNGQFO CGK MDD LYEAGDL GC OIS NKYHOGRKME WS WMFO OG LGDVS.\""
      ]
     },
     "execution_count": 40,
     "metadata": {},
     "output_type": "execute_result"
    }
   ],
   "source": [
    "encrypted_text"
   ]
  },
  {
   "cell_type": "code",
   "execution_count": 41,
   "metadata": {},
   "outputs": [],
   "source": [
    "encrypted_text=encrypted_text.replace('S','e')"
   ]
  },
  {
   "cell_type": "code",
   "execution_count": 45,
   "metadata": {},
   "outputs": [],
   "source": [
    "encrypted_text=encrypted_text.replace('O','t').replace('I','h')"
   ]
  },
  {
   "cell_type": "code",
   "execution_count": 49,
   "metadata": {},
   "outputs": [],
   "source": [
    "encrypted_text=encrypted_text.replace('G','o').replace('M','a')"
   ]
  },
  {
   "cell_type": "code",
   "execution_count": 53,
   "metadata": {},
   "outputs": [],
   "source": [
    "encrypted_text=encrypted_text.replace('F','n').replace('C','f')"
   ]
  },
  {
   "cell_type": "code",
   "execution_count": 66,
   "metadata": {},
   "outputs": [],
   "source": [
    "encrypted_text=encrypted_text.replace('D','l').replace('N','c').replace('K','r').replace('U','d').replace('Q','u').replace('P','i').replace('L','s').replace('H','p').replace('Y','y').replace('B','k').replace('R','g').replace('E','m').replace('A','b').replace('W','w').replace('V','v').replace('X','x').replace('J','q')"
   ]
  },
  {
   "cell_type": "code",
   "execution_count": 67,
   "metadata": {},
   "outputs": [
    {
     "data": {
      "text/plain": [
       "\"one way to solve an encrypted message, if we know its language, is to find a different plaintext of the same language long enough to fill one sheet or so, and then we count the occurrences of each letter. we call the most frequently occurring letter the 'first', the next most occurring letter the 'second' the following most occurring letter the 'third', and so on, until we account for all the different letters in the plaintext sample. then we look at the cipher text we want to solve and we also classify its symbols. we find the most occurring symbol and change it to the form of the 'first' letter of the plaintext sample, the next most common symbol is changed to the form of the 'second' letter, and the following most common symbol is changed to the form of the 'third' letter, and so on, until we account for all symbols of the cryptogram we want to solve.\""
      ]
     },
     "execution_count": 67,
     "metadata": {},
     "output_type": "execute_result"
    }
   ],
   "source": [
    "encrypted_text"
   ]
  },
  {
   "cell_type": "code",
   "execution_count": 68,
   "metadata": {},
   "outputs": [],
   "source": [
    "import binascii"
   ]
  },
  {
   "cell_type": "code",
   "execution_count": 72,
   "metadata": {},
   "outputs": [
    {
     "data": {
      "text/plain": [
       "2346098258"
      ]
     },
     "execution_count": 72,
     "metadata": {},
     "output_type": "execute_result"
    }
   ],
   "source": [
    "binascii.crc32(b'Hello world')"
   ]
  },
  {
   "cell_type": "code",
   "execution_count": 73,
   "metadata": {},
   "outputs": [
    {
     "data": {
      "text/plain": [
       "4157704578"
      ]
     },
     "execution_count": 73,
     "metadata": {},
     "output_type": "execute_result"
    }
   ],
   "source": [
    "binascii.crc32(b'Hello')"
   ]
  },
  {
   "cell_type": "code",
   "execution_count": 82,
   "metadata": {},
   "outputs": [
    {
     "name": "stdout",
     "output_type": "stream",
     "text": [
      "The Zen of Python, by Tim Peters\n",
      "\n",
      "Beautiful is better than ugly.\n",
      "Explicit is better than implicit.\n",
      "Simple is better than complex.\n",
      "Complex is better than complicated.\n",
      "Flat is better than nested.\n",
      "Sparse is better than dense.\n",
      "Readability counts.\n",
      "Special cases aren't special enough to break the rules.\n",
      "Although practicality beats purity.\n",
      "Errors should never pass silently.\n",
      "Unless explicitly silenced.\n",
      "In the face of ambiguity, refuse the temptation to guess.\n",
      "There should be one-- and preferably only one --obvious way to do it.\n",
      "Although that way may not be obvious at first unless you're Dutch.\n",
      "Now is better than never.\n",
      "Although never is often better than *right* now.\n",
      "If the implementation is hard to explain, it's a bad idea.\n",
      "If the implementation is easy to explain, it may be a good idea.\n",
      "Namespaces are one honking great idea -- let's do more of those!\n"
     ]
    }
   ],
   "source": [
    "import this"
   ]
  },
  {
   "cell_type": "code",
   "execution_count": 90,
   "metadata": {
    "collapsed": true
   },
   "outputs": [
    {
     "data": {
      "text/plain": [
       "{'A': 'N',\n",
       " 'B': 'O',\n",
       " 'C': 'P',\n",
       " 'D': 'Q',\n",
       " 'E': 'R',\n",
       " 'F': 'S',\n",
       " 'G': 'T',\n",
       " 'H': 'U',\n",
       " 'I': 'V',\n",
       " 'J': 'W',\n",
       " 'K': 'X',\n",
       " 'L': 'Y',\n",
       " 'M': 'Z',\n",
       " 'N': 'A',\n",
       " 'O': 'B',\n",
       " 'P': 'C',\n",
       " 'Q': 'D',\n",
       " 'R': 'E',\n",
       " 'S': 'F',\n",
       " 'T': 'G',\n",
       " 'U': 'H',\n",
       " 'V': 'I',\n",
       " 'W': 'J',\n",
       " 'X': 'K',\n",
       " 'Y': 'L',\n",
       " 'Z': 'M',\n",
       " 'a': 'n',\n",
       " 'b': 'o',\n",
       " 'c': 'p',\n",
       " 'd': 'q',\n",
       " 'e': 'r',\n",
       " 'f': 's',\n",
       " 'g': 't',\n",
       " 'h': 'u',\n",
       " 'i': 'v',\n",
       " 'j': 'w',\n",
       " 'k': 'x',\n",
       " 'l': 'y',\n",
       " 'm': 'z',\n",
       " 'n': 'a',\n",
       " 'o': 'b',\n",
       " 'p': 'c',\n",
       " 'q': 'd',\n",
       " 'r': 'e',\n",
       " 's': 'f',\n",
       " 't': 'g',\n",
       " 'u': 'h',\n",
       " 'v': 'i',\n",
       " 'w': 'j',\n",
       " 'x': 'k',\n",
       " 'y': 'l',\n",
       " 'z': 'm'}"
      ]
     },
     "execution_count": 90,
     "metadata": {},
     "output_type": "execute_result"
    }
   ],
   "source": [
    "this.d"
   ]
  },
  {
   "cell_type": "code",
   "execution_count": 94,
   "metadata": {
    "collapsed": true
   },
   "outputs": [
    {
     "name": "stdout",
     "output_type": "stream",
     "text": [
      "Gur Mra bs Clguba, ol Gvz Crgref\n",
      "\n",
      "Ornhgvshy vf orggre guna htyl.\n",
      "Rkcyvpvg vf orggre guna vzcyvpvg.\n",
      "Fvzcyr vf orggre guna pbzcyrk.\n",
      "Pbzcyrk vf orggre guna pbzcyvpngrq.\n",
      "Syng vf orggre guna arfgrq.\n",
      "Fcnefr vf orggre guna qrafr.\n",
      "Ernqnovyvgl pbhagf.\n",
      "Fcrpvny pnfrf nera'g fcrpvny rabhtu gb oernx gur ehyrf.\n",
      "Nygubhtu cenpgvpnyvgl orngf chevgl.\n",
      "Reebef fubhyq arire cnff fvyragyl.\n",
      "Hayrff rkcyvpvgyl fvyraprq.\n",
      "Va gur snpr bs nzovthvgl, ershfr gur grzcgngvba gb thrff.\n",
      "Gurer fubhyq or bar-- naq cersrenoyl bayl bar --boivbhf jnl gb qb vg.\n",
      "Nygubhtu gung jnl znl abg or boivbhf ng svefg hayrff lbh'er Qhgpu.\n",
      "Abj vf orggre guna arire.\n",
      "Nygubhtu arire vf bsgra orggre guna *evtug* abj.\n",
      "Vs gur vzcyrzragngvba vf uneq gb rkcynva, vg'f n onq vqrn.\n",
      "Vs gur vzcyrzragngvba vf rnfl gb rkcynva, vg znl or n tbbq vqrn.\n",
      "Anzrfcnprf ner bar ubaxvat terng vqrn -- yrg'f qb zber bs gubfr!\n"
     ]
    }
   ],
   "source": [
    "print(this.s)"
   ]
  },
  {
   "cell_type": "code",
   "execution_count": 100,
   "metadata": {},
   "outputs": [
    {
     "data": {
      "text/plain": [
       "' '"
      ]
     },
     "execution_count": 100,
     "metadata": {},
     "output_type": "execute_result"
    }
   ],
   "source": [
    "this.d.get(',', ' ')"
   ]
  },
  {
   "cell_type": "code",
   "execution_count": 105,
   "metadata": {},
   "outputs": [
    {
     "name": "stdout",
     "output_type": "stream",
     "text": [
      "The Zen of Python, by Tim Peters\n",
      "\n",
      "Beautiful is better than ugly.\n",
      "Explicit is better than implicit.\n",
      "Simple is better than complex.\n",
      "Complex is better than complicated.\n",
      "Flat is better than nested.\n",
      "Sparse is better than dense.\n",
      "Readability counts.\n",
      "Special cases aren't special enough to break the rules.\n",
      "Although practicality beats purity.\n",
      "Errors should never pass silently.\n",
      "Unless explicitly silenced.\n",
      "In the face of ambiguity, refuse the temptation to guess.\n",
      "There should be one-- and preferably only one --obvious way to do it.\n",
      "Although that way may not be obvious at first unless you're Dutch.\n",
      "Now is better than never.\n",
      "Although never is often better than *right* now.\n",
      "If the implementation is hard to explain, it's a bad idea.\n",
      "If the implementation is easy to explain, it may be a good idea.\n",
      "Namespaces are one honking great idea -- let's do more of those!\n"
     ]
    }
   ],
   "source": [
    "print(''.join([this.d.get(c,c) for c in this.s]))"
   ]
  },
  {
   "cell_type": "code",
   "execution_count": null,
   "metadata": {},
   "outputs": [],
   "source": []
  },
  {
   "cell_type": "markdown",
   "metadata": {},
   "source": [
    "# Programming Paradigms"
   ]
  },
  {
   "cell_type": "markdown",
   "metadata": {},
   "source": [
    "* Imperative\n",
    "    - Procedural\n",
    "    - Object Oriented\n",
    "* Declarative\n",
    "    - Functional\n",
    "    - Object Oriented"
   ]
  },
  {
   "cell_type": "markdown",
   "metadata": {},
   "source": [
    "1. In a medium bowl, beat eggs until no whites remain, then season with salt, pepper, and a pinch red pepper flakes.\n",
    "2. In a medium non-stick skillet over medium heat, melt butter. Pour in eggs and tilt pan so eggs fully cover the entire pan. As eggs start to set, use a rubber spatula to drag cooked edges into center of pan. Tilt pan to let uncooked egg fall to the edge of the pan.\n",
    "3. Once the bottom is set, but top is still a little wet, sprinkle cheese and chives on one half of omelet. Fold other side over cheese and slide omelet onto a plate."
   ]
  },
  {
   "cell_type": "code",
   "execution_count": 106,
   "metadata": {},
   "outputs": [
    {
     "name": "stdout",
     "output_type": "stream",
     "text": [
      "dog barks\n"
     ]
    }
   ],
   "source": [
    "txt='dog'\n",
    "action='barks'\n",
    "print(txt,action)"
   ]
  },
  {
   "cell_type": "code",
   "execution_count": 1,
   "metadata": {},
   "outputs": [
    {
     "ename": "NameError",
     "evalue": "name 'txt' is not defined",
     "output_type": "error",
     "traceback": [
      "\u001b[0;31m---------------------------------------------------------------------------\u001b[0m",
      "\u001b[0;31mNameError\u001b[0m                                 Traceback (most recent call last)",
      "\u001b[0;32m<ipython-input-1-ddedc3ef6bd5>\u001b[0m in \u001b[0;36m<module>\u001b[0;34m\u001b[0m\n\u001b[0;32m----> 1\u001b[0;31m \u001b[0mprint\u001b[0m\u001b[0;34m(\u001b[0m\u001b[0mtxt\u001b[0m\u001b[0;34m,\u001b[0m\u001b[0maction\u001b[0m\u001b[0;34m)\u001b[0m\u001b[0;34m\u001b[0m\u001b[0;34m\u001b[0m\u001b[0m\n\u001b[0m\u001b[1;32m      2\u001b[0m \u001b[0mtxt\u001b[0m\u001b[0;34m=\u001b[0m\u001b[0;34m'dog'\u001b[0m\u001b[0;34m\u001b[0m\u001b[0;34m\u001b[0m\u001b[0m\n\u001b[1;32m      3\u001b[0m \u001b[0maction\u001b[0m\u001b[0;34m=\u001b[0m\u001b[0;34m'barks'\u001b[0m\u001b[0;34m\u001b[0m\u001b[0;34m\u001b[0m\u001b[0m\n",
      "\u001b[0;31mNameError\u001b[0m: name 'txt' is not defined"
     ]
    }
   ],
   "source": [
    "print(txt,action)\n",
    "txt='dog'\n",
    "action='barks'"
   ]
  },
  {
   "cell_type": "markdown",
   "metadata": {},
   "source": [
    "<img src='https://camo.githubusercontent.com/ead4a8eb203672f60f9e5614e3a155124768ba61/68747470733a2f2f75706c6f61642e77696b696d656469612e6f72672f77696b6970656469612f636f6d6d6f6e732f7468756d622f622f62312f4b6f70696d697a6d2e7376672f32323070782d4b6f70696d697a6d2e7376672e706e67'>"
   ]
  },
  {
   "cell_type": "code",
   "execution_count": 2,
   "metadata": {},
   "outputs": [],
   "source": [
    "word='automobile'"
   ]
  },
  {
   "cell_type": "code",
   "execution_count": 4,
   "metadata": {},
   "outputs": [
    {
     "data": {
      "text/plain": [
       "10"
      ]
     },
     "execution_count": 4,
     "metadata": {},
     "output_type": "execute_result"
    }
   ],
   "source": [
    "l=0\n",
    "for x in word:\n",
    "    l+=1\n",
    "l"
   ]
  },
  {
   "cell_type": "code",
   "execution_count": 5,
   "metadata": {},
   "outputs": [
    {
     "data": {
      "text/plain": [
       "7"
      ]
     },
     "execution_count": 5,
     "metadata": {},
     "output_type": "execute_result"
    }
   ],
   "source": [
    "word2='textile'\n",
    "l=0\n",
    "for x in word2:\n",
    "    l+=1\n",
    "l"
   ]
  },
  {
   "cell_type": "code",
   "execution_count": 23,
   "metadata": {},
   "outputs": [],
   "source": [
    "def length_of_the_word(word):\n",
    "    l=0\n",
    "    for x in word:\n",
    "        l+=1\n",
    "    print(f'The length of word {word} is {l}')\n",
    "    return l"
   ]
  },
  {
   "cell_type": "code",
   "execution_count": 27,
   "metadata": {},
   "outputs": [],
   "source": [
    "def length_of_the_word(word):\n",
    "    l=0\n",
    "    for x in word:\n",
    "        l+=1\n",
    "    return f'The length of word {word} is {l}'"
   ]
  },
  {
   "cell_type": "code",
   "execution_count": 28,
   "metadata": {},
   "outputs": [],
   "source": [
    "length=length_of_the_word('automobile')"
   ]
  },
  {
   "cell_type": "code",
   "execution_count": 29,
   "metadata": {},
   "outputs": [
    {
     "data": {
      "text/plain": [
       "'The length of word automobile is 10'"
      ]
     },
     "execution_count": 29,
     "metadata": {},
     "output_type": "execute_result"
    }
   ],
   "source": [
    "length"
   ]
  },
  {
   "cell_type": "code",
   "execution_count": 8,
   "metadata": {},
   "outputs": [
    {
     "data": {
      "text/plain": [
       "7"
      ]
     },
     "execution_count": 8,
     "metadata": {},
     "output_type": "execute_result"
    }
   ],
   "source": [
    "length_of_the_word('textile')"
   ]
  },
  {
   "cell_type": "code",
   "execution_count": 9,
   "metadata": {},
   "outputs": [
    {
     "data": {
      "text/plain": [
       "8"
      ]
     },
     "execution_count": 9,
     "metadata": {},
     "output_type": "execute_result"
    }
   ],
   "source": [
    "length_of_the_word('computer')"
   ]
  },
  {
   "cell_type": "code",
   "execution_count": 21,
   "metadata": {},
   "outputs": [
    {
     "data": {
      "text/plain": [
       "7"
      ]
     },
     "execution_count": 21,
     "metadata": {},
     "output_type": "execute_result"
    }
   ],
   "source": [
    "length_of_the_word(word2)"
   ]
  },
  {
   "cell_type": "code",
   "execution_count": 22,
   "metadata": {},
   "outputs": [
    {
     "data": {
      "text/plain": [
       "'textile'"
      ]
     },
     "execution_count": 22,
     "metadata": {},
     "output_type": "execute_result"
    }
   ],
   "source": [
    "word2"
   ]
  },
  {
   "cell_type": "markdown",
   "metadata": {},
   "source": [
    "# Functional Programming"
   ]
  },
  {
   "cell_type": "code",
   "execution_count": 52,
   "metadata": {},
   "outputs": [],
   "source": [
    "# variables to be used further\n",
    "contact_list={'Huey':33761111111, 'Dewey':33762222222, 'Louie':33763333333}\n",
    "received_calls=[]\n",
    "made_calls=[]\n",
    "\n",
    "received_sms={}\n",
    "sent_sms={}\n",
    "\n",
    "gallery=[]"
   ]
  },
  {
   "cell_type": "markdown",
   "metadata": {},
   "source": [
    "```python\n",
    "def function_name(mandatory_args, optional_args=default_value):\n",
    "    \"\"\"\n",
    "    Docstrings\n",
    "    \"\"\"\n",
    "    \n",
    "    the body\n",
    "    \n",
    "    return output\n",
    "```"
   ]
  },
  {
   "cell_type": "code",
   "execution_count": 3,
   "metadata": {},
   "outputs": [],
   "source": [
    "?str.split"
   ]
  },
  {
   "cell_type": "code",
   "execution_count": 29,
   "metadata": {},
   "outputs": [],
   "source": [
    "def add_contact(name, number, contact_list):\n",
    "    \"\"\"\n",
    "    Add a new value to the contact_list dictionary, having name as a key, number as value\n",
    "    \"\"\"\n",
    "    \n",
    "    contact_list[name]=number\n",
    "    \n",
    "    return contact_list"
   ]
  },
  {
   "cell_type": "code",
   "execution_count": 5,
   "metadata": {},
   "outputs": [
    {
     "ename": "TypeError",
     "evalue": "add_contact() missing 1 required positional argument: 'contact_list'",
     "output_type": "error",
     "traceback": [
      "\u001b[0;31m---------------------------------------------------------------------------\u001b[0m",
      "\u001b[0;31mTypeError\u001b[0m                                 Traceback (most recent call last)",
      "\u001b[0;32m<ipython-input-5-650b132e7b79>\u001b[0m in \u001b[0;36m<module>\u001b[0;34m\u001b[0m\n\u001b[0;32m----> 1\u001b[0;31m \u001b[0madd_contact\u001b[0m\u001b[0;34m(\u001b[0m\u001b[0;34m'Launchpad McQuack'\u001b[0m\u001b[0;34m,\u001b[0m \u001b[0;36m33769999999\u001b[0m\u001b[0;34m)\u001b[0m\u001b[0;34m\u001b[0m\u001b[0;34m\u001b[0m\u001b[0m\n\u001b[0m",
      "\u001b[0;31mTypeError\u001b[0m: add_contact() missing 1 required positional argument: 'contact_list'"
     ]
    }
   ],
   "source": [
    "add_contact('Launchpad McQuack', 33769999999)"
   ]
  },
  {
   "cell_type": "code",
   "execution_count": 6,
   "metadata": {},
   "outputs": [
    {
     "ename": "TypeError",
     "evalue": "list indices must be integers or slices, not str",
     "output_type": "error",
     "traceback": [
      "\u001b[0;31m---------------------------------------------------------------------------\u001b[0m",
      "\u001b[0;31mTypeError\u001b[0m                                 Traceback (most recent call last)",
      "\u001b[0;32m<ipython-input-6-53c194e60b67>\u001b[0m in \u001b[0;36m<module>\u001b[0;34m\u001b[0m\n\u001b[0;32m----> 1\u001b[0;31m \u001b[0madd_contact\u001b[0m\u001b[0;34m(\u001b[0m\u001b[0;34m'Launchpad McQuack'\u001b[0m\u001b[0;34m,\u001b[0m \u001b[0;36m33769999999\u001b[0m\u001b[0;34m,\u001b[0m \u001b[0;34m[\u001b[0m\u001b[0;34m]\u001b[0m\u001b[0;34m)\u001b[0m\u001b[0;34m\u001b[0m\u001b[0;34m\u001b[0m\u001b[0m\n\u001b[0m",
      "\u001b[0;32m<ipython-input-4-0968e7ecb8f6>\u001b[0m in \u001b[0;36madd_contact\u001b[0;34m(name, number, contact_list)\u001b[0m\n\u001b[1;32m      4\u001b[0m     \"\"\"\n\u001b[1;32m      5\u001b[0m \u001b[0;34m\u001b[0m\u001b[0m\n\u001b[0;32m----> 6\u001b[0;31m     \u001b[0mcontact_list\u001b[0m\u001b[0;34m[\u001b[0m\u001b[0mname\u001b[0m\u001b[0;34m]\u001b[0m\u001b[0;34m=\u001b[0m\u001b[0mnumber\u001b[0m\u001b[0;34m\u001b[0m\u001b[0;34m\u001b[0m\u001b[0m\n\u001b[0m\u001b[1;32m      7\u001b[0m \u001b[0;34m\u001b[0m\u001b[0m\n\u001b[1;32m      8\u001b[0m     \u001b[0;32mreturn\u001b[0m \u001b[0mcontact_list\u001b[0m\u001b[0;34m\u001b[0m\u001b[0;34m\u001b[0m\u001b[0m\n",
      "\u001b[0;31mTypeError\u001b[0m: list indices must be integers or slices, not str"
     ]
    }
   ],
   "source": [
    "add_contact('Launchpad McQuack', 33769999999, [])"
   ]
  },
  {
   "cell_type": "code",
   "execution_count": 7,
   "metadata": {},
   "outputs": [
    {
     "data": {
      "text/plain": [
       "{'Launchpad McQuack': 33769999999}"
      ]
     },
     "execution_count": 7,
     "metadata": {},
     "output_type": "execute_result"
    }
   ],
   "source": [
    "add_contact('Launchpad McQuack', 33769999999, {})"
   ]
  },
  {
   "cell_type": "code",
   "execution_count": 8,
   "metadata": {},
   "outputs": [
    {
     "data": {
      "text/plain": [
       "{'Huey': 33761111111,\n",
       " 'Dewey': 33762222222,\n",
       " 'Louie': 33763333333,\n",
       " 'Launchpad McQuack': 33769999999}"
      ]
     },
     "execution_count": 8,
     "metadata": {},
     "output_type": "execute_result"
    }
   ],
   "source": [
    "add_contact('Launchpad McQuack', 33769999999, contact_list)"
   ]
  },
  {
   "cell_type": "code",
   "execution_count": 9,
   "metadata": {},
   "outputs": [
    {
     "data": {
      "text/plain": [
       "{'Huey': 33761111111,\n",
       " 'Dewey': 33762222222,\n",
       " 'Louie': 33763333333,\n",
       " 'Launchpad McQuack': 33769999999}"
      ]
     },
     "execution_count": 9,
     "metadata": {},
     "output_type": "execute_result"
    }
   ],
   "source": [
    "contact_list"
   ]
  },
  {
   "cell_type": "code",
   "execution_count": null,
   "metadata": {},
   "outputs": [],
   "source": []
  },
  {
   "cell_type": "markdown",
   "metadata": {},
   "source": [
    "Example of local/global variables difference"
   ]
  },
  {
   "cell_type": "code",
   "execution_count": 16,
   "metadata": {},
   "outputs": [],
   "source": [
    "x=11\n",
    "\n",
    "def func(x):\n",
    "    print('x is',x)\n",
    "    x=x*2\n",
    "    return x\n"
   ]
  },
  {
   "cell_type": "code",
   "execution_count": 17,
   "metadata": {},
   "outputs": [
    {
     "data": {
      "text/plain": [
       "11"
      ]
     },
     "execution_count": 17,
     "metadata": {},
     "output_type": "execute_result"
    }
   ],
   "source": [
    "x#original value of global variable"
   ]
  },
  {
   "cell_type": "code",
   "execution_count": 18,
   "metadata": {},
   "outputs": [
    {
     "name": "stdout",
     "output_type": "stream",
     "text": [
      "x is 20\n"
     ]
    },
    {
     "data": {
      "text/plain": [
       "40"
      ]
     },
     "execution_count": 18,
     "metadata": {},
     "output_type": "execute_result"
    }
   ],
   "source": [
    "func(20) #we are calling the function with x used in it as local variable"
   ]
  },
  {
   "cell_type": "code",
   "execution_count": 19,
   "metadata": {},
   "outputs": [
    {
     "data": {
      "text/plain": [
       "11"
      ]
     },
     "execution_count": 19,
     "metadata": {},
     "output_type": "execute_result"
    }
   ],
   "source": [
    "x #original variable x did not change"
   ]
  },
  {
   "cell_type": "code",
   "execution_count": 24,
   "metadata": {},
   "outputs": [],
   "source": [
    "x=11\n",
    "\n",
    "def func():\n",
    "    global x \n",
    "        #I am using the global variable here, so every time I change it in the function,\n",
    "        #it changes outide of the function as well\n",
    "    print('x is',x)\n",
    "    x=x*2\n",
    "    return x\n"
   ]
  },
  {
   "cell_type": "code",
   "execution_count": 25,
   "metadata": {},
   "outputs": [
    {
     "name": "stdout",
     "output_type": "stream",
     "text": [
      "11\n"
     ]
    }
   ],
   "source": [
    "print(x)"
   ]
  },
  {
   "cell_type": "code",
   "execution_count": 26,
   "metadata": {},
   "outputs": [
    {
     "name": "stdout",
     "output_type": "stream",
     "text": [
      "x is 11\n"
     ]
    },
    {
     "data": {
      "text/plain": [
       "22"
      ]
     },
     "execution_count": 26,
     "metadata": {},
     "output_type": "execute_result"
    }
   ],
   "source": [
    "func()"
   ]
  },
  {
   "cell_type": "code",
   "execution_count": 27,
   "metadata": {},
   "outputs": [
    {
     "data": {
      "text/plain": [
       "22"
      ]
     },
     "execution_count": 27,
     "metadata": {},
     "output_type": "execute_result"
    }
   ],
   "source": [
    "x"
   ]
  },
  {
   "cell_type": "code",
   "execution_count": 30,
   "metadata": {},
   "outputs": [],
   "source": [
    "?add_contact # we can see the docstring, which meets our expectations"
   ]
  },
  {
   "cell_type": "code",
   "execution_count": 36,
   "metadata": {},
   "outputs": [
    {
     "data": {
      "text/plain": [
       "{'Huey': 33761111111,\n",
       " 'Dewey': 33762222222,\n",
       " 'Louie': 33763333333,\n",
       " 'Launchpad McQuack': 33769999999}"
      ]
     },
     "execution_count": 36,
     "metadata": {},
     "output_type": "execute_result"
    }
   ],
   "source": [
    "contact_list"
   ]
  },
  {
   "cell_type": "code",
   "execution_count": 37,
   "metadata": {},
   "outputs": [],
   "source": [
    "def remove_contact(name, contacts=contact_list):\n",
    "    \"\"\"\n",
    "    Remove the name key from contacts dictionary. Default value of contacts is contact_list\n",
    "    \"\"\"\n",
    "    if name in contacts.keys():\n",
    "        del contacts[name]\n",
    "    else:\n",
    "        print('YOu dont know this guy already, you dumbass')\n",
    "    return contacts"
   ]
  },
  {
   "cell_type": "code",
   "execution_count": 38,
   "metadata": {},
   "outputs": [
    {
     "data": {
      "text/plain": [
       "{'Huey': 33761111111, 'Dewey': 33762222222, 'Louie': 33763333333}"
      ]
     },
     "execution_count": 38,
     "metadata": {},
     "output_type": "execute_result"
    }
   ],
   "source": [
    "remove_contact('Launchpad McQuack')"
   ]
  },
  {
   "cell_type": "code",
   "execution_count": 39,
   "metadata": {},
   "outputs": [
    {
     "data": {
      "text/plain": [
       "{'Huey': 33761111111, 'Dewey': 33762222222, 'Louie': 33763333333}"
      ]
     },
     "execution_count": 39,
     "metadata": {},
     "output_type": "execute_result"
    }
   ],
   "source": [
    "contact_list"
   ]
  },
  {
   "cell_type": "code",
   "execution_count": 40,
   "metadata": {},
   "outputs": [
    {
     "name": "stdout",
     "output_type": "stream",
     "text": [
      "YOu dont know this guy already, you dumbass\n"
     ]
    },
    {
     "data": {
      "text/plain": [
       "{'Huey': 33761111111, 'Dewey': 33762222222, 'Louie': 33763333333}"
      ]
     },
     "execution_count": 40,
     "metadata": {},
     "output_type": "execute_result"
    }
   ],
   "source": [
    "remove_contact('Launchpad McQuack')"
   ]
  },
  {
   "cell_type": "code",
   "execution_count": 57,
   "metadata": {},
   "outputs": [],
   "source": [
    "def make_a_call(recepient, made_calls=made_calls, contact_list=contact_list):\n",
    "    if isinstance(recepient,str) and (recepient in contact_list.keys()):\n",
    "        made_calls.append(contact_list[recepient])\n",
    "    elif isinstance(recepient, (int,float)) and (33999999999>recepient>33000000000):\n",
    "        made_calls.append(recepient)\n",
    "    else:\n",
    "        print('Don\\'t be that stupid McDuck, you can\\'t call someone that doesn\\'t exist.')\n",
    "    return made_calls"
   ]
  },
  {
   "cell_type": "code",
   "execution_count": 54,
   "metadata": {},
   "outputs": [
    {
     "data": {
      "text/plain": [
       "[33762222222]"
      ]
     },
     "execution_count": 54,
     "metadata": {},
     "output_type": "execute_result"
    }
   ],
   "source": [
    "make_a_call('Dewey')"
   ]
  },
  {
   "cell_type": "code",
   "execution_count": 55,
   "metadata": {},
   "outputs": [
    {
     "data": {
      "text/plain": [
       "[33762222222]"
      ]
     },
     "execution_count": 55,
     "metadata": {},
     "output_type": "execute_result"
    }
   ],
   "source": [
    "made_calls"
   ]
  },
  {
   "cell_type": "code",
   "execution_count": 56,
   "metadata": {},
   "outputs": [
    {
     "name": "stdout",
     "output_type": "stream",
     "text": [
      "Don't be that stupid McDuck, you can't call someone that doesn't exist.\n"
     ]
    },
    {
     "data": {
      "text/plain": [
       "[33762222222]"
      ]
     },
     "execution_count": 56,
     "metadata": {},
     "output_type": "execute_result"
    }
   ],
   "source": [
    "make_a_call('Margo')"
   ]
  },
  {
   "cell_type": "code",
   "execution_count": 58,
   "metadata": {},
   "outputs": [
    {
     "name": "stdout",
     "output_type": "stream",
     "text": [
      "Don't be that stupid McDuck, you can't call someone that doesn't exist.\n"
     ]
    },
    {
     "data": {
      "text/plain": [
       "[33762222222]"
      ]
     },
     "execution_count": 58,
     "metadata": {},
     "output_type": "execute_result"
    }
   ],
   "source": [
    "make_a_call(761445566)"
   ]
  },
  {
   "cell_type": "code",
   "execution_count": 59,
   "metadata": {},
   "outputs": [
    {
     "data": {
      "text/plain": [
       "[33762222222, 33761445566]"
      ]
     },
     "execution_count": 59,
     "metadata": {},
     "output_type": "execute_result"
    }
   ],
   "source": [
    "make_a_call(33761445566)"
   ]
  },
  {
   "cell_type": "code",
   "execution_count": 65,
   "metadata": {},
   "outputs": [
    {
     "name": "stdout",
     "output_type": "stream",
     "text": [
      "Louie\n"
     ]
    }
   ],
   "source": [
    "for x,y in contact_list.items():\n",
    "    if y==33763333333:\n",
    "        print(x)"
   ]
  },
  {
   "cell_type": "code",
   "execution_count": 68,
   "metadata": {},
   "outputs": [
    {
     "data": {
      "text/plain": [
       "'Louie'"
      ]
     },
     "execution_count": 68,
     "metadata": {},
     "output_type": "execute_result"
    }
   ],
   "source": [
    "[i for i,j in contact_list.items() if j==33763333333][0]"
   ]
  },
  {
   "cell_type": "code",
   "execution_count": 73,
   "metadata": {},
   "outputs": [],
   "source": [
    "def receive_a_call(phone_number, received_calls=received_calls, contact_list=contact_list):\n",
    "    \n",
    "    if phone_number in contact_list.values():\n",
    "        name=[i for i,j in contact_list.items() if j==phone_number][0]\n",
    "    else:\n",
    "        name=phone_number\n",
    "    print(name, 'is calling')\n",
    "    received_calls.append(name)\n",
    "    return received_calls"
   ]
  },
  {
   "cell_type": "code",
   "execution_count": 75,
   "metadata": {},
   "outputs": [
    {
     "name": "stdout",
     "output_type": "stream",
     "text": [
      "Huey is calling\n"
     ]
    },
    {
     "data": {
      "text/plain": [
       "[33761111111, 33761110111, '33761110111', 33761110111, 'Huey']"
      ]
     },
     "execution_count": 75,
     "metadata": {},
     "output_type": "execute_result"
    }
   ],
   "source": [
    "receive_a_call(33761111111)"
   ]
  },
  {
   "cell_type": "code",
   "execution_count": 78,
   "metadata": {},
   "outputs": [],
   "source": [
    "def make_a_photo(): #no arguments\n",
    "    global gallery #I am using the gallery from outside scope\n",
    "    new_index=len(gallery)+1\n",
    "    gallery.append(f'{new_index}.png')\n",
    "    print('Say Quack')\n",
    "    return None"
   ]
  },
  {
   "cell_type": "code",
   "execution_count": 79,
   "metadata": {},
   "outputs": [
    {
     "name": "stdout",
     "output_type": "stream",
     "text": [
      "Say Quack\n"
     ]
    }
   ],
   "source": [
    "make_a_photo()"
   ]
  },
  {
   "cell_type": "code",
   "execution_count": 80,
   "metadata": {},
   "outputs": [
    {
     "name": "stdout",
     "output_type": "stream",
     "text": [
      "Say Quack\n"
     ]
    }
   ],
   "source": [
    "make_a_photo()"
   ]
  },
  {
   "cell_type": "code",
   "execution_count": 81,
   "metadata": {},
   "outputs": [
    {
     "name": "stdout",
     "output_type": "stream",
     "text": [
      "Say Quack\n"
     ]
    }
   ],
   "source": [
    "make_a_photo()"
   ]
  },
  {
   "cell_type": "code",
   "execution_count": 82,
   "metadata": {},
   "outputs": [
    {
     "data": {
      "text/plain": [
       "['1.png', '2.png', '3.png']"
      ]
     },
     "execution_count": 82,
     "metadata": {},
     "output_type": "execute_result"
    }
   ],
   "source": [
    "gallery"
   ]
  },
  {
   "cell_type": "code",
   "execution_count": 83,
   "metadata": {},
   "outputs": [
    {
     "name": "stdout",
     "output_type": "stream",
     "text": [
      "Say Quack\n"
     ]
    }
   ],
   "source": [
    "make_a_photo()"
   ]
  },
  {
   "cell_type": "code",
   "execution_count": 84,
   "metadata": {},
   "outputs": [
    {
     "data": {
      "text/plain": [
       "['1.png', '2.png', '3.png', '4.png']"
      ]
     },
     "execution_count": 84,
     "metadata": {},
     "output_type": "execute_result"
    }
   ],
   "source": [
    "gallery"
   ]
  },
  {
   "cell_type": "markdown",
   "metadata": {},
   "source": [
    "# Error Handling"
   ]
  },
  {
   "cell_type": "markdown",
   "metadata": {},
   "source": [
    "* SyntaxError - When code has been typed incorrectly. # check spelling\n",
    "* AttributeError - When you try to access an attribute on an object that does not exist. # check documentation\n",
    "* KeyError - When you try to access a key in a dictionary that does not exist. # print your dictionary\n",
    "* TypeError - When an argument to a function is not of the right type (e.g. a str instead of int).\n",
    "* ValueError - When an argument to a function is of the right type but is not in the right domain (e.g. an empty string).\n",
    "* ImportError - When an import fails. # check whether library/file exists\n",
    "* IOError - When Python cannot access a file correctly on disk. # check whether you are in the correct repo"
   ]
  },
  {
   "cell_type": "code",
   "execution_count": 85,
   "metadata": {},
   "outputs": [
    {
     "ename": "ImportError",
     "evalue": "cannot import name 'doesnt_exist' from 'pandas' (/home/mauritian/yes/lib/python3.7/site-packages/pandas/__init__.py)",
     "output_type": "error",
     "traceback": [
      "\u001b[0;31m---------------------------------------------------------------------------\u001b[0m",
      "\u001b[0;31mImportError\u001b[0m                               Traceback (most recent call last)",
      "\u001b[0;32m<ipython-input-85-20eb36637b42>\u001b[0m in \u001b[0;36m<module>\u001b[0;34m\u001b[0m\n\u001b[0;32m----> 1\u001b[0;31m \u001b[0;32mfrom\u001b[0m \u001b[0mpandas\u001b[0m \u001b[0;32mimport\u001b[0m \u001b[0mdoesnt_exist\u001b[0m\u001b[0;34m\u001b[0m\u001b[0;34m\u001b[0m\u001b[0m\n\u001b[0m",
      "\u001b[0;31mImportError\u001b[0m: cannot import name 'doesnt_exist' from 'pandas' (/home/mauritian/yes/lib/python3.7/site-packages/pandas/__init__.py)"
     ]
    }
   ],
   "source": [
    "from pandas import doesnt_exist"
   ]
  },
  {
   "cell_type": "code",
   "execution_count": 86,
   "metadata": {},
   "outputs": [],
   "source": [
    "def func(string):\n",
    "    print(doesnt_exist)"
   ]
  },
  {
   "cell_type": "code",
   "execution_count": 88,
   "metadata": {},
   "outputs": [
    {
     "ename": "NameError",
     "evalue": "name 'doesnt_exist' is not defined",
     "output_type": "error",
     "traceback": [
      "\u001b[0;31m---------------------------------------------------------------------------\u001b[0m",
      "\u001b[0;31mNameError\u001b[0m                                 Traceback (most recent call last)",
      "\u001b[0;32m<ipython-input-88-cbd3cfb09639>\u001b[0m in \u001b[0;36m<module>\u001b[0;34m\u001b[0m\n\u001b[0;32m----> 1\u001b[0;31m \u001b[0mfunc\u001b[0m\u001b[0;34m(\u001b[0m\u001b[0;34m'boo'\u001b[0m\u001b[0;34m)\u001b[0m\u001b[0;34m\u001b[0m\u001b[0;34m\u001b[0m\u001b[0m\n\u001b[0m",
      "\u001b[0;32m<ipython-input-86-c875a46e6048>\u001b[0m in \u001b[0;36mfunc\u001b[0;34m(string)\u001b[0m\n\u001b[1;32m      1\u001b[0m \u001b[0;32mdef\u001b[0m \u001b[0mfunc\u001b[0m\u001b[0;34m(\u001b[0m\u001b[0mstring\u001b[0m\u001b[0;34m)\u001b[0m\u001b[0;34m:\u001b[0m\u001b[0;34m\u001b[0m\u001b[0;34m\u001b[0m\u001b[0m\n\u001b[0;32m----> 2\u001b[0;31m     \u001b[0mprint\u001b[0m\u001b[0;34m(\u001b[0m\u001b[0mdoesnt_exist\u001b[0m\u001b[0;34m)\u001b[0m\u001b[0;34m\u001b[0m\u001b[0;34m\u001b[0m\u001b[0m\n\u001b[0m",
      "\u001b[0;31mNameError\u001b[0m: name 'doesnt_exist' is not defined"
     ]
    }
   ],
   "source": [
    "func('boo')"
   ]
  },
  {
   "cell_type": "markdown",
   "metadata": {},
   "source": [
    "<img src='https://camo.githubusercontent.com/2474a7e28a1570a0b60a426bad02041283dc44a3/68747470733a2f2f75706c6f61642e77696b696d656469612e6f72672f77696b6970656469612f636f6d6d6f6e732f352f35362f42736f6477696e646f777331302e706e67'>"
   ]
  },
  {
   "cell_type": "code",
   "execution_count": 89,
   "metadata": {},
   "outputs": [
    {
     "ename": "ZeroDivisionError",
     "evalue": "division by zero",
     "output_type": "error",
     "traceback": [
      "\u001b[0;31m---------------------------------------------------------------------------\u001b[0m",
      "\u001b[0;31mZeroDivisionError\u001b[0m                         Traceback (most recent call last)",
      "\u001b[0;32m<ipython-input-89-0106664d39e8>\u001b[0m in \u001b[0;36m<module>\u001b[0;34m\u001b[0m\n\u001b[0;32m----> 1\u001b[0;31m \u001b[0;36m5\u001b[0m\u001b[0;34m/\u001b[0m\u001b[0;36m0\u001b[0m\u001b[0;34m\u001b[0m\u001b[0;34m\u001b[0m\u001b[0m\n\u001b[0m",
      "\u001b[0;31mZeroDivisionError\u001b[0m: division by zero"
     ]
    }
   ],
   "source": [
    "5/0"
   ]
  },
  {
   "cell_type": "code",
   "execution_count": 92,
   "metadata": {},
   "outputs": [],
   "source": [
    "def perimeter_trapezoid():\n",
    "    \n",
    "    \"\"\"This function calculates the perimeter of trapezoid.\n",
    "    No arguments are needed.\n",
    "    Output is a number\n",
    "    Proper error handling was prepared, so no python errors can be met.\"\"\"\n",
    "    \n",
    "    list_of_dimensions=input('Please, enter the list of 4 numbers separated with comma (,). ')\n",
    "    list_of_dimensions=list_of_dimensions.split(',')\n",
    "    \n",
    "    number_of_numeric=sum([i.isdigit() for i in list_of_dimensions])\n",
    "    print(number_of_numeric)\n",
    "    return list_of_dimensions"
   ]
  },
  {
   "cell_type": "code",
   "execution_count": 93,
   "metadata": {},
   "outputs": [
    {
     "name": "stdout",
     "output_type": "stream",
     "text": [
      "Please, enter the list of 4 numbers separated with comma (,). 1,2,3,4\n",
      "4\n"
     ]
    },
    {
     "data": {
      "text/plain": [
       "['1', '2', '3', '4']"
      ]
     },
     "execution_count": 93,
     "metadata": {},
     "output_type": "execute_result"
    }
   ],
   "source": [
    "perimeter_trapezoid()"
   ]
  },
  {
   "cell_type": "code",
   "execution_count": 94,
   "metadata": {},
   "outputs": [
    {
     "name": "stdout",
     "output_type": "stream",
     "text": [
      "Please, enter the list of 4 numbers separated with comma (,). 1,2,3,h\n",
      "3\n"
     ]
    },
    {
     "data": {
      "text/plain": [
       "['1', '2', '3', 'h']"
      ]
     },
     "execution_count": 94,
     "metadata": {},
     "output_type": "execute_result"
    }
   ],
   "source": [
    "perimeter_trapezoid()"
   ]
  },
  {
   "cell_type": "code",
   "execution_count": 95,
   "metadata": {},
   "outputs": [
    {
     "name": "stdout",
     "output_type": "stream",
     "text": [
      "Please, enter the list of 4 numbers separated with comma (,). 1,2,3,4.4\n",
      "3\n"
     ]
    },
    {
     "data": {
      "text/plain": [
       "['1', '2', '3', '4.4']"
      ]
     },
     "execution_count": 95,
     "metadata": {},
     "output_type": "execute_result"
    }
   ],
   "source": [
    "perimeter_trapezoid()"
   ]
  },
  {
   "cell_type": "code",
   "execution_count": 97,
   "metadata": {},
   "outputs": [
    {
     "data": {
      "text/plain": [
       "False"
      ]
     },
     "execution_count": 97,
     "metadata": {},
     "output_type": "execute_result"
    }
   ],
   "source": [
    "'4.4'.isdigit()"
   ]
  },
  {
   "cell_type": "code",
   "execution_count": 113,
   "metadata": {},
   "outputs": [],
   "source": [
    "def perimeter_trapezoid():\n",
    "    \n",
    "    \"\"\"This function calculates the perimeter of trapezoid.\n",
    "    No arguments are needed.\n",
    "    Output is a number\n",
    "    Proper error handling was prepared, so no python errors can be met.\"\"\"\n",
    "    \n",
    "    is_wrong=True\n",
    "    while is_wrong:\n",
    "        list_of_dimensions=input('Please, enter the list of 4 numbers separated with comma (,). ')\n",
    "        list_of_dimensions=list_of_dimensions.split(',')\n",
    "\n",
    "        number_of_numeric=sum([i.replace('.','',1).isdigit() for i in list_of_dimensions])\n",
    "\n",
    "        if len(list_of_dimensions)!=4:\n",
    "            print('You stupid idiot. The task was to calculate the perimeter of trapezoid. It should have 4 dimensions!')\n",
    "            continue\n",
    "            \n",
    "        is_wrong=False\n",
    "    return list_of_dimensions"
   ]
  },
  {
   "cell_type": "code",
   "execution_count": 114,
   "metadata": {},
   "outputs": [
    {
     "name": "stdout",
     "output_type": "stream",
     "text": [
      "Please, enter the list of 4 numbers separated with comma (,). 1,2,3\n",
      "You stupid idiot. The task was to calculate the perimeter of trapezoid. It should have 4 dimensions!\n",
      "Please, enter the list of 4 numbers separated with comma (,). 1,2,3,4,5\n",
      "You stupid idiot. The task was to calculate the perimeter of trapezoid. It should have 4 dimensions!\n",
      "Please, enter the list of 4 numbers separated with comma (,). 1,2,3,4\n"
     ]
    },
    {
     "data": {
      "text/plain": [
       "['1', '2', '3', '4']"
      ]
     },
     "execution_count": 114,
     "metadata": {},
     "output_type": "execute_result"
    }
   ],
   "source": [
    "perimeter_trapezoid()"
   ]
  },
  {
   "cell_type": "code",
   "execution_count": 124,
   "metadata": {},
   "outputs": [],
   "source": [
    "def perimeter_trapezoid():\n",
    "    \n",
    "    \"\"\"This function calculates the perimeter of trapezoid.\n",
    "    No arguments are needed.\n",
    "    Output is a number\n",
    "    Proper error handling was prepared, so no python errors can be met.\"\"\"\n",
    "    \n",
    "    is_wrong=True\n",
    "    while is_wrong:\n",
    "        list_of_dimensions=input('Please, enter the list of 4 numbers separated with comma (,). ')\n",
    "        list_of_dimensions=list_of_dimensions.split(',')\n",
    "\n",
    "        number_of_numeric=sum([i.replace('.','',1).isdigit() for i in list_of_dimensions])\n",
    "\n",
    "        if len(list_of_dimensions)!=4:\n",
    "            print('You stupid idiot. The task was to calculate the perimeter of trapezoid. It should have 4 dimensions!')\n",
    "            continue\n",
    "            \n",
    "        if number_of_numeric!=4:\n",
    "            print('YOu stupid dumb! Why cant you enter just numbers, please?')\n",
    "            continue\n",
    "        \n",
    "        list_of_dimensions=[float(i) for i in list_of_dimensions]\n",
    "        \n",
    "        #Quadrilateral Inequality\n",
    "        if max(list_of_dimensions)>=sum(list_of_dimensions)-max(list_of_dimensions):\n",
    "            print('IDIOT!!!! You can\\'t build this trapezoid.It will simply destroy the Universe')\n",
    "            continue\n",
    "        \n",
    "        \n",
    "        is_wrong=False\n",
    "    return sum(list_of_dimensions)"
   ]
  },
  {
   "cell_type": "code",
   "execution_count": 119,
   "metadata": {},
   "outputs": [
    {
     "data": {
      "text/plain": [
       "False"
      ]
     },
     "execution_count": 119,
     "metadata": {},
     "output_type": "execute_result"
    }
   ],
   "source": [
    "'-21'.isdigit() #so, negative numbers are not considered as digit"
   ]
  },
  {
   "cell_type": "code",
   "execution_count": 120,
   "metadata": {},
   "outputs": [
    {
     "data": {
      "text/plain": [
       "False"
      ]
     },
     "execution_count": 120,
     "metadata": {},
     "output_type": "execute_result"
    }
   ],
   "source": [
    "'2e1'.isdigit()  #exponential form is not accepted as well"
   ]
  },
  {
   "cell_type": "code",
   "execution_count": 122,
   "metadata": {},
   "outputs": [
    {
     "name": "stdout",
     "output_type": "stream",
     "text": [
      "Please, enter the list of 4 numbers separated with comma (,). 1,2,3,100\n"
     ]
    },
    {
     "data": {
      "text/plain": [
       "[1.0, 2.0, 3.0, 100.0]"
      ]
     },
     "execution_count": 122,
     "metadata": {},
     "output_type": "execute_result"
    }
   ],
   "source": [
    "perimeter_trapezoid()"
   ]
  },
  {
   "cell_type": "code",
   "execution_count": 126,
   "metadata": {},
   "outputs": [
    {
     "name": "stdout",
     "output_type": "stream",
     "text": [
      "Please, enter the list of 4 numbers separated with comma (,). 0,1,2,3\n",
      "IDIOT!!!! You can't build this trapezoid.It will simply destroy the Universe\n",
      "Please, enter the list of 4 numbers separated with comma (,). 1,2,3,4\n"
     ]
    },
    {
     "data": {
      "text/plain": [
       "10.0"
      ]
     },
     "execution_count": 126,
     "metadata": {},
     "output_type": "execute_result"
    }
   ],
   "source": [
    "perimeter_trapezoid()"
   ]
  },
  {
   "cell_type": "code",
   "execution_count": 129,
   "metadata": {},
   "outputs": [],
   "source": [
    "def perimeter_trapezoid():\n",
    "    \n",
    "    \"\"\"This function calculates the perimeter of trapezoid.\n",
    "    No arguments are needed.\n",
    "    Output is a number\n",
    "    Proper error handling was prepared, so no python errors can be met.\"\"\"\n",
    "    \n",
    "    is_wrong=True\n",
    "    while is_wrong:\n",
    "        list_of_dimensions=input('Please, enter the list of 4 numbers separated with comma (,). ')\n",
    "        list_of_dimensions=list_of_dimensions.split(',')\n",
    "        list_of_dimensions=[i.strip(' ') for i in list_of_dimensions]\n",
    "        \n",
    "        number_of_numeric=sum([i.replace('.','',1).isdigit() for i in list_of_dimensions])\n",
    "\n",
    "        if len(list_of_dimensions)!=4:\n",
    "            print('You stupid idiot. The task was to calculate the perimeter of trapezoid. It should have 4 dimensions!')\n",
    "            continue\n",
    "            \n",
    "        if number_of_numeric!=4:\n",
    "            print('YOu stupid dumb! Why cant you enter just numbers, please?')\n",
    "            continue\n",
    "        \n",
    "        list_of_dimensions=[float(i) for i in list_of_dimensions]\n",
    "        \n",
    "        if 0 in list_of_dimensions:\n",
    "            print('How dare you include 0 into calculations? Think twice before trying again')\n",
    "            continue\n",
    "        \n",
    "        #Quadrilateral Inequality\n",
    "        if max(list_of_dimensions)>=sum(list_of_dimensions)-max(list_of_dimensions):\n",
    "            print('IDIOT!!!! You can\\'t build this trapezoid.It will simply destroy the Universe')\n",
    "            continue\n",
    "        \n",
    "        \n",
    "        is_wrong=False\n",
    "    return sum(list_of_dimensions)"
   ]
  },
  {
   "cell_type": "code",
   "execution_count": null,
   "metadata": {},
   "outputs": [],
   "source": [
    "perimeter_trapezoid()"
   ]
  },
  {
   "cell_type": "markdown",
   "metadata": {},
   "source": [
    "# Try Except Finally"
   ]
  },
  {
   "cell_type": "code",
   "execution_count": 131,
   "metadata": {},
   "outputs": [],
   "source": [
    "def foo(a,b):\n",
    "    try:\n",
    "        c=a/b\n",
    "    except ZeroDivisionError:\n",
    "        print('Please don\\'t divide by zero')\n",
    "        c=None\n",
    "    else:\n",
    "        print(f'{a} divided by {b} is {c}')\n",
    "    finally:\n",
    "        print(f'Bon, here we are. C is {c}')\n",
    "    return\n",
    "    "
   ]
  },
  {
   "cell_type": "code",
   "execution_count": 132,
   "metadata": {
    "scrolled": true
   },
   "outputs": [
    {
     "name": "stdout",
     "output_type": "stream",
     "text": [
      "1 divided by 2 is 0.5\n",
      "Bon, here we are. C is 0.5\n"
     ]
    }
   ],
   "source": [
    "foo(1,2)"
   ]
  },
  {
   "cell_type": "code",
   "execution_count": 133,
   "metadata": {},
   "outputs": [
    {
     "name": "stdout",
     "output_type": "stream",
     "text": [
      "Please don't divide by zero\n",
      "Bon, here we are. C is None\n"
     ]
    }
   ],
   "source": [
    "foo(1,0)"
   ]
  },
  {
   "cell_type": "code",
   "execution_count": 134,
   "metadata": {},
   "outputs": [
    {
     "ename": "ZeroDivisionError",
     "evalue": "division by zero",
     "output_type": "error",
     "traceback": [
      "\u001b[0;31m---------------------------------------------------------------------------\u001b[0m",
      "\u001b[0;31mZeroDivisionError\u001b[0m                         Traceback (most recent call last)",
      "\u001b[0;32m<ipython-input-134-9e1622b385b6>\u001b[0m in \u001b[0;36m<module>\u001b[0;34m\u001b[0m\n\u001b[0;32m----> 1\u001b[0;31m \u001b[0;36m1\u001b[0m\u001b[0;34m/\u001b[0m\u001b[0;36m0\u001b[0m\u001b[0;34m\u001b[0m\u001b[0;34m\u001b[0m\u001b[0m\n\u001b[0m",
      "\u001b[0;31mZeroDivisionError\u001b[0m: division by zero"
     ]
    }
   ],
   "source": [
    "1/0"
   ]
  },
  {
   "cell_type": "code",
   "execution_count": 135,
   "metadata": {},
   "outputs": [],
   "source": [
    "def foo(a,b):\n",
    "    try:\n",
    "        c=a/b\n",
    "    except IOError:\n",
    "        print('Please don\\'t divide by zero')\n",
    "        c=None\n",
    "    else:\n",
    "        print(f'{a} divided by {b} is {c}')\n",
    "    finally:\n",
    "        print(f'Bon, here we are. C is {c}')\n",
    "    return\n",
    "    "
   ]
  },
  {
   "cell_type": "code",
   "execution_count": 136,
   "metadata": {},
   "outputs": [
    {
     "ename": "UnboundLocalError",
     "evalue": "local variable 'c' referenced before assignment",
     "output_type": "error",
     "traceback": [
      "\u001b[0;31m---------------------------------------------------------------------------\u001b[0m",
      "\u001b[0;31mZeroDivisionError\u001b[0m                         Traceback (most recent call last)",
      "\u001b[0;32m<ipython-input-135-1d4e7f26ef3a>\u001b[0m in \u001b[0;36mfoo\u001b[0;34m(a, b)\u001b[0m\n\u001b[1;32m      2\u001b[0m     \u001b[0;32mtry\u001b[0m\u001b[0;34m:\u001b[0m\u001b[0;34m\u001b[0m\u001b[0;34m\u001b[0m\u001b[0m\n\u001b[0;32m----> 3\u001b[0;31m         \u001b[0mc\u001b[0m\u001b[0;34m=\u001b[0m\u001b[0ma\u001b[0m\u001b[0;34m/\u001b[0m\u001b[0mb\u001b[0m\u001b[0;34m\u001b[0m\u001b[0;34m\u001b[0m\u001b[0m\n\u001b[0m\u001b[1;32m      4\u001b[0m     \u001b[0;32mexcept\u001b[0m \u001b[0mIOError\u001b[0m\u001b[0;34m:\u001b[0m\u001b[0;34m\u001b[0m\u001b[0;34m\u001b[0m\u001b[0m\n",
      "\u001b[0;31mZeroDivisionError\u001b[0m: division by zero",
      "\nDuring handling of the above exception, another exception occurred:\n",
      "\u001b[0;31mUnboundLocalError\u001b[0m                         Traceback (most recent call last)",
      "\u001b[0;32m<ipython-input-136-157e21edc363>\u001b[0m in \u001b[0;36m<module>\u001b[0;34m\u001b[0m\n\u001b[0;32m----> 1\u001b[0;31m \u001b[0mfoo\u001b[0m\u001b[0;34m(\u001b[0m\u001b[0;36m1\u001b[0m\u001b[0;34m,\u001b[0m\u001b[0;36m0\u001b[0m\u001b[0;34m)\u001b[0m\u001b[0;34m\u001b[0m\u001b[0;34m\u001b[0m\u001b[0m\n\u001b[0m",
      "\u001b[0;32m<ipython-input-135-1d4e7f26ef3a>\u001b[0m in \u001b[0;36mfoo\u001b[0;34m(a, b)\u001b[0m\n\u001b[1;32m      8\u001b[0m         \u001b[0mprint\u001b[0m\u001b[0;34m(\u001b[0m\u001b[0;34mf'{a} divided by {b} is {c}'\u001b[0m\u001b[0;34m)\u001b[0m\u001b[0;34m\u001b[0m\u001b[0;34m\u001b[0m\u001b[0m\n\u001b[1;32m      9\u001b[0m     \u001b[0;32mfinally\u001b[0m\u001b[0;34m:\u001b[0m\u001b[0;34m\u001b[0m\u001b[0;34m\u001b[0m\u001b[0m\n\u001b[0;32m---> 10\u001b[0;31m         \u001b[0mprint\u001b[0m\u001b[0;34m(\u001b[0m\u001b[0;34mf'Bon, here we are. C is {c}'\u001b[0m\u001b[0;34m)\u001b[0m\u001b[0;34m\u001b[0m\u001b[0;34m\u001b[0m\u001b[0m\n\u001b[0m\u001b[1;32m     11\u001b[0m     \u001b[0;32mreturn\u001b[0m\u001b[0;34m\u001b[0m\u001b[0;34m\u001b[0m\u001b[0m\n\u001b[1;32m     12\u001b[0m \u001b[0;34m\u001b[0m\u001b[0m\n",
      "\u001b[0;31mUnboundLocalError\u001b[0m: local variable 'c' referenced before assignment"
     ]
    }
   ],
   "source": [
    "foo(1,0)"
   ]
  },
  {
   "cell_type": "code",
   "execution_count": 137,
   "metadata": {},
   "outputs": [],
   "source": [
    "def foo(a,b):\n",
    "    try:\n",
    "        c=a/b\n",
    "    except:\n",
    "        print('Please don\\'t divide by zero')\n",
    "        c=None\n",
    "    else:\n",
    "        print(f'{a} divided by {b} is {c}')\n",
    "    finally:\n",
    "        print(f'Bon, here we are. C is {c}')\n",
    "    return\n",
    "    "
   ]
  },
  {
   "cell_type": "code",
   "execution_count": 138,
   "metadata": {},
   "outputs": [
    {
     "name": "stdout",
     "output_type": "stream",
     "text": [
      "1 divided by 2 is 0.5\n",
      "Bon, here we are. C is 0.5\n"
     ]
    }
   ],
   "source": [
    "foo(1,2)"
   ]
  },
  {
   "cell_type": "code",
   "execution_count": 139,
   "metadata": {},
   "outputs": [
    {
     "name": "stdout",
     "output_type": "stream",
     "text": [
      "Please don't divide by zero\n",
      "Bon, here we are. C is None\n"
     ]
    }
   ],
   "source": [
    "foo(1,0)"
   ]
  },
  {
   "cell_type": "code",
   "execution_count": 140,
   "metadata": {},
   "outputs": [],
   "source": [
    "def foo(a,b):\n",
    "    try:\n",
    "        c=a/b\n",
    "    except NameError:\n",
    "        print('Please don\\'t divide by zero')\n",
    "        c=None\n",
    "    except IOError:\n",
    "        print('Please don\\'t divide by zero')\n",
    "        c=None\n",
    "    except ZeroDivisionError:\n",
    "        print('Please don\\'t divide by zero')\n",
    "        c=None\n",
    "    else:\n",
    "        print(f'{a} divided by {b} is {c}')\n",
    "    finally:\n",
    "        print(f'Bon, here we are. C is {c}')\n",
    "    return\n",
    "    "
   ]
  },
  {
   "cell_type": "code",
   "execution_count": 142,
   "metadata": {},
   "outputs": [
    {
     "name": "stdout",
     "output_type": "stream",
     "text": [
      "Please don't divide by zero\n",
      "Bon, here we are. C is None\n"
     ]
    }
   ],
   "source": [
    "foo(1,0)"
   ]
  },
  {
   "cell_type": "markdown",
   "metadata": {},
   "source": [
    "# Raise"
   ]
  },
  {
   "cell_type": "code",
   "execution_count": 144,
   "metadata": {},
   "outputs": [],
   "source": [
    "# function that accepts only even numbers\n",
    "def foo(number):\n",
    "    if number%2:\n",
    "        raise ValueError('Dumbass, I asked you to tell me an even one')\n",
    "    else:\n",
    "        print('Good boy')\n",
    "    return number"
   ]
  },
  {
   "cell_type": "code",
   "execution_count": 146,
   "metadata": {},
   "outputs": [
    {
     "ename": "ValueError",
     "evalue": "Dumbass, I asked you to tell me an even one",
     "output_type": "error",
     "traceback": [
      "\u001b[0;31m---------------------------------------------------------------------------\u001b[0m",
      "\u001b[0;31mValueError\u001b[0m                                Traceback (most recent call last)",
      "\u001b[0;32m<ipython-input-146-7d8d25071659>\u001b[0m in \u001b[0;36m<module>\u001b[0;34m\u001b[0m\n\u001b[0;32m----> 1\u001b[0;31m \u001b[0mfoo\u001b[0m\u001b[0;34m(\u001b[0m\u001b[0;36m1\u001b[0m\u001b[0;34m)\u001b[0m\u001b[0;34m\u001b[0m\u001b[0;34m\u001b[0m\u001b[0m\n\u001b[0m",
      "\u001b[0;32m<ipython-input-144-d07ed844f239>\u001b[0m in \u001b[0;36mfoo\u001b[0;34m(number)\u001b[0m\n\u001b[1;32m      2\u001b[0m \u001b[0;32mdef\u001b[0m \u001b[0mfoo\u001b[0m\u001b[0;34m(\u001b[0m\u001b[0mnumber\u001b[0m\u001b[0;34m)\u001b[0m\u001b[0;34m:\u001b[0m\u001b[0;34m\u001b[0m\u001b[0;34m\u001b[0m\u001b[0m\n\u001b[1;32m      3\u001b[0m     \u001b[0;32mif\u001b[0m \u001b[0mnumber\u001b[0m\u001b[0;34m%\u001b[0m\u001b[0;36m2\u001b[0m\u001b[0;34m:\u001b[0m\u001b[0;34m\u001b[0m\u001b[0;34m\u001b[0m\u001b[0m\n\u001b[0;32m----> 4\u001b[0;31m         \u001b[0;32mraise\u001b[0m \u001b[0mValueError\u001b[0m\u001b[0;34m(\u001b[0m\u001b[0;34m'Dumbass, I asked you to tell me an even one'\u001b[0m\u001b[0;34m)\u001b[0m\u001b[0;34m\u001b[0m\u001b[0;34m\u001b[0m\u001b[0m\n\u001b[0m\u001b[1;32m      5\u001b[0m     \u001b[0;32melse\u001b[0m\u001b[0;34m:\u001b[0m\u001b[0;34m\u001b[0m\u001b[0;34m\u001b[0m\u001b[0m\n\u001b[1;32m      6\u001b[0m         \u001b[0mprint\u001b[0m\u001b[0;34m(\u001b[0m\u001b[0;34m'Good boy'\u001b[0m\u001b[0;34m)\u001b[0m\u001b[0;34m\u001b[0m\u001b[0;34m\u001b[0m\u001b[0m\n",
      "\u001b[0;31mValueError\u001b[0m: Dumbass, I asked you to tell me an even one"
     ]
    }
   ],
   "source": [
    "foo(1)"
   ]
  },
  {
   "cell_type": "code",
   "execution_count": 149,
   "metadata": {},
   "outputs": [],
   "source": [
    "class ItIsNotMyFavouriteNumber(Exception):\n",
    "    pass"
   ]
  },
  {
   "cell_type": "code",
   "execution_count": 150,
   "metadata": {},
   "outputs": [
    {
     "ename": "ItIsNotMyFavouriteNumber",
     "evalue": "crocodile",
     "output_type": "error",
     "traceback": [
      "\u001b[0;31m---------------------------------------------------------------------------\u001b[0m",
      "\u001b[0;31mItIsNotMyFavouriteNumber\u001b[0m                  Traceback (most recent call last)",
      "\u001b[0;32m<ipython-input-150-94a940fe82f6>\u001b[0m in \u001b[0;36m<module>\u001b[0;34m\u001b[0m\n\u001b[0;32m----> 1\u001b[0;31m \u001b[0;32mraise\u001b[0m \u001b[0mItIsNotMyFavouriteNumber\u001b[0m\u001b[0;34m(\u001b[0m\u001b[0;34m'crocodile'\u001b[0m\u001b[0;34m)\u001b[0m\u001b[0;34m\u001b[0m\u001b[0;34m\u001b[0m\u001b[0m\n\u001b[0m",
      "\u001b[0;31mItIsNotMyFavouriteNumber\u001b[0m: crocodile"
     ]
    }
   ],
   "source": [
    "raise ItIsNotMyFavouriteNumber('crocodile')"
   ]
  }
 ],
 "metadata": {
  "kernelspec": {
   "display_name": "Python 3",
   "language": "python",
   "name": "python3"
  },
  "language_info": {
   "codemirror_mode": {
    "name": "ipython",
    "version": 3
   },
   "file_extension": ".py",
   "mimetype": "text/x-python",
   "name": "python",
   "nbconvert_exporter": "python",
   "pygments_lexer": "ipython3",
   "version": "3.7.6"
  },
  "toc": {
   "base_numbering": 1,
   "nav_menu": {},
   "number_sections": true,
   "sideBar": true,
   "skip_h1_title": false,
   "title_cell": "Table of Contents",
   "title_sidebar": "Contents",
   "toc_cell": true,
   "toc_position": {},
   "toc_section_display": true,
   "toc_window_display": false
  }
 },
 "nbformat": 4,
 "nbformat_minor": 4
}
