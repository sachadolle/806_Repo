{
 "cells": [
  {
   "cell_type": "markdown",
   "metadata": {},
   "source": [
    "# The shark project\n",
    "\n",
    "\n",
    "## 1. Importing data\n",
    "\n",
    "The file needs to be encoded in latin1 instead of UTF-8\n",
    "\n",
    "## 2. Choosing the analysis\n",
    "\n",
    "First, read all the information in the dataset :\n",
    "We realize that some are unusefull, we remove them.\n",
    "\n",
    "Then pick the subject : in that case, the activities of the persons who died during shark attacks.\n",
    "\n",
    "Finally, limit the analysis to 20 years.\n",
    "\n",
    "## 3. Cleaning the data\n",
    "\n",
    "- Drop all the unusefull columns regarding the chosen analysis\n",
    "- Drop the columns containing more that 25% missing values\n",
    "- Change some data type to make the function work\n",
    "- Clean the texts to make it uniform\n",
    "\n",
    "## 4. The output\n",
    "\n",
    "Return the result of the analysis regarding the year chosen by the user"
   ]
  }
 ],
 "metadata": {
  "kernelspec": {
   "display_name": "Python 3",
   "language": "python",
   "name": "python3"
  },
  "language_info": {
   "codemirror_mode": {
    "name": "ipython",
    "version": 3
   },
   "file_extension": ".py",
   "mimetype": "text/x-python",
   "name": "python",
   "nbconvert_exporter": "python",
   "pygments_lexer": "ipython3",
   "version": "3.7.6"
  }
 },
 "nbformat": 4,
 "nbformat_minor": 4
}
