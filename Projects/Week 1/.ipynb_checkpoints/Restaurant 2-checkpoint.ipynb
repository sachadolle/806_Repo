{
 "cells": [
  {
   "cell_type": "code",
   "execution_count": 6,
   "metadata": {},
   "outputs": [
    {
     "ename": "IndentationError",
     "evalue": "expected an indented block (<ipython-input-6-b2ea3f0bbeee>, line 39)",
     "output_type": "error",
     "traceback": [
      "\u001b[1;36m  File \u001b[1;32m\"<ipython-input-6-b2ea3f0bbeee>\"\u001b[1;36m, line \u001b[1;32m39\u001b[0m\n\u001b[1;33m    continue\u001b[0m\n\u001b[1;37m    ^\u001b[0m\n\u001b[1;31mIndentationError\u001b[0m\u001b[1;31m:\u001b[0m expected an indented block\n"
     ]
    }
   ],
   "source": [
    "import time\n",
    "import math\n",
    "\n",
    "class Restaurant:\n",
    "    \n",
    "    brand='La Crêperie'\n",
    "    city='Treffendel'\n",
    "            \n",
    "    def __init__(self):\n",
    "        self.order=list()\n",
    "        self.bill=0 \n",
    "  \n",
    "    def eat(self):\n",
    "        card={'water':2, 'sparkling water':2, 'coke':2, 'diet coke':2, 'beer':2, 'cider':2, 'coffee':2, 'complete':6, 'savoyarde':6, 'ocean':6, 'cheese':6, 'kebab':6, 'american':6, 'sugar':3, 'butter and sugar':3, 'chocolate':3, 'caramel':3}      \n",
    "        tables=10\n",
    "        number=input('Hi, welcome to the Creperie, how many are you ?\\n')\n",
    "        tables-=math.ceil(int(number)/6)\n",
    "        if tables==0:\n",
    "            print ('Sorry, we are full !')\n",
    "        else:\n",
    "            print ('Here is the card: \\n', card)\n",
    "            not_in_card=True\n",
    "            while not_in_card:\n",
    "                not_finish=True\n",
    "                while not_finish:\n",
    "                    order=input('What can I serve you? \\n')\n",
    "                    order_list=list(order.split(','))\n",
    "                    for item in order_list:\n",
    "                        if item not in card.keys():\n",
    "                            print ('I\\'m sorry we don\\'t have it, could you please check again the card ?')\n",
    "                            continue\n",
    "                        else:\n",
    "                            not_in_card=False\n",
    "                            self.bill+=card[item]\n",
    "                            self.order.append(item)\n",
    "                            time.sleep(2)\n",
    "                            other=input('Do you want to order something else ? yes or no')\n",
    "                            if other=='yes':\n",
    "                            continue #à déplacer pour looper direct à order\n",
    "                            else:\n",
    "                                time.sleep(5)\n",
    "                                print ('Here is your bill, it will be', self.bill, 'euros please' )\n",
    "                                not_finish=False\n",
    "                                break"
   ]
  },
  {
   "cell_type": "code",
   "execution_count": 7,
   "metadata": {},
   "outputs": [],
   "source": [
    "client=Restaurant()"
   ]
  },
  {
   "cell_type": "code",
   "execution_count": 8,
   "metadata": {},
   "outputs": [
    {
     "name": "stdout",
     "output_type": "stream",
     "text": [
      "Hi, welcome to the Creperie, how many are you ?\n",
      "5\n",
      "Here is the card: \n",
      " {'water': 2, 'sparkling water': 2, 'coke': 2, 'diet coke': 2, 'beer': 2, 'cider': 2, 'coffee': 2, 'complete': 6, 'savoyarde': 6, 'ocean': 6, 'cheese': 6, 'kebab': 6, 'american': 6, 'sugar': 3, 'butter and sugar': 3, 'chocolate': 3, 'caramel': 3}\n",
      "What can I serve you? \n",
      "water, water\n",
      "Do you want to order something else ? yes or nono\n",
      "Here is your bill, it will be 2 euros please\n"
     ]
    }
   ],
   "source": [
    "client.eat()"
   ]
  },
  {
   "cell_type": "code",
   "execution_count": 4,
   "metadata": {},
   "outputs": [
    {
     "data": {
      "text/plain": [
       "['savoyarde', 'beer', 'water', 'chocolate']"
      ]
     },
     "execution_count": 4,
     "metadata": {},
     "output_type": "execute_result"
    }
   ],
   "source": [
    "client.order"
   ]
  },
  {
   "cell_type": "code",
   "execution_count": 5,
   "metadata": {},
   "outputs": [
    {
     "data": {
      "text/plain": [
       "13"
      ]
     },
     "execution_count": 5,
     "metadata": {},
     "output_type": "execute_result"
    }
   ],
   "source": [
    "client.bill"
   ]
  },
  {
   "cell_type": "code",
   "execution_count": null,
   "metadata": {},
   "outputs": [],
   "source": []
  }
 ],
 "metadata": {
  "kernelspec": {
   "display_name": "Python 3",
   "language": "python",
   "name": "python3"
  },
  "language_info": {
   "codemirror_mode": {
    "name": "ipython",
    "version": 3
   },
   "file_extension": ".py",
   "mimetype": "text/x-python",
   "name": "python",
   "nbconvert_exporter": "python",
   "pygments_lexer": "ipython3",
   "version": "3.7.6"
  }
 },
 "nbformat": 4,
 "nbformat_minor": 4
}
