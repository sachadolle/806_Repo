{
 "cells": [
  {
   "cell_type": "code",
   "execution_count": 13,
   "metadata": {},
   "outputs": [],
   "source": [
    "import random\n",
    "import string\n",
    "\n",
    "class Strong_Password:\n",
    "    \n",
    "    def __init__(self):\n",
    "        pass\n",
    "    \n",
    "    def generate(self):\n",
    "        \n",
    "        wrong_password=True\n",
    "        password_lenght=input('Hi, how long do you need your password to be? Remember, it might be at least 8 caracters \\n')\n",
    "\n",
    "            while wrong_password:\n",
    "            \n",
    "            list_lenght=sum([i.replace('.','',1).isdigit() for i in password_lenght])\n",
    "            \n",
    "            if '.' in password_lenght and list_lenght>=2:\n",
    "                print ('How do you want me to create a', password_lenght, 'caracters password ? You think I can cut letters in pieces, really ? Come on, try again')\n",
    "                password_lenght=input('Try again with an integer \\n')\n",
    "                continue\n",
    "                    \n",
    "            elif password_lenght.isdigit()==False:\n",
    "                print ('This is not a number...')\n",
    "                password_lenght=input('Try again with a NUMBER \\n')\n",
    "                continue\n",
    "                \n",
    "            elif int(password_lenght) < 8:\n",
    "                print ('This is a STRONG password generator, it should be at least 8 caracters dude !')\n",
    "                password_lenght=input('Try again with AT LEAST 8 caracters \\n')\n",
    "                continue\n",
    "                \n",
    "            else :  \n",
    "                elements = string.ascii_letters + string.digits + string.punctuation\n",
    "                password = str()\n",
    "\n",
    "                for i in range(int(password_lenght)):\n",
    "                    password += random.choice(elements)\n",
    "\n",
    "                \n",
    "                print('Here is your highly secured password, keep it safe ! \\n', password)\n",
    "                wrong_password=False  \n",
    "\n",
    "                ans_hint=input('\\n Want a hint to remember it ? Y/N \\n')\n",
    "                \n",
    "                wrong_hint=True\n",
    "                while wrong_hint:\n",
    "                \n",
    "                    if ans_hint.upper()!='N' and ans_hint.upper()!='Y':\n",
    "                        print('I haven\\'t understood, could you write Y or N please ?')\n",
    "                        ans_hint=input('Y or N ?')\n",
    "                        continue\n",
    "\n",
    "                    elif ans_hint.upper()=='N':\n",
    "                        print('OK bye !')\n",
    "\n",
    "                    else:\n",
    "                        from random_word import RandomWords\n",
    "                        word_hint=RandomWords()\n",
    "                        word=word_hint.get_random_words()\n",
    "                        password_hint=[password.replace(x, y) for x in password.lower() for y in word if x==y[0]]\n",
    "                        for i in password_hint:\n",
    "                            print(i)  \n",
    "                        wrong_hint=False\n",
    "                        break\n",
    "            return"
   ]
  },
  {
   "cell_type": "code",
   "execution_count": 14,
   "metadata": {},
   "outputs": [],
   "source": [
    "game=Strong_Password()"
   ]
  },
  {
   "cell_type": "code",
   "execution_count": 12,
   "metadata": {},
   "outputs": [
    {
     "name": "stdout",
     "output_type": "stream",
     "text": [
      "Hi, how long do you need your password to be? Remember, it might be at least 8 caracters \n",
      "8\n",
      "Here is your highly secured password, keep it safe ! \n",
      " ?+RvZ:k)\n",
      "\n",
      " Want a hint to remember it ? Y/N \n",
      "y\n",
      "?+RvZ:k)\n",
      "?+RvZ:k)\n",
      "?+RvZ:knurled)\n",
      "?+RvZ:kamiks)\n"
     ]
    }
   ],
   "source": [
    "game.generate()"
   ]
  },
  {
   "cell_type": "code",
   "execution_count": null,
   "metadata": {},
   "outputs": [],
   "source": []
  }
 ],
 "metadata": {
  "kernelspec": {
   "display_name": "Python 3",
   "language": "python",
   "name": "python3"
  },
  "language_info": {
   "codemirror_mode": {
    "name": "ipython",
    "version": 3
   },
   "file_extension": ".py",
   "mimetype": "text/x-python",
   "name": "python",
   "nbconvert_exporter": "python",
   "pygments_lexer": "ipython3",
   "version": "3.7.6"
  }
 },
 "nbformat": 4,
 "nbformat_minor": 4
}
