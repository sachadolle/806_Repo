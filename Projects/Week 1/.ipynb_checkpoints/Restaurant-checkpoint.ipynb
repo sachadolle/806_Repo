{
 "cells": [
  {
   "cell_type": "code",
   "execution_count": 11,
   "metadata": {},
   "outputs": [],
   "source": [
    "#define a class for the restaurant\n",
    "\n",
    "class Restaurant:\n",
    "    \n",
    "    name='La Crêperie'\n",
    "    city='Treffendel'\n",
    "    \n",
    "    def __init__(self, Table):\n",
    "        \n",
    "        beverage=[f'water, sparkling water, coke, diet coke, beer, cider, coffee']\n",
    "        meal=[f'complete, savoyarde, ocean, cheese, kebab, american']\n",
    "        desert==[f'']\n",
    "        extra==[f'']\n",
    "        menu=[]\n",
    "        full_menu=[]        \n",
    "        food=[beverage, meal, desert, extra, menu, full_menu]\n",
    "        bill=[]\n",
    "        \n",
    "        price={(beverage, 2), (meal, 6), (desert, 3), (full_menu, 9), (menu, 7), (extra, 1)}\n",
    "\n",
    "        order:[input('What can I serve you ?')]\n",
    "            \n",
    "        for i in order:\n",
    "            if i not in food:\n",
    "                print ('I\\'m sorry we don\\'t have it, could you please check again the card ?')\n",
    "                continue\n",
    "        \n",
    "            else:\n",
    "                bill.append(price.value[i])\n",
    " \n",
    "        \n",
    "        \n",
    "        #if order #comprend beverage + meal + desert:\n",
    "            #full_menu.append(1)\n",
    "        #if order #comprend beverage + meal or meal + desert:\n",
    "           # menu.append(1)\n",
    "        \n",
    "\n",
    "\n",
    "        "
   ]
  },
  {
   "cell_type": "code",
   "execution_count": 32,
   "metadata": {},
   "outputs": [],
   "source": [
    "class Restaurant:\n",
    "    \n",
    "    name='La Crêperie'\n",
    "    city='Treffendel'\n",
    "    beverage=['water', 'sparkling water', 'coke', 'diet coke', 'beer', 'cider', 'coffee']\n",
    "    meal=['complete', 'savoyarde', 'ocean', 'cheese', 'kebab', 'american']\n",
    "    desert=['sugar', 'butter and sugar', 'chocolate', 'caramel']\n",
    "    extra=['egg', 'cheese', 'cream', 'mushroom']\n",
    "    menu=[]\n",
    "    full_menu=[]        \n",
    "    food=[beverage, meal, desert, extra, menu, full_menu]\n",
    "    \n",
    "    for a,b,c,d,e,f in zip(beverage, meal, desert, full_menu, menu, extra):\n",
    "        price={a: 2, b: 6, c: 3, d: 9, e: 7, f: 1}\n",
    "    \n",
    "    def __init__(self, table):\n",
    "        \n",
    "        table_number=[]\n",
    "        self.table=table_number\n",
    "        bill=[]\n",
    "        order:[input('What can I serve you ?')]\n",
    "            \n",
    "        for i in order:\n",
    "            if i not in food:\n",
    "                print ('I\\'m sorry we don\\'t have it, could you please check again the card ?')\n",
    "                continue\n",
    "        \n",
    "            else:\n",
    "                bill.append(price.value[i])"
   ]
  },
  {
   "cell_type": "code",
   "execution_count": 34,
   "metadata": {},
   "outputs": [
    {
     "ename": "UnboundLocalError",
     "evalue": "local variable 'table_number' referenced before assignment",
     "output_type": "error",
     "traceback": [
      "\u001b[1;31m---------------------------------------------------------------------------\u001b[0m",
      "\u001b[1;31mUnboundLocalError\u001b[0m                         Traceback (most recent call last)",
      "\u001b[1;32m<ipython-input-34-7b8b9d848826>\u001b[0m in \u001b[0;36m<module>\u001b[1;34m\u001b[0m\n\u001b[1;32m----> 1\u001b[1;33m \u001b[0mclient1\u001b[0m\u001b[1;33m=\u001b[0m\u001b[0mRestaurant\u001b[0m\u001b[1;33m(\u001b[0m\u001b[1;34m'Table1'\u001b[0m\u001b[1;33m)\u001b[0m\u001b[1;33m\u001b[0m\u001b[1;33m\u001b[0m\u001b[0m\n\u001b[0m",
      "\u001b[1;32m<ipython-input-32-8519a4ad3a50>\u001b[0m in \u001b[0;36m__init__\u001b[1;34m(self, table)\u001b[0m\n\u001b[0;32m     21\u001b[0m     \u001b[1;32mdef\u001b[0m \u001b[0m__init__\u001b[0m\u001b[1;33m(\u001b[0m\u001b[0mself\u001b[0m\u001b[1;33m,\u001b[0m \u001b[0mtable\u001b[0m\u001b[1;33m)\u001b[0m\u001b[1;33m:\u001b[0m\u001b[1;33m\u001b[0m\u001b[1;33m\u001b[0m\u001b[0m\n\u001b[0;32m     22\u001b[0m \u001b[1;33m\u001b[0m\u001b[0m\n\u001b[1;32m---> 23\u001b[1;33m         \u001b[0mself\u001b[0m\u001b[1;33m.\u001b[0m\u001b[0mtable\u001b[0m\u001b[1;33m=\u001b[0m\u001b[0mtable_number\u001b[0m\u001b[1;33m\u001b[0m\u001b[1;33m\u001b[0m\u001b[0m\n\u001b[0m\u001b[0;32m     24\u001b[0m         \u001b[0mtable_number\u001b[0m\u001b[1;33m=\u001b[0m\u001b[1;33m[\u001b[0m\u001b[1;33m]\u001b[0m\u001b[1;33m\u001b[0m\u001b[1;33m\u001b[0m\u001b[0m\n\u001b[0;32m     25\u001b[0m         \u001b[0mbill\u001b[0m\u001b[1;33m=\u001b[0m\u001b[1;33m[\u001b[0m\u001b[1;33m]\u001b[0m\u001b[1;33m\u001b[0m\u001b[1;33m\u001b[0m\u001b[0m\n",
      "\u001b[1;31mUnboundLocalError\u001b[0m: local variable 'table_number' referenced before assignment"
     ]
    }
   ],
   "source": [
    "client1=Restaurant('Table1')"
   ]
  },
  {
   "cell_type": "code",
   "execution_count": null,
   "metadata": {},
   "outputs": [],
   "source": [
    "class Restaurant:\n",
    "    \n",
    "    name='La Crêperie'\n",
    "    city='Treffendel'\n",
    "    beverage=['water', 'sparkling water', 'coke', 'diet coke', 'beer', 'cider', 'coffee']\n",
    "    meal=['complete', 'savoyarde', 'ocean', 'cheese', 'kebab', 'american']\n",
    "    desert=['sugar', 'butter and sugar', 'chocolate', 'caramel']\n",
    "    extra=['egg', 'cheese', 'cream', 'mushroom']\n",
    "    menu=[]\n",
    "    full_menu=[]        \n",
    "    food=[beverage, meal, desert, extra, menu, full_menu]\n",
    "    \n",
    "    for a,b,c,d,e,f in zip(beverage, meal, desert, full_menu, menu, extra):\n",
    "        price={a: 2, b: 6, c: 3, d: 9, e: 7, f: 1}\n",
    "    \n",
    "    def __init__(self, client, table):\n",
    "        self.client=list()\n",
    "        self.tables=list()\n",
    "        \n",
    "    def order(self):\n",
    "        bill=[]\n",
    "        order=[]\n",
    "        self.order=[input('What can I serve you ?')]\n",
    "        if order not in food:\n",
    "            print ('I\\'m sorry we don\\'t have it, could you please check again the card ?')\n",
    "            return\n",
    "        else:\n",
    "            bill.append(price.value[i])"
   ]
  },
  {
   "cell_type": "code",
   "execution_count": null,
   "metadata": {},
   "outputs": [],
   "source": [
    "class Restaurant:\n",
    "    \n",
    "    brand='La Crêperie'\n",
    "    city='Treffendel'\n",
    "    beverage=['water', 'sparkling water', 'coke', 'diet coke', 'beer', 'cider', 'coffee']\n",
    "    meal=['complete', 'savoyarde', 'ocean', 'cheese', 'kebab', 'american']\n",
    "    desert=['sugar', 'butter and sugar', 'chocolate', 'caramel']\n",
    "    extra=['egg', 'cheese', 'cream', 'mushroom']       \n",
    "    card=[beverage, meal, desert, extra]\n",
    "    for a,b,c,d in zip(beverage, meal, desert, extra):\n",
    "            price={a: 2, b: 6, c: 3, d: 1}        \n",
    "            \n",
    "    def __init__(self):\n",
    "        pass\n",
    "        \n",
    "    def order(self):\n",
    "        bill=[]\n",
    "        order=[]\n",
    "        self.order=[input('What can I serve you ?')]\n",
    "        if order not in card:\n",
    "            print ('I\\'m sorry we don\\'t have it, could you please check again the card ?')\n",
    "            return\n",
    "        else:\n",
    "            bill.append(price.value[i]) "
   ]
  },
  {
   "cell_type": "code",
   "execution_count": null,
   "metadata": {},
   "outputs": [],
   "source": [
    "class Restaurant:\n",
    "    \n",
    "    brand='La Crêperie'\n",
    "    city='Treffendel'\n",
    "    beverage=['water', 'sparkling water', 'coke', 'diet coke', 'beer', 'cider', 'coffee']\n",
    "    meal=['complete', 'savoyarde', 'ocean', 'cheese', 'kebab', 'american']\n",
    "    desert=['sugar', 'butter and sugar', 'chocolate', 'caramel']\n",
    "    extra=['egg', 'cheese', 'cream', 'mushroom']       \n",
    "    card=[beverage, meal, desert, extra]\n",
    "    for a,b,c,d in zip(beverage, meal, desert, extra):\n",
    "            price={a: 2, b: 6, c: 3, d: 1}        \n",
    "            \n",
    "    def __init__(self):\n",
    "        self.order=list()\n",
    "        self.bill=list()\n",
    "        \n",
    "    def take_order(self, order):\n",
    "        order=input('What can I serve you?')\n",
    "        if order not in card:\n",
    "            print ('I\\'m sorry we don\\'t have it, could you please check again the card ?')\n",
    "            continue\n",
    "        else:\n",
    "            bill.append(price.value[i])\n",
    "            print (order)"
   ]
  },
  {
   "cell_type": "code",
   "execution_count": 69,
   "metadata": {},
   "outputs": [],
   "source": [
    "class Restaurant:\n",
    "    \n",
    "    brand='La Crêperie'\n",
    "    city='Treffendel'\n",
    "            \n",
    "    def __init__(self, table):\n",
    "        self.table=table\n",
    "        self.order=list()\n",
    "        \n",
    "    def take_order(self):\n",
    "        beverage=['water', 'sparkling water', 'coke', 'diet coke', 'beer', 'cider', 'coffee']\n",
    "        meal=['complete', 'savoyarde', 'ocean', 'cheese', 'kebab', 'american']\n",
    "        desert=['sugar', 'butter and sugar', 'chocolate', 'caramel']\n",
    "        extra=['egg', 'cheese', 'cream', 'mushroom']\n",
    "        bill=[]\n",
    "        for a,b,c,d in zip(beverage, meal, desert, extra):\n",
    "            price={a: 2, b: 6, c: 3, d: 1}\n",
    "            card=[a, b, c, d]\n",
    "        print(price)\n",
    "        print(card)\n",
    "        order=input('What can I serve you? \\n')\n",
    "\n",
    "        if order not in card:\n",
    "            print ('I\\'m sorry we don\\'t have it, could you please check again the card ?')\n",
    "        else:\n",
    "            bill.append(price[order])\n",
    "            print (order)"
   ]
  },
  {
   "cell_type": "code",
   "execution_count": 70,
   "metadata": {},
   "outputs": [],
   "source": [
    "Table1=Restaurant('Table1')"
   ]
  },
  {
   "cell_type": "code",
   "execution_count": 73,
   "metadata": {},
   "outputs": [
    {
     "name": "stdout",
     "output_type": "stream",
     "text": [
      "{'diet coke': 2, 'cheese': 6, 'caramel': 3, 'mushroom': 1}\n",
      "['diet coke', 'cheese', 'caramel', 'mushroom']\n",
      "What can I serve you? \n",
      "pizza\n",
      "I'm sorry we don't have it, could you please check again the card ?\n"
     ]
    }
   ],
   "source": [
    "Table1.take_order()"
   ]
  },
  {
   "cell_type": "code",
   "execution_count": 65,
   "metadata": {},
   "outputs": [
    {
     "data": {
      "text/plain": [
       "1"
      ]
     },
     "execution_count": 65,
     "metadata": {},
     "output_type": "execute_result"
    }
   ],
   "source": [
    "list({'a':1}.values())[0]"
   ]
  },
  {
   "cell_type": "code",
   "execution_count": null,
   "metadata": {},
   "outputs": [],
   "source": []
  },
  {
   "cell_type": "code",
   "execution_count": null,
   "metadata": {},
   "outputs": [],
   "source": [
    "class Restaurant:\n",
    "    \n",
    "    brand='La Crêperie'\n",
    "    city='Treffendel'\n",
    "            \n",
    "    def __init__(self, table):\n",
    "        self.table=table\n",
    "        self.order=list()\n",
    "        \n",
    "    def take_order(self):\n",
    "        beverage=['water', 'sparkling water', 'coke', 'diet coke', 'beer', 'cider', 'coffee']\n",
    "        meal=['complete', 'savoyarde', 'ocean', 'cheese', 'kebab', 'american']\n",
    "        desert=['sugar', 'butter and sugar', 'chocolate', 'caramel']\n",
    "        extra=['egg', 'cheese', 'cream', 'mushroom']\n",
    "        bill=[]\n",
    "        for a in enumerate(beverage):\n",
    "            for b in enumerate(meal):\n",
    "                for c in enumerate(desert):\n",
    "                    for d in enumerate(extra):\n",
    "                        price={a: '2', b: '6', c: '3', d: '1'}\n",
    "        print(price)\n",
    "        order=input('What can I serve you? \\n')\n",
    "\n",
    "        if order not in card:\n",
    "            print ('I\\'m sorry we don\\'t have it, could you please check again the card ?')\n",
    "        else:\n",
    "            bill.append(price[order])\n",
    "            print (order)"
   ]
  },
  {
   "cell_type": "code",
   "execution_count": null,
   "metadata": {},
   "outputs": [],
   "source": [
    "Table1=Restaurant('Table1')"
   ]
  },
  {
   "cell_type": "code",
   "execution_count": null,
   "metadata": {},
   "outputs": [],
   "source": [
    "Table1.take_order()"
   ]
  },
  {
   "cell_type": "code",
   "execution_count": null,
   "metadata": {},
   "outputs": [],
   "source": [
    "class Restaurant:\n",
    "    \n",
    "    brand='La Crêperie'\n",
    "    city='Treffendel'\n",
    "            \n",
    "    def __init__(self, table):\n",
    "        self.table=table\n",
    "        self.order=list()\n",
    "        \n",
    "    def take_order(self):\n",
    "        beverage=['water', 'sparkling water', 'coke', 'diet coke', 'beer', 'cider', 'coffee']\n",
    "        beverage_price=2\n",
    "        meal=['complete', 'savoyarde', 'ocean', 'cheese', 'kebab', 'american']\n",
    "        meal_price=6\n",
    "        desert=['sugar', 'butter and sugar', 'chocolate', 'caramel']\n",
    "        desert_price=3\n",
    "        extra=['egg', 'cheese', 'cream', 'mushroom']\n",
    "        extra_price=1\n",
    "        bill=[]\n",
    "        for a in range(len(beverage)):\n",
    "            for b in range (len(meal)):\n",
    "                for c in range(len(desert)):\n",
    "                    for d in range (len(extra)):\n",
    "                        price={beverage[a]: 2, meal[b]: 6, desert[c]: 3, extra[d]: 1}\n",
    "        \n",
    "        print(price)\n",
    "        order=input('What can I serve you? \\n')\n",
    "        order_in_price=False\n",
    "        while False\n",
    "            if order not in price.values():\n",
    "                print ('I\\'m sorry we don\\'t have it, could you please check again the card ?')\n",
    "                continue\n",
    "            else:\n",
    "                order_in_price=True\n",
    "                bill.append(price[order])\n",
    "                print (order)"
   ]
  },
  {
   "cell_type": "code",
   "execution_count": null,
   "metadata": {},
   "outputs": [],
   "source": [
    "Table1=Restaurant('Table1')"
   ]
  },
  {
   "cell_type": "code",
   "execution_count": null,
   "metadata": {},
   "outputs": [
    {
     "name": "stdout",
     "output_type": "stream",
     "text": [
      "{'coffee': 2, 'american': 6, 'caramel': 3, 'mushroom': 1}\n"
     ]
    }
   ],
   "source": [
    "Table1.take_order()"
   ]
  },
  {
   "cell_type": "code",
   "execution_count": null,
   "metadata": {},
   "outputs": [],
   "source": [
    "class Restaurant:\n",
    "    \n",
    "    brand='La Crêperie'\n",
    "    city='Treffendel'\n",
    "            \n",
    "    def __init__(self, table):\n",
    "        self.table=table\n",
    "        self.order=list()\n",
    "        self.bill=list()\n",
    "\n",
    "    def take_order(self):\n",
    "        price={'water':2, 'sparkling water':2, 'coke':2, 'diet coke':2, 'beer':2, 'cider':2, 'coffee':2, 'complete':6, 'savoyarde':6, 'ocean':6, 'cheese':6, 'kebab':6, 'american':6, 'sugar':3, 'butter and sugar':3, 'chocolate':3, 'caramel':3}      \n",
    "        print('Here is the card: \\n', price)\n",
    "        order_in_price=False\n",
    "        order=input('What can I serve you? \\n')\n",
    "        while False :\n",
    "            if order not in price.keys():\n",
    "                print ('I\\'m sorry we don\\'t have it, could you please check again the card ?')\n",
    "                continue\n",
    "            else:\n",
    "                order_in_price=True\n",
    "                self.bill.append(price.value(order))\n",
    "                print (order)\n",
    "    \n",
    "    def give_bill(self):\n",
    "        bring_bill=input('Are you finish yet?')\n",
    "        if bring_bill=='yes':\n",
    "            print ('Here is your bill, it will be', sum(self.bill), 'euros please' )"
   ]
  },
  {
   "cell_type": "code",
   "execution_count": null,
   "metadata": {},
   "outputs": [],
   "source": [
    "Table1=Restaurant('Table1')"
   ]
  },
  {
   "cell_type": "code",
   "execution_count": null,
   "metadata": {},
   "outputs": [],
   "source": [
    "Table1.take_order()"
   ]
  },
  {
   "cell_type": "code",
   "execution_count": 28,
   "metadata": {},
   "outputs": [
    {
     "name": "stdout",
     "output_type": "stream",
     "text": [
      "Are you finish yet?yes\n",
      "Here is your bill, it will be 0 euros please\n"
     ]
    }
   ],
   "source": [
    "Table1.give_bill()"
   ]
  },
  {
   "cell_type": "code",
   "execution_count": null,
   "metadata": {},
   "outputs": [],
   "source": [
    "list({'a':1}.values())[0]"
   ]
  }
 ],
 "metadata": {
  "kernelspec": {
   "display_name": "Python 3",
   "language": "python",
   "name": "python3"
  },
  "language_info": {
   "codemirror_mode": {
    "name": "ipython",
    "version": 3
   },
   "file_extension": ".py",
   "mimetype": "text/x-python",
   "name": "python",
   "nbconvert_exporter": "python",
   "pygments_lexer": "ipython3",
   "version": "3.7.6"
  }
 },
 "nbformat": 4,
 "nbformat_minor": 4
}
