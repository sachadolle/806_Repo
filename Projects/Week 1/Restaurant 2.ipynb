{
 "cells": [
  {
   "cell_type": "code",
   "execution_count": 43,
   "metadata": {},
   "outputs": [],
   "source": [
    "import time\n",
    "import math\n",
    "\n",
    "class Restaurant:\n",
    "    \n",
    "    brand='La Crêperie'\n",
    "    city='Treffendel'\n",
    "            \n",
    "    def __init__(self):\n",
    "        self.order=list()\n",
    "        self.bill=0\n",
    "  \n",
    "    def eat(self):\n",
    "        card={'water':2, 'sparkling water':2, 'coke':2, 'diet coke':2, 'beer':2, 'cider':2, 'coffee':2, 'complete':6, 'savoyarde':6, 'ocean':6, 'cheese':6, 'kebab':6, 'american':6, 'sugar':3, 'butter and sugar':3, 'chocolate':3, 'caramel':3}      \n",
    "        tables=10\n",
    "        number=input('Hi, welcome to the Creperie, how many are you ?\\n')\n",
    "        tables-=math.ceil(int(number)/6)\n",
    "        if tables==0:\n",
    "            print ('Sorry, we are full !')\n",
    "        else:\n",
    "            print ('Here is the card: \\n', card)\n",
    "            not_in_card=True\n",
    "            while not_in_card:\n",
    "                not_finish=True\n",
    "                while not_finish:\n",
    "                    order_list=list((input('What can I serve you? \\n')).split(','))                   \n",
    "                    for i in range(len(order_list)):\n",
    "                        if order_list[i] not in card.keys():\n",
    "                            print ('I\\'m sorry we don\\'t have it, could you please check again the card ?')\n",
    "                            continue\n",
    "                        else:\n",
    "                            not_in_card=False\n",
    "                            self.bill+=card[order_list[i]]\n",
    "                            self.order.append(order_list[i])\n",
    "                            #time.sleep(2)\n",
    "                            other=input('Do you want to order something else ? yes or no')\n",
    "                            if other=='yes':\n",
    "                                continue #à déplacer pour looper direct à order\n",
    "                            else:\n",
    "                                #time.sleep(5)\n",
    "                                print ('Here is your bill, it will be', self.bill, 'euros please' )\n",
    "                                print (order_list, self.order, i, len(order_list))\n",
    "                                not_finish=False\n",
    "                                break"
   ]
  },
  {
   "cell_type": "code",
   "execution_count": 44,
   "metadata": {},
   "outputs": [],
   "source": [
    "client=Restaurant()"
   ]
  },
  {
   "cell_type": "code",
   "execution_count": 45,
   "metadata": {},
   "outputs": [
    {
     "name": "stdout",
     "output_type": "stream",
     "text": [
      "Hi, welcome to the Creperie, how many are you ?\n",
      "2\n",
      "Here is the card: \n",
      " {'water': 2, 'sparkling water': 2, 'coke': 2, 'diet coke': 2, 'beer': 2, 'cider': 2, 'coffee': 2, 'complete': 6, 'savoyarde': 6, 'ocean': 6, 'cheese': 6, 'kebab': 6, 'american': 6, 'sugar': 3, 'butter and sugar': 3, 'chocolate': 3, 'caramel': 3}\n",
      "What can I serve you? \n",
      "chocolate, caramel\n",
      "Do you want to order something else ? yes or nono\n",
      "Here is your bill, it will be 3 euros please\n",
      "['chocolate', ' caramel'] ['chocolate'] 0 2\n"
     ]
    }
   ],
   "source": [
    "client.eat()"
   ]
  },
  {
   "cell_type": "code",
   "execution_count": 13,
   "metadata": {},
   "outputs": [
    {
     "ename": "NameError",
     "evalue": "name 'order_list' is not defined",
     "output_type": "error",
     "traceback": [
      "\u001b[1;31m---------------------------------------------------------------------------\u001b[0m",
      "\u001b[1;31mNameError\u001b[0m                                 Traceback (most recent call last)",
      "\u001b[1;32m<ipython-input-13-d14b5386c375>\u001b[0m in \u001b[0;36m<module>\u001b[1;34m\u001b[0m\n\u001b[1;32m----> 1\u001b[1;33m \u001b[0mprint\u001b[0m \u001b[1;33m(\u001b[0m\u001b[0morder_list\u001b[0m\u001b[1;33m)\u001b[0m\u001b[1;33m\u001b[0m\u001b[1;33m\u001b[0m\u001b[0m\n\u001b[0m",
      "\u001b[1;31mNameError\u001b[0m: name 'order_list' is not defined"
     ]
    }
   ],
   "source": [
    "print (order_list)"
   ]
  },
  {
   "cell_type": "code",
   "execution_count": 24,
   "metadata": {},
   "outputs": [
    {
     "data": {
      "text/plain": [
       "['ocean']"
      ]
     },
     "execution_count": 24,
     "metadata": {},
     "output_type": "execute_result"
    }
   ],
   "source": [
    "client.order"
   ]
  },
  {
   "cell_type": "code",
   "execution_count": 25,
   "metadata": {},
   "outputs": [
    {
     "data": {
      "text/plain": [
       "[6]"
      ]
     },
     "execution_count": 25,
     "metadata": {},
     "output_type": "execute_result"
    }
   ],
   "source": [
    "client.bill"
   ]
  },
  {
   "cell_type": "code",
   "execution_count": 8,
   "metadata": {},
   "outputs": [
    {
     "name": "stdout",
     "output_type": "stream",
     "text": [
      "What can I serve you? \n",
      "a, b, c,d\n"
     ]
    }
   ],
   "source": [
    "order=input('What can I serve you? \\n')\n",
    "order_list=list(order.split(','))"
   ]
  },
  {
   "cell_type": "code",
   "execution_count": 10,
   "metadata": {},
   "outputs": [
    {
     "name": "stdout",
     "output_type": "stream",
     "text": [
      "['a', ' b', ' c', 'd']\n"
     ]
    }
   ],
   "source": [
    "print (order_list)"
   ]
  },
  {
   "cell_type": "code",
   "execution_count": 13,
   "metadata": {},
   "outputs": [
    {
     "name": "stdout",
     "output_type": "stream",
     "text": [
      "['a']\n",
      "['a', ' b']\n",
      "['a', ' b', ' c']\n",
      "['a', ' b', ' c', 'd']\n"
     ]
    }
   ],
   "source": [
    "bill=list()\n",
    "order=list()\n",
    "for item in order_list:\n",
    "    bill+=item\n",
    "    order.append(item)\n",
    "    print (order)"
   ]
  },
  {
   "cell_type": "code",
   "execution_count": 33,
   "metadata": {},
   "outputs": [
    {
     "name": "stdout",
     "output_type": "stream",
     "text": [
      "What can I serve you? \n",
      "water,coke\n",
      "water 2 2 ['water', 'coke']\n",
      "coke 2 4 ['water', 'coke']\n"
     ]
    }
   ],
   "source": [
    "card={'water':2, 'sparkling water':2, 'coke':2, 'diet coke':2, 'beer':2, 'cider':2, 'coffee':2, 'complete':6, 'savoyarde':6, 'ocean':6, 'cheese':6, 'kebab':6, 'american':6, 'sugar':3, 'butter and sugar':3, 'chocolate':3, 'caramel':3}      \n",
    "bill=0\n",
    "order=list()\n",
    "order_list=list((input('What can I serve you? \\n')).split(','))\n",
    "for i in range(len(order_list)):\n",
    "    bill+=card[order_list[i]]\n",
    "    order.append(order_list[i])\n",
    "    print (order_list[i], card[order_list[i]], bill, order_list)"
   ]
  },
  {
   "cell_type": "code",
   "execution_count": 3,
   "metadata": {},
   "outputs": [
    {
     "name": "stdout",
     "output_type": "stream",
     "text": [
      "Hi, welcome to the Creperie, how many are you ?\n",
      "2\n",
      "Here is the card: \n",
      " {'water': 2, 'sparkling water': 2, 'coke': 2, 'diet coke': 2, 'beer': 2, 'cider': 2, 'coffee': 2, 'complete': 6, 'savoyarde': 6, 'ocean': 6, 'cheese': 6, 'kebab': 6, 'american': 6, 'sugar': 3, 'butter and sugar': 3, 'chocolate': 3, 'caramel': 3}\n",
      "What can I serve you? \n",
      "water\n"
     ]
    },
    {
     "ename": "KeyError",
     "evalue": "(0, 'water')",
     "output_type": "error",
     "traceback": [
      "\u001b[1;31m---------------------------------------------------------------------------\u001b[0m",
      "\u001b[1;31mKeyError\u001b[0m                                  Traceback (most recent call last)",
      "\u001b[1;32m<ipython-input-3-8e8f2e4f578c>\u001b[0m in \u001b[0;36m<module>\u001b[1;34m\u001b[0m\n\u001b[0;32m     43\u001b[0m                                 \u001b[1;32mbreak\u001b[0m\u001b[1;33m\u001b[0m\u001b[1;33m\u001b[0m\u001b[0m\n\u001b[0;32m     44\u001b[0m \u001b[0mclient\u001b[0m\u001b[1;33m=\u001b[0m\u001b[0mRestaurant\u001b[0m\u001b[1;33m(\u001b[0m\u001b[1;33m)\u001b[0m\u001b[1;33m\u001b[0m\u001b[1;33m\u001b[0m\u001b[0m\n\u001b[1;32m---> 45\u001b[1;33m \u001b[0mclient\u001b[0m\u001b[1;33m.\u001b[0m\u001b[0meat\u001b[0m\u001b[1;33m(\u001b[0m\u001b[1;33m)\u001b[0m\u001b[1;33m\u001b[0m\u001b[1;33m\u001b[0m\u001b[0m\n\u001b[0m",
      "\u001b[1;32m<ipython-input-3-8e8f2e4f578c>\u001b[0m in \u001b[0;36meat\u001b[1;34m(self)\u001b[0m\n\u001b[0;32m     32\u001b[0m                          \u001b[1;31m#   not_in_card=False\u001b[0m\u001b[1;33m\u001b[0m\u001b[1;33m\u001b[0m\u001b[1;33m\u001b[0m\u001b[0m\n\u001b[0;32m     33\u001b[0m                             \u001b[0mself\u001b[0m\u001b[1;33m.\u001b[0m\u001b[0morder\u001b[0m\u001b[1;33m.\u001b[0m\u001b[0mappend\u001b[0m\u001b[1;33m(\u001b[0m\u001b[0mi\u001b[0m\u001b[1;33m)\u001b[0m\u001b[1;33m\u001b[0m\u001b[1;33m\u001b[0m\u001b[0m\n\u001b[1;32m---> 34\u001b[1;33m                             \u001b[0mself\u001b[0m\u001b[1;33m.\u001b[0m\u001b[0mbill\u001b[0m\u001b[1;33m.\u001b[0m\u001b[0mappend\u001b[0m\u001b[1;33m(\u001b[0m\u001b[0mcard\u001b[0m\u001b[1;33m[\u001b[0m\u001b[0mi\u001b[0m\u001b[1;33m]\u001b[0m\u001b[1;33m)\u001b[0m\u001b[1;33m\u001b[0m\u001b[1;33m\u001b[0m\u001b[0m\n\u001b[0m\u001b[0;32m     35\u001b[0m                             \u001b[1;31m#time.sleep(2)\u001b[0m\u001b[1;33m\u001b[0m\u001b[1;33m\u001b[0m\u001b[1;33m\u001b[0m\u001b[0m\n\u001b[0;32m     36\u001b[0m                             \u001b[0mother\u001b[0m\u001b[1;33m=\u001b[0m\u001b[0minput\u001b[0m\u001b[1;33m(\u001b[0m\u001b[1;34m'Do you want to order something else ? yes or no'\u001b[0m\u001b[1;33m)\u001b[0m\u001b[1;33m\u001b[0m\u001b[1;33m\u001b[0m\u001b[0m\n",
      "\u001b[1;31mKeyError\u001b[0m: (0, 'water')"
     ]
    }
   ],
   "source": [
    "import time\n",
    "import math\n",
    "\n",
    "class Restaurant:\n",
    "    \n",
    "    brand='La Crêperie'\n",
    "    city='Treffendel'\n",
    "            \n",
    "    def __init__(self):\n",
    "        self.order=[]\n",
    "        self.bill=[]\n",
    "  \n",
    "    def eat(self):\n",
    "        card={'water':2, 'sparkling water':2, 'coke':2, 'diet coke':2, 'beer':2, 'cider':2, 'coffee':2, 'complete':6, 'savoyarde':6, 'ocean':6, 'cheese':6, 'kebab':6, 'american':6, 'sugar':3, 'butter and sugar':3, 'chocolate':3, 'caramel':3}      \n",
    "        tables=10\n",
    "        number=input('Hi, welcome to the Creperie, how many are you ?\\n')\n",
    "        tables-=math.ceil(int(number)/6)\n",
    "        if tables==0:\n",
    "            print ('Sorry, we are full !')\n",
    "        else:\n",
    "            print ('Here is the card: \\n', card)\n",
    "            not_in_card=True\n",
    "            while not_in_card:\n",
    "                not_finish=True\n",
    "                while not_finish:\n",
    "                    order_list=str(input('What can I serve you? \\n')).split(',')\n",
    "                    for i in enumerate(order_list):\n",
    "                       # if i not in card.keys():\n",
    "                         #   print ('I\\'m sorry we don\\'t have it, could you please check again the card ?')\n",
    "                          #  continue\n",
    "                        #else:\n",
    "                         #   not_in_card=False\n",
    "                            self.order.append(i)\n",
    "                            self.bill.append(card[i])\n",
    "                            #time.sleep(2)\n",
    "                            other=input('Do you want to order something else ? yes or no')\n",
    "                            if other=='yes':\n",
    "                                continue #à déplacer pour looper direct à order\n",
    "                            else:\n",
    "                                #time.sleep(5)\n",
    "                                print ('Here is your bill, it will be', sum(int(i) for i in self.bill), 'euros please' )\n",
    "                                not_finish=False\n",
    "                                break\n",
    "client=Restaurant()\n",
    "client.eat()"
   ]
  },
  {
   "cell_type": "code",
   "execution_count": null,
   "metadata": {},
   "outputs": [],
   "source": [
    "client.order"
   ]
  },
  {
   "cell_type": "code",
   "execution_count": 13,
   "metadata": {},
   "outputs": [
    {
     "ename": "NameError",
     "evalue": "name 'order_list' is not defined",
     "output_type": "error",
     "traceback": [
      "\u001b[1;31m---------------------------------------------------------------------------\u001b[0m",
      "\u001b[1;31mNameError\u001b[0m                                 Traceback (most recent call last)",
      "\u001b[1;32m<ipython-input-13-13aa64efd71c>\u001b[0m in \u001b[0;36m<module>\u001b[1;34m\u001b[0m\n\u001b[1;32m----> 1\u001b[1;33m \u001b[0mprint\u001b[0m\u001b[1;33m(\u001b[0m\u001b[0morder_list\u001b[0m\u001b[1;33m)\u001b[0m\u001b[1;33m\u001b[0m\u001b[1;33m\u001b[0m\u001b[0m\n\u001b[0m",
      "\u001b[1;31mNameError\u001b[0m: name 'order_list' is not defined"
     ]
    }
   ],
   "source": [
    "print(order_list)"
   ]
  },
  {
   "cell_type": "code",
   "execution_count": null,
   "metadata": {},
   "outputs": [],
   "source": []
  }
 ],
 "metadata": {
  "kernelspec": {
   "display_name": "Python 3",
   "language": "python",
   "name": "python3"
  }
 },
 "nbformat": 4,
 "nbformat_minor": 4
}
