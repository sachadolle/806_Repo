{
 "cells": [
  {
   "cell_type": "code",
   "execution_count": 1,
   "metadata": {},
   "outputs": [],
   "source": [
    "import random\n",
    "import string\n",
    "\n",
    "class Strong_Password:\n",
    "    \n",
    "    def __init__(self):\n",
    "        pass\n",
    "    \n",
    "    def generate(self):\n",
    "        \n",
    "        wrong_password=True\n",
    "        password_lenght=input('Hi, how long do you need your password to be? Remember, it might be at least 8 caracters \\n')\n",
    "\n",
    "        while wrong_password:\n",
    "            \n",
    "            list_lenght=sum([i.replace('.','',1).isdigit() for i in password_lenght])\n",
    "            \n",
    "            #error handling : if floating number\n",
    "            if '.' in password_lenght and list_lenght>=2:\n",
    "                print ('How do you want me to create a', password_lenght, 'caracters password ? You think I can cut letters in pieces, really ? Come on, try again')\n",
    "                password_lenght=input('Try again with an integer \\n')\n",
    "                continue\n",
    "\n",
    "            #error handling : if not a number\n",
    "            elif password_lenght.isdigit()==False:\n",
    "                print ('This is not a number...')\n",
    "                password_lenght=input('Try again with a NUMBER \\n')\n",
    "                continue\n",
    "            \n",
    "            #error handling : if less than 8 caracters\n",
    "            elif int(password_lenght) < 8:\n",
    "                print ('This is a STRONG password generator, it should be at least 8 caracters dude !')\n",
    "                password_lenght=input('Try again with AT LEAST 8 caracters \\n')\n",
    "                continue\n",
    "                \n",
    "            else :  \n",
    "                again=True\n",
    "                while again:\n",
    "                    elements = string.ascii_letters + string.digits + string.punctuation #random letters, digits and punctuation\n",
    "                    password = str()\n",
    "\n",
    "                    for i in range(int(password_lenght)):\n",
    "                        password += random.choice(elements)\n",
    "\n",
    "                    print('Here is your highly secured password, keep it safe !\\n',password)\n",
    "                    another=input('Do you want anotherone ? Y/N')\n",
    "                    if another.upper()=='Y':\n",
    "                        continue\n",
    "                    if another.upper()=='N':\n",
    "                        print ('Alright, bye !')\n",
    "                        again=False\n",
    "                        break\n",
    "                wrong_password=False\n",
    "                break"
   ]
  },
  {
   "cell_type": "code",
   "execution_count": 2,
   "metadata": {},
   "outputs": [],
   "source": [
    "game=Strong_Password()"
   ]
  },
  {
   "cell_type": "code",
   "execution_count": 3,
   "metadata": {},
   "outputs": [
    {
     "name": "stdout",
     "output_type": "stream",
     "text": [
      "Hi, how long do you need your password to be? Remember, it might be at least 8 caracters \n",
      "8\n",
      "Here is your highly secured password, keep it safe !\n",
      " 2umB4^z<\n",
      "Do you want anotherone ? Y/Ny\n",
      "Here is your highly secured password, keep it safe !\n",
      " ;.iN:q74\n",
      "Do you want anotherone ? Y/Ny\n",
      "Here is your highly secured password, keep it safe !\n",
      " <(g6TM@&\n",
      "Do you want anotherone ? Y/Ny\n",
      "Here is your highly secured password, keep it safe !\n",
      " #'[x0Cab\n",
      "Do you want anotherone ? Y/Nn\n",
      "Alright, bye !\n"
     ]
    }
   ],
   "source": [
    "game.generate()"
   ]
  },
  {
   "cell_type": "code",
   "execution_count": null,
   "metadata": {},
   "outputs": [],
   "source": []
  }
 ],
 "metadata": {
  "kernelspec": {
   "display_name": "Python 3",
   "language": "python",
   "name": "python3"
  },
  "language_info": {
   "codemirror_mode": {
    "name": "ipython",
    "version": 3
   },
   "file_extension": ".py",
   "mimetype": "text/x-python",
   "name": "python",
   "nbconvert_exporter": "python",
   "pygments_lexer": "ipython3",
   "version": "3.7.6"
  }
 },
 "nbformat": 4,
 "nbformat_minor": 4
}
