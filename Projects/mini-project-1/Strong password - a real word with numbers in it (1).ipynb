{
 "cells": [
  {
   "cell_type": "code",
   "execution_count": 8,
   "metadata": {},
   "outputs": [],
   "source": [
    "import random\n",
    "import string\n",
    "from random_word import RandomWords\n",
    "\n",
    "class Strong_Password:\n",
    "    \n",
    "    def __init__(self):\n",
    "        pass\n",
    "    \n",
    "    def generate(self):\n",
    "        secret_code={'A':'@', 'B':'8', 'C':'ç', 'E':'3', 'G':'6', 'H':'1-1', 'I':'1', 'J':'_|', 'K':'1<', 'L':'|_', 'O':'0', 'S':'5', 'U':'ù', 'Z':'2' }\n",
    "        secret_password=()\n",
    "        password_type=str(input(f'Hi, what do you want your password to be ? A specific word or a random one ? specific/random \\n'))\n",
    "        answers=['specific', 'random']\n",
    "        wrong_password=True\n",
    "        while wrong_password: #loop in case the input is not \"random\" nor \"specific\"\n",
    "\n",
    "            if password_type!='specific' and password_type!='random':\n",
    "                password_type=str(input('please print specific or random: \\n'))\n",
    "                continue\n",
    "                \n",
    "            elif password_type=='specific': #generate a password from your chosen word\n",
    "                repeat=True\n",
    "                while repeat: #loop to have a another password\n",
    "                    specific_password=input('Alright, which one ? \\n')\n",
    "                    specific_password_ok=specific_password.upper() #because the dictionnary is with uppercase letters\n",
    "                    wrong_password=False #stops the loop\n",
    "                    for i in specific_password_ok:\n",
    "                        if i in secret_code.keys():\n",
    "                            specific_password_ok=specific_password_ok.replace(i, secret_code[i])\n",
    "                    print ('Here is your new password', specific_password_ok)   \n",
    "                    \n",
    "                    another=input('do you want anotherone ? Y/N')\n",
    "                    if another.upper()=='Y':\n",
    "                        continue #keep on asking till the password is ok for the user\n",
    "\n",
    "                    if another.upper()=='N':\n",
    "                        print ('Alright, bye !')\n",
    "                        break\n",
    "                        repeat=False                    \n",
    "                    \n",
    "            else : #if password is a random word\n",
    "                repeat=True\n",
    "                while repeat: #loop to keep on asking for a new password\n",
    "                    word=RandomWords()\n",
    "                    password=word.get_random_word() #library to generate random words\n",
    "                    password_ok=password.upper()\n",
    "\n",
    "                    for i in password_ok:\n",
    "                        if i in secret_code.keys():\n",
    "                            password_ok=password_ok.replace(i, secret_code[i])\n",
    "                    print ('Your strong password is', password_ok,'your can remember it with the word', password)\n",
    "\n",
    "                    another=input('do you want anotherone ? Y/N')\n",
    "                    if another.upper()=='Y':\n",
    "                        continue\n",
    "\n",
    "                    if another.upper()=='N':\n",
    "                        print ('Alright, bye !')\n",
    "                        break\n",
    "                        repeat=False\n",
    "                break"
   ]
  },
  {
   "cell_type": "code",
   "execution_count": 9,
   "metadata": {},
   "outputs": [],
   "source": [
    "game=Strong_Password()"
   ]
  },
  {
   "cell_type": "code",
   "execution_count": null,
   "metadata": {},
   "outputs": [
    {
     "name": "stdout",
     "output_type": "stream",
     "text": [
      "Hi, what do you want it to be ? A specific word or a random one ? specific/random \n",
      "specific\n",
      "Alright, which one ? \n",
      "sachadolle\n",
      "Here is your new password 5@ç1-1@D0|_|_3\n",
      "do you want anotherone ? Y/Ny\n",
      "Alright, which one ? \n",
      "specific\n",
      "Here is your new password 5P3ç1F1ç\n"
     ]
    }
   ],
   "source": [
    "game.generate()"
   ]
  },
  {
   "cell_type": "code",
   "execution_count": null,
   "metadata": {},
   "outputs": [],
   "source": []
  },
  {
   "cell_type": "code",
   "execution_count": null,
   "metadata": {},
   "outputs": [],
   "source": []
  }
 ],
 "metadata": {
  "kernelspec": {
   "display_name": "Python 3",
   "language": "python",
   "name": "python3"
  },
  "language_info": {
   "codemirror_mode": {
    "name": "ipython",
    "version": 3
   },
   "file_extension": ".py",
   "mimetype": "text/x-python",
   "name": "python",
   "nbconvert_exporter": "python",
   "pygments_lexer": "ipython3",
   "version": "3.7.6"
  }
 },
 "nbformat": 4,
 "nbformat_minor": 4
}
