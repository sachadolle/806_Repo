{
 "cells": [
  {
   "cell_type": "markdown",
   "metadata": {},
   "source": [
    "# What where the most fatal activities involved in shark attacks by year ?\n",
    "\n",
    "## The code"
   ]
  },
  {
   "cell_type": "code",
   "execution_count": 15,
   "metadata": {},
   "outputs": [],
   "source": [
    "#IMPORT DATA\n",
    "\n",
    "import pandas as pd\n",
    "import os\n",
    "os.chdir(r'\\Users\\Sacha.dolle\\Desktop\\Cours IH\\Week 2\\project')\n",
    "attacks=pd.read_csv('attacks.csv', sep=',', encoding ='latin1')"
   ]
  },
  {
   "cell_type": "code",
   "execution_count": 18,
   "metadata": {},
   "outputs": [],
   "source": [
    "def hist_year(attacks):\n",
    "\n",
    "    #DATA CLEANING\n",
    "    \n",
    "    ##1. Columns : Select the columns for the analysis\n",
    "\n",
    "    attacks=attacks[['Date', 'Year', 'Type', 'Country', 'Area', 'Location','Activity', 'Name', 'Sex ', 'Age', 'Fatal (Y/N)', 'Time', 'Species ']]\n",
    "\n",
    "    attacks=attacks.rename(columns={'Fatal (Y/N)' : 'fatal'})\n",
    "    fatal_error=attacks.loc[~(attacks.fatal=='Y')&~(attacks.fatal=='y')]\n",
    "    attacks=attacks.drop(fatal_error.index, axis=0)\n",
    "\n",
    "    not_last_years=attacks.loc[~(attacks.Year>=1980)]\n",
    "    attacks=attacks.drop(not_last_years.index, axis=0)\n",
    "\n",
    "    attacks=attacks.drop('fatal', axis=1)\n",
    "    \n",
    "\n",
    "    ##2. Missing values : Drops columns with more than 25% of missing values\n",
    "\n",
    "    null_cols=attacks.isnull().sum()\n",
    "    per_null_cols=null_cols[null_cols>0]/attacks.shape[0]*100 \n",
    "    ind_null_cols=per_null_cols[per_null_cols>25].index\n",
    "    attacks = attacks.drop(ind_null_cols, axis=1)\n",
    "    #attacks=attacks.fillna('0')\n",
    "\n",
    "    \n",
    "    #3. Data type : There is too many objetcs\n",
    "\n",
    "    attacks.Year=attacks.Year.astype('int')\n",
    "    attacks.Activity=attacks.Activity.astype('str')\n",
    "    attacks.Activity=attacks.Activity.str.lower()\n",
    "    attacks.Country=attacks.Country.str.title()\n",
    "    \n",
    "\n",
    "    #4. Text : Clean the text\n",
    "    \n",
    "    attacks.Area=attacks.Area.str.replace('-', ' ')\n",
    "    attacks.Area=attacks.Area.str.replace('()', '')\n",
    "    attacks.Area=attacks.Area.str.replace('\\x92', '\\'')\n",
    "    attacks.Area=attacks.Area.str.replace('0', 'Unknown data')\n",
    "    attacks.Area=attacks.Area.str.replace('St.', 'Saint')\n",
    "\n",
    "    attacks.Location=attacks.Location.str.replace('-', ' ')\n",
    "    attacks.Location=attacks.Location.str.replace('()', '')\n",
    "    attacks.Location=attacks.Location.str.replace('\\x92', '\\'')\n",
    "    attacks.Location=attacks.Location.str.replace('0', 'Unknown data')\n",
    "    attacks.Location=attacks.Location.str.replace('St.', 'Saint')\n",
    "\n",
    "    attacks.Name=attacks.Name.str.replace('\\(female\\)', '')\n",
    "    attacks.Name=attacks.Name.str.replace('  ', '')\n",
    "    attacks.Name=attacks.Name.str.replace('____', '')\n",
    "\n",
    "    attacks.iloc[ : , 8]=attacks.iloc[ : , 8].str.replace('0', 'NA') #Sex\n",
    "\n",
    "    attacks.loc[attacks.Activity.str.contains('capsized'), 'Activity']='Sinking'\n",
    "    attacks.loc[attacks.Activity.str.contains('sinking'), 'Activity']='Sinking'\n",
    "    attacks.loc[attacks.Activity.str.contains('sank'), 'Activity']='Sinking'\n",
    "    attacks.loc[attacks.Activity.str.contains('diving'), 'Activity']='Diving'\n",
    "    attacks.loc[attacks.Activity.str.contains('fishing'), 'Activity']='Fishing'\n",
    "    attacks.loc[attacks.Activity.str.contains('surf'), 'Activity']='Surfing'\n",
    "    attacks.loc[attacks.Activity.str.contains('snorkeling'), 'Activity']='Snorkeling'\n",
    "    attacks.loc[attacks.Activity.str.contains('swimming'), 'Activity']='Swimming'\n",
    "    attacks.loc[attacks.Activity.str.contains('bath'), 'Activity']='Bathing'\n",
    "    attacks.loc[attacks.Activity.str.contains('disaster'), 'Activity']='Disaster'\n",
    "    attacks.loc[attacks.Activity.str.contains('paddl'), 'Activity']='Paddling'\n",
    "    attacks.loc[attacks.Activity.str.contains('board'), 'Activity']='Boarding'\n",
    "    attacks.loc[attacks.Activity.str.contains('0'), 'Activity']='Not specified'\n",
    "    clusters=['Swimming', 'Diving', 'Sinking', 'Bathing', 'Snorkeling', 'Boarding', 'Surfing', 'Walking', 'Disaster', 'Fishing', 'Not specified', 'Standing', 'Paddling']\n",
    "    attacks.loc[~attacks.Activity.str.contains('|'.join(clusters)), 'Activity']='Other'\n",
    "\n",
    "    ##HISTOGRAM\n",
    "    \n",
    "    not_year=True\n",
    "    while not_year:\n",
    "        \n",
    "        year=input('What year ?')\n",
    "        output=attacks.loc[attacks.Year==int(year), 'Activity'].hist(xrot=90)\n",
    "        if int(year) not in attacks.Year.values:\n",
    "            print ('Sorry, it\\'s not valaible year')\n",
    "            continue\n",
    "        else:\n",
    "            not_year=False\n",
    "            break\n",
    "            return  output"
   ]
  },
  {
   "cell_type": "markdown",
   "metadata": {},
   "source": [
    "## The results"
   ]
  },
  {
   "cell_type": "code",
   "execution_count": 20,
   "metadata": {
    "scrolled": true
   },
   "outputs": [
    {
     "name": "stdout",
     "output_type": "stream",
     "text": [
      "What year ?2017\n"
     ]
    },
    {
     "data": {
      "image/png": "[encoded data removed]",
      "text/plain": [
       "<Figure size 432x288 with 1 Axes>"
      ]
     },
     "metadata": {
      "needs_background": "light"
     },
     "output_type": "display_data"
    }
   ],
   "source": [
    "hist_year(attacks)"
   ]
  },
  {
   "cell_type": "code",
   "execution_count": null,
   "metadata": {},
   "outputs": [],
   "source": []
  }
 ],
 "metadata": {
  "kernelspec": {
   "display_name": "Python 3",
   "language": "python",
   "name": "python3"
  },
  "language_info": {
   "codemirror_mode": {
    "name": "ipython",
    "version": 3
   },
   "file_extension": ".py",
   "mimetype": "text/x-python",
   "name": "python",
   "nbconvert_exporter": "python",
   "pygments_lexer": "ipython3",
   "version": "3.7.6"
  }
 },
 "nbformat": 4,
 "nbformat_minor": 4
}
